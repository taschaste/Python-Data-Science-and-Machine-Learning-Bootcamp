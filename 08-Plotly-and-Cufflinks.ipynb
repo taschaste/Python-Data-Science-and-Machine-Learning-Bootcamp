{
 "cells": [
  {
   "cell_type": "markdown",
   "metadata": {},
   "source": [
    "# Plotly and Cufflinks"
   ]
  },
  {
   "cell_type": "markdown",
   "metadata": {},
   "source": [
    "Plotly is a library that allows you to create interactive plots that you can use in dashboards or websites (you can save them as html files or static images).\n",
    "\n",
    "## Installation\n",
    "\n",
    "In order for this all to work, you'll need to install plotly and cufflinks to call plots directly off of a pandas dataframe. These libraries are not currently available through **conda** but are available through **pip**. Install the libraries at your command line/terminal using:\n",
    "\n",
    "    pip install plotly\n",
    "    pip install cufflinks\n",
    "\n",
    "** NOTE: Make sure you only have one installation of Python on your computer when you do this, otherwise the installation may not work. **\n",
    "\n",
    "## Imports and Set-up"
   ]
  },
  {
   "cell_type": "code",
   "execution_count": 1,
   "metadata": {},
   "outputs": [],
   "source": [
    "import pandas as pd\n",
    "import numpy as np\n",
    "%matplotlib inline"
   ]
  },
  {
   "cell_type": "code",
   "execution_count": 2,
   "metadata": {},
   "outputs": [
    {
     "name": "stdout",
     "output_type": "stream",
     "text": [
      "5.6.0\n"
     ]
    }
   ],
   "source": [
    "from plotly import __version__\n",
    "from plotly.offline import download_plotlyjs, init_notebook_mode, plot, iplot\n",
    "\n",
    "print(__version__) # requires version >= 1.9.0"
   ]
  },
  {
   "cell_type": "code",
   "execution_count": 3,
   "metadata": {},
   "outputs": [],
   "source": [
    "import cufflinks as cf"
   ]
  },
  {
   "cell_type": "code",
   "execution_count": 4,
   "metadata": {},
   "outputs": [
    {
     "data": {
      "text/html": [
       "        <script type=\"text/javascript\">\n",
       "        window.PlotlyConfig = {MathJaxConfig: 'local'};\n",
       "        if (window.MathJax) {MathJax.Hub.Config({SVG: {font: \"STIX-Web\"}});}\n",
       "        if (typeof require !== 'undefined') {\n",
       "        require.undef(\"plotly\");\n",
       "        requirejs.config({\n",
       "            paths: {\n",
       "                'plotly': ['https://cdn.plot.ly/plotly-2.9.0.min']\n",
       "            }\n",
       "        });\n",
       "        require(['plotly'], function(Plotly) {\n",
       "            window._Plotly = Plotly;\n",
       "        });\n",
       "        }\n",
       "        </script>\n",
       "        "
      ]
     },
     "metadata": {},
     "output_type": "display_data"
    }
   ],
   "source": [
    "# For Notebooks\n",
    "init_notebook_mode(connected=True)"
   ]
  },
  {
   "cell_type": "code",
   "execution_count": 5,
   "metadata": {},
   "outputs": [
    {
     "data": {
      "text/html": [
       "        <script type=\"text/javascript\">\n",
       "        window.PlotlyConfig = {MathJaxConfig: 'local'};\n",
       "        if (window.MathJax) {MathJax.Hub.Config({SVG: {font: \"STIX-Web\"}});}\n",
       "        if (typeof require !== 'undefined') {\n",
       "        require.undef(\"plotly\");\n",
       "        requirejs.config({\n",
       "            paths: {\n",
       "                'plotly': ['https://cdn.plot.ly/plotly-2.9.0.min']\n",
       "            }\n",
       "        });\n",
       "        require(['plotly'], function(Plotly) {\n",
       "            window._Plotly = Plotly;\n",
       "        });\n",
       "        }\n",
       "        </script>\n",
       "        "
      ]
     },
     "metadata": {},
     "output_type": "display_data"
    }
   ],
   "source": [
    "# For offline use\n",
    "cf.go_offline()"
   ]
  },
  {
   "cell_type": "markdown",
   "metadata": {},
   "source": [
    "### Fake Data"
   ]
  },
  {
   "cell_type": "code",
   "execution_count": 6,
   "metadata": {},
   "outputs": [],
   "source": [
    "df = pd.DataFrame(np.random.randn(100,4),columns='A B C D'.split())"
   ]
  },
  {
   "cell_type": "code",
   "execution_count": 7,
   "metadata": {},
   "outputs": [
    {
     "data": {
      "text/html": [
       "<div>\n",
       "<style scoped>\n",
       "    .dataframe tbody tr th:only-of-type {\n",
       "        vertical-align: middle;\n",
       "    }\n",
       "\n",
       "    .dataframe tbody tr th {\n",
       "        vertical-align: top;\n",
       "    }\n",
       "\n",
       "    .dataframe thead th {\n",
       "        text-align: right;\n",
       "    }\n",
       "</style>\n",
       "<table border=\"1\" class=\"dataframe\">\n",
       "  <thead>\n",
       "    <tr style=\"text-align: right;\">\n",
       "      <th></th>\n",
       "      <th>A</th>\n",
       "      <th>B</th>\n",
       "      <th>C</th>\n",
       "      <th>D</th>\n",
       "    </tr>\n",
       "  </thead>\n",
       "  <tbody>\n",
       "    <tr>\n",
       "      <th>0</th>\n",
       "      <td>0.973691</td>\n",
       "      <td>0.860488</td>\n",
       "      <td>-1.212924</td>\n",
       "      <td>1.872259</td>\n",
       "    </tr>\n",
       "    <tr>\n",
       "      <th>1</th>\n",
       "      <td>0.745393</td>\n",
       "      <td>-0.197608</td>\n",
       "      <td>-1.038253</td>\n",
       "      <td>0.600248</td>\n",
       "    </tr>\n",
       "    <tr>\n",
       "      <th>2</th>\n",
       "      <td>-0.584055</td>\n",
       "      <td>-0.484818</td>\n",
       "      <td>0.507873</td>\n",
       "      <td>1.609615</td>\n",
       "    </tr>\n",
       "    <tr>\n",
       "      <th>3</th>\n",
       "      <td>-0.233343</td>\n",
       "      <td>0.146819</td>\n",
       "      <td>0.129383</td>\n",
       "      <td>0.926530</td>\n",
       "    </tr>\n",
       "    <tr>\n",
       "      <th>4</th>\n",
       "      <td>-0.700098</td>\n",
       "      <td>1.359290</td>\n",
       "      <td>1.634156</td>\n",
       "      <td>0.455558</td>\n",
       "    </tr>\n",
       "  </tbody>\n",
       "</table>\n",
       "</div>"
      ],
      "text/plain": [
       "          A         B         C         D\n",
       "0  0.973691  0.860488 -1.212924  1.872259\n",
       "1  0.745393 -0.197608 -1.038253  0.600248\n",
       "2 -0.584055 -0.484818  0.507873  1.609615\n",
       "3 -0.233343  0.146819  0.129383  0.926530\n",
       "4 -0.700098  1.359290  1.634156  0.455558"
      ]
     },
     "execution_count": 7,
     "metadata": {},
     "output_type": "execute_result"
    }
   ],
   "source": [
    "df.head()"
   ]
  },
  {
   "cell_type": "code",
   "execution_count": 8,
   "metadata": {},
   "outputs": [],
   "source": [
    "df2 = pd.DataFrame({'Category':['A','B','C'],'Values':[32,43,50]})"
   ]
  },
  {
   "cell_type": "code",
   "execution_count": 9,
   "metadata": {},
   "outputs": [
    {
     "data": {
      "text/html": [
       "<div>\n",
       "<style scoped>\n",
       "    .dataframe tbody tr th:only-of-type {\n",
       "        vertical-align: middle;\n",
       "    }\n",
       "\n",
       "    .dataframe tbody tr th {\n",
       "        vertical-align: top;\n",
       "    }\n",
       "\n",
       "    .dataframe thead th {\n",
       "        text-align: right;\n",
       "    }\n",
       "</style>\n",
       "<table border=\"1\" class=\"dataframe\">\n",
       "  <thead>\n",
       "    <tr style=\"text-align: right;\">\n",
       "      <th></th>\n",
       "      <th>Category</th>\n",
       "      <th>Values</th>\n",
       "    </tr>\n",
       "  </thead>\n",
       "  <tbody>\n",
       "    <tr>\n",
       "      <th>0</th>\n",
       "      <td>A</td>\n",
       "      <td>32</td>\n",
       "    </tr>\n",
       "    <tr>\n",
       "      <th>1</th>\n",
       "      <td>B</td>\n",
       "      <td>43</td>\n",
       "    </tr>\n",
       "    <tr>\n",
       "      <th>2</th>\n",
       "      <td>C</td>\n",
       "      <td>50</td>\n",
       "    </tr>\n",
       "  </tbody>\n",
       "</table>\n",
       "</div>"
      ],
      "text/plain": [
       "  Category  Values\n",
       "0        A      32\n",
       "1        B      43\n",
       "2        C      50"
      ]
     },
     "execution_count": 9,
     "metadata": {},
     "output_type": "execute_result"
    }
   ],
   "source": [
    "df2.head()"
   ]
  },
  {
   "cell_type": "markdown",
   "metadata": {},
   "source": [
    "## Using Cufflinks and iplot()\n",
    "\n",
    "* scatter\n",
    "* bar\n",
    "* box\n",
    "* spread\n",
    "* ratio\n",
    "* heatmap\n",
    "* surface\n",
    "* histogram\n",
    "* bubble"
   ]
  },
  {
   "cell_type": "markdown",
   "metadata": {},
   "source": [
    "## Scatter"
   ]
  },
  {
   "cell_type": "code",
   "execution_count": 10,
   "metadata": {},
   "outputs": [
    {
     "data": {
      "application/vnd.plotly.v1+json": {
       "config": {
        "linkText": "Export to plot.ly",
        "plotlyServerURL": "https://plot.ly",
        "showLink": true
       },
       "data": [
        {
         "line": {
          "color": "rgba(255, 153, 51, 1.0)",
          "dash": "solid",
          "shape": "linear",
          "width": 1.3
         },
         "marker": {
          "size": 10,
          "symbol": "circle"
         },
         "mode": "markers",
         "name": "B",
         "text": "",
         "type": "scatter",
         "x": [
          0.9736909845664095,
          0.7453931702353471,
          -0.584055336541668,
          -0.23334317308454516,
          -0.7000980818831816,
          1.2640163141919862,
          0.1949923139470877,
          -0.1139424012300454,
          -1.2154052780343019,
          0.9427148962218297,
          -1.2916405932264694,
          0.9578217204912421,
          -0.837880408525564,
          0.04477730952604257,
          0.0383397555239589,
          -0.920388783780331,
          -0.4586856113547915,
          0.7711816847785313,
          0.34059770984713117,
          -1.5809372479586077,
          -1.6190220344139687,
          0.3208625363690133,
          -0.49880220411246723,
          1.7723673511636662,
          -0.37465832280229444,
          0.7826818967840763,
          -0.9382489946574548,
          0.256628562558935,
          -1.6435417552082037,
          0.2687912226590109,
          1.668421072838317,
          0.446353712790004,
          -0.6072554223605655,
          0.5991032352457688,
          -0.3258627556643973,
          1.0260743695545573,
          -1.171157562633884,
          -0.44721741902651935,
          -0.18974526127380406,
          2.690862185966791,
          -0.21341778348335275,
          1.3729489381133875,
          -0.761964462794412,
          -0.23813834441552054,
          0.2423835554502911,
          -0.29077186439934116,
          -1.0641484336030078,
          -0.9732442423717599,
          1.8692008067241,
          0.5688039761828222,
          0.5279236226278071,
          -1.9290273692427853,
          1.2050717665153194,
          0.09187426815692153,
          -0.46421003832585644,
          0.6395964134920199,
          -0.9210542655891115,
          -0.560210249597593,
          -0.15267149948701025,
          -0.11142177214842656,
          0.34833270402904304,
          0.49643314031171515,
          -1.3313665867483626,
          -0.436011570352057,
          -1.78046187609948,
          -0.32036274436060913,
          -1.015612399766101,
          0.5202821890468927,
          0.29159316903345855,
          -1.9088228832243033,
          -0.24376450985073603,
          0.22652240535890608,
          -0.7841859784980002,
          -1.5267580055035477,
          0.5064174250880061,
          0.3367433054611338,
          1.2199465314945819,
          0.6193045429044992,
          -0.1405866691128178,
          1.320617620238819,
          -0.23845004768408265,
          0.8678499324373304,
          -0.6783635389878114,
          0.30629054690212754,
          0.6242536199934187,
          -0.6305479765356926,
          0.05971608490631798,
          0.8076378833495368,
          0.23280226611831248,
          1.8486962032262002,
          -1.0288160629884067,
          -1.0514112023277025,
          -2.0322145049930698,
          -0.08895985707025184,
          -0.17232298550624023,
          0.6276671416998708,
          0.834125433775937,
          0.24959890970492207,
          0.2627700269025718,
          0.002893684758850433
         ],
         "y": [
          0.860487843415082,
          -0.1976076039773233,
          -0.48481821153381505,
          0.14681919989176692,
          1.3592898678691712,
          2.066687883890864,
          -1.5032945817436838,
          1.3945675564569295,
          -0.04778910964737012,
          -1.2129972364699224,
          1.4589311431911625,
          -0.44069477393216305,
          -1.0435081413404528,
          0.6889781462830233,
          -2.213980890594844,
          0.6142355502042238,
          0.2260184570472683,
          -0.9165795796993379,
          -0.1667415626821347,
          -0.2554626201939413,
          -1.037991147602794,
          -0.8800628951247182,
          -0.7005643966674218,
          -0.3802764846634866,
          -0.12296879928841947,
          1.1635838305936397,
          0.5044729405730749,
          -0.3344445850503148,
          -0.3912012746825815,
          -0.25437660692898856,
          -0.8500678690004732,
          -0.41509806198294447,
          2.03493032292298,
          -1.3314385730253768,
          0.29751356353402864,
          -0.7175580186337933,
          2.5113785520970975,
          -0.6095147542383219,
          -0.5088955997912352,
          1.0220677584987925,
          -2.0438870657446477,
          -1.4908273980005247,
          0.12922499574597024,
          -0.4915401118468228,
          0.3779801515751991,
          -0.8226774144982794,
          0.23284890744200148,
          1.2765999108951942,
          -0.1702716710359278,
          -0.6189082703607539,
          0.8749414426661444,
          1.5406104624426746,
          1.7099060314859462,
          -0.07706149742235652,
          0.9858023695881741,
          0.22317834251016266,
          -0.49721352987147677,
          0.6682973129617311,
          0.43169956246317065,
          -1.0918939029648713,
          0.10018235296733681,
          -0.989913227534258,
          0.021947372274293164,
          -1.0024193179032603,
          -0.8787782554290655,
          -0.5720097332195477,
          0.8790488723520122,
          -0.2562276873444926,
          -0.10326826791614217,
          -1.0134751880346335,
          0.8186055168917588,
          -0.22477040395132783,
          -0.24677109148501306,
          -1.5863247065897887,
          0.040629157884486754,
          -0.6435318145872875,
          0.5096173013346691,
          -1.4134405583436804,
          -0.9856650606127185,
          -1.332899924654395,
          -0.835689521985187,
          0.3509325415930457,
          0.2056437884096933,
          -1.8424841475984346,
          0.5953401809010593,
          -1.7016661494206462,
          0.3769197833430828,
          -0.08986765037176148,
          -0.26464943856144885,
          0.2996702121775819,
          -0.08513347629466395,
          -0.14318734590020804,
          -0.9397532454122348,
          -0.5072370450741972,
          -1.4064823254410985,
          0.5674390471645528,
          -1.3449602849704938,
          -2.2250731965123873,
          2.7083825895071967,
          -0.45632096832043334
         ]
        }
       ],
       "layout": {
        "legend": {
         "bgcolor": "#F5F6F9",
         "font": {
          "color": "#4D5663"
         }
        },
        "paper_bgcolor": "#F5F6F9",
        "plot_bgcolor": "#F5F6F9",
        "template": {
         "data": {
          "bar": [
           {
            "error_x": {
             "color": "#2a3f5f"
            },
            "error_y": {
             "color": "#2a3f5f"
            },
            "marker": {
             "line": {
              "color": "#E5ECF6",
              "width": 0.5
             },
             "pattern": {
              "fillmode": "overlay",
              "size": 10,
              "solidity": 0.2
             }
            },
            "type": "bar"
           }
          ],
          "barpolar": [
           {
            "marker": {
             "line": {
              "color": "#E5ECF6",
              "width": 0.5
             },
             "pattern": {
              "fillmode": "overlay",
              "size": 10,
              "solidity": 0.2
             }
            },
            "type": "barpolar"
           }
          ],
          "carpet": [
           {
            "aaxis": {
             "endlinecolor": "#2a3f5f",
             "gridcolor": "white",
             "linecolor": "white",
             "minorgridcolor": "white",
             "startlinecolor": "#2a3f5f"
            },
            "baxis": {
             "endlinecolor": "#2a3f5f",
             "gridcolor": "white",
             "linecolor": "white",
             "minorgridcolor": "white",
             "startlinecolor": "#2a3f5f"
            },
            "type": "carpet"
           }
          ],
          "choropleth": [
           {
            "colorbar": {
             "outlinewidth": 0,
             "ticks": ""
            },
            "type": "choropleth"
           }
          ],
          "contour": [
           {
            "colorbar": {
             "outlinewidth": 0,
             "ticks": ""
            },
            "colorscale": [
             [
              0,
              "#0d0887"
             ],
             [
              0.1111111111111111,
              "#46039f"
             ],
             [
              0.2222222222222222,
              "#7201a8"
             ],
             [
              0.3333333333333333,
              "#9c179e"
             ],
             [
              0.4444444444444444,
              "#bd3786"
             ],
             [
              0.5555555555555556,
              "#d8576b"
             ],
             [
              0.6666666666666666,
              "#ed7953"
             ],
             [
              0.7777777777777778,
              "#fb9f3a"
             ],
             [
              0.8888888888888888,
              "#fdca26"
             ],
             [
              1,
              "#f0f921"
             ]
            ],
            "type": "contour"
           }
          ],
          "contourcarpet": [
           {
            "colorbar": {
             "outlinewidth": 0,
             "ticks": ""
            },
            "type": "contourcarpet"
           }
          ],
          "heatmap": [
           {
            "colorbar": {
             "outlinewidth": 0,
             "ticks": ""
            },
            "colorscale": [
             [
              0,
              "#0d0887"
             ],
             [
              0.1111111111111111,
              "#46039f"
             ],
             [
              0.2222222222222222,
              "#7201a8"
             ],
             [
              0.3333333333333333,
              "#9c179e"
             ],
             [
              0.4444444444444444,
              "#bd3786"
             ],
             [
              0.5555555555555556,
              "#d8576b"
             ],
             [
              0.6666666666666666,
              "#ed7953"
             ],
             [
              0.7777777777777778,
              "#fb9f3a"
             ],
             [
              0.8888888888888888,
              "#fdca26"
             ],
             [
              1,
              "#f0f921"
             ]
            ],
            "type": "heatmap"
           }
          ],
          "heatmapgl": [
           {
            "colorbar": {
             "outlinewidth": 0,
             "ticks": ""
            },
            "colorscale": [
             [
              0,
              "#0d0887"
             ],
             [
              0.1111111111111111,
              "#46039f"
             ],
             [
              0.2222222222222222,
              "#7201a8"
             ],
             [
              0.3333333333333333,
              "#9c179e"
             ],
             [
              0.4444444444444444,
              "#bd3786"
             ],
             [
              0.5555555555555556,
              "#d8576b"
             ],
             [
              0.6666666666666666,
              "#ed7953"
             ],
             [
              0.7777777777777778,
              "#fb9f3a"
             ],
             [
              0.8888888888888888,
              "#fdca26"
             ],
             [
              1,
              "#f0f921"
             ]
            ],
            "type": "heatmapgl"
           }
          ],
          "histogram": [
           {
            "marker": {
             "pattern": {
              "fillmode": "overlay",
              "size": 10,
              "solidity": 0.2
             }
            },
            "type": "histogram"
           }
          ],
          "histogram2d": [
           {
            "colorbar": {
             "outlinewidth": 0,
             "ticks": ""
            },
            "colorscale": [
             [
              0,
              "#0d0887"
             ],
             [
              0.1111111111111111,
              "#46039f"
             ],
             [
              0.2222222222222222,
              "#7201a8"
             ],
             [
              0.3333333333333333,
              "#9c179e"
             ],
             [
              0.4444444444444444,
              "#bd3786"
             ],
             [
              0.5555555555555556,
              "#d8576b"
             ],
             [
              0.6666666666666666,
              "#ed7953"
             ],
             [
              0.7777777777777778,
              "#fb9f3a"
             ],
             [
              0.8888888888888888,
              "#fdca26"
             ],
             [
              1,
              "#f0f921"
             ]
            ],
            "type": "histogram2d"
           }
          ],
          "histogram2dcontour": [
           {
            "colorbar": {
             "outlinewidth": 0,
             "ticks": ""
            },
            "colorscale": [
             [
              0,
              "#0d0887"
             ],
             [
              0.1111111111111111,
              "#46039f"
             ],
             [
              0.2222222222222222,
              "#7201a8"
             ],
             [
              0.3333333333333333,
              "#9c179e"
             ],
             [
              0.4444444444444444,
              "#bd3786"
             ],
             [
              0.5555555555555556,
              "#d8576b"
             ],
             [
              0.6666666666666666,
              "#ed7953"
             ],
             [
              0.7777777777777778,
              "#fb9f3a"
             ],
             [
              0.8888888888888888,
              "#fdca26"
             ],
             [
              1,
              "#f0f921"
             ]
            ],
            "type": "histogram2dcontour"
           }
          ],
          "mesh3d": [
           {
            "colorbar": {
             "outlinewidth": 0,
             "ticks": ""
            },
            "type": "mesh3d"
           }
          ],
          "parcoords": [
           {
            "line": {
             "colorbar": {
              "outlinewidth": 0,
              "ticks": ""
             }
            },
            "type": "parcoords"
           }
          ],
          "pie": [
           {
            "automargin": true,
            "type": "pie"
           }
          ],
          "scatter": [
           {
            "marker": {
             "colorbar": {
              "outlinewidth": 0,
              "ticks": ""
             }
            },
            "type": "scatter"
           }
          ],
          "scatter3d": [
           {
            "line": {
             "colorbar": {
              "outlinewidth": 0,
              "ticks": ""
             }
            },
            "marker": {
             "colorbar": {
              "outlinewidth": 0,
              "ticks": ""
             }
            },
            "type": "scatter3d"
           }
          ],
          "scattercarpet": [
           {
            "marker": {
             "colorbar": {
              "outlinewidth": 0,
              "ticks": ""
             }
            },
            "type": "scattercarpet"
           }
          ],
          "scattergeo": [
           {
            "marker": {
             "colorbar": {
              "outlinewidth": 0,
              "ticks": ""
             }
            },
            "type": "scattergeo"
           }
          ],
          "scattergl": [
           {
            "marker": {
             "colorbar": {
              "outlinewidth": 0,
              "ticks": ""
             }
            },
            "type": "scattergl"
           }
          ],
          "scattermapbox": [
           {
            "marker": {
             "colorbar": {
              "outlinewidth": 0,
              "ticks": ""
             }
            },
            "type": "scattermapbox"
           }
          ],
          "scatterpolar": [
           {
            "marker": {
             "colorbar": {
              "outlinewidth": 0,
              "ticks": ""
             }
            },
            "type": "scatterpolar"
           }
          ],
          "scatterpolargl": [
           {
            "marker": {
             "colorbar": {
              "outlinewidth": 0,
              "ticks": ""
             }
            },
            "type": "scatterpolargl"
           }
          ],
          "scatterternary": [
           {
            "marker": {
             "colorbar": {
              "outlinewidth": 0,
              "ticks": ""
             }
            },
            "type": "scatterternary"
           }
          ],
          "surface": [
           {
            "colorbar": {
             "outlinewidth": 0,
             "ticks": ""
            },
            "colorscale": [
             [
              0,
              "#0d0887"
             ],
             [
              0.1111111111111111,
              "#46039f"
             ],
             [
              0.2222222222222222,
              "#7201a8"
             ],
             [
              0.3333333333333333,
              "#9c179e"
             ],
             [
              0.4444444444444444,
              "#bd3786"
             ],
             [
              0.5555555555555556,
              "#d8576b"
             ],
             [
              0.6666666666666666,
              "#ed7953"
             ],
             [
              0.7777777777777778,
              "#fb9f3a"
             ],
             [
              0.8888888888888888,
              "#fdca26"
             ],
             [
              1,
              "#f0f921"
             ]
            ],
            "type": "surface"
           }
          ],
          "table": [
           {
            "cells": {
             "fill": {
              "color": "#EBF0F8"
             },
             "line": {
              "color": "white"
             }
            },
            "header": {
             "fill": {
              "color": "#C8D4E3"
             },
             "line": {
              "color": "white"
             }
            },
            "type": "table"
           }
          ]
         },
         "layout": {
          "annotationdefaults": {
           "arrowcolor": "#2a3f5f",
           "arrowhead": 0,
           "arrowwidth": 1
          },
          "autotypenumbers": "strict",
          "coloraxis": {
           "colorbar": {
            "outlinewidth": 0,
            "ticks": ""
           }
          },
          "colorscale": {
           "diverging": [
            [
             0,
             "#8e0152"
            ],
            [
             0.1,
             "#c51b7d"
            ],
            [
             0.2,
             "#de77ae"
            ],
            [
             0.3,
             "#f1b6da"
            ],
            [
             0.4,
             "#fde0ef"
            ],
            [
             0.5,
             "#f7f7f7"
            ],
            [
             0.6,
             "#e6f5d0"
            ],
            [
             0.7,
             "#b8e186"
            ],
            [
             0.8,
             "#7fbc41"
            ],
            [
             0.9,
             "#4d9221"
            ],
            [
             1,
             "#276419"
            ]
           ],
           "sequential": [
            [
             0,
             "#0d0887"
            ],
            [
             0.1111111111111111,
             "#46039f"
            ],
            [
             0.2222222222222222,
             "#7201a8"
            ],
            [
             0.3333333333333333,
             "#9c179e"
            ],
            [
             0.4444444444444444,
             "#bd3786"
            ],
            [
             0.5555555555555556,
             "#d8576b"
            ],
            [
             0.6666666666666666,
             "#ed7953"
            ],
            [
             0.7777777777777778,
             "#fb9f3a"
            ],
            [
             0.8888888888888888,
             "#fdca26"
            ],
            [
             1,
             "#f0f921"
            ]
           ],
           "sequentialminus": [
            [
             0,
             "#0d0887"
            ],
            [
             0.1111111111111111,
             "#46039f"
            ],
            [
             0.2222222222222222,
             "#7201a8"
            ],
            [
             0.3333333333333333,
             "#9c179e"
            ],
            [
             0.4444444444444444,
             "#bd3786"
            ],
            [
             0.5555555555555556,
             "#d8576b"
            ],
            [
             0.6666666666666666,
             "#ed7953"
            ],
            [
             0.7777777777777778,
             "#fb9f3a"
            ],
            [
             0.8888888888888888,
             "#fdca26"
            ],
            [
             1,
             "#f0f921"
            ]
           ]
          },
          "colorway": [
           "#636efa",
           "#EF553B",
           "#00cc96",
           "#ab63fa",
           "#FFA15A",
           "#19d3f3",
           "#FF6692",
           "#B6E880",
           "#FF97FF",
           "#FECB52"
          ],
          "font": {
           "color": "#2a3f5f"
          },
          "geo": {
           "bgcolor": "white",
           "lakecolor": "white",
           "landcolor": "#E5ECF6",
           "showlakes": true,
           "showland": true,
           "subunitcolor": "white"
          },
          "hoverlabel": {
           "align": "left"
          },
          "hovermode": "closest",
          "mapbox": {
           "style": "light"
          },
          "paper_bgcolor": "white",
          "plot_bgcolor": "#E5ECF6",
          "polar": {
           "angularaxis": {
            "gridcolor": "white",
            "linecolor": "white",
            "ticks": ""
           },
           "bgcolor": "#E5ECF6",
           "radialaxis": {
            "gridcolor": "white",
            "linecolor": "white",
            "ticks": ""
           }
          },
          "scene": {
           "xaxis": {
            "backgroundcolor": "#E5ECF6",
            "gridcolor": "white",
            "gridwidth": 2,
            "linecolor": "white",
            "showbackground": true,
            "ticks": "",
            "zerolinecolor": "white"
           },
           "yaxis": {
            "backgroundcolor": "#E5ECF6",
            "gridcolor": "white",
            "gridwidth": 2,
            "linecolor": "white",
            "showbackground": true,
            "ticks": "",
            "zerolinecolor": "white"
           },
           "zaxis": {
            "backgroundcolor": "#E5ECF6",
            "gridcolor": "white",
            "gridwidth": 2,
            "linecolor": "white",
            "showbackground": true,
            "ticks": "",
            "zerolinecolor": "white"
           }
          },
          "shapedefaults": {
           "line": {
            "color": "#2a3f5f"
           }
          },
          "ternary": {
           "aaxis": {
            "gridcolor": "white",
            "linecolor": "white",
            "ticks": ""
           },
           "baxis": {
            "gridcolor": "white",
            "linecolor": "white",
            "ticks": ""
           },
           "bgcolor": "#E5ECF6",
           "caxis": {
            "gridcolor": "white",
            "linecolor": "white",
            "ticks": ""
           }
          },
          "title": {
           "x": 0.05
          },
          "xaxis": {
           "automargin": true,
           "gridcolor": "white",
           "linecolor": "white",
           "ticks": "",
           "title": {
            "standoff": 15
           },
           "zerolinecolor": "white",
           "zerolinewidth": 2
          },
          "yaxis": {
           "automargin": true,
           "gridcolor": "white",
           "linecolor": "white",
           "ticks": "",
           "title": {
            "standoff": 15
           },
           "zerolinecolor": "white",
           "zerolinewidth": 2
          }
         }
        },
        "title": {
         "font": {
          "color": "#4D5663"
         }
        },
        "xaxis": {
         "gridcolor": "#E1E5ED",
         "showgrid": true,
         "tickfont": {
          "color": "#4D5663"
         },
         "title": {
          "font": {
           "color": "#4D5663"
          },
          "text": ""
         },
         "zerolinecolor": "#E1E5ED"
        },
        "yaxis": {
         "gridcolor": "#E1E5ED",
         "showgrid": true,
         "tickfont": {
          "color": "#4D5663"
         },
         "title": {
          "font": {
           "color": "#4D5663"
          },
          "text": ""
         },
         "zerolinecolor": "#E1E5ED"
        }
       }
      },
      "text/html": [
       "<div>                            <div id=\"d05da03b-1a1f-44ec-a517-d6a1dcedb765\" class=\"plotly-graph-div\" style=\"height:525px; width:100%;\"></div>            <script type=\"text/javascript\">                require([\"plotly\"], function(Plotly) {                    window.PLOTLYENV=window.PLOTLYENV || {};\n",
       "                    window.PLOTLYENV.BASE_URL='https://plot.ly';                                    if (document.getElementById(\"d05da03b-1a1f-44ec-a517-d6a1dcedb765\")) {                    Plotly.newPlot(                        \"d05da03b-1a1f-44ec-a517-d6a1dcedb765\",                        [{\"line\":{\"color\":\"rgba(255, 153, 51, 1.0)\",\"dash\":\"solid\",\"shape\":\"linear\",\"width\":1.3},\"marker\":{\"size\":10,\"symbol\":\"circle\"},\"mode\":\"markers\",\"name\":\"B\",\"text\":\"\",\"x\":[0.9736909845664095,0.7453931702353471,-0.584055336541668,-0.23334317308454516,-0.7000980818831816,1.2640163141919862,0.1949923139470877,-0.1139424012300454,-1.2154052780343019,0.9427148962218297,-1.2916405932264694,0.9578217204912421,-0.837880408525564,0.04477730952604257,0.0383397555239589,-0.920388783780331,-0.4586856113547915,0.7711816847785313,0.34059770984713117,-1.5809372479586077,-1.6190220344139687,0.3208625363690133,-0.49880220411246723,1.7723673511636662,-0.37465832280229444,0.7826818967840763,-0.9382489946574548,0.256628562558935,-1.6435417552082037,0.2687912226590109,1.668421072838317,0.446353712790004,-0.6072554223605655,0.5991032352457688,-0.3258627556643973,1.0260743695545573,-1.171157562633884,-0.44721741902651935,-0.18974526127380406,2.690862185966791,-0.21341778348335275,1.3729489381133875,-0.761964462794412,-0.23813834441552054,0.2423835554502911,-0.29077186439934116,-1.0641484336030078,-0.9732442423717599,1.8692008067241,0.5688039761828222,0.5279236226278071,-1.9290273692427853,1.2050717665153194,0.09187426815692153,-0.46421003832585644,0.6395964134920199,-0.9210542655891115,-0.560210249597593,-0.15267149948701025,-0.11142177214842656,0.34833270402904304,0.49643314031171515,-1.3313665867483626,-0.436011570352057,-1.78046187609948,-0.32036274436060913,-1.015612399766101,0.5202821890468927,0.29159316903345855,-1.9088228832243033,-0.24376450985073603,0.22652240535890608,-0.7841859784980002,-1.5267580055035477,0.5064174250880061,0.3367433054611338,1.2199465314945819,0.6193045429044992,-0.1405866691128178,1.320617620238819,-0.23845004768408265,0.8678499324373304,-0.6783635389878114,0.30629054690212754,0.6242536199934187,-0.6305479765356926,0.05971608490631798,0.8076378833495368,0.23280226611831248,1.8486962032262002,-1.0288160629884067,-1.0514112023277025,-2.0322145049930698,-0.08895985707025184,-0.17232298550624023,0.6276671416998708,0.834125433775937,0.24959890970492207,0.2627700269025718,0.002893684758850433],\"y\":[0.860487843415082,-0.1976076039773233,-0.48481821153381505,0.14681919989176692,1.3592898678691712,2.066687883890864,-1.5032945817436838,1.3945675564569295,-0.04778910964737012,-1.2129972364699224,1.4589311431911625,-0.44069477393216305,-1.0435081413404528,0.6889781462830233,-2.213980890594844,0.6142355502042238,0.2260184570472683,-0.9165795796993379,-0.1667415626821347,-0.2554626201939413,-1.037991147602794,-0.8800628951247182,-0.7005643966674218,-0.3802764846634866,-0.12296879928841947,1.1635838305936397,0.5044729405730749,-0.3344445850503148,-0.3912012746825815,-0.25437660692898856,-0.8500678690004732,-0.41509806198294447,2.03493032292298,-1.3314385730253768,0.29751356353402864,-0.7175580186337933,2.5113785520970975,-0.6095147542383219,-0.5088955997912352,1.0220677584987925,-2.0438870657446477,-1.4908273980005247,0.12922499574597024,-0.4915401118468228,0.3779801515751991,-0.8226774144982794,0.23284890744200148,1.2765999108951942,-0.1702716710359278,-0.6189082703607539,0.8749414426661444,1.5406104624426746,1.7099060314859462,-0.07706149742235652,0.9858023695881741,0.22317834251016266,-0.49721352987147677,0.6682973129617311,0.43169956246317065,-1.0918939029648713,0.10018235296733681,-0.989913227534258,0.021947372274293164,-1.0024193179032603,-0.8787782554290655,-0.5720097332195477,0.8790488723520122,-0.2562276873444926,-0.10326826791614217,-1.0134751880346335,0.8186055168917588,-0.22477040395132783,-0.24677109148501306,-1.5863247065897887,0.040629157884486754,-0.6435318145872875,0.5096173013346691,-1.4134405583436804,-0.9856650606127185,-1.332899924654395,-0.835689521985187,0.3509325415930457,0.2056437884096933,-1.8424841475984346,0.5953401809010593,-1.7016661494206462,0.3769197833430828,-0.08986765037176148,-0.26464943856144885,0.2996702121775819,-0.08513347629466395,-0.14318734590020804,-0.9397532454122348,-0.5072370450741972,-1.4064823254410985,0.5674390471645528,-1.3449602849704938,-2.2250731965123873,2.7083825895071967,-0.45632096832043334],\"type\":\"scatter\"}],                        {\"legend\":{\"bgcolor\":\"#F5F6F9\",\"font\":{\"color\":\"#4D5663\"}},\"paper_bgcolor\":\"#F5F6F9\",\"plot_bgcolor\":\"#F5F6F9\",\"template\":{\"data\":{\"barpolar\":[{\"marker\":{\"line\":{\"color\":\"#E5ECF6\",\"width\":0.5},\"pattern\":{\"fillmode\":\"overlay\",\"size\":10,\"solidity\":0.2}},\"type\":\"barpolar\"}],\"bar\":[{\"error_x\":{\"color\":\"#2a3f5f\"},\"error_y\":{\"color\":\"#2a3f5f\"},\"marker\":{\"line\":{\"color\":\"#E5ECF6\",\"width\":0.5},\"pattern\":{\"fillmode\":\"overlay\",\"size\":10,\"solidity\":0.2}},\"type\":\"bar\"}],\"carpet\":[{\"aaxis\":{\"endlinecolor\":\"#2a3f5f\",\"gridcolor\":\"white\",\"linecolor\":\"white\",\"minorgridcolor\":\"white\",\"startlinecolor\":\"#2a3f5f\"},\"baxis\":{\"endlinecolor\":\"#2a3f5f\",\"gridcolor\":\"white\",\"linecolor\":\"white\",\"minorgridcolor\":\"white\",\"startlinecolor\":\"#2a3f5f\"},\"type\":\"carpet\"}],\"choropleth\":[{\"colorbar\":{\"outlinewidth\":0,\"ticks\":\"\"},\"type\":\"choropleth\"}],\"contourcarpet\":[{\"colorbar\":{\"outlinewidth\":0,\"ticks\":\"\"},\"type\":\"contourcarpet\"}],\"contour\":[{\"colorbar\":{\"outlinewidth\":0,\"ticks\":\"\"},\"colorscale\":[[0.0,\"#0d0887\"],[0.1111111111111111,\"#46039f\"],[0.2222222222222222,\"#7201a8\"],[0.3333333333333333,\"#9c179e\"],[0.4444444444444444,\"#bd3786\"],[0.5555555555555556,\"#d8576b\"],[0.6666666666666666,\"#ed7953\"],[0.7777777777777778,\"#fb9f3a\"],[0.8888888888888888,\"#fdca26\"],[1.0,\"#f0f921\"]],\"type\":\"contour\"}],\"heatmapgl\":[{\"colorbar\":{\"outlinewidth\":0,\"ticks\":\"\"},\"colorscale\":[[0.0,\"#0d0887\"],[0.1111111111111111,\"#46039f\"],[0.2222222222222222,\"#7201a8\"],[0.3333333333333333,\"#9c179e\"],[0.4444444444444444,\"#bd3786\"],[0.5555555555555556,\"#d8576b\"],[0.6666666666666666,\"#ed7953\"],[0.7777777777777778,\"#fb9f3a\"],[0.8888888888888888,\"#fdca26\"],[1.0,\"#f0f921\"]],\"type\":\"heatmapgl\"}],\"heatmap\":[{\"colorbar\":{\"outlinewidth\":0,\"ticks\":\"\"},\"colorscale\":[[0.0,\"#0d0887\"],[0.1111111111111111,\"#46039f\"],[0.2222222222222222,\"#7201a8\"],[0.3333333333333333,\"#9c179e\"],[0.4444444444444444,\"#bd3786\"],[0.5555555555555556,\"#d8576b\"],[0.6666666666666666,\"#ed7953\"],[0.7777777777777778,\"#fb9f3a\"],[0.8888888888888888,\"#fdca26\"],[1.0,\"#f0f921\"]],\"type\":\"heatmap\"}],\"histogram2dcontour\":[{\"colorbar\":{\"outlinewidth\":0,\"ticks\":\"\"},\"colorscale\":[[0.0,\"#0d0887\"],[0.1111111111111111,\"#46039f\"],[0.2222222222222222,\"#7201a8\"],[0.3333333333333333,\"#9c179e\"],[0.4444444444444444,\"#bd3786\"],[0.5555555555555556,\"#d8576b\"],[0.6666666666666666,\"#ed7953\"],[0.7777777777777778,\"#fb9f3a\"],[0.8888888888888888,\"#fdca26\"],[1.0,\"#f0f921\"]],\"type\":\"histogram2dcontour\"}],\"histogram2d\":[{\"colorbar\":{\"outlinewidth\":0,\"ticks\":\"\"},\"colorscale\":[[0.0,\"#0d0887\"],[0.1111111111111111,\"#46039f\"],[0.2222222222222222,\"#7201a8\"],[0.3333333333333333,\"#9c179e\"],[0.4444444444444444,\"#bd3786\"],[0.5555555555555556,\"#d8576b\"],[0.6666666666666666,\"#ed7953\"],[0.7777777777777778,\"#fb9f3a\"],[0.8888888888888888,\"#fdca26\"],[1.0,\"#f0f921\"]],\"type\":\"histogram2d\"}],\"histogram\":[{\"marker\":{\"pattern\":{\"fillmode\":\"overlay\",\"size\":10,\"solidity\":0.2}},\"type\":\"histogram\"}],\"mesh3d\":[{\"colorbar\":{\"outlinewidth\":0,\"ticks\":\"\"},\"type\":\"mesh3d\"}],\"parcoords\":[{\"line\":{\"colorbar\":{\"outlinewidth\":0,\"ticks\":\"\"}},\"type\":\"parcoords\"}],\"pie\":[{\"automargin\":true,\"type\":\"pie\"}],\"scatter3d\":[{\"line\":{\"colorbar\":{\"outlinewidth\":0,\"ticks\":\"\"}},\"marker\":{\"colorbar\":{\"outlinewidth\":0,\"ticks\":\"\"}},\"type\":\"scatter3d\"}],\"scattercarpet\":[{\"marker\":{\"colorbar\":{\"outlinewidth\":0,\"ticks\":\"\"}},\"type\":\"scattercarpet\"}],\"scattergeo\":[{\"marker\":{\"colorbar\":{\"outlinewidth\":0,\"ticks\":\"\"}},\"type\":\"scattergeo\"}],\"scattergl\":[{\"marker\":{\"colorbar\":{\"outlinewidth\":0,\"ticks\":\"\"}},\"type\":\"scattergl\"}],\"scattermapbox\":[{\"marker\":{\"colorbar\":{\"outlinewidth\":0,\"ticks\":\"\"}},\"type\":\"scattermapbox\"}],\"scatterpolargl\":[{\"marker\":{\"colorbar\":{\"outlinewidth\":0,\"ticks\":\"\"}},\"type\":\"scatterpolargl\"}],\"scatterpolar\":[{\"marker\":{\"colorbar\":{\"outlinewidth\":0,\"ticks\":\"\"}},\"type\":\"scatterpolar\"}],\"scatter\":[{\"marker\":{\"colorbar\":{\"outlinewidth\":0,\"ticks\":\"\"}},\"type\":\"scatter\"}],\"scatterternary\":[{\"marker\":{\"colorbar\":{\"outlinewidth\":0,\"ticks\":\"\"}},\"type\":\"scatterternary\"}],\"surface\":[{\"colorbar\":{\"outlinewidth\":0,\"ticks\":\"\"},\"colorscale\":[[0.0,\"#0d0887\"],[0.1111111111111111,\"#46039f\"],[0.2222222222222222,\"#7201a8\"],[0.3333333333333333,\"#9c179e\"],[0.4444444444444444,\"#bd3786\"],[0.5555555555555556,\"#d8576b\"],[0.6666666666666666,\"#ed7953\"],[0.7777777777777778,\"#fb9f3a\"],[0.8888888888888888,\"#fdca26\"],[1.0,\"#f0f921\"]],\"type\":\"surface\"}],\"table\":[{\"cells\":{\"fill\":{\"color\":\"#EBF0F8\"},\"line\":{\"color\":\"white\"}},\"header\":{\"fill\":{\"color\":\"#C8D4E3\"},\"line\":{\"color\":\"white\"}},\"type\":\"table\"}]},\"layout\":{\"annotationdefaults\":{\"arrowcolor\":\"#2a3f5f\",\"arrowhead\":0,\"arrowwidth\":1},\"autotypenumbers\":\"strict\",\"coloraxis\":{\"colorbar\":{\"outlinewidth\":0,\"ticks\":\"\"}},\"colorscale\":{\"diverging\":[[0,\"#8e0152\"],[0.1,\"#c51b7d\"],[0.2,\"#de77ae\"],[0.3,\"#f1b6da\"],[0.4,\"#fde0ef\"],[0.5,\"#f7f7f7\"],[0.6,\"#e6f5d0\"],[0.7,\"#b8e186\"],[0.8,\"#7fbc41\"],[0.9,\"#4d9221\"],[1,\"#276419\"]],\"sequential\":[[0.0,\"#0d0887\"],[0.1111111111111111,\"#46039f\"],[0.2222222222222222,\"#7201a8\"],[0.3333333333333333,\"#9c179e\"],[0.4444444444444444,\"#bd3786\"],[0.5555555555555556,\"#d8576b\"],[0.6666666666666666,\"#ed7953\"],[0.7777777777777778,\"#fb9f3a\"],[0.8888888888888888,\"#fdca26\"],[1.0,\"#f0f921\"]],\"sequentialminus\":[[0.0,\"#0d0887\"],[0.1111111111111111,\"#46039f\"],[0.2222222222222222,\"#7201a8\"],[0.3333333333333333,\"#9c179e\"],[0.4444444444444444,\"#bd3786\"],[0.5555555555555556,\"#d8576b\"],[0.6666666666666666,\"#ed7953\"],[0.7777777777777778,\"#fb9f3a\"],[0.8888888888888888,\"#fdca26\"],[1.0,\"#f0f921\"]]},\"colorway\":[\"#636efa\",\"#EF553B\",\"#00cc96\",\"#ab63fa\",\"#FFA15A\",\"#19d3f3\",\"#FF6692\",\"#B6E880\",\"#FF97FF\",\"#FECB52\"],\"font\":{\"color\":\"#2a3f5f\"},\"geo\":{\"bgcolor\":\"white\",\"lakecolor\":\"white\",\"landcolor\":\"#E5ECF6\",\"showlakes\":true,\"showland\":true,\"subunitcolor\":\"white\"},\"hoverlabel\":{\"align\":\"left\"},\"hovermode\":\"closest\",\"mapbox\":{\"style\":\"light\"},\"paper_bgcolor\":\"white\",\"plot_bgcolor\":\"#E5ECF6\",\"polar\":{\"angularaxis\":{\"gridcolor\":\"white\",\"linecolor\":\"white\",\"ticks\":\"\"},\"bgcolor\":\"#E5ECF6\",\"radialaxis\":{\"gridcolor\":\"white\",\"linecolor\":\"white\",\"ticks\":\"\"}},\"scene\":{\"xaxis\":{\"backgroundcolor\":\"#E5ECF6\",\"gridcolor\":\"white\",\"gridwidth\":2,\"linecolor\":\"white\",\"showbackground\":true,\"ticks\":\"\",\"zerolinecolor\":\"white\"},\"yaxis\":{\"backgroundcolor\":\"#E5ECF6\",\"gridcolor\":\"white\",\"gridwidth\":2,\"linecolor\":\"white\",\"showbackground\":true,\"ticks\":\"\",\"zerolinecolor\":\"white\"},\"zaxis\":{\"backgroundcolor\":\"#E5ECF6\",\"gridcolor\":\"white\",\"gridwidth\":2,\"linecolor\":\"white\",\"showbackground\":true,\"ticks\":\"\",\"zerolinecolor\":\"white\"}},\"shapedefaults\":{\"line\":{\"color\":\"#2a3f5f\"}},\"ternary\":{\"aaxis\":{\"gridcolor\":\"white\",\"linecolor\":\"white\",\"ticks\":\"\"},\"baxis\":{\"gridcolor\":\"white\",\"linecolor\":\"white\",\"ticks\":\"\"},\"bgcolor\":\"#E5ECF6\",\"caxis\":{\"gridcolor\":\"white\",\"linecolor\":\"white\",\"ticks\":\"\"}},\"title\":{\"x\":0.05},\"xaxis\":{\"automargin\":true,\"gridcolor\":\"white\",\"linecolor\":\"white\",\"ticks\":\"\",\"title\":{\"standoff\":15},\"zerolinecolor\":\"white\",\"zerolinewidth\":2},\"yaxis\":{\"automargin\":true,\"gridcolor\":\"white\",\"linecolor\":\"white\",\"ticks\":\"\",\"title\":{\"standoff\":15},\"zerolinecolor\":\"white\",\"zerolinewidth\":2}}},\"title\":{\"font\":{\"color\":\"#4D5663\"}},\"xaxis\":{\"gridcolor\":\"#E1E5ED\",\"showgrid\":true,\"tickfont\":{\"color\":\"#4D5663\"},\"title\":{\"font\":{\"color\":\"#4D5663\"},\"text\":\"\"},\"zerolinecolor\":\"#E1E5ED\"},\"yaxis\":{\"gridcolor\":\"#E1E5ED\",\"showgrid\":true,\"tickfont\":{\"color\":\"#4D5663\"},\"title\":{\"font\":{\"color\":\"#4D5663\"},\"text\":\"\"},\"zerolinecolor\":\"#E1E5ED\"}},                        {\"showLink\": true, \"linkText\": \"Export to plot.ly\", \"plotlyServerURL\": \"https://plot.ly\", \"responsive\": true}                    ).then(function(){\n",
       "                            \n",
       "var gd = document.getElementById('d05da03b-1a1f-44ec-a517-d6a1dcedb765');\n",
       "var x = new MutationObserver(function (mutations, observer) {{\n",
       "        var display = window.getComputedStyle(gd).display;\n",
       "        if (!display || display === 'none') {{\n",
       "            console.log([gd, 'removed!']);\n",
       "            Plotly.purge(gd);\n",
       "            observer.disconnect();\n",
       "        }}\n",
       "}});\n",
       "\n",
       "// Listen for the removal of the full notebook cells\n",
       "var notebookContainer = gd.closest('#notebook-container');\n",
       "if (notebookContainer) {{\n",
       "    x.observe(notebookContainer, {childList: true});\n",
       "}}\n",
       "\n",
       "// Listen for the clearing of the current output cell\n",
       "var outputEl = gd.closest('.output');\n",
       "if (outputEl) {{\n",
       "    x.observe(outputEl, {childList: true});\n",
       "}}\n",
       "\n",
       "                        })                };                });            </script>        </div>"
      ]
     },
     "metadata": {},
     "output_type": "display_data"
    }
   ],
   "source": [
    "df.iplot(kind='scatter',x='A',y='B',mode='markers',size=10)"
   ]
  },
  {
   "cell_type": "markdown",
   "metadata": {},
   "source": [
    "## Bar Plots"
   ]
  },
  {
   "cell_type": "code",
   "execution_count": 11,
   "metadata": {},
   "outputs": [
    {
     "data": {
      "application/vnd.plotly.v1+json": {
       "config": {
        "linkText": "Export to plot.ly",
        "plotlyServerURL": "https://plot.ly",
        "showLink": true
       },
       "data": [
        {
         "marker": {
          "color": "rgba(255, 153, 51, 0.6)",
          "line": {
           "color": "rgba(255, 153, 51, 1.0)",
           "width": 1
          }
         },
         "name": "Values",
         "orientation": "v",
         "text": "",
         "type": "bar",
         "x": [
          "A",
          "B",
          "C"
         ],
         "y": [
          32,
          43,
          50
         ]
        }
       ],
       "layout": {
        "legend": {
         "bgcolor": "#F5F6F9",
         "font": {
          "color": "#4D5663"
         }
        },
        "paper_bgcolor": "#F5F6F9",
        "plot_bgcolor": "#F5F6F9",
        "template": {
         "data": {
          "bar": [
           {
            "error_x": {
             "color": "#2a3f5f"
            },
            "error_y": {
             "color": "#2a3f5f"
            },
            "marker": {
             "line": {
              "color": "#E5ECF6",
              "width": 0.5
             },
             "pattern": {
              "fillmode": "overlay",
              "size": 10,
              "solidity": 0.2
             }
            },
            "type": "bar"
           }
          ],
          "barpolar": [
           {
            "marker": {
             "line": {
              "color": "#E5ECF6",
              "width": 0.5
             },
             "pattern": {
              "fillmode": "overlay",
              "size": 10,
              "solidity": 0.2
             }
            },
            "type": "barpolar"
           }
          ],
          "carpet": [
           {
            "aaxis": {
             "endlinecolor": "#2a3f5f",
             "gridcolor": "white",
             "linecolor": "white",
             "minorgridcolor": "white",
             "startlinecolor": "#2a3f5f"
            },
            "baxis": {
             "endlinecolor": "#2a3f5f",
             "gridcolor": "white",
             "linecolor": "white",
             "minorgridcolor": "white",
             "startlinecolor": "#2a3f5f"
            },
            "type": "carpet"
           }
          ],
          "choropleth": [
           {
            "colorbar": {
             "outlinewidth": 0,
             "ticks": ""
            },
            "type": "choropleth"
           }
          ],
          "contour": [
           {
            "colorbar": {
             "outlinewidth": 0,
             "ticks": ""
            },
            "colorscale": [
             [
              0,
              "#0d0887"
             ],
             [
              0.1111111111111111,
              "#46039f"
             ],
             [
              0.2222222222222222,
              "#7201a8"
             ],
             [
              0.3333333333333333,
              "#9c179e"
             ],
             [
              0.4444444444444444,
              "#bd3786"
             ],
             [
              0.5555555555555556,
              "#d8576b"
             ],
             [
              0.6666666666666666,
              "#ed7953"
             ],
             [
              0.7777777777777778,
              "#fb9f3a"
             ],
             [
              0.8888888888888888,
              "#fdca26"
             ],
             [
              1,
              "#f0f921"
             ]
            ],
            "type": "contour"
           }
          ],
          "contourcarpet": [
           {
            "colorbar": {
             "outlinewidth": 0,
             "ticks": ""
            },
            "type": "contourcarpet"
           }
          ],
          "heatmap": [
           {
            "colorbar": {
             "outlinewidth": 0,
             "ticks": ""
            },
            "colorscale": [
             [
              0,
              "#0d0887"
             ],
             [
              0.1111111111111111,
              "#46039f"
             ],
             [
              0.2222222222222222,
              "#7201a8"
             ],
             [
              0.3333333333333333,
              "#9c179e"
             ],
             [
              0.4444444444444444,
              "#bd3786"
             ],
             [
              0.5555555555555556,
              "#d8576b"
             ],
             [
              0.6666666666666666,
              "#ed7953"
             ],
             [
              0.7777777777777778,
              "#fb9f3a"
             ],
             [
              0.8888888888888888,
              "#fdca26"
             ],
             [
              1,
              "#f0f921"
             ]
            ],
            "type": "heatmap"
           }
          ],
          "heatmapgl": [
           {
            "colorbar": {
             "outlinewidth": 0,
             "ticks": ""
            },
            "colorscale": [
             [
              0,
              "#0d0887"
             ],
             [
              0.1111111111111111,
              "#46039f"
             ],
             [
              0.2222222222222222,
              "#7201a8"
             ],
             [
              0.3333333333333333,
              "#9c179e"
             ],
             [
              0.4444444444444444,
              "#bd3786"
             ],
             [
              0.5555555555555556,
              "#d8576b"
             ],
             [
              0.6666666666666666,
              "#ed7953"
             ],
             [
              0.7777777777777778,
              "#fb9f3a"
             ],
             [
              0.8888888888888888,
              "#fdca26"
             ],
             [
              1,
              "#f0f921"
             ]
            ],
            "type": "heatmapgl"
           }
          ],
          "histogram": [
           {
            "marker": {
             "pattern": {
              "fillmode": "overlay",
              "size": 10,
              "solidity": 0.2
             }
            },
            "type": "histogram"
           }
          ],
          "histogram2d": [
           {
            "colorbar": {
             "outlinewidth": 0,
             "ticks": ""
            },
            "colorscale": [
             [
              0,
              "#0d0887"
             ],
             [
              0.1111111111111111,
              "#46039f"
             ],
             [
              0.2222222222222222,
              "#7201a8"
             ],
             [
              0.3333333333333333,
              "#9c179e"
             ],
             [
              0.4444444444444444,
              "#bd3786"
             ],
             [
              0.5555555555555556,
              "#d8576b"
             ],
             [
              0.6666666666666666,
              "#ed7953"
             ],
             [
              0.7777777777777778,
              "#fb9f3a"
             ],
             [
              0.8888888888888888,
              "#fdca26"
             ],
             [
              1,
              "#f0f921"
             ]
            ],
            "type": "histogram2d"
           }
          ],
          "histogram2dcontour": [
           {
            "colorbar": {
             "outlinewidth": 0,
             "ticks": ""
            },
            "colorscale": [
             [
              0,
              "#0d0887"
             ],
             [
              0.1111111111111111,
              "#46039f"
             ],
             [
              0.2222222222222222,
              "#7201a8"
             ],
             [
              0.3333333333333333,
              "#9c179e"
             ],
             [
              0.4444444444444444,
              "#bd3786"
             ],
             [
              0.5555555555555556,
              "#d8576b"
             ],
             [
              0.6666666666666666,
              "#ed7953"
             ],
             [
              0.7777777777777778,
              "#fb9f3a"
             ],
             [
              0.8888888888888888,
              "#fdca26"
             ],
             [
              1,
              "#f0f921"
             ]
            ],
            "type": "histogram2dcontour"
           }
          ],
          "mesh3d": [
           {
            "colorbar": {
             "outlinewidth": 0,
             "ticks": ""
            },
            "type": "mesh3d"
           }
          ],
          "parcoords": [
           {
            "line": {
             "colorbar": {
              "outlinewidth": 0,
              "ticks": ""
             }
            },
            "type": "parcoords"
           }
          ],
          "pie": [
           {
            "automargin": true,
            "type": "pie"
           }
          ],
          "scatter": [
           {
            "marker": {
             "colorbar": {
              "outlinewidth": 0,
              "ticks": ""
             }
            },
            "type": "scatter"
           }
          ],
          "scatter3d": [
           {
            "line": {
             "colorbar": {
              "outlinewidth": 0,
              "ticks": ""
             }
            },
            "marker": {
             "colorbar": {
              "outlinewidth": 0,
              "ticks": ""
             }
            },
            "type": "scatter3d"
           }
          ],
          "scattercarpet": [
           {
            "marker": {
             "colorbar": {
              "outlinewidth": 0,
              "ticks": ""
             }
            },
            "type": "scattercarpet"
           }
          ],
          "scattergeo": [
           {
            "marker": {
             "colorbar": {
              "outlinewidth": 0,
              "ticks": ""
             }
            },
            "type": "scattergeo"
           }
          ],
          "scattergl": [
           {
            "marker": {
             "colorbar": {
              "outlinewidth": 0,
              "ticks": ""
             }
            },
            "type": "scattergl"
           }
          ],
          "scattermapbox": [
           {
            "marker": {
             "colorbar": {
              "outlinewidth": 0,
              "ticks": ""
             }
            },
            "type": "scattermapbox"
           }
          ],
          "scatterpolar": [
           {
            "marker": {
             "colorbar": {
              "outlinewidth": 0,
              "ticks": ""
             }
            },
            "type": "scatterpolar"
           }
          ],
          "scatterpolargl": [
           {
            "marker": {
             "colorbar": {
              "outlinewidth": 0,
              "ticks": ""
             }
            },
            "type": "scatterpolargl"
           }
          ],
          "scatterternary": [
           {
            "marker": {
             "colorbar": {
              "outlinewidth": 0,
              "ticks": ""
             }
            },
            "type": "scatterternary"
           }
          ],
          "surface": [
           {
            "colorbar": {
             "outlinewidth": 0,
             "ticks": ""
            },
            "colorscale": [
             [
              0,
              "#0d0887"
             ],
             [
              0.1111111111111111,
              "#46039f"
             ],
             [
              0.2222222222222222,
              "#7201a8"
             ],
             [
              0.3333333333333333,
              "#9c179e"
             ],
             [
              0.4444444444444444,
              "#bd3786"
             ],
             [
              0.5555555555555556,
              "#d8576b"
             ],
             [
              0.6666666666666666,
              "#ed7953"
             ],
             [
              0.7777777777777778,
              "#fb9f3a"
             ],
             [
              0.8888888888888888,
              "#fdca26"
             ],
             [
              1,
              "#f0f921"
             ]
            ],
            "type": "surface"
           }
          ],
          "table": [
           {
            "cells": {
             "fill": {
              "color": "#EBF0F8"
             },
             "line": {
              "color": "white"
             }
            },
            "header": {
             "fill": {
              "color": "#C8D4E3"
             },
             "line": {
              "color": "white"
             }
            },
            "type": "table"
           }
          ]
         },
         "layout": {
          "annotationdefaults": {
           "arrowcolor": "#2a3f5f",
           "arrowhead": 0,
           "arrowwidth": 1
          },
          "autotypenumbers": "strict",
          "coloraxis": {
           "colorbar": {
            "outlinewidth": 0,
            "ticks": ""
           }
          },
          "colorscale": {
           "diverging": [
            [
             0,
             "#8e0152"
            ],
            [
             0.1,
             "#c51b7d"
            ],
            [
             0.2,
             "#de77ae"
            ],
            [
             0.3,
             "#f1b6da"
            ],
            [
             0.4,
             "#fde0ef"
            ],
            [
             0.5,
             "#f7f7f7"
            ],
            [
             0.6,
             "#e6f5d0"
            ],
            [
             0.7,
             "#b8e186"
            ],
            [
             0.8,
             "#7fbc41"
            ],
            [
             0.9,
             "#4d9221"
            ],
            [
             1,
             "#276419"
            ]
           ],
           "sequential": [
            [
             0,
             "#0d0887"
            ],
            [
             0.1111111111111111,
             "#46039f"
            ],
            [
             0.2222222222222222,
             "#7201a8"
            ],
            [
             0.3333333333333333,
             "#9c179e"
            ],
            [
             0.4444444444444444,
             "#bd3786"
            ],
            [
             0.5555555555555556,
             "#d8576b"
            ],
            [
             0.6666666666666666,
             "#ed7953"
            ],
            [
             0.7777777777777778,
             "#fb9f3a"
            ],
            [
             0.8888888888888888,
             "#fdca26"
            ],
            [
             1,
             "#f0f921"
            ]
           ],
           "sequentialminus": [
            [
             0,
             "#0d0887"
            ],
            [
             0.1111111111111111,
             "#46039f"
            ],
            [
             0.2222222222222222,
             "#7201a8"
            ],
            [
             0.3333333333333333,
             "#9c179e"
            ],
            [
             0.4444444444444444,
             "#bd3786"
            ],
            [
             0.5555555555555556,
             "#d8576b"
            ],
            [
             0.6666666666666666,
             "#ed7953"
            ],
            [
             0.7777777777777778,
             "#fb9f3a"
            ],
            [
             0.8888888888888888,
             "#fdca26"
            ],
            [
             1,
             "#f0f921"
            ]
           ]
          },
          "colorway": [
           "#636efa",
           "#EF553B",
           "#00cc96",
           "#ab63fa",
           "#FFA15A",
           "#19d3f3",
           "#FF6692",
           "#B6E880",
           "#FF97FF",
           "#FECB52"
          ],
          "font": {
           "color": "#2a3f5f"
          },
          "geo": {
           "bgcolor": "white",
           "lakecolor": "white",
           "landcolor": "#E5ECF6",
           "showlakes": true,
           "showland": true,
           "subunitcolor": "white"
          },
          "hoverlabel": {
           "align": "left"
          },
          "hovermode": "closest",
          "mapbox": {
           "style": "light"
          },
          "paper_bgcolor": "white",
          "plot_bgcolor": "#E5ECF6",
          "polar": {
           "angularaxis": {
            "gridcolor": "white",
            "linecolor": "white",
            "ticks": ""
           },
           "bgcolor": "#E5ECF6",
           "radialaxis": {
            "gridcolor": "white",
            "linecolor": "white",
            "ticks": ""
           }
          },
          "scene": {
           "xaxis": {
            "backgroundcolor": "#E5ECF6",
            "gridcolor": "white",
            "gridwidth": 2,
            "linecolor": "white",
            "showbackground": true,
            "ticks": "",
            "zerolinecolor": "white"
           },
           "yaxis": {
            "backgroundcolor": "#E5ECF6",
            "gridcolor": "white",
            "gridwidth": 2,
            "linecolor": "white",
            "showbackground": true,
            "ticks": "",
            "zerolinecolor": "white"
           },
           "zaxis": {
            "backgroundcolor": "#E5ECF6",
            "gridcolor": "white",
            "gridwidth": 2,
            "linecolor": "white",
            "showbackground": true,
            "ticks": "",
            "zerolinecolor": "white"
           }
          },
          "shapedefaults": {
           "line": {
            "color": "#2a3f5f"
           }
          },
          "ternary": {
           "aaxis": {
            "gridcolor": "white",
            "linecolor": "white",
            "ticks": ""
           },
           "baxis": {
            "gridcolor": "white",
            "linecolor": "white",
            "ticks": ""
           },
           "bgcolor": "#E5ECF6",
           "caxis": {
            "gridcolor": "white",
            "linecolor": "white",
            "ticks": ""
           }
          },
          "title": {
           "x": 0.05
          },
          "xaxis": {
           "automargin": true,
           "gridcolor": "white",
           "linecolor": "white",
           "ticks": "",
           "title": {
            "standoff": 15
           },
           "zerolinecolor": "white",
           "zerolinewidth": 2
          },
          "yaxis": {
           "automargin": true,
           "gridcolor": "white",
           "linecolor": "white",
           "ticks": "",
           "title": {
            "standoff": 15
           },
           "zerolinecolor": "white",
           "zerolinewidth": 2
          }
         }
        },
        "title": {
         "font": {
          "color": "#4D5663"
         }
        },
        "xaxis": {
         "gridcolor": "#E1E5ED",
         "showgrid": true,
         "tickfont": {
          "color": "#4D5663"
         },
         "title": {
          "font": {
           "color": "#4D5663"
          },
          "text": ""
         },
         "zerolinecolor": "#E1E5ED"
        },
        "yaxis": {
         "gridcolor": "#E1E5ED",
         "showgrid": true,
         "tickfont": {
          "color": "#4D5663"
         },
         "title": {
          "font": {
           "color": "#4D5663"
          },
          "text": ""
         },
         "zerolinecolor": "#E1E5ED"
        }
       }
      },
      "text/html": [
       "<div>                            <div id=\"e30ea615-8c53-4676-b91e-18faad548a68\" class=\"plotly-graph-div\" style=\"height:525px; width:100%;\"></div>            <script type=\"text/javascript\">                require([\"plotly\"], function(Plotly) {                    window.PLOTLYENV=window.PLOTLYENV || {};\n",
       "                    window.PLOTLYENV.BASE_URL='https://plot.ly';                                    if (document.getElementById(\"e30ea615-8c53-4676-b91e-18faad548a68\")) {                    Plotly.newPlot(                        \"e30ea615-8c53-4676-b91e-18faad548a68\",                        [{\"marker\":{\"color\":\"rgba(255, 153, 51, 0.6)\",\"line\":{\"color\":\"rgba(255, 153, 51, 1.0)\",\"width\":1}},\"name\":\"Values\",\"orientation\":\"v\",\"text\":\"\",\"x\":[\"A\",\"B\",\"C\"],\"y\":[32,43,50],\"type\":\"bar\"}],                        {\"legend\":{\"bgcolor\":\"#F5F6F9\",\"font\":{\"color\":\"#4D5663\"}},\"paper_bgcolor\":\"#F5F6F9\",\"plot_bgcolor\":\"#F5F6F9\",\"template\":{\"data\":{\"barpolar\":[{\"marker\":{\"line\":{\"color\":\"#E5ECF6\",\"width\":0.5},\"pattern\":{\"fillmode\":\"overlay\",\"size\":10,\"solidity\":0.2}},\"type\":\"barpolar\"}],\"bar\":[{\"error_x\":{\"color\":\"#2a3f5f\"},\"error_y\":{\"color\":\"#2a3f5f\"},\"marker\":{\"line\":{\"color\":\"#E5ECF6\",\"width\":0.5},\"pattern\":{\"fillmode\":\"overlay\",\"size\":10,\"solidity\":0.2}},\"type\":\"bar\"}],\"carpet\":[{\"aaxis\":{\"endlinecolor\":\"#2a3f5f\",\"gridcolor\":\"white\",\"linecolor\":\"white\",\"minorgridcolor\":\"white\",\"startlinecolor\":\"#2a3f5f\"},\"baxis\":{\"endlinecolor\":\"#2a3f5f\",\"gridcolor\":\"white\",\"linecolor\":\"white\",\"minorgridcolor\":\"white\",\"startlinecolor\":\"#2a3f5f\"},\"type\":\"carpet\"}],\"choropleth\":[{\"colorbar\":{\"outlinewidth\":0,\"ticks\":\"\"},\"type\":\"choropleth\"}],\"contourcarpet\":[{\"colorbar\":{\"outlinewidth\":0,\"ticks\":\"\"},\"type\":\"contourcarpet\"}],\"contour\":[{\"colorbar\":{\"outlinewidth\":0,\"ticks\":\"\"},\"colorscale\":[[0.0,\"#0d0887\"],[0.1111111111111111,\"#46039f\"],[0.2222222222222222,\"#7201a8\"],[0.3333333333333333,\"#9c179e\"],[0.4444444444444444,\"#bd3786\"],[0.5555555555555556,\"#d8576b\"],[0.6666666666666666,\"#ed7953\"],[0.7777777777777778,\"#fb9f3a\"],[0.8888888888888888,\"#fdca26\"],[1.0,\"#f0f921\"]],\"type\":\"contour\"}],\"heatmapgl\":[{\"colorbar\":{\"outlinewidth\":0,\"ticks\":\"\"},\"colorscale\":[[0.0,\"#0d0887\"],[0.1111111111111111,\"#46039f\"],[0.2222222222222222,\"#7201a8\"],[0.3333333333333333,\"#9c179e\"],[0.4444444444444444,\"#bd3786\"],[0.5555555555555556,\"#d8576b\"],[0.6666666666666666,\"#ed7953\"],[0.7777777777777778,\"#fb9f3a\"],[0.8888888888888888,\"#fdca26\"],[1.0,\"#f0f921\"]],\"type\":\"heatmapgl\"}],\"heatmap\":[{\"colorbar\":{\"outlinewidth\":0,\"ticks\":\"\"},\"colorscale\":[[0.0,\"#0d0887\"],[0.1111111111111111,\"#46039f\"],[0.2222222222222222,\"#7201a8\"],[0.3333333333333333,\"#9c179e\"],[0.4444444444444444,\"#bd3786\"],[0.5555555555555556,\"#d8576b\"],[0.6666666666666666,\"#ed7953\"],[0.7777777777777778,\"#fb9f3a\"],[0.8888888888888888,\"#fdca26\"],[1.0,\"#f0f921\"]],\"type\":\"heatmap\"}],\"histogram2dcontour\":[{\"colorbar\":{\"outlinewidth\":0,\"ticks\":\"\"},\"colorscale\":[[0.0,\"#0d0887\"],[0.1111111111111111,\"#46039f\"],[0.2222222222222222,\"#7201a8\"],[0.3333333333333333,\"#9c179e\"],[0.4444444444444444,\"#bd3786\"],[0.5555555555555556,\"#d8576b\"],[0.6666666666666666,\"#ed7953\"],[0.7777777777777778,\"#fb9f3a\"],[0.8888888888888888,\"#fdca26\"],[1.0,\"#f0f921\"]],\"type\":\"histogram2dcontour\"}],\"histogram2d\":[{\"colorbar\":{\"outlinewidth\":0,\"ticks\":\"\"},\"colorscale\":[[0.0,\"#0d0887\"],[0.1111111111111111,\"#46039f\"],[0.2222222222222222,\"#7201a8\"],[0.3333333333333333,\"#9c179e\"],[0.4444444444444444,\"#bd3786\"],[0.5555555555555556,\"#d8576b\"],[0.6666666666666666,\"#ed7953\"],[0.7777777777777778,\"#fb9f3a\"],[0.8888888888888888,\"#fdca26\"],[1.0,\"#f0f921\"]],\"type\":\"histogram2d\"}],\"histogram\":[{\"marker\":{\"pattern\":{\"fillmode\":\"overlay\",\"size\":10,\"solidity\":0.2}},\"type\":\"histogram\"}],\"mesh3d\":[{\"colorbar\":{\"outlinewidth\":0,\"ticks\":\"\"},\"type\":\"mesh3d\"}],\"parcoords\":[{\"line\":{\"colorbar\":{\"outlinewidth\":0,\"ticks\":\"\"}},\"type\":\"parcoords\"}],\"pie\":[{\"automargin\":true,\"type\":\"pie\"}],\"scatter3d\":[{\"line\":{\"colorbar\":{\"outlinewidth\":0,\"ticks\":\"\"}},\"marker\":{\"colorbar\":{\"outlinewidth\":0,\"ticks\":\"\"}},\"type\":\"scatter3d\"}],\"scattercarpet\":[{\"marker\":{\"colorbar\":{\"outlinewidth\":0,\"ticks\":\"\"}},\"type\":\"scattercarpet\"}],\"scattergeo\":[{\"marker\":{\"colorbar\":{\"outlinewidth\":0,\"ticks\":\"\"}},\"type\":\"scattergeo\"}],\"scattergl\":[{\"marker\":{\"colorbar\":{\"outlinewidth\":0,\"ticks\":\"\"}},\"type\":\"scattergl\"}],\"scattermapbox\":[{\"marker\":{\"colorbar\":{\"outlinewidth\":0,\"ticks\":\"\"}},\"type\":\"scattermapbox\"}],\"scatterpolargl\":[{\"marker\":{\"colorbar\":{\"outlinewidth\":0,\"ticks\":\"\"}},\"type\":\"scatterpolargl\"}],\"scatterpolar\":[{\"marker\":{\"colorbar\":{\"outlinewidth\":0,\"ticks\":\"\"}},\"type\":\"scatterpolar\"}],\"scatter\":[{\"marker\":{\"colorbar\":{\"outlinewidth\":0,\"ticks\":\"\"}},\"type\":\"scatter\"}],\"scatterternary\":[{\"marker\":{\"colorbar\":{\"outlinewidth\":0,\"ticks\":\"\"}},\"type\":\"scatterternary\"}],\"surface\":[{\"colorbar\":{\"outlinewidth\":0,\"ticks\":\"\"},\"colorscale\":[[0.0,\"#0d0887\"],[0.1111111111111111,\"#46039f\"],[0.2222222222222222,\"#7201a8\"],[0.3333333333333333,\"#9c179e\"],[0.4444444444444444,\"#bd3786\"],[0.5555555555555556,\"#d8576b\"],[0.6666666666666666,\"#ed7953\"],[0.7777777777777778,\"#fb9f3a\"],[0.8888888888888888,\"#fdca26\"],[1.0,\"#f0f921\"]],\"type\":\"surface\"}],\"table\":[{\"cells\":{\"fill\":{\"color\":\"#EBF0F8\"},\"line\":{\"color\":\"white\"}},\"header\":{\"fill\":{\"color\":\"#C8D4E3\"},\"line\":{\"color\":\"white\"}},\"type\":\"table\"}]},\"layout\":{\"annotationdefaults\":{\"arrowcolor\":\"#2a3f5f\",\"arrowhead\":0,\"arrowwidth\":1},\"autotypenumbers\":\"strict\",\"coloraxis\":{\"colorbar\":{\"outlinewidth\":0,\"ticks\":\"\"}},\"colorscale\":{\"diverging\":[[0,\"#8e0152\"],[0.1,\"#c51b7d\"],[0.2,\"#de77ae\"],[0.3,\"#f1b6da\"],[0.4,\"#fde0ef\"],[0.5,\"#f7f7f7\"],[0.6,\"#e6f5d0\"],[0.7,\"#b8e186\"],[0.8,\"#7fbc41\"],[0.9,\"#4d9221\"],[1,\"#276419\"]],\"sequential\":[[0.0,\"#0d0887\"],[0.1111111111111111,\"#46039f\"],[0.2222222222222222,\"#7201a8\"],[0.3333333333333333,\"#9c179e\"],[0.4444444444444444,\"#bd3786\"],[0.5555555555555556,\"#d8576b\"],[0.6666666666666666,\"#ed7953\"],[0.7777777777777778,\"#fb9f3a\"],[0.8888888888888888,\"#fdca26\"],[1.0,\"#f0f921\"]],\"sequentialminus\":[[0.0,\"#0d0887\"],[0.1111111111111111,\"#46039f\"],[0.2222222222222222,\"#7201a8\"],[0.3333333333333333,\"#9c179e\"],[0.4444444444444444,\"#bd3786\"],[0.5555555555555556,\"#d8576b\"],[0.6666666666666666,\"#ed7953\"],[0.7777777777777778,\"#fb9f3a\"],[0.8888888888888888,\"#fdca26\"],[1.0,\"#f0f921\"]]},\"colorway\":[\"#636efa\",\"#EF553B\",\"#00cc96\",\"#ab63fa\",\"#FFA15A\",\"#19d3f3\",\"#FF6692\",\"#B6E880\",\"#FF97FF\",\"#FECB52\"],\"font\":{\"color\":\"#2a3f5f\"},\"geo\":{\"bgcolor\":\"white\",\"lakecolor\":\"white\",\"landcolor\":\"#E5ECF6\",\"showlakes\":true,\"showland\":true,\"subunitcolor\":\"white\"},\"hoverlabel\":{\"align\":\"left\"},\"hovermode\":\"closest\",\"mapbox\":{\"style\":\"light\"},\"paper_bgcolor\":\"white\",\"plot_bgcolor\":\"#E5ECF6\",\"polar\":{\"angularaxis\":{\"gridcolor\":\"white\",\"linecolor\":\"white\",\"ticks\":\"\"},\"bgcolor\":\"#E5ECF6\",\"radialaxis\":{\"gridcolor\":\"white\",\"linecolor\":\"white\",\"ticks\":\"\"}},\"scene\":{\"xaxis\":{\"backgroundcolor\":\"#E5ECF6\",\"gridcolor\":\"white\",\"gridwidth\":2,\"linecolor\":\"white\",\"showbackground\":true,\"ticks\":\"\",\"zerolinecolor\":\"white\"},\"yaxis\":{\"backgroundcolor\":\"#E5ECF6\",\"gridcolor\":\"white\",\"gridwidth\":2,\"linecolor\":\"white\",\"showbackground\":true,\"ticks\":\"\",\"zerolinecolor\":\"white\"},\"zaxis\":{\"backgroundcolor\":\"#E5ECF6\",\"gridcolor\":\"white\",\"gridwidth\":2,\"linecolor\":\"white\",\"showbackground\":true,\"ticks\":\"\",\"zerolinecolor\":\"white\"}},\"shapedefaults\":{\"line\":{\"color\":\"#2a3f5f\"}},\"ternary\":{\"aaxis\":{\"gridcolor\":\"white\",\"linecolor\":\"white\",\"ticks\":\"\"},\"baxis\":{\"gridcolor\":\"white\",\"linecolor\":\"white\",\"ticks\":\"\"},\"bgcolor\":\"#E5ECF6\",\"caxis\":{\"gridcolor\":\"white\",\"linecolor\":\"white\",\"ticks\":\"\"}},\"title\":{\"x\":0.05},\"xaxis\":{\"automargin\":true,\"gridcolor\":\"white\",\"linecolor\":\"white\",\"ticks\":\"\",\"title\":{\"standoff\":15},\"zerolinecolor\":\"white\",\"zerolinewidth\":2},\"yaxis\":{\"automargin\":true,\"gridcolor\":\"white\",\"linecolor\":\"white\",\"ticks\":\"\",\"title\":{\"standoff\":15},\"zerolinecolor\":\"white\",\"zerolinewidth\":2}}},\"title\":{\"font\":{\"color\":\"#4D5663\"}},\"xaxis\":{\"gridcolor\":\"#E1E5ED\",\"showgrid\":true,\"tickfont\":{\"color\":\"#4D5663\"},\"title\":{\"font\":{\"color\":\"#4D5663\"},\"text\":\"\"},\"zerolinecolor\":\"#E1E5ED\"},\"yaxis\":{\"gridcolor\":\"#E1E5ED\",\"showgrid\":true,\"tickfont\":{\"color\":\"#4D5663\"},\"title\":{\"font\":{\"color\":\"#4D5663\"},\"text\":\"\"},\"zerolinecolor\":\"#E1E5ED\"}},                        {\"showLink\": true, \"linkText\": \"Export to plot.ly\", \"plotlyServerURL\": \"https://plot.ly\", \"responsive\": true}                    ).then(function(){\n",
       "                            \n",
       "var gd = document.getElementById('e30ea615-8c53-4676-b91e-18faad548a68');\n",
       "var x = new MutationObserver(function (mutations, observer) {{\n",
       "        var display = window.getComputedStyle(gd).display;\n",
       "        if (!display || display === 'none') {{\n",
       "            console.log([gd, 'removed!']);\n",
       "            Plotly.purge(gd);\n",
       "            observer.disconnect();\n",
       "        }}\n",
       "}});\n",
       "\n",
       "// Listen for the removal of the full notebook cells\n",
       "var notebookContainer = gd.closest('#notebook-container');\n",
       "if (notebookContainer) {{\n",
       "    x.observe(notebookContainer, {childList: true});\n",
       "}}\n",
       "\n",
       "// Listen for the clearing of the current output cell\n",
       "var outputEl = gd.closest('.output');\n",
       "if (outputEl) {{\n",
       "    x.observe(outputEl, {childList: true});\n",
       "}}\n",
       "\n",
       "                        })                };                });            </script>        </div>"
      ]
     },
     "metadata": {},
     "output_type": "display_data"
    }
   ],
   "source": [
    "df2.iplot(kind='bar',x='Category',y='Values')"
   ]
  },
  {
   "cell_type": "code",
   "execution_count": 12,
   "metadata": {},
   "outputs": [
    {
     "data": {
      "application/vnd.plotly.v1+json": {
       "config": {
        "linkText": "Export to plot.ly",
        "plotlyServerURL": "https://plot.ly",
        "showLink": true
       },
       "data": [
        {
         "marker": {
          "color": "rgba(255, 153, 51, 0.6)",
          "line": {
           "color": "rgba(255, 153, 51, 1.0)",
           "width": 1
          }
         },
         "name": "None",
         "orientation": "v",
         "text": "",
         "type": "bar",
         "x": [
          "A",
          "B",
          "C",
          "D"
         ],
         "y": [
          100,
          100,
          100,
          100
         ]
        }
       ],
       "layout": {
        "legend": {
         "bgcolor": "#F5F6F9",
         "font": {
          "color": "#4D5663"
         }
        },
        "paper_bgcolor": "#F5F6F9",
        "plot_bgcolor": "#F5F6F9",
        "template": {
         "data": {
          "bar": [
           {
            "error_x": {
             "color": "#2a3f5f"
            },
            "error_y": {
             "color": "#2a3f5f"
            },
            "marker": {
             "line": {
              "color": "#E5ECF6",
              "width": 0.5
             },
             "pattern": {
              "fillmode": "overlay",
              "size": 10,
              "solidity": 0.2
             }
            },
            "type": "bar"
           }
          ],
          "barpolar": [
           {
            "marker": {
             "line": {
              "color": "#E5ECF6",
              "width": 0.5
             },
             "pattern": {
              "fillmode": "overlay",
              "size": 10,
              "solidity": 0.2
             }
            },
            "type": "barpolar"
           }
          ],
          "carpet": [
           {
            "aaxis": {
             "endlinecolor": "#2a3f5f",
             "gridcolor": "white",
             "linecolor": "white",
             "minorgridcolor": "white",
             "startlinecolor": "#2a3f5f"
            },
            "baxis": {
             "endlinecolor": "#2a3f5f",
             "gridcolor": "white",
             "linecolor": "white",
             "minorgridcolor": "white",
             "startlinecolor": "#2a3f5f"
            },
            "type": "carpet"
           }
          ],
          "choropleth": [
           {
            "colorbar": {
             "outlinewidth": 0,
             "ticks": ""
            },
            "type": "choropleth"
           }
          ],
          "contour": [
           {
            "colorbar": {
             "outlinewidth": 0,
             "ticks": ""
            },
            "colorscale": [
             [
              0,
              "#0d0887"
             ],
             [
              0.1111111111111111,
              "#46039f"
             ],
             [
              0.2222222222222222,
              "#7201a8"
             ],
             [
              0.3333333333333333,
              "#9c179e"
             ],
             [
              0.4444444444444444,
              "#bd3786"
             ],
             [
              0.5555555555555556,
              "#d8576b"
             ],
             [
              0.6666666666666666,
              "#ed7953"
             ],
             [
              0.7777777777777778,
              "#fb9f3a"
             ],
             [
              0.8888888888888888,
              "#fdca26"
             ],
             [
              1,
              "#f0f921"
             ]
            ],
            "type": "contour"
           }
          ],
          "contourcarpet": [
           {
            "colorbar": {
             "outlinewidth": 0,
             "ticks": ""
            },
            "type": "contourcarpet"
           }
          ],
          "heatmap": [
           {
            "colorbar": {
             "outlinewidth": 0,
             "ticks": ""
            },
            "colorscale": [
             [
              0,
              "#0d0887"
             ],
             [
              0.1111111111111111,
              "#46039f"
             ],
             [
              0.2222222222222222,
              "#7201a8"
             ],
             [
              0.3333333333333333,
              "#9c179e"
             ],
             [
              0.4444444444444444,
              "#bd3786"
             ],
             [
              0.5555555555555556,
              "#d8576b"
             ],
             [
              0.6666666666666666,
              "#ed7953"
             ],
             [
              0.7777777777777778,
              "#fb9f3a"
             ],
             [
              0.8888888888888888,
              "#fdca26"
             ],
             [
              1,
              "#f0f921"
             ]
            ],
            "type": "heatmap"
           }
          ],
          "heatmapgl": [
           {
            "colorbar": {
             "outlinewidth": 0,
             "ticks": ""
            },
            "colorscale": [
             [
              0,
              "#0d0887"
             ],
             [
              0.1111111111111111,
              "#46039f"
             ],
             [
              0.2222222222222222,
              "#7201a8"
             ],
             [
              0.3333333333333333,
              "#9c179e"
             ],
             [
              0.4444444444444444,
              "#bd3786"
             ],
             [
              0.5555555555555556,
              "#d8576b"
             ],
             [
              0.6666666666666666,
              "#ed7953"
             ],
             [
              0.7777777777777778,
              "#fb9f3a"
             ],
             [
              0.8888888888888888,
              "#fdca26"
             ],
             [
              1,
              "#f0f921"
             ]
            ],
            "type": "heatmapgl"
           }
          ],
          "histogram": [
           {
            "marker": {
             "pattern": {
              "fillmode": "overlay",
              "size": 10,
              "solidity": 0.2
             }
            },
            "type": "histogram"
           }
          ],
          "histogram2d": [
           {
            "colorbar": {
             "outlinewidth": 0,
             "ticks": ""
            },
            "colorscale": [
             [
              0,
              "#0d0887"
             ],
             [
              0.1111111111111111,
              "#46039f"
             ],
             [
              0.2222222222222222,
              "#7201a8"
             ],
             [
              0.3333333333333333,
              "#9c179e"
             ],
             [
              0.4444444444444444,
              "#bd3786"
             ],
             [
              0.5555555555555556,
              "#d8576b"
             ],
             [
              0.6666666666666666,
              "#ed7953"
             ],
             [
              0.7777777777777778,
              "#fb9f3a"
             ],
             [
              0.8888888888888888,
              "#fdca26"
             ],
             [
              1,
              "#f0f921"
             ]
            ],
            "type": "histogram2d"
           }
          ],
          "histogram2dcontour": [
           {
            "colorbar": {
             "outlinewidth": 0,
             "ticks": ""
            },
            "colorscale": [
             [
              0,
              "#0d0887"
             ],
             [
              0.1111111111111111,
              "#46039f"
             ],
             [
              0.2222222222222222,
              "#7201a8"
             ],
             [
              0.3333333333333333,
              "#9c179e"
             ],
             [
              0.4444444444444444,
              "#bd3786"
             ],
             [
              0.5555555555555556,
              "#d8576b"
             ],
             [
              0.6666666666666666,
              "#ed7953"
             ],
             [
              0.7777777777777778,
              "#fb9f3a"
             ],
             [
              0.8888888888888888,
              "#fdca26"
             ],
             [
              1,
              "#f0f921"
             ]
            ],
            "type": "histogram2dcontour"
           }
          ],
          "mesh3d": [
           {
            "colorbar": {
             "outlinewidth": 0,
             "ticks": ""
            },
            "type": "mesh3d"
           }
          ],
          "parcoords": [
           {
            "line": {
             "colorbar": {
              "outlinewidth": 0,
              "ticks": ""
             }
            },
            "type": "parcoords"
           }
          ],
          "pie": [
           {
            "automargin": true,
            "type": "pie"
           }
          ],
          "scatter": [
           {
            "marker": {
             "colorbar": {
              "outlinewidth": 0,
              "ticks": ""
             }
            },
            "type": "scatter"
           }
          ],
          "scatter3d": [
           {
            "line": {
             "colorbar": {
              "outlinewidth": 0,
              "ticks": ""
             }
            },
            "marker": {
             "colorbar": {
              "outlinewidth": 0,
              "ticks": ""
             }
            },
            "type": "scatter3d"
           }
          ],
          "scattercarpet": [
           {
            "marker": {
             "colorbar": {
              "outlinewidth": 0,
              "ticks": ""
             }
            },
            "type": "scattercarpet"
           }
          ],
          "scattergeo": [
           {
            "marker": {
             "colorbar": {
              "outlinewidth": 0,
              "ticks": ""
             }
            },
            "type": "scattergeo"
           }
          ],
          "scattergl": [
           {
            "marker": {
             "colorbar": {
              "outlinewidth": 0,
              "ticks": ""
             }
            },
            "type": "scattergl"
           }
          ],
          "scattermapbox": [
           {
            "marker": {
             "colorbar": {
              "outlinewidth": 0,
              "ticks": ""
             }
            },
            "type": "scattermapbox"
           }
          ],
          "scatterpolar": [
           {
            "marker": {
             "colorbar": {
              "outlinewidth": 0,
              "ticks": ""
             }
            },
            "type": "scatterpolar"
           }
          ],
          "scatterpolargl": [
           {
            "marker": {
             "colorbar": {
              "outlinewidth": 0,
              "ticks": ""
             }
            },
            "type": "scatterpolargl"
           }
          ],
          "scatterternary": [
           {
            "marker": {
             "colorbar": {
              "outlinewidth": 0,
              "ticks": ""
             }
            },
            "type": "scatterternary"
           }
          ],
          "surface": [
           {
            "colorbar": {
             "outlinewidth": 0,
             "ticks": ""
            },
            "colorscale": [
             [
              0,
              "#0d0887"
             ],
             [
              0.1111111111111111,
              "#46039f"
             ],
             [
              0.2222222222222222,
              "#7201a8"
             ],
             [
              0.3333333333333333,
              "#9c179e"
             ],
             [
              0.4444444444444444,
              "#bd3786"
             ],
             [
              0.5555555555555556,
              "#d8576b"
             ],
             [
              0.6666666666666666,
              "#ed7953"
             ],
             [
              0.7777777777777778,
              "#fb9f3a"
             ],
             [
              0.8888888888888888,
              "#fdca26"
             ],
             [
              1,
              "#f0f921"
             ]
            ],
            "type": "surface"
           }
          ],
          "table": [
           {
            "cells": {
             "fill": {
              "color": "#EBF0F8"
             },
             "line": {
              "color": "white"
             }
            },
            "header": {
             "fill": {
              "color": "#C8D4E3"
             },
             "line": {
              "color": "white"
             }
            },
            "type": "table"
           }
          ]
         },
         "layout": {
          "annotationdefaults": {
           "arrowcolor": "#2a3f5f",
           "arrowhead": 0,
           "arrowwidth": 1
          },
          "autotypenumbers": "strict",
          "coloraxis": {
           "colorbar": {
            "outlinewidth": 0,
            "ticks": ""
           }
          },
          "colorscale": {
           "diverging": [
            [
             0,
             "#8e0152"
            ],
            [
             0.1,
             "#c51b7d"
            ],
            [
             0.2,
             "#de77ae"
            ],
            [
             0.3,
             "#f1b6da"
            ],
            [
             0.4,
             "#fde0ef"
            ],
            [
             0.5,
             "#f7f7f7"
            ],
            [
             0.6,
             "#e6f5d0"
            ],
            [
             0.7,
             "#b8e186"
            ],
            [
             0.8,
             "#7fbc41"
            ],
            [
             0.9,
             "#4d9221"
            ],
            [
             1,
             "#276419"
            ]
           ],
           "sequential": [
            [
             0,
             "#0d0887"
            ],
            [
             0.1111111111111111,
             "#46039f"
            ],
            [
             0.2222222222222222,
             "#7201a8"
            ],
            [
             0.3333333333333333,
             "#9c179e"
            ],
            [
             0.4444444444444444,
             "#bd3786"
            ],
            [
             0.5555555555555556,
             "#d8576b"
            ],
            [
             0.6666666666666666,
             "#ed7953"
            ],
            [
             0.7777777777777778,
             "#fb9f3a"
            ],
            [
             0.8888888888888888,
             "#fdca26"
            ],
            [
             1,
             "#f0f921"
            ]
           ],
           "sequentialminus": [
            [
             0,
             "#0d0887"
            ],
            [
             0.1111111111111111,
             "#46039f"
            ],
            [
             0.2222222222222222,
             "#7201a8"
            ],
            [
             0.3333333333333333,
             "#9c179e"
            ],
            [
             0.4444444444444444,
             "#bd3786"
            ],
            [
             0.5555555555555556,
             "#d8576b"
            ],
            [
             0.6666666666666666,
             "#ed7953"
            ],
            [
             0.7777777777777778,
             "#fb9f3a"
            ],
            [
             0.8888888888888888,
             "#fdca26"
            ],
            [
             1,
             "#f0f921"
            ]
           ]
          },
          "colorway": [
           "#636efa",
           "#EF553B",
           "#00cc96",
           "#ab63fa",
           "#FFA15A",
           "#19d3f3",
           "#FF6692",
           "#B6E880",
           "#FF97FF",
           "#FECB52"
          ],
          "font": {
           "color": "#2a3f5f"
          },
          "geo": {
           "bgcolor": "white",
           "lakecolor": "white",
           "landcolor": "#E5ECF6",
           "showlakes": true,
           "showland": true,
           "subunitcolor": "white"
          },
          "hoverlabel": {
           "align": "left"
          },
          "hovermode": "closest",
          "mapbox": {
           "style": "light"
          },
          "paper_bgcolor": "white",
          "plot_bgcolor": "#E5ECF6",
          "polar": {
           "angularaxis": {
            "gridcolor": "white",
            "linecolor": "white",
            "ticks": ""
           },
           "bgcolor": "#E5ECF6",
           "radialaxis": {
            "gridcolor": "white",
            "linecolor": "white",
            "ticks": ""
           }
          },
          "scene": {
           "xaxis": {
            "backgroundcolor": "#E5ECF6",
            "gridcolor": "white",
            "gridwidth": 2,
            "linecolor": "white",
            "showbackground": true,
            "ticks": "",
            "zerolinecolor": "white"
           },
           "yaxis": {
            "backgroundcolor": "#E5ECF6",
            "gridcolor": "white",
            "gridwidth": 2,
            "linecolor": "white",
            "showbackground": true,
            "ticks": "",
            "zerolinecolor": "white"
           },
           "zaxis": {
            "backgroundcolor": "#E5ECF6",
            "gridcolor": "white",
            "gridwidth": 2,
            "linecolor": "white",
            "showbackground": true,
            "ticks": "",
            "zerolinecolor": "white"
           }
          },
          "shapedefaults": {
           "line": {
            "color": "#2a3f5f"
           }
          },
          "ternary": {
           "aaxis": {
            "gridcolor": "white",
            "linecolor": "white",
            "ticks": ""
           },
           "baxis": {
            "gridcolor": "white",
            "linecolor": "white",
            "ticks": ""
           },
           "bgcolor": "#E5ECF6",
           "caxis": {
            "gridcolor": "white",
            "linecolor": "white",
            "ticks": ""
           }
          },
          "title": {
           "x": 0.05
          },
          "xaxis": {
           "automargin": true,
           "gridcolor": "white",
           "linecolor": "white",
           "ticks": "",
           "title": {
            "standoff": 15
           },
           "zerolinecolor": "white",
           "zerolinewidth": 2
          },
          "yaxis": {
           "automargin": true,
           "gridcolor": "white",
           "linecolor": "white",
           "ticks": "",
           "title": {
            "standoff": 15
           },
           "zerolinecolor": "white",
           "zerolinewidth": 2
          }
         }
        },
        "title": {
         "font": {
          "color": "#4D5663"
         }
        },
        "xaxis": {
         "gridcolor": "#E1E5ED",
         "showgrid": true,
         "tickfont": {
          "color": "#4D5663"
         },
         "title": {
          "font": {
           "color": "#4D5663"
          },
          "text": ""
         },
         "zerolinecolor": "#E1E5ED"
        },
        "yaxis": {
         "gridcolor": "#E1E5ED",
         "showgrid": true,
         "tickfont": {
          "color": "#4D5663"
         },
         "title": {
          "font": {
           "color": "#4D5663"
          },
          "text": ""
         },
         "zerolinecolor": "#E1E5ED"
        }
       }
      },
      "text/html": [
       "<div>                            <div id=\"cd3012c4-cb78-4c48-b404-15f8c2b90c17\" class=\"plotly-graph-div\" style=\"height:525px; width:100%;\"></div>            <script type=\"text/javascript\">                require([\"plotly\"], function(Plotly) {                    window.PLOTLYENV=window.PLOTLYENV || {};\n",
       "                    window.PLOTLYENV.BASE_URL='https://plot.ly';                                    if (document.getElementById(\"cd3012c4-cb78-4c48-b404-15f8c2b90c17\")) {                    Plotly.newPlot(                        \"cd3012c4-cb78-4c48-b404-15f8c2b90c17\",                        [{\"marker\":{\"color\":\"rgba(255, 153, 51, 0.6)\",\"line\":{\"color\":\"rgba(255, 153, 51, 1.0)\",\"width\":1}},\"name\":\"None\",\"orientation\":\"v\",\"text\":\"\",\"x\":[\"A\",\"B\",\"C\",\"D\"],\"y\":[100,100,100,100],\"type\":\"bar\"}],                        {\"legend\":{\"bgcolor\":\"#F5F6F9\",\"font\":{\"color\":\"#4D5663\"}},\"paper_bgcolor\":\"#F5F6F9\",\"plot_bgcolor\":\"#F5F6F9\",\"template\":{\"data\":{\"barpolar\":[{\"marker\":{\"line\":{\"color\":\"#E5ECF6\",\"width\":0.5},\"pattern\":{\"fillmode\":\"overlay\",\"size\":10,\"solidity\":0.2}},\"type\":\"barpolar\"}],\"bar\":[{\"error_x\":{\"color\":\"#2a3f5f\"},\"error_y\":{\"color\":\"#2a3f5f\"},\"marker\":{\"line\":{\"color\":\"#E5ECF6\",\"width\":0.5},\"pattern\":{\"fillmode\":\"overlay\",\"size\":10,\"solidity\":0.2}},\"type\":\"bar\"}],\"carpet\":[{\"aaxis\":{\"endlinecolor\":\"#2a3f5f\",\"gridcolor\":\"white\",\"linecolor\":\"white\",\"minorgridcolor\":\"white\",\"startlinecolor\":\"#2a3f5f\"},\"baxis\":{\"endlinecolor\":\"#2a3f5f\",\"gridcolor\":\"white\",\"linecolor\":\"white\",\"minorgridcolor\":\"white\",\"startlinecolor\":\"#2a3f5f\"},\"type\":\"carpet\"}],\"choropleth\":[{\"colorbar\":{\"outlinewidth\":0,\"ticks\":\"\"},\"type\":\"choropleth\"}],\"contourcarpet\":[{\"colorbar\":{\"outlinewidth\":0,\"ticks\":\"\"},\"type\":\"contourcarpet\"}],\"contour\":[{\"colorbar\":{\"outlinewidth\":0,\"ticks\":\"\"},\"colorscale\":[[0.0,\"#0d0887\"],[0.1111111111111111,\"#46039f\"],[0.2222222222222222,\"#7201a8\"],[0.3333333333333333,\"#9c179e\"],[0.4444444444444444,\"#bd3786\"],[0.5555555555555556,\"#d8576b\"],[0.6666666666666666,\"#ed7953\"],[0.7777777777777778,\"#fb9f3a\"],[0.8888888888888888,\"#fdca26\"],[1.0,\"#f0f921\"]],\"type\":\"contour\"}],\"heatmapgl\":[{\"colorbar\":{\"outlinewidth\":0,\"ticks\":\"\"},\"colorscale\":[[0.0,\"#0d0887\"],[0.1111111111111111,\"#46039f\"],[0.2222222222222222,\"#7201a8\"],[0.3333333333333333,\"#9c179e\"],[0.4444444444444444,\"#bd3786\"],[0.5555555555555556,\"#d8576b\"],[0.6666666666666666,\"#ed7953\"],[0.7777777777777778,\"#fb9f3a\"],[0.8888888888888888,\"#fdca26\"],[1.0,\"#f0f921\"]],\"type\":\"heatmapgl\"}],\"heatmap\":[{\"colorbar\":{\"outlinewidth\":0,\"ticks\":\"\"},\"colorscale\":[[0.0,\"#0d0887\"],[0.1111111111111111,\"#46039f\"],[0.2222222222222222,\"#7201a8\"],[0.3333333333333333,\"#9c179e\"],[0.4444444444444444,\"#bd3786\"],[0.5555555555555556,\"#d8576b\"],[0.6666666666666666,\"#ed7953\"],[0.7777777777777778,\"#fb9f3a\"],[0.8888888888888888,\"#fdca26\"],[1.0,\"#f0f921\"]],\"type\":\"heatmap\"}],\"histogram2dcontour\":[{\"colorbar\":{\"outlinewidth\":0,\"ticks\":\"\"},\"colorscale\":[[0.0,\"#0d0887\"],[0.1111111111111111,\"#46039f\"],[0.2222222222222222,\"#7201a8\"],[0.3333333333333333,\"#9c179e\"],[0.4444444444444444,\"#bd3786\"],[0.5555555555555556,\"#d8576b\"],[0.6666666666666666,\"#ed7953\"],[0.7777777777777778,\"#fb9f3a\"],[0.8888888888888888,\"#fdca26\"],[1.0,\"#f0f921\"]],\"type\":\"histogram2dcontour\"}],\"histogram2d\":[{\"colorbar\":{\"outlinewidth\":0,\"ticks\":\"\"},\"colorscale\":[[0.0,\"#0d0887\"],[0.1111111111111111,\"#46039f\"],[0.2222222222222222,\"#7201a8\"],[0.3333333333333333,\"#9c179e\"],[0.4444444444444444,\"#bd3786\"],[0.5555555555555556,\"#d8576b\"],[0.6666666666666666,\"#ed7953\"],[0.7777777777777778,\"#fb9f3a\"],[0.8888888888888888,\"#fdca26\"],[1.0,\"#f0f921\"]],\"type\":\"histogram2d\"}],\"histogram\":[{\"marker\":{\"pattern\":{\"fillmode\":\"overlay\",\"size\":10,\"solidity\":0.2}},\"type\":\"histogram\"}],\"mesh3d\":[{\"colorbar\":{\"outlinewidth\":0,\"ticks\":\"\"},\"type\":\"mesh3d\"}],\"parcoords\":[{\"line\":{\"colorbar\":{\"outlinewidth\":0,\"ticks\":\"\"}},\"type\":\"parcoords\"}],\"pie\":[{\"automargin\":true,\"type\":\"pie\"}],\"scatter3d\":[{\"line\":{\"colorbar\":{\"outlinewidth\":0,\"ticks\":\"\"}},\"marker\":{\"colorbar\":{\"outlinewidth\":0,\"ticks\":\"\"}},\"type\":\"scatter3d\"}],\"scattercarpet\":[{\"marker\":{\"colorbar\":{\"outlinewidth\":0,\"ticks\":\"\"}},\"type\":\"scattercarpet\"}],\"scattergeo\":[{\"marker\":{\"colorbar\":{\"outlinewidth\":0,\"ticks\":\"\"}},\"type\":\"scattergeo\"}],\"scattergl\":[{\"marker\":{\"colorbar\":{\"outlinewidth\":0,\"ticks\":\"\"}},\"type\":\"scattergl\"}],\"scattermapbox\":[{\"marker\":{\"colorbar\":{\"outlinewidth\":0,\"ticks\":\"\"}},\"type\":\"scattermapbox\"}],\"scatterpolargl\":[{\"marker\":{\"colorbar\":{\"outlinewidth\":0,\"ticks\":\"\"}},\"type\":\"scatterpolargl\"}],\"scatterpolar\":[{\"marker\":{\"colorbar\":{\"outlinewidth\":0,\"ticks\":\"\"}},\"type\":\"scatterpolar\"}],\"scatter\":[{\"marker\":{\"colorbar\":{\"outlinewidth\":0,\"ticks\":\"\"}},\"type\":\"scatter\"}],\"scatterternary\":[{\"marker\":{\"colorbar\":{\"outlinewidth\":0,\"ticks\":\"\"}},\"type\":\"scatterternary\"}],\"surface\":[{\"colorbar\":{\"outlinewidth\":0,\"ticks\":\"\"},\"colorscale\":[[0.0,\"#0d0887\"],[0.1111111111111111,\"#46039f\"],[0.2222222222222222,\"#7201a8\"],[0.3333333333333333,\"#9c179e\"],[0.4444444444444444,\"#bd3786\"],[0.5555555555555556,\"#d8576b\"],[0.6666666666666666,\"#ed7953\"],[0.7777777777777778,\"#fb9f3a\"],[0.8888888888888888,\"#fdca26\"],[1.0,\"#f0f921\"]],\"type\":\"surface\"}],\"table\":[{\"cells\":{\"fill\":{\"color\":\"#EBF0F8\"},\"line\":{\"color\":\"white\"}},\"header\":{\"fill\":{\"color\":\"#C8D4E3\"},\"line\":{\"color\":\"white\"}},\"type\":\"table\"}]},\"layout\":{\"annotationdefaults\":{\"arrowcolor\":\"#2a3f5f\",\"arrowhead\":0,\"arrowwidth\":1},\"autotypenumbers\":\"strict\",\"coloraxis\":{\"colorbar\":{\"outlinewidth\":0,\"ticks\":\"\"}},\"colorscale\":{\"diverging\":[[0,\"#8e0152\"],[0.1,\"#c51b7d\"],[0.2,\"#de77ae\"],[0.3,\"#f1b6da\"],[0.4,\"#fde0ef\"],[0.5,\"#f7f7f7\"],[0.6,\"#e6f5d0\"],[0.7,\"#b8e186\"],[0.8,\"#7fbc41\"],[0.9,\"#4d9221\"],[1,\"#276419\"]],\"sequential\":[[0.0,\"#0d0887\"],[0.1111111111111111,\"#46039f\"],[0.2222222222222222,\"#7201a8\"],[0.3333333333333333,\"#9c179e\"],[0.4444444444444444,\"#bd3786\"],[0.5555555555555556,\"#d8576b\"],[0.6666666666666666,\"#ed7953\"],[0.7777777777777778,\"#fb9f3a\"],[0.8888888888888888,\"#fdca26\"],[1.0,\"#f0f921\"]],\"sequentialminus\":[[0.0,\"#0d0887\"],[0.1111111111111111,\"#46039f\"],[0.2222222222222222,\"#7201a8\"],[0.3333333333333333,\"#9c179e\"],[0.4444444444444444,\"#bd3786\"],[0.5555555555555556,\"#d8576b\"],[0.6666666666666666,\"#ed7953\"],[0.7777777777777778,\"#fb9f3a\"],[0.8888888888888888,\"#fdca26\"],[1.0,\"#f0f921\"]]},\"colorway\":[\"#636efa\",\"#EF553B\",\"#00cc96\",\"#ab63fa\",\"#FFA15A\",\"#19d3f3\",\"#FF6692\",\"#B6E880\",\"#FF97FF\",\"#FECB52\"],\"font\":{\"color\":\"#2a3f5f\"},\"geo\":{\"bgcolor\":\"white\",\"lakecolor\":\"white\",\"landcolor\":\"#E5ECF6\",\"showlakes\":true,\"showland\":true,\"subunitcolor\":\"white\"},\"hoverlabel\":{\"align\":\"left\"},\"hovermode\":\"closest\",\"mapbox\":{\"style\":\"light\"},\"paper_bgcolor\":\"white\",\"plot_bgcolor\":\"#E5ECF6\",\"polar\":{\"angularaxis\":{\"gridcolor\":\"white\",\"linecolor\":\"white\",\"ticks\":\"\"},\"bgcolor\":\"#E5ECF6\",\"radialaxis\":{\"gridcolor\":\"white\",\"linecolor\":\"white\",\"ticks\":\"\"}},\"scene\":{\"xaxis\":{\"backgroundcolor\":\"#E5ECF6\",\"gridcolor\":\"white\",\"gridwidth\":2,\"linecolor\":\"white\",\"showbackground\":true,\"ticks\":\"\",\"zerolinecolor\":\"white\"},\"yaxis\":{\"backgroundcolor\":\"#E5ECF6\",\"gridcolor\":\"white\",\"gridwidth\":2,\"linecolor\":\"white\",\"showbackground\":true,\"ticks\":\"\",\"zerolinecolor\":\"white\"},\"zaxis\":{\"backgroundcolor\":\"#E5ECF6\",\"gridcolor\":\"white\",\"gridwidth\":2,\"linecolor\":\"white\",\"showbackground\":true,\"ticks\":\"\",\"zerolinecolor\":\"white\"}},\"shapedefaults\":{\"line\":{\"color\":\"#2a3f5f\"}},\"ternary\":{\"aaxis\":{\"gridcolor\":\"white\",\"linecolor\":\"white\",\"ticks\":\"\"},\"baxis\":{\"gridcolor\":\"white\",\"linecolor\":\"white\",\"ticks\":\"\"},\"bgcolor\":\"#E5ECF6\",\"caxis\":{\"gridcolor\":\"white\",\"linecolor\":\"white\",\"ticks\":\"\"}},\"title\":{\"x\":0.05},\"xaxis\":{\"automargin\":true,\"gridcolor\":\"white\",\"linecolor\":\"white\",\"ticks\":\"\",\"title\":{\"standoff\":15},\"zerolinecolor\":\"white\",\"zerolinewidth\":2},\"yaxis\":{\"automargin\":true,\"gridcolor\":\"white\",\"linecolor\":\"white\",\"ticks\":\"\",\"title\":{\"standoff\":15},\"zerolinecolor\":\"white\",\"zerolinewidth\":2}}},\"title\":{\"font\":{\"color\":\"#4D5663\"}},\"xaxis\":{\"gridcolor\":\"#E1E5ED\",\"showgrid\":true,\"tickfont\":{\"color\":\"#4D5663\"},\"title\":{\"font\":{\"color\":\"#4D5663\"},\"text\":\"\"},\"zerolinecolor\":\"#E1E5ED\"},\"yaxis\":{\"gridcolor\":\"#E1E5ED\",\"showgrid\":true,\"tickfont\":{\"color\":\"#4D5663\"},\"title\":{\"font\":{\"color\":\"#4D5663\"},\"text\":\"\"},\"zerolinecolor\":\"#E1E5ED\"}},                        {\"showLink\": true, \"linkText\": \"Export to plot.ly\", \"plotlyServerURL\": \"https://plot.ly\", \"responsive\": true}                    ).then(function(){\n",
       "                            \n",
       "var gd = document.getElementById('cd3012c4-cb78-4c48-b404-15f8c2b90c17');\n",
       "var x = new MutationObserver(function (mutations, observer) {{\n",
       "        var display = window.getComputedStyle(gd).display;\n",
       "        if (!display || display === 'none') {{\n",
       "            console.log([gd, 'removed!']);\n",
       "            Plotly.purge(gd);\n",
       "            observer.disconnect();\n",
       "        }}\n",
       "}});\n",
       "\n",
       "// Listen for the removal of the full notebook cells\n",
       "var notebookContainer = gd.closest('#notebook-container');\n",
       "if (notebookContainer) {{\n",
       "    x.observe(notebookContainer, {childList: true});\n",
       "}}\n",
       "\n",
       "// Listen for the clearing of the current output cell\n",
       "var outputEl = gd.closest('.output');\n",
       "if (outputEl) {{\n",
       "    x.observe(outputEl, {childList: true});\n",
       "}}\n",
       "\n",
       "                        })                };                });            </script>        </div>"
      ]
     },
     "metadata": {},
     "output_type": "display_data"
    }
   ],
   "source": [
    "df.count().iplot(kind='bar')"
   ]
  },
  {
   "cell_type": "markdown",
   "metadata": {},
   "source": [
    "## Boxplots"
   ]
  },
  {
   "cell_type": "code",
   "execution_count": 13,
   "metadata": {},
   "outputs": [
    {
     "data": {
      "application/vnd.plotly.v1+json": {
       "config": {
        "linkText": "Export to plot.ly",
        "plotlyServerURL": "https://plot.ly",
        "showLink": true
       },
       "data": [
        {
         "boxpoints": false,
         "line": {
          "width": 1.3
         },
         "marker": {
          "color": "rgba(255, 153, 51, 1.0)"
         },
         "name": "A",
         "orientation": "v",
         "type": "box",
         "y": [
          0.9736909845664095,
          0.7453931702353471,
          -0.584055336541668,
          -0.23334317308454516,
          -0.7000980818831816,
          1.2640163141919862,
          0.1949923139470877,
          -0.1139424012300454,
          -1.2154052780343019,
          0.9427148962218297,
          -1.2916405932264694,
          0.9578217204912421,
          -0.837880408525564,
          0.04477730952604257,
          0.0383397555239589,
          -0.920388783780331,
          -0.4586856113547915,
          0.7711816847785313,
          0.34059770984713117,
          -1.5809372479586077,
          -1.6190220344139687,
          0.3208625363690133,
          -0.49880220411246723,
          1.7723673511636662,
          -0.37465832280229444,
          0.7826818967840763,
          -0.9382489946574548,
          0.256628562558935,
          -1.6435417552082037,
          0.2687912226590109,
          1.668421072838317,
          0.446353712790004,
          -0.6072554223605655,
          0.5991032352457688,
          -0.3258627556643973,
          1.0260743695545573,
          -1.171157562633884,
          -0.44721741902651935,
          -0.18974526127380406,
          2.690862185966791,
          -0.21341778348335275,
          1.3729489381133875,
          -0.761964462794412,
          -0.23813834441552054,
          0.2423835554502911,
          -0.29077186439934116,
          -1.0641484336030078,
          -0.9732442423717599,
          1.8692008067241,
          0.5688039761828222,
          0.5279236226278071,
          -1.9290273692427853,
          1.2050717665153194,
          0.09187426815692153,
          -0.46421003832585644,
          0.6395964134920199,
          -0.9210542655891115,
          -0.560210249597593,
          -0.15267149948701025,
          -0.11142177214842656,
          0.34833270402904304,
          0.49643314031171515,
          -1.3313665867483626,
          -0.436011570352057,
          -1.78046187609948,
          -0.32036274436060913,
          -1.015612399766101,
          0.5202821890468927,
          0.29159316903345855,
          -1.9088228832243033,
          -0.24376450985073603,
          0.22652240535890608,
          -0.7841859784980002,
          -1.5267580055035477,
          0.5064174250880061,
          0.3367433054611338,
          1.2199465314945819,
          0.6193045429044992,
          -0.1405866691128178,
          1.320617620238819,
          -0.23845004768408265,
          0.8678499324373304,
          -0.6783635389878114,
          0.30629054690212754,
          0.6242536199934187,
          -0.6305479765356926,
          0.05971608490631798,
          0.8076378833495368,
          0.23280226611831248,
          1.8486962032262002,
          -1.0288160629884067,
          -1.0514112023277025,
          -2.0322145049930698,
          -0.08895985707025184,
          -0.17232298550624023,
          0.6276671416998708,
          0.834125433775937,
          0.24959890970492207,
          0.2627700269025718,
          0.002893684758850433
         ]
        },
        {
         "boxpoints": false,
         "line": {
          "width": 1.3
         },
         "marker": {
          "color": "rgba(55, 128, 191, 1.0)"
         },
         "name": "B",
         "orientation": "v",
         "type": "box",
         "y": [
          0.860487843415082,
          -0.1976076039773233,
          -0.48481821153381505,
          0.14681919989176692,
          1.3592898678691712,
          2.066687883890864,
          -1.5032945817436838,
          1.3945675564569295,
          -0.04778910964737012,
          -1.2129972364699224,
          1.4589311431911625,
          -0.44069477393216305,
          -1.0435081413404528,
          0.6889781462830233,
          -2.213980890594844,
          0.6142355502042238,
          0.2260184570472683,
          -0.9165795796993379,
          -0.1667415626821347,
          -0.2554626201939413,
          -1.037991147602794,
          -0.8800628951247182,
          -0.7005643966674218,
          -0.3802764846634866,
          -0.12296879928841947,
          1.1635838305936397,
          0.5044729405730749,
          -0.3344445850503148,
          -0.3912012746825815,
          -0.25437660692898856,
          -0.8500678690004732,
          -0.41509806198294447,
          2.03493032292298,
          -1.3314385730253768,
          0.29751356353402864,
          -0.7175580186337933,
          2.5113785520970975,
          -0.6095147542383219,
          -0.5088955997912352,
          1.0220677584987925,
          -2.0438870657446477,
          -1.4908273980005247,
          0.12922499574597024,
          -0.4915401118468228,
          0.3779801515751991,
          -0.8226774144982794,
          0.23284890744200148,
          1.2765999108951942,
          -0.1702716710359278,
          -0.6189082703607539,
          0.8749414426661444,
          1.5406104624426746,
          1.7099060314859462,
          -0.07706149742235652,
          0.9858023695881741,
          0.22317834251016266,
          -0.49721352987147677,
          0.6682973129617311,
          0.43169956246317065,
          -1.0918939029648713,
          0.10018235296733681,
          -0.989913227534258,
          0.021947372274293164,
          -1.0024193179032603,
          -0.8787782554290655,
          -0.5720097332195477,
          0.8790488723520122,
          -0.2562276873444926,
          -0.10326826791614217,
          -1.0134751880346335,
          0.8186055168917588,
          -0.22477040395132783,
          -0.24677109148501306,
          -1.5863247065897887,
          0.040629157884486754,
          -0.6435318145872875,
          0.5096173013346691,
          -1.4134405583436804,
          -0.9856650606127185,
          -1.332899924654395,
          -0.835689521985187,
          0.3509325415930457,
          0.2056437884096933,
          -1.8424841475984346,
          0.5953401809010593,
          -1.7016661494206462,
          0.3769197833430828,
          -0.08986765037176148,
          -0.26464943856144885,
          0.2996702121775819,
          -0.08513347629466395,
          -0.14318734590020804,
          -0.9397532454122348,
          -0.5072370450741972,
          -1.4064823254410985,
          0.5674390471645528,
          -1.3449602849704938,
          -2.2250731965123873,
          2.7083825895071967,
          -0.45632096832043334
         ]
        },
        {
         "boxpoints": false,
         "line": {
          "width": 1.3
         },
         "marker": {
          "color": "rgba(50, 171, 96, 1.0)"
         },
         "name": "C",
         "orientation": "v",
         "type": "box",
         "y": [
          -1.2129243066461926,
          -1.0382525619586047,
          0.5078729037486128,
          0.12938280012590278,
          1.6341558744990186,
          0.034930012561126954,
          1.0261894177771367,
          0.48561193015589027,
          0.6569701710035855,
          -1.0630086458831192,
          0.4142771846155979,
          -0.6556595684701798,
          -1.2324349279093698,
          -0.034881884818500714,
          -1.127311218191584,
          0.45529130807956325,
          -0.6843624789646388,
          -0.046359180704076026,
          -0.5854892488345255,
          -0.0409845837671332,
          -1.223982848402369,
          -0.8226884827636929,
          0.9384904117512551,
          -1.3750306046807677,
          0.1313334149963308,
          1.7048794060303314,
          1.4028775530543507,
          1.069301027364722,
          -1.8212129559016033,
          -0.6594633613721426,
          1.575005536398303,
          1.34808666633816,
          0.9834285751505591,
          1.2287692587781835,
          -0.4502702820223655,
          0.4456820296514806,
          -1.2348230631828667,
          0.6513935007474707,
          0.7217823183882504,
          -0.09686416078643863,
          1.4148480440052245,
          0.2964033944700848,
          1.7798621722114405,
          0.43881017351273405,
          -0.3608590905749697,
          2.2454327420000335,
          -0.7563312875676766,
          2.078310773128206,
          0.27645983228088156,
          -0.003495077411121001,
          0.9365313528116445,
          -0.7237369414815478,
          -0.2793753596275433,
          -1.0319498219187635,
          0.15331646592540693,
          -1.2358807644346608,
          -0.8730830970804379,
          0.5018243223627462,
          0.3277154911339316,
          -0.7001680856172838,
          -0.38062786970551593,
          0.37417986038524487,
          1.3359876312952497,
          -1.3946858064279308,
          -0.8240469768943165,
          0.8743429690518841,
          -1.0720216781766987,
          -0.7401129936227316,
          -0.8968854721484267,
          1.2491513029220178,
          0.7397186316244806,
          -1.487254527725665,
          1.2595678502989964,
          -0.9800162452253297,
          -1.688787406091313,
          -0.30864671171673497,
          -0.3989120773759106,
          1.0790874832643027,
          -0.6112958813779303,
          0.3771001514455043,
          -0.48577846390054724,
          -0.484680215995673,
          0.5411756268439647,
          -0.22380769329616534,
          -0.8933961523410535,
          -0.22423563658384077,
          0.9499070670923341,
          0.6160782169505912,
          -0.6581978552656172,
          -0.28633067383250554,
          1.0862691581589794,
          -1.1501168517633698,
          1.2793184154573662,
          -0.14364512188959166,
          -0.37372686635559066,
          -0.14504972441281114,
          0.24928956000707564,
          -2.0466412507953464,
          0.8318230917920868,
          -0.11766345027058192
         ]
        },
        {
         "boxpoints": false,
         "line": {
          "width": 1.3
         },
         "marker": {
          "color": "rgba(128, 0, 128, 1.0)"
         },
         "name": "D",
         "orientation": "v",
         "type": "box",
         "y": [
          1.8722585348532388,
          0.6002480468402726,
          1.6096154152185032,
          0.9265298336893815,
          0.4555575415025757,
          0.5289171832050981,
          -0.5983228383552023,
          1.2365871830946853,
          0.9517631530378322,
          0.570868240676847,
          -0.4556793485479554,
          -1.1333555613292898,
          -0.30292443048262374,
          -0.3056353662993651,
          -1.5175692055118397,
          1.3145283280893176,
          -0.05570837631306323,
          -1.6672156947224557,
          -0.18253225988568061,
          0.05511149500707958,
          0.29652944678050464,
          -0.9943797160192843,
          0.6156268206284266,
          -1.2075437829752398,
          -0.37179918002400814,
          -0.8229655422512129,
          -0.5166593432880014,
          -0.336846247094642,
          0.37487787800870676,
          -1.3529631715271817,
          -0.9321676199545975,
          -0.6688185052591087,
          -1.5575919005207202,
          -0.8421523930661949,
          -0.46189711876805095,
          -1.3841374100687416,
          -0.09056874091547108,
          1.5106652882289682,
          0.8119638369795266,
          -1.1384802895367663,
          -1.6209027494525534,
          -0.6315358645542397,
          -0.8511768762817592,
          0.03586724042659575,
          0.16410309502881068,
          0.429520008216888,
          0.4200845373397902,
          2.5762626896943157,
          -0.3218649735738696,
          0.4617162824060808,
          0.13449404442241317,
          -0.2826010297915294,
          0.34007594085606446,
          -2.12207436611629,
          0.6584656599689247,
          1.198737979306825,
          -0.38118023153890096,
          0.6134146441483715,
          1.6542094406369996,
          0.8629286116401483,
          -1.2080068415563003,
          -0.8446488381561417,
          -0.3013504908497219,
          0.7094948101748059,
          2.0034682245026394,
          -0.448025793463419,
          0.16448599174260323,
          1.0433542466727015,
          -2.1197172612812127,
          -0.46394930575369464,
          2.8089945300022463,
          0.12743653899500063,
          -0.8020211766680084,
          0.4233000698744811,
          -1.363898039468205,
          0.561670008690516,
          1.1090313942250214,
          0.364632673243882,
          0.10882749421227883,
          -0.13917195623887504,
          0.15642272556811335,
          -0.09513856184826817,
          -0.8223965566500696,
          2.856351025955582,
          0.05493509540780236,
          0.9995691681299053,
          -0.40171554335583887,
          0.11185999318285084,
          -0.3781309368274451,
          0.3330805287634981,
          0.18963718995166604,
          -0.233220389590355,
          -1.0223432110448787,
          -1.8700950680140607,
          0.0077898837938084895,
          0.9604776769652278,
          -0.6944640552433706,
          -0.08566401282169836,
          0.7603737677705592,
          -1.1685652543059402
         ]
        }
       ],
       "layout": {
        "legend": {
         "bgcolor": "#F5F6F9",
         "font": {
          "color": "#4D5663"
         }
        },
        "paper_bgcolor": "#F5F6F9",
        "plot_bgcolor": "#F5F6F9",
        "template": {
         "data": {
          "bar": [
           {
            "error_x": {
             "color": "#2a3f5f"
            },
            "error_y": {
             "color": "#2a3f5f"
            },
            "marker": {
             "line": {
              "color": "#E5ECF6",
              "width": 0.5
             },
             "pattern": {
              "fillmode": "overlay",
              "size": 10,
              "solidity": 0.2
             }
            },
            "type": "bar"
           }
          ],
          "barpolar": [
           {
            "marker": {
             "line": {
              "color": "#E5ECF6",
              "width": 0.5
             },
             "pattern": {
              "fillmode": "overlay",
              "size": 10,
              "solidity": 0.2
             }
            },
            "type": "barpolar"
           }
          ],
          "carpet": [
           {
            "aaxis": {
             "endlinecolor": "#2a3f5f",
             "gridcolor": "white",
             "linecolor": "white",
             "minorgridcolor": "white",
             "startlinecolor": "#2a3f5f"
            },
            "baxis": {
             "endlinecolor": "#2a3f5f",
             "gridcolor": "white",
             "linecolor": "white",
             "minorgridcolor": "white",
             "startlinecolor": "#2a3f5f"
            },
            "type": "carpet"
           }
          ],
          "choropleth": [
           {
            "colorbar": {
             "outlinewidth": 0,
             "ticks": ""
            },
            "type": "choropleth"
           }
          ],
          "contour": [
           {
            "colorbar": {
             "outlinewidth": 0,
             "ticks": ""
            },
            "colorscale": [
             [
              0,
              "#0d0887"
             ],
             [
              0.1111111111111111,
              "#46039f"
             ],
             [
              0.2222222222222222,
              "#7201a8"
             ],
             [
              0.3333333333333333,
              "#9c179e"
             ],
             [
              0.4444444444444444,
              "#bd3786"
             ],
             [
              0.5555555555555556,
              "#d8576b"
             ],
             [
              0.6666666666666666,
              "#ed7953"
             ],
             [
              0.7777777777777778,
              "#fb9f3a"
             ],
             [
              0.8888888888888888,
              "#fdca26"
             ],
             [
              1,
              "#f0f921"
             ]
            ],
            "type": "contour"
           }
          ],
          "contourcarpet": [
           {
            "colorbar": {
             "outlinewidth": 0,
             "ticks": ""
            },
            "type": "contourcarpet"
           }
          ],
          "heatmap": [
           {
            "colorbar": {
             "outlinewidth": 0,
             "ticks": ""
            },
            "colorscale": [
             [
              0,
              "#0d0887"
             ],
             [
              0.1111111111111111,
              "#46039f"
             ],
             [
              0.2222222222222222,
              "#7201a8"
             ],
             [
              0.3333333333333333,
              "#9c179e"
             ],
             [
              0.4444444444444444,
              "#bd3786"
             ],
             [
              0.5555555555555556,
              "#d8576b"
             ],
             [
              0.6666666666666666,
              "#ed7953"
             ],
             [
              0.7777777777777778,
              "#fb9f3a"
             ],
             [
              0.8888888888888888,
              "#fdca26"
             ],
             [
              1,
              "#f0f921"
             ]
            ],
            "type": "heatmap"
           }
          ],
          "heatmapgl": [
           {
            "colorbar": {
             "outlinewidth": 0,
             "ticks": ""
            },
            "colorscale": [
             [
              0,
              "#0d0887"
             ],
             [
              0.1111111111111111,
              "#46039f"
             ],
             [
              0.2222222222222222,
              "#7201a8"
             ],
             [
              0.3333333333333333,
              "#9c179e"
             ],
             [
              0.4444444444444444,
              "#bd3786"
             ],
             [
              0.5555555555555556,
              "#d8576b"
             ],
             [
              0.6666666666666666,
              "#ed7953"
             ],
             [
              0.7777777777777778,
              "#fb9f3a"
             ],
             [
              0.8888888888888888,
              "#fdca26"
             ],
             [
              1,
              "#f0f921"
             ]
            ],
            "type": "heatmapgl"
           }
          ],
          "histogram": [
           {
            "marker": {
             "pattern": {
              "fillmode": "overlay",
              "size": 10,
              "solidity": 0.2
             }
            },
            "type": "histogram"
           }
          ],
          "histogram2d": [
           {
            "colorbar": {
             "outlinewidth": 0,
             "ticks": ""
            },
            "colorscale": [
             [
              0,
              "#0d0887"
             ],
             [
              0.1111111111111111,
              "#46039f"
             ],
             [
              0.2222222222222222,
              "#7201a8"
             ],
             [
              0.3333333333333333,
              "#9c179e"
             ],
             [
              0.4444444444444444,
              "#bd3786"
             ],
             [
              0.5555555555555556,
              "#d8576b"
             ],
             [
              0.6666666666666666,
              "#ed7953"
             ],
             [
              0.7777777777777778,
              "#fb9f3a"
             ],
             [
              0.8888888888888888,
              "#fdca26"
             ],
             [
              1,
              "#f0f921"
             ]
            ],
            "type": "histogram2d"
           }
          ],
          "histogram2dcontour": [
           {
            "colorbar": {
             "outlinewidth": 0,
             "ticks": ""
            },
            "colorscale": [
             [
              0,
              "#0d0887"
             ],
             [
              0.1111111111111111,
              "#46039f"
             ],
             [
              0.2222222222222222,
              "#7201a8"
             ],
             [
              0.3333333333333333,
              "#9c179e"
             ],
             [
              0.4444444444444444,
              "#bd3786"
             ],
             [
              0.5555555555555556,
              "#d8576b"
             ],
             [
              0.6666666666666666,
              "#ed7953"
             ],
             [
              0.7777777777777778,
              "#fb9f3a"
             ],
             [
              0.8888888888888888,
              "#fdca26"
             ],
             [
              1,
              "#f0f921"
             ]
            ],
            "type": "histogram2dcontour"
           }
          ],
          "mesh3d": [
           {
            "colorbar": {
             "outlinewidth": 0,
             "ticks": ""
            },
            "type": "mesh3d"
           }
          ],
          "parcoords": [
           {
            "line": {
             "colorbar": {
              "outlinewidth": 0,
              "ticks": ""
             }
            },
            "type": "parcoords"
           }
          ],
          "pie": [
           {
            "automargin": true,
            "type": "pie"
           }
          ],
          "scatter": [
           {
            "marker": {
             "colorbar": {
              "outlinewidth": 0,
              "ticks": ""
             }
            },
            "type": "scatter"
           }
          ],
          "scatter3d": [
           {
            "line": {
             "colorbar": {
              "outlinewidth": 0,
              "ticks": ""
             }
            },
            "marker": {
             "colorbar": {
              "outlinewidth": 0,
              "ticks": ""
             }
            },
            "type": "scatter3d"
           }
          ],
          "scattercarpet": [
           {
            "marker": {
             "colorbar": {
              "outlinewidth": 0,
              "ticks": ""
             }
            },
            "type": "scattercarpet"
           }
          ],
          "scattergeo": [
           {
            "marker": {
             "colorbar": {
              "outlinewidth": 0,
              "ticks": ""
             }
            },
            "type": "scattergeo"
           }
          ],
          "scattergl": [
           {
            "marker": {
             "colorbar": {
              "outlinewidth": 0,
              "ticks": ""
             }
            },
            "type": "scattergl"
           }
          ],
          "scattermapbox": [
           {
            "marker": {
             "colorbar": {
              "outlinewidth": 0,
              "ticks": ""
             }
            },
            "type": "scattermapbox"
           }
          ],
          "scatterpolar": [
           {
            "marker": {
             "colorbar": {
              "outlinewidth": 0,
              "ticks": ""
             }
            },
            "type": "scatterpolar"
           }
          ],
          "scatterpolargl": [
           {
            "marker": {
             "colorbar": {
              "outlinewidth": 0,
              "ticks": ""
             }
            },
            "type": "scatterpolargl"
           }
          ],
          "scatterternary": [
           {
            "marker": {
             "colorbar": {
              "outlinewidth": 0,
              "ticks": ""
             }
            },
            "type": "scatterternary"
           }
          ],
          "surface": [
           {
            "colorbar": {
             "outlinewidth": 0,
             "ticks": ""
            },
            "colorscale": [
             [
              0,
              "#0d0887"
             ],
             [
              0.1111111111111111,
              "#46039f"
             ],
             [
              0.2222222222222222,
              "#7201a8"
             ],
             [
              0.3333333333333333,
              "#9c179e"
             ],
             [
              0.4444444444444444,
              "#bd3786"
             ],
             [
              0.5555555555555556,
              "#d8576b"
             ],
             [
              0.6666666666666666,
              "#ed7953"
             ],
             [
              0.7777777777777778,
              "#fb9f3a"
             ],
             [
              0.8888888888888888,
              "#fdca26"
             ],
             [
              1,
              "#f0f921"
             ]
            ],
            "type": "surface"
           }
          ],
          "table": [
           {
            "cells": {
             "fill": {
              "color": "#EBF0F8"
             },
             "line": {
              "color": "white"
             }
            },
            "header": {
             "fill": {
              "color": "#C8D4E3"
             },
             "line": {
              "color": "white"
             }
            },
            "type": "table"
           }
          ]
         },
         "layout": {
          "annotationdefaults": {
           "arrowcolor": "#2a3f5f",
           "arrowhead": 0,
           "arrowwidth": 1
          },
          "autotypenumbers": "strict",
          "coloraxis": {
           "colorbar": {
            "outlinewidth": 0,
            "ticks": ""
           }
          },
          "colorscale": {
           "diverging": [
            [
             0,
             "#8e0152"
            ],
            [
             0.1,
             "#c51b7d"
            ],
            [
             0.2,
             "#de77ae"
            ],
            [
             0.3,
             "#f1b6da"
            ],
            [
             0.4,
             "#fde0ef"
            ],
            [
             0.5,
             "#f7f7f7"
            ],
            [
             0.6,
             "#e6f5d0"
            ],
            [
             0.7,
             "#b8e186"
            ],
            [
             0.8,
             "#7fbc41"
            ],
            [
             0.9,
             "#4d9221"
            ],
            [
             1,
             "#276419"
            ]
           ],
           "sequential": [
            [
             0,
             "#0d0887"
            ],
            [
             0.1111111111111111,
             "#46039f"
            ],
            [
             0.2222222222222222,
             "#7201a8"
            ],
            [
             0.3333333333333333,
             "#9c179e"
            ],
            [
             0.4444444444444444,
             "#bd3786"
            ],
            [
             0.5555555555555556,
             "#d8576b"
            ],
            [
             0.6666666666666666,
             "#ed7953"
            ],
            [
             0.7777777777777778,
             "#fb9f3a"
            ],
            [
             0.8888888888888888,
             "#fdca26"
            ],
            [
             1,
             "#f0f921"
            ]
           ],
           "sequentialminus": [
            [
             0,
             "#0d0887"
            ],
            [
             0.1111111111111111,
             "#46039f"
            ],
            [
             0.2222222222222222,
             "#7201a8"
            ],
            [
             0.3333333333333333,
             "#9c179e"
            ],
            [
             0.4444444444444444,
             "#bd3786"
            ],
            [
             0.5555555555555556,
             "#d8576b"
            ],
            [
             0.6666666666666666,
             "#ed7953"
            ],
            [
             0.7777777777777778,
             "#fb9f3a"
            ],
            [
             0.8888888888888888,
             "#fdca26"
            ],
            [
             1,
             "#f0f921"
            ]
           ]
          },
          "colorway": [
           "#636efa",
           "#EF553B",
           "#00cc96",
           "#ab63fa",
           "#FFA15A",
           "#19d3f3",
           "#FF6692",
           "#B6E880",
           "#FF97FF",
           "#FECB52"
          ],
          "font": {
           "color": "#2a3f5f"
          },
          "geo": {
           "bgcolor": "white",
           "lakecolor": "white",
           "landcolor": "#E5ECF6",
           "showlakes": true,
           "showland": true,
           "subunitcolor": "white"
          },
          "hoverlabel": {
           "align": "left"
          },
          "hovermode": "closest",
          "mapbox": {
           "style": "light"
          },
          "paper_bgcolor": "white",
          "plot_bgcolor": "#E5ECF6",
          "polar": {
           "angularaxis": {
            "gridcolor": "white",
            "linecolor": "white",
            "ticks": ""
           },
           "bgcolor": "#E5ECF6",
           "radialaxis": {
            "gridcolor": "white",
            "linecolor": "white",
            "ticks": ""
           }
          },
          "scene": {
           "xaxis": {
            "backgroundcolor": "#E5ECF6",
            "gridcolor": "white",
            "gridwidth": 2,
            "linecolor": "white",
            "showbackground": true,
            "ticks": "",
            "zerolinecolor": "white"
           },
           "yaxis": {
            "backgroundcolor": "#E5ECF6",
            "gridcolor": "white",
            "gridwidth": 2,
            "linecolor": "white",
            "showbackground": true,
            "ticks": "",
            "zerolinecolor": "white"
           },
           "zaxis": {
            "backgroundcolor": "#E5ECF6",
            "gridcolor": "white",
            "gridwidth": 2,
            "linecolor": "white",
            "showbackground": true,
            "ticks": "",
            "zerolinecolor": "white"
           }
          },
          "shapedefaults": {
           "line": {
            "color": "#2a3f5f"
           }
          },
          "ternary": {
           "aaxis": {
            "gridcolor": "white",
            "linecolor": "white",
            "ticks": ""
           },
           "baxis": {
            "gridcolor": "white",
            "linecolor": "white",
            "ticks": ""
           },
           "bgcolor": "#E5ECF6",
           "caxis": {
            "gridcolor": "white",
            "linecolor": "white",
            "ticks": ""
           }
          },
          "title": {
           "x": 0.05
          },
          "xaxis": {
           "automargin": true,
           "gridcolor": "white",
           "linecolor": "white",
           "ticks": "",
           "title": {
            "standoff": 15
           },
           "zerolinecolor": "white",
           "zerolinewidth": 2
          },
          "yaxis": {
           "automargin": true,
           "gridcolor": "white",
           "linecolor": "white",
           "ticks": "",
           "title": {
            "standoff": 15
           },
           "zerolinecolor": "white",
           "zerolinewidth": 2
          }
         }
        },
        "title": {
         "font": {
          "color": "#4D5663"
         }
        },
        "xaxis": {
         "gridcolor": "#E1E5ED",
         "showgrid": true,
         "tickfont": {
          "color": "#4D5663"
         },
         "title": {
          "font": {
           "color": "#4D5663"
          },
          "text": ""
         },
         "zerolinecolor": "#E1E5ED"
        },
        "yaxis": {
         "gridcolor": "#E1E5ED",
         "showgrid": true,
         "tickfont": {
          "color": "#4D5663"
         },
         "title": {
          "font": {
           "color": "#4D5663"
          },
          "text": ""
         },
         "zerolinecolor": "#E1E5ED"
        }
       }
      },
      "text/html": [
       "<div>                            <div id=\"99521348-c994-4d89-b021-f90f622f598b\" class=\"plotly-graph-div\" style=\"height:525px; width:100%;\"></div>            <script type=\"text/javascript\">                require([\"plotly\"], function(Plotly) {                    window.PLOTLYENV=window.PLOTLYENV || {};\n",
       "                    window.PLOTLYENV.BASE_URL='https://plot.ly';                                    if (document.getElementById(\"99521348-c994-4d89-b021-f90f622f598b\")) {                    Plotly.newPlot(                        \"99521348-c994-4d89-b021-f90f622f598b\",                        [{\"boxpoints\":false,\"line\":{\"width\":1.3},\"marker\":{\"color\":\"rgba(255, 153, 51, 1.0)\"},\"name\":\"A\",\"orientation\":\"v\",\"y\":[0.9736909845664095,0.7453931702353471,-0.584055336541668,-0.23334317308454516,-0.7000980818831816,1.2640163141919862,0.1949923139470877,-0.1139424012300454,-1.2154052780343019,0.9427148962218297,-1.2916405932264694,0.9578217204912421,-0.837880408525564,0.04477730952604257,0.0383397555239589,-0.920388783780331,-0.4586856113547915,0.7711816847785313,0.34059770984713117,-1.5809372479586077,-1.6190220344139687,0.3208625363690133,-0.49880220411246723,1.7723673511636662,-0.37465832280229444,0.7826818967840763,-0.9382489946574548,0.256628562558935,-1.6435417552082037,0.2687912226590109,1.668421072838317,0.446353712790004,-0.6072554223605655,0.5991032352457688,-0.3258627556643973,1.0260743695545573,-1.171157562633884,-0.44721741902651935,-0.18974526127380406,2.690862185966791,-0.21341778348335275,1.3729489381133875,-0.761964462794412,-0.23813834441552054,0.2423835554502911,-0.29077186439934116,-1.0641484336030078,-0.9732442423717599,1.8692008067241,0.5688039761828222,0.5279236226278071,-1.9290273692427853,1.2050717665153194,0.09187426815692153,-0.46421003832585644,0.6395964134920199,-0.9210542655891115,-0.560210249597593,-0.15267149948701025,-0.11142177214842656,0.34833270402904304,0.49643314031171515,-1.3313665867483626,-0.436011570352057,-1.78046187609948,-0.32036274436060913,-1.015612399766101,0.5202821890468927,0.29159316903345855,-1.9088228832243033,-0.24376450985073603,0.22652240535890608,-0.7841859784980002,-1.5267580055035477,0.5064174250880061,0.3367433054611338,1.2199465314945819,0.6193045429044992,-0.1405866691128178,1.320617620238819,-0.23845004768408265,0.8678499324373304,-0.6783635389878114,0.30629054690212754,0.6242536199934187,-0.6305479765356926,0.05971608490631798,0.8076378833495368,0.23280226611831248,1.8486962032262002,-1.0288160629884067,-1.0514112023277025,-2.0322145049930698,-0.08895985707025184,-0.17232298550624023,0.6276671416998708,0.834125433775937,0.24959890970492207,0.2627700269025718,0.002893684758850433],\"type\":\"box\"},{\"boxpoints\":false,\"line\":{\"width\":1.3},\"marker\":{\"color\":\"rgba(55, 128, 191, 1.0)\"},\"name\":\"B\",\"orientation\":\"v\",\"y\":[0.860487843415082,-0.1976076039773233,-0.48481821153381505,0.14681919989176692,1.3592898678691712,2.066687883890864,-1.5032945817436838,1.3945675564569295,-0.04778910964737012,-1.2129972364699224,1.4589311431911625,-0.44069477393216305,-1.0435081413404528,0.6889781462830233,-2.213980890594844,0.6142355502042238,0.2260184570472683,-0.9165795796993379,-0.1667415626821347,-0.2554626201939413,-1.037991147602794,-0.8800628951247182,-0.7005643966674218,-0.3802764846634866,-0.12296879928841947,1.1635838305936397,0.5044729405730749,-0.3344445850503148,-0.3912012746825815,-0.25437660692898856,-0.8500678690004732,-0.41509806198294447,2.03493032292298,-1.3314385730253768,0.29751356353402864,-0.7175580186337933,2.5113785520970975,-0.6095147542383219,-0.5088955997912352,1.0220677584987925,-2.0438870657446477,-1.4908273980005247,0.12922499574597024,-0.4915401118468228,0.3779801515751991,-0.8226774144982794,0.23284890744200148,1.2765999108951942,-0.1702716710359278,-0.6189082703607539,0.8749414426661444,1.5406104624426746,1.7099060314859462,-0.07706149742235652,0.9858023695881741,0.22317834251016266,-0.49721352987147677,0.6682973129617311,0.43169956246317065,-1.0918939029648713,0.10018235296733681,-0.989913227534258,0.021947372274293164,-1.0024193179032603,-0.8787782554290655,-0.5720097332195477,0.8790488723520122,-0.2562276873444926,-0.10326826791614217,-1.0134751880346335,0.8186055168917588,-0.22477040395132783,-0.24677109148501306,-1.5863247065897887,0.040629157884486754,-0.6435318145872875,0.5096173013346691,-1.4134405583436804,-0.9856650606127185,-1.332899924654395,-0.835689521985187,0.3509325415930457,0.2056437884096933,-1.8424841475984346,0.5953401809010593,-1.7016661494206462,0.3769197833430828,-0.08986765037176148,-0.26464943856144885,0.2996702121775819,-0.08513347629466395,-0.14318734590020804,-0.9397532454122348,-0.5072370450741972,-1.4064823254410985,0.5674390471645528,-1.3449602849704938,-2.2250731965123873,2.7083825895071967,-0.45632096832043334],\"type\":\"box\"},{\"boxpoints\":false,\"line\":{\"width\":1.3},\"marker\":{\"color\":\"rgba(50, 171, 96, 1.0)\"},\"name\":\"C\",\"orientation\":\"v\",\"y\":[-1.2129243066461926,-1.0382525619586047,0.5078729037486128,0.12938280012590278,1.6341558744990186,0.034930012561126954,1.0261894177771367,0.48561193015589027,0.6569701710035855,-1.0630086458831192,0.4142771846155979,-0.6556595684701798,-1.2324349279093698,-0.034881884818500714,-1.127311218191584,0.45529130807956325,-0.6843624789646388,-0.046359180704076026,-0.5854892488345255,-0.0409845837671332,-1.223982848402369,-0.8226884827636929,0.9384904117512551,-1.3750306046807677,0.1313334149963308,1.7048794060303314,1.4028775530543507,1.069301027364722,-1.8212129559016033,-0.6594633613721426,1.575005536398303,1.34808666633816,0.9834285751505591,1.2287692587781835,-0.4502702820223655,0.4456820296514806,-1.2348230631828667,0.6513935007474707,0.7217823183882504,-0.09686416078643863,1.4148480440052245,0.2964033944700848,1.7798621722114405,0.43881017351273405,-0.3608590905749697,2.2454327420000335,-0.7563312875676766,2.078310773128206,0.27645983228088156,-0.003495077411121001,0.9365313528116445,-0.7237369414815478,-0.2793753596275433,-1.0319498219187635,0.15331646592540693,-1.2358807644346608,-0.8730830970804379,0.5018243223627462,0.3277154911339316,-0.7001680856172838,-0.38062786970551593,0.37417986038524487,1.3359876312952497,-1.3946858064279308,-0.8240469768943165,0.8743429690518841,-1.0720216781766987,-0.7401129936227316,-0.8968854721484267,1.2491513029220178,0.7397186316244806,-1.487254527725665,1.2595678502989964,-0.9800162452253297,-1.688787406091313,-0.30864671171673497,-0.3989120773759106,1.0790874832643027,-0.6112958813779303,0.3771001514455043,-0.48577846390054724,-0.484680215995673,0.5411756268439647,-0.22380769329616534,-0.8933961523410535,-0.22423563658384077,0.9499070670923341,0.6160782169505912,-0.6581978552656172,-0.28633067383250554,1.0862691581589794,-1.1501168517633698,1.2793184154573662,-0.14364512188959166,-0.37372686635559066,-0.14504972441281114,0.24928956000707564,-2.0466412507953464,0.8318230917920868,-0.11766345027058192],\"type\":\"box\"},{\"boxpoints\":false,\"line\":{\"width\":1.3},\"marker\":{\"color\":\"rgba(128, 0, 128, 1.0)\"},\"name\":\"D\",\"orientation\":\"v\",\"y\":[1.8722585348532388,0.6002480468402726,1.6096154152185032,0.9265298336893815,0.4555575415025757,0.5289171832050981,-0.5983228383552023,1.2365871830946853,0.9517631530378322,0.570868240676847,-0.4556793485479554,-1.1333555613292898,-0.30292443048262374,-0.3056353662993651,-1.5175692055118397,1.3145283280893176,-0.05570837631306323,-1.6672156947224557,-0.18253225988568061,0.05511149500707958,0.29652944678050464,-0.9943797160192843,0.6156268206284266,-1.2075437829752398,-0.37179918002400814,-0.8229655422512129,-0.5166593432880014,-0.336846247094642,0.37487787800870676,-1.3529631715271817,-0.9321676199545975,-0.6688185052591087,-1.5575919005207202,-0.8421523930661949,-0.46189711876805095,-1.3841374100687416,-0.09056874091547108,1.5106652882289682,0.8119638369795266,-1.1384802895367663,-1.6209027494525534,-0.6315358645542397,-0.8511768762817592,0.03586724042659575,0.16410309502881068,0.429520008216888,0.4200845373397902,2.5762626896943157,-0.3218649735738696,0.4617162824060808,0.13449404442241317,-0.2826010297915294,0.34007594085606446,-2.12207436611629,0.6584656599689247,1.198737979306825,-0.38118023153890096,0.6134146441483715,1.6542094406369996,0.8629286116401483,-1.2080068415563003,-0.8446488381561417,-0.3013504908497219,0.7094948101748059,2.0034682245026394,-0.448025793463419,0.16448599174260323,1.0433542466727015,-2.1197172612812127,-0.46394930575369464,2.8089945300022463,0.12743653899500063,-0.8020211766680084,0.4233000698744811,-1.363898039468205,0.561670008690516,1.1090313942250214,0.364632673243882,0.10882749421227883,-0.13917195623887504,0.15642272556811335,-0.09513856184826817,-0.8223965566500696,2.856351025955582,0.05493509540780236,0.9995691681299053,-0.40171554335583887,0.11185999318285084,-0.3781309368274451,0.3330805287634981,0.18963718995166604,-0.233220389590355,-1.0223432110448787,-1.8700950680140607,0.0077898837938084895,0.9604776769652278,-0.6944640552433706,-0.08566401282169836,0.7603737677705592,-1.1685652543059402],\"type\":\"box\"}],                        {\"legend\":{\"bgcolor\":\"#F5F6F9\",\"font\":{\"color\":\"#4D5663\"}},\"paper_bgcolor\":\"#F5F6F9\",\"plot_bgcolor\":\"#F5F6F9\",\"template\":{\"data\":{\"barpolar\":[{\"marker\":{\"line\":{\"color\":\"#E5ECF6\",\"width\":0.5},\"pattern\":{\"fillmode\":\"overlay\",\"size\":10,\"solidity\":0.2}},\"type\":\"barpolar\"}],\"bar\":[{\"error_x\":{\"color\":\"#2a3f5f\"},\"error_y\":{\"color\":\"#2a3f5f\"},\"marker\":{\"line\":{\"color\":\"#E5ECF6\",\"width\":0.5},\"pattern\":{\"fillmode\":\"overlay\",\"size\":10,\"solidity\":0.2}},\"type\":\"bar\"}],\"carpet\":[{\"aaxis\":{\"endlinecolor\":\"#2a3f5f\",\"gridcolor\":\"white\",\"linecolor\":\"white\",\"minorgridcolor\":\"white\",\"startlinecolor\":\"#2a3f5f\"},\"baxis\":{\"endlinecolor\":\"#2a3f5f\",\"gridcolor\":\"white\",\"linecolor\":\"white\",\"minorgridcolor\":\"white\",\"startlinecolor\":\"#2a3f5f\"},\"type\":\"carpet\"}],\"choropleth\":[{\"colorbar\":{\"outlinewidth\":0,\"ticks\":\"\"},\"type\":\"choropleth\"}],\"contourcarpet\":[{\"colorbar\":{\"outlinewidth\":0,\"ticks\":\"\"},\"type\":\"contourcarpet\"}],\"contour\":[{\"colorbar\":{\"outlinewidth\":0,\"ticks\":\"\"},\"colorscale\":[[0.0,\"#0d0887\"],[0.1111111111111111,\"#46039f\"],[0.2222222222222222,\"#7201a8\"],[0.3333333333333333,\"#9c179e\"],[0.4444444444444444,\"#bd3786\"],[0.5555555555555556,\"#d8576b\"],[0.6666666666666666,\"#ed7953\"],[0.7777777777777778,\"#fb9f3a\"],[0.8888888888888888,\"#fdca26\"],[1.0,\"#f0f921\"]],\"type\":\"contour\"}],\"heatmapgl\":[{\"colorbar\":{\"outlinewidth\":0,\"ticks\":\"\"},\"colorscale\":[[0.0,\"#0d0887\"],[0.1111111111111111,\"#46039f\"],[0.2222222222222222,\"#7201a8\"],[0.3333333333333333,\"#9c179e\"],[0.4444444444444444,\"#bd3786\"],[0.5555555555555556,\"#d8576b\"],[0.6666666666666666,\"#ed7953\"],[0.7777777777777778,\"#fb9f3a\"],[0.8888888888888888,\"#fdca26\"],[1.0,\"#f0f921\"]],\"type\":\"heatmapgl\"}],\"heatmap\":[{\"colorbar\":{\"outlinewidth\":0,\"ticks\":\"\"},\"colorscale\":[[0.0,\"#0d0887\"],[0.1111111111111111,\"#46039f\"],[0.2222222222222222,\"#7201a8\"],[0.3333333333333333,\"#9c179e\"],[0.4444444444444444,\"#bd3786\"],[0.5555555555555556,\"#d8576b\"],[0.6666666666666666,\"#ed7953\"],[0.7777777777777778,\"#fb9f3a\"],[0.8888888888888888,\"#fdca26\"],[1.0,\"#f0f921\"]],\"type\":\"heatmap\"}],\"histogram2dcontour\":[{\"colorbar\":{\"outlinewidth\":0,\"ticks\":\"\"},\"colorscale\":[[0.0,\"#0d0887\"],[0.1111111111111111,\"#46039f\"],[0.2222222222222222,\"#7201a8\"],[0.3333333333333333,\"#9c179e\"],[0.4444444444444444,\"#bd3786\"],[0.5555555555555556,\"#d8576b\"],[0.6666666666666666,\"#ed7953\"],[0.7777777777777778,\"#fb9f3a\"],[0.8888888888888888,\"#fdca26\"],[1.0,\"#f0f921\"]],\"type\":\"histogram2dcontour\"}],\"histogram2d\":[{\"colorbar\":{\"outlinewidth\":0,\"ticks\":\"\"},\"colorscale\":[[0.0,\"#0d0887\"],[0.1111111111111111,\"#46039f\"],[0.2222222222222222,\"#7201a8\"],[0.3333333333333333,\"#9c179e\"],[0.4444444444444444,\"#bd3786\"],[0.5555555555555556,\"#d8576b\"],[0.6666666666666666,\"#ed7953\"],[0.7777777777777778,\"#fb9f3a\"],[0.8888888888888888,\"#fdca26\"],[1.0,\"#f0f921\"]],\"type\":\"histogram2d\"}],\"histogram\":[{\"marker\":{\"pattern\":{\"fillmode\":\"overlay\",\"size\":10,\"solidity\":0.2}},\"type\":\"histogram\"}],\"mesh3d\":[{\"colorbar\":{\"outlinewidth\":0,\"ticks\":\"\"},\"type\":\"mesh3d\"}],\"parcoords\":[{\"line\":{\"colorbar\":{\"outlinewidth\":0,\"ticks\":\"\"}},\"type\":\"parcoords\"}],\"pie\":[{\"automargin\":true,\"type\":\"pie\"}],\"scatter3d\":[{\"line\":{\"colorbar\":{\"outlinewidth\":0,\"ticks\":\"\"}},\"marker\":{\"colorbar\":{\"outlinewidth\":0,\"ticks\":\"\"}},\"type\":\"scatter3d\"}],\"scattercarpet\":[{\"marker\":{\"colorbar\":{\"outlinewidth\":0,\"ticks\":\"\"}},\"type\":\"scattercarpet\"}],\"scattergeo\":[{\"marker\":{\"colorbar\":{\"outlinewidth\":0,\"ticks\":\"\"}},\"type\":\"scattergeo\"}],\"scattergl\":[{\"marker\":{\"colorbar\":{\"outlinewidth\":0,\"ticks\":\"\"}},\"type\":\"scattergl\"}],\"scattermapbox\":[{\"marker\":{\"colorbar\":{\"outlinewidth\":0,\"ticks\":\"\"}},\"type\":\"scattermapbox\"}],\"scatterpolargl\":[{\"marker\":{\"colorbar\":{\"outlinewidth\":0,\"ticks\":\"\"}},\"type\":\"scatterpolargl\"}],\"scatterpolar\":[{\"marker\":{\"colorbar\":{\"outlinewidth\":0,\"ticks\":\"\"}},\"type\":\"scatterpolar\"}],\"scatter\":[{\"marker\":{\"colorbar\":{\"outlinewidth\":0,\"ticks\":\"\"}},\"type\":\"scatter\"}],\"scatterternary\":[{\"marker\":{\"colorbar\":{\"outlinewidth\":0,\"ticks\":\"\"}},\"type\":\"scatterternary\"}],\"surface\":[{\"colorbar\":{\"outlinewidth\":0,\"ticks\":\"\"},\"colorscale\":[[0.0,\"#0d0887\"],[0.1111111111111111,\"#46039f\"],[0.2222222222222222,\"#7201a8\"],[0.3333333333333333,\"#9c179e\"],[0.4444444444444444,\"#bd3786\"],[0.5555555555555556,\"#d8576b\"],[0.6666666666666666,\"#ed7953\"],[0.7777777777777778,\"#fb9f3a\"],[0.8888888888888888,\"#fdca26\"],[1.0,\"#f0f921\"]],\"type\":\"surface\"}],\"table\":[{\"cells\":{\"fill\":{\"color\":\"#EBF0F8\"},\"line\":{\"color\":\"white\"}},\"header\":{\"fill\":{\"color\":\"#C8D4E3\"},\"line\":{\"color\":\"white\"}},\"type\":\"table\"}]},\"layout\":{\"annotationdefaults\":{\"arrowcolor\":\"#2a3f5f\",\"arrowhead\":0,\"arrowwidth\":1},\"autotypenumbers\":\"strict\",\"coloraxis\":{\"colorbar\":{\"outlinewidth\":0,\"ticks\":\"\"}},\"colorscale\":{\"diverging\":[[0,\"#8e0152\"],[0.1,\"#c51b7d\"],[0.2,\"#de77ae\"],[0.3,\"#f1b6da\"],[0.4,\"#fde0ef\"],[0.5,\"#f7f7f7\"],[0.6,\"#e6f5d0\"],[0.7,\"#b8e186\"],[0.8,\"#7fbc41\"],[0.9,\"#4d9221\"],[1,\"#276419\"]],\"sequential\":[[0.0,\"#0d0887\"],[0.1111111111111111,\"#46039f\"],[0.2222222222222222,\"#7201a8\"],[0.3333333333333333,\"#9c179e\"],[0.4444444444444444,\"#bd3786\"],[0.5555555555555556,\"#d8576b\"],[0.6666666666666666,\"#ed7953\"],[0.7777777777777778,\"#fb9f3a\"],[0.8888888888888888,\"#fdca26\"],[1.0,\"#f0f921\"]],\"sequentialminus\":[[0.0,\"#0d0887\"],[0.1111111111111111,\"#46039f\"],[0.2222222222222222,\"#7201a8\"],[0.3333333333333333,\"#9c179e\"],[0.4444444444444444,\"#bd3786\"],[0.5555555555555556,\"#d8576b\"],[0.6666666666666666,\"#ed7953\"],[0.7777777777777778,\"#fb9f3a\"],[0.8888888888888888,\"#fdca26\"],[1.0,\"#f0f921\"]]},\"colorway\":[\"#636efa\",\"#EF553B\",\"#00cc96\",\"#ab63fa\",\"#FFA15A\",\"#19d3f3\",\"#FF6692\",\"#B6E880\",\"#FF97FF\",\"#FECB52\"],\"font\":{\"color\":\"#2a3f5f\"},\"geo\":{\"bgcolor\":\"white\",\"lakecolor\":\"white\",\"landcolor\":\"#E5ECF6\",\"showlakes\":true,\"showland\":true,\"subunitcolor\":\"white\"},\"hoverlabel\":{\"align\":\"left\"},\"hovermode\":\"closest\",\"mapbox\":{\"style\":\"light\"},\"paper_bgcolor\":\"white\",\"plot_bgcolor\":\"#E5ECF6\",\"polar\":{\"angularaxis\":{\"gridcolor\":\"white\",\"linecolor\":\"white\",\"ticks\":\"\"},\"bgcolor\":\"#E5ECF6\",\"radialaxis\":{\"gridcolor\":\"white\",\"linecolor\":\"white\",\"ticks\":\"\"}},\"scene\":{\"xaxis\":{\"backgroundcolor\":\"#E5ECF6\",\"gridcolor\":\"white\",\"gridwidth\":2,\"linecolor\":\"white\",\"showbackground\":true,\"ticks\":\"\",\"zerolinecolor\":\"white\"},\"yaxis\":{\"backgroundcolor\":\"#E5ECF6\",\"gridcolor\":\"white\",\"gridwidth\":2,\"linecolor\":\"white\",\"showbackground\":true,\"ticks\":\"\",\"zerolinecolor\":\"white\"},\"zaxis\":{\"backgroundcolor\":\"#E5ECF6\",\"gridcolor\":\"white\",\"gridwidth\":2,\"linecolor\":\"white\",\"showbackground\":true,\"ticks\":\"\",\"zerolinecolor\":\"white\"}},\"shapedefaults\":{\"line\":{\"color\":\"#2a3f5f\"}},\"ternary\":{\"aaxis\":{\"gridcolor\":\"white\",\"linecolor\":\"white\",\"ticks\":\"\"},\"baxis\":{\"gridcolor\":\"white\",\"linecolor\":\"white\",\"ticks\":\"\"},\"bgcolor\":\"#E5ECF6\",\"caxis\":{\"gridcolor\":\"white\",\"linecolor\":\"white\",\"ticks\":\"\"}},\"title\":{\"x\":0.05},\"xaxis\":{\"automargin\":true,\"gridcolor\":\"white\",\"linecolor\":\"white\",\"ticks\":\"\",\"title\":{\"standoff\":15},\"zerolinecolor\":\"white\",\"zerolinewidth\":2},\"yaxis\":{\"automargin\":true,\"gridcolor\":\"white\",\"linecolor\":\"white\",\"ticks\":\"\",\"title\":{\"standoff\":15},\"zerolinecolor\":\"white\",\"zerolinewidth\":2}}},\"title\":{\"font\":{\"color\":\"#4D5663\"}},\"xaxis\":{\"gridcolor\":\"#E1E5ED\",\"showgrid\":true,\"tickfont\":{\"color\":\"#4D5663\"},\"title\":{\"font\":{\"color\":\"#4D5663\"},\"text\":\"\"},\"zerolinecolor\":\"#E1E5ED\"},\"yaxis\":{\"gridcolor\":\"#E1E5ED\",\"showgrid\":true,\"tickfont\":{\"color\":\"#4D5663\"},\"title\":{\"font\":{\"color\":\"#4D5663\"},\"text\":\"\"},\"zerolinecolor\":\"#E1E5ED\"}},                        {\"showLink\": true, \"linkText\": \"Export to plot.ly\", \"plotlyServerURL\": \"https://plot.ly\", \"responsive\": true}                    ).then(function(){\n",
       "                            \n",
       "var gd = document.getElementById('99521348-c994-4d89-b021-f90f622f598b');\n",
       "var x = new MutationObserver(function (mutations, observer) {{\n",
       "        var display = window.getComputedStyle(gd).display;\n",
       "        if (!display || display === 'none') {{\n",
       "            console.log([gd, 'removed!']);\n",
       "            Plotly.purge(gd);\n",
       "            observer.disconnect();\n",
       "        }}\n",
       "}});\n",
       "\n",
       "// Listen for the removal of the full notebook cells\n",
       "var notebookContainer = gd.closest('#notebook-container');\n",
       "if (notebookContainer) {{\n",
       "    x.observe(notebookContainer, {childList: true});\n",
       "}}\n",
       "\n",
       "// Listen for the clearing of the current output cell\n",
       "var outputEl = gd.closest('.output');\n",
       "if (outputEl) {{\n",
       "    x.observe(outputEl, {childList: true});\n",
       "}}\n",
       "\n",
       "                        })                };                });            </script>        </div>"
      ]
     },
     "metadata": {},
     "output_type": "display_data"
    }
   ],
   "source": [
    "df.iplot(kind='box')"
   ]
  },
  {
   "cell_type": "markdown",
   "metadata": {},
   "source": [
    "## 3d Surface"
   ]
  },
  {
   "cell_type": "code",
   "execution_count": 14,
   "metadata": {},
   "outputs": [
    {
     "data": {
      "application/vnd.plotly.v1+json": {
       "config": {
        "linkText": "Export to plot.ly",
        "plotlyServerURL": "https://plot.ly",
        "showLink": true
       },
       "data": [
        {
         "colorscale": [
          [
           0,
           "rgb(165,0,38)"
          ],
          [
           0.1,
           "rgb(215,48,39)"
          ],
          [
           0.2,
           "rgb(244,109,67)"
          ],
          [
           0.3,
           "rgb(253,174,97)"
          ],
          [
           0.4,
           "rgb(254,224,144)"
          ],
          [
           0.5,
           "rgb(255,255,191)"
          ],
          [
           0.6,
           "rgb(224,243,248)"
          ],
          [
           0.7,
           "rgb(171,217,233)"
          ],
          [
           0.8,
           "rgb(116,173,209)"
          ],
          [
           0.9,
           "rgb(69,117,180)"
          ],
          [
           1,
           "rgb(49,54,149)"
          ]
         ],
         "type": "surface",
         "x": [
          0,
          1,
          2,
          3,
          4
         ],
         "y": [
          "x",
          "y",
          "z"
         ],
         "z": [
          [
           1,
           2,
           3,
           4,
           5
          ],
          [
           10,
           20,
           30,
           20,
           10
          ],
          [
           5,
           4,
           3,
           2,
           1
          ]
         ]
        }
       ],
       "layout": {
        "legend": {
         "bgcolor": "#F5F6F9",
         "font": {
          "color": "#4D5663"
         }
        },
        "paper_bgcolor": "#F5F6F9",
        "plot_bgcolor": "#F5F6F9",
        "template": {
         "data": {
          "bar": [
           {
            "error_x": {
             "color": "#2a3f5f"
            },
            "error_y": {
             "color": "#2a3f5f"
            },
            "marker": {
             "line": {
              "color": "#E5ECF6",
              "width": 0.5
             },
             "pattern": {
              "fillmode": "overlay",
              "size": 10,
              "solidity": 0.2
             }
            },
            "type": "bar"
           }
          ],
          "barpolar": [
           {
            "marker": {
             "line": {
              "color": "#E5ECF6",
              "width": 0.5
             },
             "pattern": {
              "fillmode": "overlay",
              "size": 10,
              "solidity": 0.2
             }
            },
            "type": "barpolar"
           }
          ],
          "carpet": [
           {
            "aaxis": {
             "endlinecolor": "#2a3f5f",
             "gridcolor": "white",
             "linecolor": "white",
             "minorgridcolor": "white",
             "startlinecolor": "#2a3f5f"
            },
            "baxis": {
             "endlinecolor": "#2a3f5f",
             "gridcolor": "white",
             "linecolor": "white",
             "minorgridcolor": "white",
             "startlinecolor": "#2a3f5f"
            },
            "type": "carpet"
           }
          ],
          "choropleth": [
           {
            "colorbar": {
             "outlinewidth": 0,
             "ticks": ""
            },
            "type": "choropleth"
           }
          ],
          "contour": [
           {
            "colorbar": {
             "outlinewidth": 0,
             "ticks": ""
            },
            "colorscale": [
             [
              0,
              "#0d0887"
             ],
             [
              0.1111111111111111,
              "#46039f"
             ],
             [
              0.2222222222222222,
              "#7201a8"
             ],
             [
              0.3333333333333333,
              "#9c179e"
             ],
             [
              0.4444444444444444,
              "#bd3786"
             ],
             [
              0.5555555555555556,
              "#d8576b"
             ],
             [
              0.6666666666666666,
              "#ed7953"
             ],
             [
              0.7777777777777778,
              "#fb9f3a"
             ],
             [
              0.8888888888888888,
              "#fdca26"
             ],
             [
              1,
              "#f0f921"
             ]
            ],
            "type": "contour"
           }
          ],
          "contourcarpet": [
           {
            "colorbar": {
             "outlinewidth": 0,
             "ticks": ""
            },
            "type": "contourcarpet"
           }
          ],
          "heatmap": [
           {
            "colorbar": {
             "outlinewidth": 0,
             "ticks": ""
            },
            "colorscale": [
             [
              0,
              "#0d0887"
             ],
             [
              0.1111111111111111,
              "#46039f"
             ],
             [
              0.2222222222222222,
              "#7201a8"
             ],
             [
              0.3333333333333333,
              "#9c179e"
             ],
             [
              0.4444444444444444,
              "#bd3786"
             ],
             [
              0.5555555555555556,
              "#d8576b"
             ],
             [
              0.6666666666666666,
              "#ed7953"
             ],
             [
              0.7777777777777778,
              "#fb9f3a"
             ],
             [
              0.8888888888888888,
              "#fdca26"
             ],
             [
              1,
              "#f0f921"
             ]
            ],
            "type": "heatmap"
           }
          ],
          "heatmapgl": [
           {
            "colorbar": {
             "outlinewidth": 0,
             "ticks": ""
            },
            "colorscale": [
             [
              0,
              "#0d0887"
             ],
             [
              0.1111111111111111,
              "#46039f"
             ],
             [
              0.2222222222222222,
              "#7201a8"
             ],
             [
              0.3333333333333333,
              "#9c179e"
             ],
             [
              0.4444444444444444,
              "#bd3786"
             ],
             [
              0.5555555555555556,
              "#d8576b"
             ],
             [
              0.6666666666666666,
              "#ed7953"
             ],
             [
              0.7777777777777778,
              "#fb9f3a"
             ],
             [
              0.8888888888888888,
              "#fdca26"
             ],
             [
              1,
              "#f0f921"
             ]
            ],
            "type": "heatmapgl"
           }
          ],
          "histogram": [
           {
            "marker": {
             "pattern": {
              "fillmode": "overlay",
              "size": 10,
              "solidity": 0.2
             }
            },
            "type": "histogram"
           }
          ],
          "histogram2d": [
           {
            "colorbar": {
             "outlinewidth": 0,
             "ticks": ""
            },
            "colorscale": [
             [
              0,
              "#0d0887"
             ],
             [
              0.1111111111111111,
              "#46039f"
             ],
             [
              0.2222222222222222,
              "#7201a8"
             ],
             [
              0.3333333333333333,
              "#9c179e"
             ],
             [
              0.4444444444444444,
              "#bd3786"
             ],
             [
              0.5555555555555556,
              "#d8576b"
             ],
             [
              0.6666666666666666,
              "#ed7953"
             ],
             [
              0.7777777777777778,
              "#fb9f3a"
             ],
             [
              0.8888888888888888,
              "#fdca26"
             ],
             [
              1,
              "#f0f921"
             ]
            ],
            "type": "histogram2d"
           }
          ],
          "histogram2dcontour": [
           {
            "colorbar": {
             "outlinewidth": 0,
             "ticks": ""
            },
            "colorscale": [
             [
              0,
              "#0d0887"
             ],
             [
              0.1111111111111111,
              "#46039f"
             ],
             [
              0.2222222222222222,
              "#7201a8"
             ],
             [
              0.3333333333333333,
              "#9c179e"
             ],
             [
              0.4444444444444444,
              "#bd3786"
             ],
             [
              0.5555555555555556,
              "#d8576b"
             ],
             [
              0.6666666666666666,
              "#ed7953"
             ],
             [
              0.7777777777777778,
              "#fb9f3a"
             ],
             [
              0.8888888888888888,
              "#fdca26"
             ],
             [
              1,
              "#f0f921"
             ]
            ],
            "type": "histogram2dcontour"
           }
          ],
          "mesh3d": [
           {
            "colorbar": {
             "outlinewidth": 0,
             "ticks": ""
            },
            "type": "mesh3d"
           }
          ],
          "parcoords": [
           {
            "line": {
             "colorbar": {
              "outlinewidth": 0,
              "ticks": ""
             }
            },
            "type": "parcoords"
           }
          ],
          "pie": [
           {
            "automargin": true,
            "type": "pie"
           }
          ],
          "scatter": [
           {
            "marker": {
             "colorbar": {
              "outlinewidth": 0,
              "ticks": ""
             }
            },
            "type": "scatter"
           }
          ],
          "scatter3d": [
           {
            "line": {
             "colorbar": {
              "outlinewidth": 0,
              "ticks": ""
             }
            },
            "marker": {
             "colorbar": {
              "outlinewidth": 0,
              "ticks": ""
             }
            },
            "type": "scatter3d"
           }
          ],
          "scattercarpet": [
           {
            "marker": {
             "colorbar": {
              "outlinewidth": 0,
              "ticks": ""
             }
            },
            "type": "scattercarpet"
           }
          ],
          "scattergeo": [
           {
            "marker": {
             "colorbar": {
              "outlinewidth": 0,
              "ticks": ""
             }
            },
            "type": "scattergeo"
           }
          ],
          "scattergl": [
           {
            "marker": {
             "colorbar": {
              "outlinewidth": 0,
              "ticks": ""
             }
            },
            "type": "scattergl"
           }
          ],
          "scattermapbox": [
           {
            "marker": {
             "colorbar": {
              "outlinewidth": 0,
              "ticks": ""
             }
            },
            "type": "scattermapbox"
           }
          ],
          "scatterpolar": [
           {
            "marker": {
             "colorbar": {
              "outlinewidth": 0,
              "ticks": ""
             }
            },
            "type": "scatterpolar"
           }
          ],
          "scatterpolargl": [
           {
            "marker": {
             "colorbar": {
              "outlinewidth": 0,
              "ticks": ""
             }
            },
            "type": "scatterpolargl"
           }
          ],
          "scatterternary": [
           {
            "marker": {
             "colorbar": {
              "outlinewidth": 0,
              "ticks": ""
             }
            },
            "type": "scatterternary"
           }
          ],
          "surface": [
           {
            "colorbar": {
             "outlinewidth": 0,
             "ticks": ""
            },
            "colorscale": [
             [
              0,
              "#0d0887"
             ],
             [
              0.1111111111111111,
              "#46039f"
             ],
             [
              0.2222222222222222,
              "#7201a8"
             ],
             [
              0.3333333333333333,
              "#9c179e"
             ],
             [
              0.4444444444444444,
              "#bd3786"
             ],
             [
              0.5555555555555556,
              "#d8576b"
             ],
             [
              0.6666666666666666,
              "#ed7953"
             ],
             [
              0.7777777777777778,
              "#fb9f3a"
             ],
             [
              0.8888888888888888,
              "#fdca26"
             ],
             [
              1,
              "#f0f921"
             ]
            ],
            "type": "surface"
           }
          ],
          "table": [
           {
            "cells": {
             "fill": {
              "color": "#EBF0F8"
             },
             "line": {
              "color": "white"
             }
            },
            "header": {
             "fill": {
              "color": "#C8D4E3"
             },
             "line": {
              "color": "white"
             }
            },
            "type": "table"
           }
          ]
         },
         "layout": {
          "annotationdefaults": {
           "arrowcolor": "#2a3f5f",
           "arrowhead": 0,
           "arrowwidth": 1
          },
          "autotypenumbers": "strict",
          "coloraxis": {
           "colorbar": {
            "outlinewidth": 0,
            "ticks": ""
           }
          },
          "colorscale": {
           "diverging": [
            [
             0,
             "#8e0152"
            ],
            [
             0.1,
             "#c51b7d"
            ],
            [
             0.2,
             "#de77ae"
            ],
            [
             0.3,
             "#f1b6da"
            ],
            [
             0.4,
             "#fde0ef"
            ],
            [
             0.5,
             "#f7f7f7"
            ],
            [
             0.6,
             "#e6f5d0"
            ],
            [
             0.7,
             "#b8e186"
            ],
            [
             0.8,
             "#7fbc41"
            ],
            [
             0.9,
             "#4d9221"
            ],
            [
             1,
             "#276419"
            ]
           ],
           "sequential": [
            [
             0,
             "#0d0887"
            ],
            [
             0.1111111111111111,
             "#46039f"
            ],
            [
             0.2222222222222222,
             "#7201a8"
            ],
            [
             0.3333333333333333,
             "#9c179e"
            ],
            [
             0.4444444444444444,
             "#bd3786"
            ],
            [
             0.5555555555555556,
             "#d8576b"
            ],
            [
             0.6666666666666666,
             "#ed7953"
            ],
            [
             0.7777777777777778,
             "#fb9f3a"
            ],
            [
             0.8888888888888888,
             "#fdca26"
            ],
            [
             1,
             "#f0f921"
            ]
           ],
           "sequentialminus": [
            [
             0,
             "#0d0887"
            ],
            [
             0.1111111111111111,
             "#46039f"
            ],
            [
             0.2222222222222222,
             "#7201a8"
            ],
            [
             0.3333333333333333,
             "#9c179e"
            ],
            [
             0.4444444444444444,
             "#bd3786"
            ],
            [
             0.5555555555555556,
             "#d8576b"
            ],
            [
             0.6666666666666666,
             "#ed7953"
            ],
            [
             0.7777777777777778,
             "#fb9f3a"
            ],
            [
             0.8888888888888888,
             "#fdca26"
            ],
            [
             1,
             "#f0f921"
            ]
           ]
          },
          "colorway": [
           "#636efa",
           "#EF553B",
           "#00cc96",
           "#ab63fa",
           "#FFA15A",
           "#19d3f3",
           "#FF6692",
           "#B6E880",
           "#FF97FF",
           "#FECB52"
          ],
          "font": {
           "color": "#2a3f5f"
          },
          "geo": {
           "bgcolor": "white",
           "lakecolor": "white",
           "landcolor": "#E5ECF6",
           "showlakes": true,
           "showland": true,
           "subunitcolor": "white"
          },
          "hoverlabel": {
           "align": "left"
          },
          "hovermode": "closest",
          "mapbox": {
           "style": "light"
          },
          "paper_bgcolor": "white",
          "plot_bgcolor": "#E5ECF6",
          "polar": {
           "angularaxis": {
            "gridcolor": "white",
            "linecolor": "white",
            "ticks": ""
           },
           "bgcolor": "#E5ECF6",
           "radialaxis": {
            "gridcolor": "white",
            "linecolor": "white",
            "ticks": ""
           }
          },
          "scene": {
           "xaxis": {
            "backgroundcolor": "#E5ECF6",
            "gridcolor": "white",
            "gridwidth": 2,
            "linecolor": "white",
            "showbackground": true,
            "ticks": "",
            "zerolinecolor": "white"
           },
           "yaxis": {
            "backgroundcolor": "#E5ECF6",
            "gridcolor": "white",
            "gridwidth": 2,
            "linecolor": "white",
            "showbackground": true,
            "ticks": "",
            "zerolinecolor": "white"
           },
           "zaxis": {
            "backgroundcolor": "#E5ECF6",
            "gridcolor": "white",
            "gridwidth": 2,
            "linecolor": "white",
            "showbackground": true,
            "ticks": "",
            "zerolinecolor": "white"
           }
          },
          "shapedefaults": {
           "line": {
            "color": "#2a3f5f"
           }
          },
          "ternary": {
           "aaxis": {
            "gridcolor": "white",
            "linecolor": "white",
            "ticks": ""
           },
           "baxis": {
            "gridcolor": "white",
            "linecolor": "white",
            "ticks": ""
           },
           "bgcolor": "#E5ECF6",
           "caxis": {
            "gridcolor": "white",
            "linecolor": "white",
            "ticks": ""
           }
          },
          "title": {
           "x": 0.05
          },
          "xaxis": {
           "automargin": true,
           "gridcolor": "white",
           "linecolor": "white",
           "ticks": "",
           "title": {
            "standoff": 15
           },
           "zerolinecolor": "white",
           "zerolinewidth": 2
          },
          "yaxis": {
           "automargin": true,
           "gridcolor": "white",
           "linecolor": "white",
           "ticks": "",
           "title": {
            "standoff": 15
           },
           "zerolinecolor": "white",
           "zerolinewidth": 2
          }
         }
        },
        "title": {
         "font": {
          "color": "#4D5663"
         }
        },
        "xaxis": {
         "gridcolor": "#E1E5ED",
         "showgrid": true,
         "tickfont": {
          "color": "#4D5663"
         },
         "title": {
          "font": {
           "color": "#4D5663"
          },
          "text": ""
         },
         "zerolinecolor": "#E1E5ED"
        },
        "yaxis": {
         "gridcolor": "#E1E5ED",
         "showgrid": true,
         "tickfont": {
          "color": "#4D5663"
         },
         "title": {
          "font": {
           "color": "#4D5663"
          },
          "text": ""
         },
         "zerolinecolor": "#E1E5ED"
        }
       }
      },
      "text/html": [
       "<div>                            <div id=\"e3fcb990-c61b-421d-abac-5c119862be90\" class=\"plotly-graph-div\" style=\"height:525px; width:100%;\"></div>            <script type=\"text/javascript\">                require([\"plotly\"], function(Plotly) {                    window.PLOTLYENV=window.PLOTLYENV || {};\n",
       "                    window.PLOTLYENV.BASE_URL='https://plot.ly';                                    if (document.getElementById(\"e3fcb990-c61b-421d-abac-5c119862be90\")) {                    Plotly.newPlot(                        \"e3fcb990-c61b-421d-abac-5c119862be90\",                        [{\"colorscale\":[[0.0,\"rgb(165,0,38)\"],[0.1,\"rgb(215,48,39)\"],[0.2,\"rgb(244,109,67)\"],[0.3,\"rgb(253,174,97)\"],[0.4,\"rgb(254,224,144)\"],[0.5,\"rgb(255,255,191)\"],[0.6,\"rgb(224,243,248)\"],[0.7,\"rgb(171,217,233)\"],[0.8,\"rgb(116,173,209)\"],[0.9,\"rgb(69,117,180)\"],[1.0,\"rgb(49,54,149)\"]],\"x\":[0,1,2,3,4],\"y\":[\"x\",\"y\",\"z\"],\"z\":[[1,2,3,4,5],[10,20,30,20,10],[5,4,3,2,1]],\"type\":\"surface\"}],                        {\"legend\":{\"bgcolor\":\"#F5F6F9\",\"font\":{\"color\":\"#4D5663\"}},\"paper_bgcolor\":\"#F5F6F9\",\"plot_bgcolor\":\"#F5F6F9\",\"template\":{\"data\":{\"barpolar\":[{\"marker\":{\"line\":{\"color\":\"#E5ECF6\",\"width\":0.5},\"pattern\":{\"fillmode\":\"overlay\",\"size\":10,\"solidity\":0.2}},\"type\":\"barpolar\"}],\"bar\":[{\"error_x\":{\"color\":\"#2a3f5f\"},\"error_y\":{\"color\":\"#2a3f5f\"},\"marker\":{\"line\":{\"color\":\"#E5ECF6\",\"width\":0.5},\"pattern\":{\"fillmode\":\"overlay\",\"size\":10,\"solidity\":0.2}},\"type\":\"bar\"}],\"carpet\":[{\"aaxis\":{\"endlinecolor\":\"#2a3f5f\",\"gridcolor\":\"white\",\"linecolor\":\"white\",\"minorgridcolor\":\"white\",\"startlinecolor\":\"#2a3f5f\"},\"baxis\":{\"endlinecolor\":\"#2a3f5f\",\"gridcolor\":\"white\",\"linecolor\":\"white\",\"minorgridcolor\":\"white\",\"startlinecolor\":\"#2a3f5f\"},\"type\":\"carpet\"}],\"choropleth\":[{\"colorbar\":{\"outlinewidth\":0,\"ticks\":\"\"},\"type\":\"choropleth\"}],\"contourcarpet\":[{\"colorbar\":{\"outlinewidth\":0,\"ticks\":\"\"},\"type\":\"contourcarpet\"}],\"contour\":[{\"colorbar\":{\"outlinewidth\":0,\"ticks\":\"\"},\"colorscale\":[[0.0,\"#0d0887\"],[0.1111111111111111,\"#46039f\"],[0.2222222222222222,\"#7201a8\"],[0.3333333333333333,\"#9c179e\"],[0.4444444444444444,\"#bd3786\"],[0.5555555555555556,\"#d8576b\"],[0.6666666666666666,\"#ed7953\"],[0.7777777777777778,\"#fb9f3a\"],[0.8888888888888888,\"#fdca26\"],[1.0,\"#f0f921\"]],\"type\":\"contour\"}],\"heatmapgl\":[{\"colorbar\":{\"outlinewidth\":0,\"ticks\":\"\"},\"colorscale\":[[0.0,\"#0d0887\"],[0.1111111111111111,\"#46039f\"],[0.2222222222222222,\"#7201a8\"],[0.3333333333333333,\"#9c179e\"],[0.4444444444444444,\"#bd3786\"],[0.5555555555555556,\"#d8576b\"],[0.6666666666666666,\"#ed7953\"],[0.7777777777777778,\"#fb9f3a\"],[0.8888888888888888,\"#fdca26\"],[1.0,\"#f0f921\"]],\"type\":\"heatmapgl\"}],\"heatmap\":[{\"colorbar\":{\"outlinewidth\":0,\"ticks\":\"\"},\"colorscale\":[[0.0,\"#0d0887\"],[0.1111111111111111,\"#46039f\"],[0.2222222222222222,\"#7201a8\"],[0.3333333333333333,\"#9c179e\"],[0.4444444444444444,\"#bd3786\"],[0.5555555555555556,\"#d8576b\"],[0.6666666666666666,\"#ed7953\"],[0.7777777777777778,\"#fb9f3a\"],[0.8888888888888888,\"#fdca26\"],[1.0,\"#f0f921\"]],\"type\":\"heatmap\"}],\"histogram2dcontour\":[{\"colorbar\":{\"outlinewidth\":0,\"ticks\":\"\"},\"colorscale\":[[0.0,\"#0d0887\"],[0.1111111111111111,\"#46039f\"],[0.2222222222222222,\"#7201a8\"],[0.3333333333333333,\"#9c179e\"],[0.4444444444444444,\"#bd3786\"],[0.5555555555555556,\"#d8576b\"],[0.6666666666666666,\"#ed7953\"],[0.7777777777777778,\"#fb9f3a\"],[0.8888888888888888,\"#fdca26\"],[1.0,\"#f0f921\"]],\"type\":\"histogram2dcontour\"}],\"histogram2d\":[{\"colorbar\":{\"outlinewidth\":0,\"ticks\":\"\"},\"colorscale\":[[0.0,\"#0d0887\"],[0.1111111111111111,\"#46039f\"],[0.2222222222222222,\"#7201a8\"],[0.3333333333333333,\"#9c179e\"],[0.4444444444444444,\"#bd3786\"],[0.5555555555555556,\"#d8576b\"],[0.6666666666666666,\"#ed7953\"],[0.7777777777777778,\"#fb9f3a\"],[0.8888888888888888,\"#fdca26\"],[1.0,\"#f0f921\"]],\"type\":\"histogram2d\"}],\"histogram\":[{\"marker\":{\"pattern\":{\"fillmode\":\"overlay\",\"size\":10,\"solidity\":0.2}},\"type\":\"histogram\"}],\"mesh3d\":[{\"colorbar\":{\"outlinewidth\":0,\"ticks\":\"\"},\"type\":\"mesh3d\"}],\"parcoords\":[{\"line\":{\"colorbar\":{\"outlinewidth\":0,\"ticks\":\"\"}},\"type\":\"parcoords\"}],\"pie\":[{\"automargin\":true,\"type\":\"pie\"}],\"scatter3d\":[{\"line\":{\"colorbar\":{\"outlinewidth\":0,\"ticks\":\"\"}},\"marker\":{\"colorbar\":{\"outlinewidth\":0,\"ticks\":\"\"}},\"type\":\"scatter3d\"}],\"scattercarpet\":[{\"marker\":{\"colorbar\":{\"outlinewidth\":0,\"ticks\":\"\"}},\"type\":\"scattercarpet\"}],\"scattergeo\":[{\"marker\":{\"colorbar\":{\"outlinewidth\":0,\"ticks\":\"\"}},\"type\":\"scattergeo\"}],\"scattergl\":[{\"marker\":{\"colorbar\":{\"outlinewidth\":0,\"ticks\":\"\"}},\"type\":\"scattergl\"}],\"scattermapbox\":[{\"marker\":{\"colorbar\":{\"outlinewidth\":0,\"ticks\":\"\"}},\"type\":\"scattermapbox\"}],\"scatterpolargl\":[{\"marker\":{\"colorbar\":{\"outlinewidth\":0,\"ticks\":\"\"}},\"type\":\"scatterpolargl\"}],\"scatterpolar\":[{\"marker\":{\"colorbar\":{\"outlinewidth\":0,\"ticks\":\"\"}},\"type\":\"scatterpolar\"}],\"scatter\":[{\"marker\":{\"colorbar\":{\"outlinewidth\":0,\"ticks\":\"\"}},\"type\":\"scatter\"}],\"scatterternary\":[{\"marker\":{\"colorbar\":{\"outlinewidth\":0,\"ticks\":\"\"}},\"type\":\"scatterternary\"}],\"surface\":[{\"colorbar\":{\"outlinewidth\":0,\"ticks\":\"\"},\"colorscale\":[[0.0,\"#0d0887\"],[0.1111111111111111,\"#46039f\"],[0.2222222222222222,\"#7201a8\"],[0.3333333333333333,\"#9c179e\"],[0.4444444444444444,\"#bd3786\"],[0.5555555555555556,\"#d8576b\"],[0.6666666666666666,\"#ed7953\"],[0.7777777777777778,\"#fb9f3a\"],[0.8888888888888888,\"#fdca26\"],[1.0,\"#f0f921\"]],\"type\":\"surface\"}],\"table\":[{\"cells\":{\"fill\":{\"color\":\"#EBF0F8\"},\"line\":{\"color\":\"white\"}},\"header\":{\"fill\":{\"color\":\"#C8D4E3\"},\"line\":{\"color\":\"white\"}},\"type\":\"table\"}]},\"layout\":{\"annotationdefaults\":{\"arrowcolor\":\"#2a3f5f\",\"arrowhead\":0,\"arrowwidth\":1},\"autotypenumbers\":\"strict\",\"coloraxis\":{\"colorbar\":{\"outlinewidth\":0,\"ticks\":\"\"}},\"colorscale\":{\"diverging\":[[0,\"#8e0152\"],[0.1,\"#c51b7d\"],[0.2,\"#de77ae\"],[0.3,\"#f1b6da\"],[0.4,\"#fde0ef\"],[0.5,\"#f7f7f7\"],[0.6,\"#e6f5d0\"],[0.7,\"#b8e186\"],[0.8,\"#7fbc41\"],[0.9,\"#4d9221\"],[1,\"#276419\"]],\"sequential\":[[0.0,\"#0d0887\"],[0.1111111111111111,\"#46039f\"],[0.2222222222222222,\"#7201a8\"],[0.3333333333333333,\"#9c179e\"],[0.4444444444444444,\"#bd3786\"],[0.5555555555555556,\"#d8576b\"],[0.6666666666666666,\"#ed7953\"],[0.7777777777777778,\"#fb9f3a\"],[0.8888888888888888,\"#fdca26\"],[1.0,\"#f0f921\"]],\"sequentialminus\":[[0.0,\"#0d0887\"],[0.1111111111111111,\"#46039f\"],[0.2222222222222222,\"#7201a8\"],[0.3333333333333333,\"#9c179e\"],[0.4444444444444444,\"#bd3786\"],[0.5555555555555556,\"#d8576b\"],[0.6666666666666666,\"#ed7953\"],[0.7777777777777778,\"#fb9f3a\"],[0.8888888888888888,\"#fdca26\"],[1.0,\"#f0f921\"]]},\"colorway\":[\"#636efa\",\"#EF553B\",\"#00cc96\",\"#ab63fa\",\"#FFA15A\",\"#19d3f3\",\"#FF6692\",\"#B6E880\",\"#FF97FF\",\"#FECB52\"],\"font\":{\"color\":\"#2a3f5f\"},\"geo\":{\"bgcolor\":\"white\",\"lakecolor\":\"white\",\"landcolor\":\"#E5ECF6\",\"showlakes\":true,\"showland\":true,\"subunitcolor\":\"white\"},\"hoverlabel\":{\"align\":\"left\"},\"hovermode\":\"closest\",\"mapbox\":{\"style\":\"light\"},\"paper_bgcolor\":\"white\",\"plot_bgcolor\":\"#E5ECF6\",\"polar\":{\"angularaxis\":{\"gridcolor\":\"white\",\"linecolor\":\"white\",\"ticks\":\"\"},\"bgcolor\":\"#E5ECF6\",\"radialaxis\":{\"gridcolor\":\"white\",\"linecolor\":\"white\",\"ticks\":\"\"}},\"scene\":{\"xaxis\":{\"backgroundcolor\":\"#E5ECF6\",\"gridcolor\":\"white\",\"gridwidth\":2,\"linecolor\":\"white\",\"showbackground\":true,\"ticks\":\"\",\"zerolinecolor\":\"white\"},\"yaxis\":{\"backgroundcolor\":\"#E5ECF6\",\"gridcolor\":\"white\",\"gridwidth\":2,\"linecolor\":\"white\",\"showbackground\":true,\"ticks\":\"\",\"zerolinecolor\":\"white\"},\"zaxis\":{\"backgroundcolor\":\"#E5ECF6\",\"gridcolor\":\"white\",\"gridwidth\":2,\"linecolor\":\"white\",\"showbackground\":true,\"ticks\":\"\",\"zerolinecolor\":\"white\"}},\"shapedefaults\":{\"line\":{\"color\":\"#2a3f5f\"}},\"ternary\":{\"aaxis\":{\"gridcolor\":\"white\",\"linecolor\":\"white\",\"ticks\":\"\"},\"baxis\":{\"gridcolor\":\"white\",\"linecolor\":\"white\",\"ticks\":\"\"},\"bgcolor\":\"#E5ECF6\",\"caxis\":{\"gridcolor\":\"white\",\"linecolor\":\"white\",\"ticks\":\"\"}},\"title\":{\"x\":0.05},\"xaxis\":{\"automargin\":true,\"gridcolor\":\"white\",\"linecolor\":\"white\",\"ticks\":\"\",\"title\":{\"standoff\":15},\"zerolinecolor\":\"white\",\"zerolinewidth\":2},\"yaxis\":{\"automargin\":true,\"gridcolor\":\"white\",\"linecolor\":\"white\",\"ticks\":\"\",\"title\":{\"standoff\":15},\"zerolinecolor\":\"white\",\"zerolinewidth\":2}}},\"title\":{\"font\":{\"color\":\"#4D5663\"}},\"xaxis\":{\"gridcolor\":\"#E1E5ED\",\"showgrid\":true,\"tickfont\":{\"color\":\"#4D5663\"},\"title\":{\"font\":{\"color\":\"#4D5663\"},\"text\":\"\"},\"zerolinecolor\":\"#E1E5ED\"},\"yaxis\":{\"gridcolor\":\"#E1E5ED\",\"showgrid\":true,\"tickfont\":{\"color\":\"#4D5663\"},\"title\":{\"font\":{\"color\":\"#4D5663\"},\"text\":\"\"},\"zerolinecolor\":\"#E1E5ED\"}},                        {\"showLink\": true, \"linkText\": \"Export to plot.ly\", \"plotlyServerURL\": \"https://plot.ly\", \"responsive\": true}                    ).then(function(){\n",
       "                            \n",
       "var gd = document.getElementById('e3fcb990-c61b-421d-abac-5c119862be90');\n",
       "var x = new MutationObserver(function (mutations, observer) {{\n",
       "        var display = window.getComputedStyle(gd).display;\n",
       "        if (!display || display === 'none') {{\n",
       "            console.log([gd, 'removed!']);\n",
       "            Plotly.purge(gd);\n",
       "            observer.disconnect();\n",
       "        }}\n",
       "}});\n",
       "\n",
       "// Listen for the removal of the full notebook cells\n",
       "var notebookContainer = gd.closest('#notebook-container');\n",
       "if (notebookContainer) {{\n",
       "    x.observe(notebookContainer, {childList: true});\n",
       "}}\n",
       "\n",
       "// Listen for the clearing of the current output cell\n",
       "var outputEl = gd.closest('.output');\n",
       "if (outputEl) {{\n",
       "    x.observe(outputEl, {childList: true});\n",
       "}}\n",
       "\n",
       "                        })                };                });            </script>        </div>"
      ]
     },
     "metadata": {},
     "output_type": "display_data"
    }
   ],
   "source": [
    "df3 = pd.DataFrame({'x':[1,2,3,4,5],'y':[10,20,30,20,10],'z':[5,4,3,2,1]})\n",
    "df3.iplot(kind='surface',colorscale='rdylbu')"
   ]
  },
  {
   "cell_type": "markdown",
   "metadata": {},
   "source": [
    "## Spread"
   ]
  },
  {
   "cell_type": "code",
   "execution_count": 15,
   "metadata": {},
   "outputs": [
    {
     "name": "stderr",
     "output_type": "stream",
     "text": [
      "/home/nata/anaconda3/lib/python3.9/site-packages/cufflinks/plotlytools.py:849: FutureWarning:\n",
      "\n",
      "The pandas.np module is deprecated and will be removed from pandas in a future version. Import numpy directly instead.\n",
      "\n",
      "/home/nata/anaconda3/lib/python3.9/site-packages/cufflinks/plotlytools.py:850: FutureWarning:\n",
      "\n",
      "The pandas.np module is deprecated and will be removed from pandas in a future version. Import numpy directly instead.\n",
      "\n"
     ]
    },
    {
     "data": {
      "application/vnd.plotly.v1+json": {
       "config": {
        "linkText": "Export to plot.ly",
        "plotlyServerURL": "https://plot.ly",
        "showLink": true
       },
       "data": [
        {
         "line": {
          "color": "rgba(255, 153, 51, 1.0)",
          "dash": "solid",
          "shape": "linear",
          "width": 1.3
         },
         "mode": "lines",
         "name": "A",
         "text": "",
         "type": "scatter",
         "x": [
          0,
          1,
          2,
          3,
          4,
          5,
          6,
          7,
          8,
          9,
          10,
          11,
          12,
          13,
          14,
          15,
          16,
          17,
          18,
          19,
          20,
          21,
          22,
          23,
          24,
          25,
          26,
          27,
          28,
          29,
          30,
          31,
          32,
          33,
          34,
          35,
          36,
          37,
          38,
          39,
          40,
          41,
          42,
          43,
          44,
          45,
          46,
          47,
          48,
          49,
          50,
          51,
          52,
          53,
          54,
          55,
          56,
          57,
          58,
          59,
          60,
          61,
          62,
          63,
          64,
          65,
          66,
          67,
          68,
          69,
          70,
          71,
          72,
          73,
          74,
          75,
          76,
          77,
          78,
          79,
          80,
          81,
          82,
          83,
          84,
          85,
          86,
          87,
          88,
          89,
          90,
          91,
          92,
          93,
          94,
          95,
          96,
          97,
          98,
          99
         ],
         "y": [
          0.9736909845664095,
          0.7453931702353471,
          -0.584055336541668,
          -0.23334317308454516,
          -0.7000980818831816,
          1.2640163141919862,
          0.1949923139470877,
          -0.1139424012300454,
          -1.2154052780343019,
          0.9427148962218297,
          -1.2916405932264694,
          0.9578217204912421,
          -0.837880408525564,
          0.04477730952604257,
          0.0383397555239589,
          -0.920388783780331,
          -0.4586856113547915,
          0.7711816847785313,
          0.34059770984713117,
          -1.5809372479586077,
          -1.6190220344139687,
          0.3208625363690133,
          -0.49880220411246723,
          1.7723673511636662,
          -0.37465832280229444,
          0.7826818967840763,
          -0.9382489946574548,
          0.256628562558935,
          -1.6435417552082037,
          0.2687912226590109,
          1.668421072838317,
          0.446353712790004,
          -0.6072554223605655,
          0.5991032352457688,
          -0.3258627556643973,
          1.0260743695545573,
          -1.171157562633884,
          -0.44721741902651935,
          -0.18974526127380406,
          2.690862185966791,
          -0.21341778348335275,
          1.3729489381133875,
          -0.761964462794412,
          -0.23813834441552054,
          0.2423835554502911,
          -0.29077186439934116,
          -1.0641484336030078,
          -0.9732442423717599,
          1.8692008067241,
          0.5688039761828222,
          0.5279236226278071,
          -1.9290273692427853,
          1.2050717665153194,
          0.09187426815692153,
          -0.46421003832585644,
          0.6395964134920199,
          -0.9210542655891115,
          -0.560210249597593,
          -0.15267149948701025,
          -0.11142177214842656,
          0.34833270402904304,
          0.49643314031171515,
          -1.3313665867483626,
          -0.436011570352057,
          -1.78046187609948,
          -0.32036274436060913,
          -1.015612399766101,
          0.5202821890468927,
          0.29159316903345855,
          -1.9088228832243033,
          -0.24376450985073603,
          0.22652240535890608,
          -0.7841859784980002,
          -1.5267580055035477,
          0.5064174250880061,
          0.3367433054611338,
          1.2199465314945819,
          0.6193045429044992,
          -0.1405866691128178,
          1.320617620238819,
          -0.23845004768408265,
          0.8678499324373304,
          -0.6783635389878114,
          0.30629054690212754,
          0.6242536199934187,
          -0.6305479765356926,
          0.05971608490631798,
          0.8076378833495368,
          0.23280226611831248,
          1.8486962032262002,
          -1.0288160629884067,
          -1.0514112023277025,
          -2.0322145049930698,
          -0.08895985707025184,
          -0.17232298550624023,
          0.6276671416998708,
          0.834125433775937,
          0.24959890970492207,
          0.2627700269025718,
          0.002893684758850433
         ]
        },
        {
         "line": {
          "color": "rgba(55, 128, 191, 1.0)",
          "dash": "solid",
          "shape": "linear",
          "width": 1.3
         },
         "mode": "lines",
         "name": "B",
         "text": "",
         "type": "scatter",
         "x": [
          0,
          1,
          2,
          3,
          4,
          5,
          6,
          7,
          8,
          9,
          10,
          11,
          12,
          13,
          14,
          15,
          16,
          17,
          18,
          19,
          20,
          21,
          22,
          23,
          24,
          25,
          26,
          27,
          28,
          29,
          30,
          31,
          32,
          33,
          34,
          35,
          36,
          37,
          38,
          39,
          40,
          41,
          42,
          43,
          44,
          45,
          46,
          47,
          48,
          49,
          50,
          51,
          52,
          53,
          54,
          55,
          56,
          57,
          58,
          59,
          60,
          61,
          62,
          63,
          64,
          65,
          66,
          67,
          68,
          69,
          70,
          71,
          72,
          73,
          74,
          75,
          76,
          77,
          78,
          79,
          80,
          81,
          82,
          83,
          84,
          85,
          86,
          87,
          88,
          89,
          90,
          91,
          92,
          93,
          94,
          95,
          96,
          97,
          98,
          99
         ],
         "y": [
          0.860487843415082,
          -0.1976076039773233,
          -0.48481821153381505,
          0.14681919989176692,
          1.3592898678691712,
          2.066687883890864,
          -1.5032945817436838,
          1.3945675564569295,
          -0.04778910964737012,
          -1.2129972364699224,
          1.4589311431911625,
          -0.44069477393216305,
          -1.0435081413404528,
          0.6889781462830233,
          -2.213980890594844,
          0.6142355502042238,
          0.2260184570472683,
          -0.9165795796993379,
          -0.1667415626821347,
          -0.2554626201939413,
          -1.037991147602794,
          -0.8800628951247182,
          -0.7005643966674218,
          -0.3802764846634866,
          -0.12296879928841947,
          1.1635838305936397,
          0.5044729405730749,
          -0.3344445850503148,
          -0.3912012746825815,
          -0.25437660692898856,
          -0.8500678690004732,
          -0.41509806198294447,
          2.03493032292298,
          -1.3314385730253768,
          0.29751356353402864,
          -0.7175580186337933,
          2.5113785520970975,
          -0.6095147542383219,
          -0.5088955997912352,
          1.0220677584987925,
          -2.0438870657446477,
          -1.4908273980005247,
          0.12922499574597024,
          -0.4915401118468228,
          0.3779801515751991,
          -0.8226774144982794,
          0.23284890744200148,
          1.2765999108951942,
          -0.1702716710359278,
          -0.6189082703607539,
          0.8749414426661444,
          1.5406104624426746,
          1.7099060314859462,
          -0.07706149742235652,
          0.9858023695881741,
          0.22317834251016266,
          -0.49721352987147677,
          0.6682973129617311,
          0.43169956246317065,
          -1.0918939029648713,
          0.10018235296733681,
          -0.989913227534258,
          0.021947372274293164,
          -1.0024193179032603,
          -0.8787782554290655,
          -0.5720097332195477,
          0.8790488723520122,
          -0.2562276873444926,
          -0.10326826791614217,
          -1.0134751880346335,
          0.8186055168917588,
          -0.22477040395132783,
          -0.24677109148501306,
          -1.5863247065897887,
          0.040629157884486754,
          -0.6435318145872875,
          0.5096173013346691,
          -1.4134405583436804,
          -0.9856650606127185,
          -1.332899924654395,
          -0.835689521985187,
          0.3509325415930457,
          0.2056437884096933,
          -1.8424841475984346,
          0.5953401809010593,
          -1.7016661494206462,
          0.3769197833430828,
          -0.08986765037176148,
          -0.26464943856144885,
          0.2996702121775819,
          -0.08513347629466395,
          -0.14318734590020804,
          -0.9397532454122348,
          -0.5072370450741972,
          -1.4064823254410985,
          0.5674390471645528,
          -1.3449602849704938,
          -2.2250731965123873,
          2.7083825895071967,
          -0.45632096832043334
         ]
        },
        {
         "connectgaps": false,
         "fill": "tozeroy",
         "line": {
          "color": "green",
          "dash": "solid",
          "shape": "linear",
          "width": 0.5
         },
         "mode": "lines",
         "name": "Spread",
         "showlegend": false,
         "type": "scatter",
         "x": [
          0,
          1,
          2,
          3,
          4,
          5,
          6,
          7,
          8,
          9,
          10,
          11,
          12,
          13,
          14,
          15,
          16,
          17,
          18,
          19,
          20,
          21,
          22,
          23,
          24,
          25,
          26,
          27,
          28,
          29,
          30,
          31,
          32,
          33,
          34,
          35,
          36,
          37,
          38,
          39,
          40,
          41,
          42,
          43,
          44,
          45,
          46,
          47,
          48,
          49,
          50,
          51,
          52,
          53,
          54,
          55,
          56,
          57,
          58,
          59,
          60,
          61,
          62,
          63,
          64,
          65,
          66,
          67,
          68,
          69,
          70,
          71,
          72,
          73,
          74,
          75,
          76,
          77,
          78,
          79,
          80,
          81,
          82,
          83,
          84,
          85,
          86,
          87,
          88,
          89,
          90,
          91,
          92,
          93,
          94,
          95,
          96,
          97,
          98,
          99
         ],
         "xaxis": "x2",
         "y": [
          0.11320314115132746,
          0.9430007742126705,
          "",
          "",
          "",
          "",
          1.6982868956907715,
          "",
          "",
          2.155712132691752,
          "",
          1.3985164944234052,
          0.20562773281488878,
          "",
          2.252320646118803,
          "",
          "",
          1.6877612644778692,
          0.5073392725292658,
          "",
          "",
          1.2009254314937317,
          0.20176219255495453,
          2.1526438358271527,
          "",
          "",
          "",
          0.5910731476092499,
          "",
          0.5231678295879995,
          2.51848894183879,
          0.8614517747729484,
          "",
          1.9305418082711456,
          "",
          1.7436323881883506,
          "",
          0.16229733521180256,
          0.31915033851743113,
          1.6687944274679984,
          1.830469282261295,
          2.8637763361139124,
          "",
          0.25340176743130227,
          "",
          0.5319055500989383,
          "",
          "",
          2.039472477760028,
          1.187712246543576,
          "",
          "",
          "",
          0.16893576557927803,
          "",
          0.41641807098185724,
          "",
          "",
          "",
          0.9804721308164448,
          0.24815035106170624,
          1.4863463678459732,
          "",
          0.5664077475512033,
          "",
          0.2516469888589386,
          "",
          0.7765098763913854,
          0.39486143694960074,
          "",
          "",
          0.4512928093102339,
          "",
          0.05956670108624107,
          0.4657882672035194,
          0.9802751200484212,
          0.7103292301599128,
          2.03274510124818,
          0.8450783914999007,
          2.653517544893214,
          0.5972394743011044,
          0.5169173908442848,
          "",
          2.1487746945005624,
          0.028913439092359328,
          1.0711181728849537,
          "",
          0.8975055337212983,
          0.4974517046797613,
          1.5490259910486184,
          "",
          "",
          "",
          0.41827718800394537,
          1.2341593399348583,
          0.060228094535317966,
          2.179085718746431,
          2.4746721062173096,
          "",
          0.4592146530792838
         ],
         "yaxis": "y2"
        },
        {
         "connectgaps": false,
         "fill": "tozeroy",
         "line": {
          "color": "red",
          "dash": "solid",
          "shape": "linear",
          "width": 0.5
         },
         "mode": "lines",
         "name": "Spread",
         "showlegend": false,
         "type": "scatter",
         "x": [
          0,
          1,
          2,
          3,
          4,
          5,
          6,
          7,
          8,
          9,
          10,
          11,
          12,
          13,
          14,
          15,
          16,
          17,
          18,
          19,
          20,
          21,
          22,
          23,
          24,
          25,
          26,
          27,
          28,
          29,
          30,
          31,
          32,
          33,
          34,
          35,
          36,
          37,
          38,
          39,
          40,
          41,
          42,
          43,
          44,
          45,
          46,
          47,
          48,
          49,
          50,
          51,
          52,
          53,
          54,
          55,
          56,
          57,
          58,
          59,
          60,
          61,
          62,
          63,
          64,
          65,
          66,
          67,
          68,
          69,
          70,
          71,
          72,
          73,
          74,
          75,
          76,
          77,
          78,
          79,
          80,
          81,
          82,
          83,
          84,
          85,
          86,
          87,
          88,
          89,
          90,
          91,
          92,
          93,
          94,
          95,
          96,
          97,
          98,
          99
         ],
         "xaxis": "x2",
         "y": [
          "",
          "",
          -0.09923712500785292,
          -0.38016237297631206,
          -2.059387949752353,
          -0.8026715696988778,
          "",
          -1.508509957686975,
          -1.1676161683869317,
          "",
          -2.7505717364176316,
          "",
          "",
          -0.6442008367569808,
          "",
          -1.5346243339845547,
          -0.6847040684020598,
          "",
          "",
          -1.3254746277646663,
          -0.5810308868111747,
          "",
          "",
          "",
          -0.25168952351387497,
          -0.3809019338095634,
          -1.4427219352305296,
          "",
          -1.2523404805256222,
          "",
          "",
          "",
          -2.6421857452835456,
          "",
          -0.623376319198426,
          "",
          -3.6825361147309814,
          "",
          "",
          "",
          "",
          "",
          -0.8911894585403822,
          "",
          -0.135596596124908,
          "",
          -1.2969973410450093,
          -2.249844153266954,
          "",
          "",
          -0.34701782003833725,
          -3.4696378316854597,
          -0.5048342649706268,
          "",
          -1.4500124079140306,
          "",
          -0.42384073571763475,
          -1.228507562559324,
          -0.584371061950181,
          "",
          "",
          "",
          -1.3533139590226557,
          "",
          -0.9016836206704144,
          "",
          -1.8946612721181133,
          "",
          "",
          -0.8953476951896697,
          -1.0623700267424947,
          "",
          -0.5374148870129871,
          "",
          "",
          "",
          "",
          "",
          "",
          "",
          "",
          "",
          -0.8840073273975048,
          "",
          "",
          "",
          -0.3172036984367648,
          "",
          "",
          "",
          -0.9436825866937427,
          -0.9082238564274945,
          -1.092461259580835,
          "",
          "",
          "",
          "",
          "",
          -2.445612562604625,
          ""
         ],
         "yaxis": "y2"
        }
       ],
       "layout": {
        "hovermode": "x",
        "legend": {
         "bgcolor": "#F5F6F9",
         "font": {
          "color": "#4D5663"
         }
        },
        "paper_bgcolor": "#F5F6F9",
        "plot_bgcolor": "#F5F6F9",
        "template": {
         "data": {
          "bar": [
           {
            "error_x": {
             "color": "#2a3f5f"
            },
            "error_y": {
             "color": "#2a3f5f"
            },
            "marker": {
             "line": {
              "color": "#E5ECF6",
              "width": 0.5
             },
             "pattern": {
              "fillmode": "overlay",
              "size": 10,
              "solidity": 0.2
             }
            },
            "type": "bar"
           }
          ],
          "barpolar": [
           {
            "marker": {
             "line": {
              "color": "#E5ECF6",
              "width": 0.5
             },
             "pattern": {
              "fillmode": "overlay",
              "size": 10,
              "solidity": 0.2
             }
            },
            "type": "barpolar"
           }
          ],
          "carpet": [
           {
            "aaxis": {
             "endlinecolor": "#2a3f5f",
             "gridcolor": "white",
             "linecolor": "white",
             "minorgridcolor": "white",
             "startlinecolor": "#2a3f5f"
            },
            "baxis": {
             "endlinecolor": "#2a3f5f",
             "gridcolor": "white",
             "linecolor": "white",
             "minorgridcolor": "white",
             "startlinecolor": "#2a3f5f"
            },
            "type": "carpet"
           }
          ],
          "choropleth": [
           {
            "colorbar": {
             "outlinewidth": 0,
             "ticks": ""
            },
            "type": "choropleth"
           }
          ],
          "contour": [
           {
            "colorbar": {
             "outlinewidth": 0,
             "ticks": ""
            },
            "colorscale": [
             [
              0,
              "#0d0887"
             ],
             [
              0.1111111111111111,
              "#46039f"
             ],
             [
              0.2222222222222222,
              "#7201a8"
             ],
             [
              0.3333333333333333,
              "#9c179e"
             ],
             [
              0.4444444444444444,
              "#bd3786"
             ],
             [
              0.5555555555555556,
              "#d8576b"
             ],
             [
              0.6666666666666666,
              "#ed7953"
             ],
             [
              0.7777777777777778,
              "#fb9f3a"
             ],
             [
              0.8888888888888888,
              "#fdca26"
             ],
             [
              1,
              "#f0f921"
             ]
            ],
            "type": "contour"
           }
          ],
          "contourcarpet": [
           {
            "colorbar": {
             "outlinewidth": 0,
             "ticks": ""
            },
            "type": "contourcarpet"
           }
          ],
          "heatmap": [
           {
            "colorbar": {
             "outlinewidth": 0,
             "ticks": ""
            },
            "colorscale": [
             [
              0,
              "#0d0887"
             ],
             [
              0.1111111111111111,
              "#46039f"
             ],
             [
              0.2222222222222222,
              "#7201a8"
             ],
             [
              0.3333333333333333,
              "#9c179e"
             ],
             [
              0.4444444444444444,
              "#bd3786"
             ],
             [
              0.5555555555555556,
              "#d8576b"
             ],
             [
              0.6666666666666666,
              "#ed7953"
             ],
             [
              0.7777777777777778,
              "#fb9f3a"
             ],
             [
              0.8888888888888888,
              "#fdca26"
             ],
             [
              1,
              "#f0f921"
             ]
            ],
            "type": "heatmap"
           }
          ],
          "heatmapgl": [
           {
            "colorbar": {
             "outlinewidth": 0,
             "ticks": ""
            },
            "colorscale": [
             [
              0,
              "#0d0887"
             ],
             [
              0.1111111111111111,
              "#46039f"
             ],
             [
              0.2222222222222222,
              "#7201a8"
             ],
             [
              0.3333333333333333,
              "#9c179e"
             ],
             [
              0.4444444444444444,
              "#bd3786"
             ],
             [
              0.5555555555555556,
              "#d8576b"
             ],
             [
              0.6666666666666666,
              "#ed7953"
             ],
             [
              0.7777777777777778,
              "#fb9f3a"
             ],
             [
              0.8888888888888888,
              "#fdca26"
             ],
             [
              1,
              "#f0f921"
             ]
            ],
            "type": "heatmapgl"
           }
          ],
          "histogram": [
           {
            "marker": {
             "pattern": {
              "fillmode": "overlay",
              "size": 10,
              "solidity": 0.2
             }
            },
            "type": "histogram"
           }
          ],
          "histogram2d": [
           {
            "colorbar": {
             "outlinewidth": 0,
             "ticks": ""
            },
            "colorscale": [
             [
              0,
              "#0d0887"
             ],
             [
              0.1111111111111111,
              "#46039f"
             ],
             [
              0.2222222222222222,
              "#7201a8"
             ],
             [
              0.3333333333333333,
              "#9c179e"
             ],
             [
              0.4444444444444444,
              "#bd3786"
             ],
             [
              0.5555555555555556,
              "#d8576b"
             ],
             [
              0.6666666666666666,
              "#ed7953"
             ],
             [
              0.7777777777777778,
              "#fb9f3a"
             ],
             [
              0.8888888888888888,
              "#fdca26"
             ],
             [
              1,
              "#f0f921"
             ]
            ],
            "type": "histogram2d"
           }
          ],
          "histogram2dcontour": [
           {
            "colorbar": {
             "outlinewidth": 0,
             "ticks": ""
            },
            "colorscale": [
             [
              0,
              "#0d0887"
             ],
             [
              0.1111111111111111,
              "#46039f"
             ],
             [
              0.2222222222222222,
              "#7201a8"
             ],
             [
              0.3333333333333333,
              "#9c179e"
             ],
             [
              0.4444444444444444,
              "#bd3786"
             ],
             [
              0.5555555555555556,
              "#d8576b"
             ],
             [
              0.6666666666666666,
              "#ed7953"
             ],
             [
              0.7777777777777778,
              "#fb9f3a"
             ],
             [
              0.8888888888888888,
              "#fdca26"
             ],
             [
              1,
              "#f0f921"
             ]
            ],
            "type": "histogram2dcontour"
           }
          ],
          "mesh3d": [
           {
            "colorbar": {
             "outlinewidth": 0,
             "ticks": ""
            },
            "type": "mesh3d"
           }
          ],
          "parcoords": [
           {
            "line": {
             "colorbar": {
              "outlinewidth": 0,
              "ticks": ""
             }
            },
            "type": "parcoords"
           }
          ],
          "pie": [
           {
            "automargin": true,
            "type": "pie"
           }
          ],
          "scatter": [
           {
            "marker": {
             "colorbar": {
              "outlinewidth": 0,
              "ticks": ""
             }
            },
            "type": "scatter"
           }
          ],
          "scatter3d": [
           {
            "line": {
             "colorbar": {
              "outlinewidth": 0,
              "ticks": ""
             }
            },
            "marker": {
             "colorbar": {
              "outlinewidth": 0,
              "ticks": ""
             }
            },
            "type": "scatter3d"
           }
          ],
          "scattercarpet": [
           {
            "marker": {
             "colorbar": {
              "outlinewidth": 0,
              "ticks": ""
             }
            },
            "type": "scattercarpet"
           }
          ],
          "scattergeo": [
           {
            "marker": {
             "colorbar": {
              "outlinewidth": 0,
              "ticks": ""
             }
            },
            "type": "scattergeo"
           }
          ],
          "scattergl": [
           {
            "marker": {
             "colorbar": {
              "outlinewidth": 0,
              "ticks": ""
             }
            },
            "type": "scattergl"
           }
          ],
          "scattermapbox": [
           {
            "marker": {
             "colorbar": {
              "outlinewidth": 0,
              "ticks": ""
             }
            },
            "type": "scattermapbox"
           }
          ],
          "scatterpolar": [
           {
            "marker": {
             "colorbar": {
              "outlinewidth": 0,
              "ticks": ""
             }
            },
            "type": "scatterpolar"
           }
          ],
          "scatterpolargl": [
           {
            "marker": {
             "colorbar": {
              "outlinewidth": 0,
              "ticks": ""
             }
            },
            "type": "scatterpolargl"
           }
          ],
          "scatterternary": [
           {
            "marker": {
             "colorbar": {
              "outlinewidth": 0,
              "ticks": ""
             }
            },
            "type": "scatterternary"
           }
          ],
          "surface": [
           {
            "colorbar": {
             "outlinewidth": 0,
             "ticks": ""
            },
            "colorscale": [
             [
              0,
              "#0d0887"
             ],
             [
              0.1111111111111111,
              "#46039f"
             ],
             [
              0.2222222222222222,
              "#7201a8"
             ],
             [
              0.3333333333333333,
              "#9c179e"
             ],
             [
              0.4444444444444444,
              "#bd3786"
             ],
             [
              0.5555555555555556,
              "#d8576b"
             ],
             [
              0.6666666666666666,
              "#ed7953"
             ],
             [
              0.7777777777777778,
              "#fb9f3a"
             ],
             [
              0.8888888888888888,
              "#fdca26"
             ],
             [
              1,
              "#f0f921"
             ]
            ],
            "type": "surface"
           }
          ],
          "table": [
           {
            "cells": {
             "fill": {
              "color": "#EBF0F8"
             },
             "line": {
              "color": "white"
             }
            },
            "header": {
             "fill": {
              "color": "#C8D4E3"
             },
             "line": {
              "color": "white"
             }
            },
            "type": "table"
           }
          ]
         },
         "layout": {
          "annotationdefaults": {
           "arrowcolor": "#2a3f5f",
           "arrowhead": 0,
           "arrowwidth": 1
          },
          "autotypenumbers": "strict",
          "coloraxis": {
           "colorbar": {
            "outlinewidth": 0,
            "ticks": ""
           }
          },
          "colorscale": {
           "diverging": [
            [
             0,
             "#8e0152"
            ],
            [
             0.1,
             "#c51b7d"
            ],
            [
             0.2,
             "#de77ae"
            ],
            [
             0.3,
             "#f1b6da"
            ],
            [
             0.4,
             "#fde0ef"
            ],
            [
             0.5,
             "#f7f7f7"
            ],
            [
             0.6,
             "#e6f5d0"
            ],
            [
             0.7,
             "#b8e186"
            ],
            [
             0.8,
             "#7fbc41"
            ],
            [
             0.9,
             "#4d9221"
            ],
            [
             1,
             "#276419"
            ]
           ],
           "sequential": [
            [
             0,
             "#0d0887"
            ],
            [
             0.1111111111111111,
             "#46039f"
            ],
            [
             0.2222222222222222,
             "#7201a8"
            ],
            [
             0.3333333333333333,
             "#9c179e"
            ],
            [
             0.4444444444444444,
             "#bd3786"
            ],
            [
             0.5555555555555556,
             "#d8576b"
            ],
            [
             0.6666666666666666,
             "#ed7953"
            ],
            [
             0.7777777777777778,
             "#fb9f3a"
            ],
            [
             0.8888888888888888,
             "#fdca26"
            ],
            [
             1,
             "#f0f921"
            ]
           ],
           "sequentialminus": [
            [
             0,
             "#0d0887"
            ],
            [
             0.1111111111111111,
             "#46039f"
            ],
            [
             0.2222222222222222,
             "#7201a8"
            ],
            [
             0.3333333333333333,
             "#9c179e"
            ],
            [
             0.4444444444444444,
             "#bd3786"
            ],
            [
             0.5555555555555556,
             "#d8576b"
            ],
            [
             0.6666666666666666,
             "#ed7953"
            ],
            [
             0.7777777777777778,
             "#fb9f3a"
            ],
            [
             0.8888888888888888,
             "#fdca26"
            ],
            [
             1,
             "#f0f921"
            ]
           ]
          },
          "colorway": [
           "#636efa",
           "#EF553B",
           "#00cc96",
           "#ab63fa",
           "#FFA15A",
           "#19d3f3",
           "#FF6692",
           "#B6E880",
           "#FF97FF",
           "#FECB52"
          ],
          "font": {
           "color": "#2a3f5f"
          },
          "geo": {
           "bgcolor": "white",
           "lakecolor": "white",
           "landcolor": "#E5ECF6",
           "showlakes": true,
           "showland": true,
           "subunitcolor": "white"
          },
          "hoverlabel": {
           "align": "left"
          },
          "hovermode": "closest",
          "mapbox": {
           "style": "light"
          },
          "paper_bgcolor": "white",
          "plot_bgcolor": "#E5ECF6",
          "polar": {
           "angularaxis": {
            "gridcolor": "white",
            "linecolor": "white",
            "ticks": ""
           },
           "bgcolor": "#E5ECF6",
           "radialaxis": {
            "gridcolor": "white",
            "linecolor": "white",
            "ticks": ""
           }
          },
          "scene": {
           "xaxis": {
            "backgroundcolor": "#E5ECF6",
            "gridcolor": "white",
            "gridwidth": 2,
            "linecolor": "white",
            "showbackground": true,
            "ticks": "",
            "zerolinecolor": "white"
           },
           "yaxis": {
            "backgroundcolor": "#E5ECF6",
            "gridcolor": "white",
            "gridwidth": 2,
            "linecolor": "white",
            "showbackground": true,
            "ticks": "",
            "zerolinecolor": "white"
           },
           "zaxis": {
            "backgroundcolor": "#E5ECF6",
            "gridcolor": "white",
            "gridwidth": 2,
            "linecolor": "white",
            "showbackground": true,
            "ticks": "",
            "zerolinecolor": "white"
           }
          },
          "shapedefaults": {
           "line": {
            "color": "#2a3f5f"
           }
          },
          "ternary": {
           "aaxis": {
            "gridcolor": "white",
            "linecolor": "white",
            "ticks": ""
           },
           "baxis": {
            "gridcolor": "white",
            "linecolor": "white",
            "ticks": ""
           },
           "bgcolor": "#E5ECF6",
           "caxis": {
            "gridcolor": "white",
            "linecolor": "white",
            "ticks": ""
           }
          },
          "title": {
           "x": 0.05
          },
          "xaxis": {
           "automargin": true,
           "gridcolor": "white",
           "linecolor": "white",
           "ticks": "",
           "title": {
            "standoff": 15
           },
           "zerolinecolor": "white",
           "zerolinewidth": 2
          },
          "yaxis": {
           "automargin": true,
           "gridcolor": "white",
           "linecolor": "white",
           "ticks": "",
           "title": {
            "standoff": 15
           },
           "zerolinecolor": "white",
           "zerolinewidth": 2
          }
         }
        },
        "title": {
         "font": {
          "color": "#4D5663"
         }
        },
        "xaxis": {
         "gridcolor": "#E1E5ED",
         "showgrid": true,
         "tickfont": {
          "color": "#4D5663"
         },
         "title": {
          "font": {
           "color": "#4D5663"
          },
          "text": ""
         },
         "zerolinecolor": "#E1E5ED"
        },
        "xaxis2": {
         "anchor": "y2",
         "gridcolor": "#E1E5ED",
         "showgrid": true,
         "showticklabels": false,
         "tickfont": {
          "color": "#4D5663"
         },
         "title": {
          "font": {
           "color": "#4D5663"
          },
          "text": ""
         },
         "zerolinecolor": "#E1E5ED"
        },
        "yaxis": {
         "domain": [
          0.3,
          1
         ],
         "gridcolor": "#E1E5ED",
         "showgrid": true,
         "tickfont": {
          "color": "#4D5663"
         },
         "title": {
          "font": {
           "color": "#4D5663"
          },
          "text": ""
         },
         "zerolinecolor": "#E1E5ED"
        },
        "yaxis2": {
         "domain": [
          0,
          0.25
         ],
         "gridcolor": "#E1E5ED",
         "showgrid": true,
         "tickfont": {
          "color": "#4D5663"
         },
         "title": {
          "font": {
           "color": "#4D5663"
          },
          "text": "Spread"
         },
         "zerolinecolor": "#E1E5ED"
        }
       }
      },
      "text/html": [
       "<div>                            <div id=\"30697144-f8c1-473b-9848-730e7278f275\" class=\"plotly-graph-div\" style=\"height:525px; width:100%;\"></div>            <script type=\"text/javascript\">                require([\"plotly\"], function(Plotly) {                    window.PLOTLYENV=window.PLOTLYENV || {};\n",
       "                    window.PLOTLYENV.BASE_URL='https://plot.ly';                                    if (document.getElementById(\"30697144-f8c1-473b-9848-730e7278f275\")) {                    Plotly.newPlot(                        \"30697144-f8c1-473b-9848-730e7278f275\",                        [{\"line\":{\"color\":\"rgba(255, 153, 51, 1.0)\",\"dash\":\"solid\",\"shape\":\"linear\",\"width\":1.3},\"mode\":\"lines\",\"name\":\"A\",\"text\":\"\",\"x\":[0,1,2,3,4,5,6,7,8,9,10,11,12,13,14,15,16,17,18,19,20,21,22,23,24,25,26,27,28,29,30,31,32,33,34,35,36,37,38,39,40,41,42,43,44,45,46,47,48,49,50,51,52,53,54,55,56,57,58,59,60,61,62,63,64,65,66,67,68,69,70,71,72,73,74,75,76,77,78,79,80,81,82,83,84,85,86,87,88,89,90,91,92,93,94,95,96,97,98,99],\"y\":[0.9736909845664095,0.7453931702353471,-0.584055336541668,-0.23334317308454516,-0.7000980818831816,1.2640163141919862,0.1949923139470877,-0.1139424012300454,-1.2154052780343019,0.9427148962218297,-1.2916405932264694,0.9578217204912421,-0.837880408525564,0.04477730952604257,0.0383397555239589,-0.920388783780331,-0.4586856113547915,0.7711816847785313,0.34059770984713117,-1.5809372479586077,-1.6190220344139687,0.3208625363690133,-0.49880220411246723,1.7723673511636662,-0.37465832280229444,0.7826818967840763,-0.9382489946574548,0.256628562558935,-1.6435417552082037,0.2687912226590109,1.668421072838317,0.446353712790004,-0.6072554223605655,0.5991032352457688,-0.3258627556643973,1.0260743695545573,-1.171157562633884,-0.44721741902651935,-0.18974526127380406,2.690862185966791,-0.21341778348335275,1.3729489381133875,-0.761964462794412,-0.23813834441552054,0.2423835554502911,-0.29077186439934116,-1.0641484336030078,-0.9732442423717599,1.8692008067241,0.5688039761828222,0.5279236226278071,-1.9290273692427853,1.2050717665153194,0.09187426815692153,-0.46421003832585644,0.6395964134920199,-0.9210542655891115,-0.560210249597593,-0.15267149948701025,-0.11142177214842656,0.34833270402904304,0.49643314031171515,-1.3313665867483626,-0.436011570352057,-1.78046187609948,-0.32036274436060913,-1.015612399766101,0.5202821890468927,0.29159316903345855,-1.9088228832243033,-0.24376450985073603,0.22652240535890608,-0.7841859784980002,-1.5267580055035477,0.5064174250880061,0.3367433054611338,1.2199465314945819,0.6193045429044992,-0.1405866691128178,1.320617620238819,-0.23845004768408265,0.8678499324373304,-0.6783635389878114,0.30629054690212754,0.6242536199934187,-0.6305479765356926,0.05971608490631798,0.8076378833495368,0.23280226611831248,1.8486962032262002,-1.0288160629884067,-1.0514112023277025,-2.0322145049930698,-0.08895985707025184,-0.17232298550624023,0.6276671416998708,0.834125433775937,0.24959890970492207,0.2627700269025718,0.002893684758850433],\"type\":\"scatter\"},{\"line\":{\"color\":\"rgba(55, 128, 191, 1.0)\",\"dash\":\"solid\",\"shape\":\"linear\",\"width\":1.3},\"mode\":\"lines\",\"name\":\"B\",\"text\":\"\",\"x\":[0,1,2,3,4,5,6,7,8,9,10,11,12,13,14,15,16,17,18,19,20,21,22,23,24,25,26,27,28,29,30,31,32,33,34,35,36,37,38,39,40,41,42,43,44,45,46,47,48,49,50,51,52,53,54,55,56,57,58,59,60,61,62,63,64,65,66,67,68,69,70,71,72,73,74,75,76,77,78,79,80,81,82,83,84,85,86,87,88,89,90,91,92,93,94,95,96,97,98,99],\"y\":[0.860487843415082,-0.1976076039773233,-0.48481821153381505,0.14681919989176692,1.3592898678691712,2.066687883890864,-1.5032945817436838,1.3945675564569295,-0.04778910964737012,-1.2129972364699224,1.4589311431911625,-0.44069477393216305,-1.0435081413404528,0.6889781462830233,-2.213980890594844,0.6142355502042238,0.2260184570472683,-0.9165795796993379,-0.1667415626821347,-0.2554626201939413,-1.037991147602794,-0.8800628951247182,-0.7005643966674218,-0.3802764846634866,-0.12296879928841947,1.1635838305936397,0.5044729405730749,-0.3344445850503148,-0.3912012746825815,-0.25437660692898856,-0.8500678690004732,-0.41509806198294447,2.03493032292298,-1.3314385730253768,0.29751356353402864,-0.7175580186337933,2.5113785520970975,-0.6095147542383219,-0.5088955997912352,1.0220677584987925,-2.0438870657446477,-1.4908273980005247,0.12922499574597024,-0.4915401118468228,0.3779801515751991,-0.8226774144982794,0.23284890744200148,1.2765999108951942,-0.1702716710359278,-0.6189082703607539,0.8749414426661444,1.5406104624426746,1.7099060314859462,-0.07706149742235652,0.9858023695881741,0.22317834251016266,-0.49721352987147677,0.6682973129617311,0.43169956246317065,-1.0918939029648713,0.10018235296733681,-0.989913227534258,0.021947372274293164,-1.0024193179032603,-0.8787782554290655,-0.5720097332195477,0.8790488723520122,-0.2562276873444926,-0.10326826791614217,-1.0134751880346335,0.8186055168917588,-0.22477040395132783,-0.24677109148501306,-1.5863247065897887,0.040629157884486754,-0.6435318145872875,0.5096173013346691,-1.4134405583436804,-0.9856650606127185,-1.332899924654395,-0.835689521985187,0.3509325415930457,0.2056437884096933,-1.8424841475984346,0.5953401809010593,-1.7016661494206462,0.3769197833430828,-0.08986765037176148,-0.26464943856144885,0.2996702121775819,-0.08513347629466395,-0.14318734590020804,-0.9397532454122348,-0.5072370450741972,-1.4064823254410985,0.5674390471645528,-1.3449602849704938,-2.2250731965123873,2.7083825895071967,-0.45632096832043334],\"type\":\"scatter\"},{\"connectgaps\":false,\"fill\":\"tozeroy\",\"line\":{\"color\":\"green\",\"dash\":\"solid\",\"shape\":\"linear\",\"width\":0.5},\"mode\":\"lines\",\"name\":\"Spread\",\"showlegend\":false,\"x\":[0,1,2,3,4,5,6,7,8,9,10,11,12,13,14,15,16,17,18,19,20,21,22,23,24,25,26,27,28,29,30,31,32,33,34,35,36,37,38,39,40,41,42,43,44,45,46,47,48,49,50,51,52,53,54,55,56,57,58,59,60,61,62,63,64,65,66,67,68,69,70,71,72,73,74,75,76,77,78,79,80,81,82,83,84,85,86,87,88,89,90,91,92,93,94,95,96,97,98,99],\"xaxis\":\"x2\",\"y\":[0.11320314115132746,0.9430007742126705,\"\",\"\",\"\",\"\",1.6982868956907715,\"\",\"\",2.155712132691752,\"\",1.3985164944234052,0.20562773281488878,\"\",2.252320646118803,\"\",\"\",1.6877612644778692,0.5073392725292658,\"\",\"\",1.2009254314937317,0.20176219255495453,2.1526438358271527,\"\",\"\",\"\",0.5910731476092499,\"\",0.5231678295879995,2.51848894183879,0.8614517747729484,\"\",1.9305418082711456,\"\",1.7436323881883506,\"\",0.16229733521180256,0.31915033851743113,1.6687944274679984,1.830469282261295,2.8637763361139124,\"\",0.25340176743130227,\"\",0.5319055500989383,\"\",\"\",2.039472477760028,1.187712246543576,\"\",\"\",\"\",0.16893576557927803,\"\",0.41641807098185724,\"\",\"\",\"\",0.9804721308164448,0.24815035106170624,1.4863463678459732,\"\",0.5664077475512033,\"\",0.2516469888589386,\"\",0.7765098763913854,0.39486143694960074,\"\",\"\",0.4512928093102339,\"\",0.05956670108624107,0.4657882672035194,0.9802751200484212,0.7103292301599128,2.03274510124818,0.8450783914999007,2.653517544893214,0.5972394743011044,0.5169173908442848,\"\",2.1487746945005624,0.028913439092359328,1.0711181728849537,\"\",0.8975055337212983,0.4974517046797613,1.5490259910486184,\"\",\"\",\"\",0.41827718800394537,1.2341593399348583,0.060228094535317966,2.179085718746431,2.4746721062173096,\"\",0.4592146530792838],\"yaxis\":\"y2\",\"type\":\"scatter\"},{\"connectgaps\":false,\"fill\":\"tozeroy\",\"line\":{\"color\":\"red\",\"dash\":\"solid\",\"shape\":\"linear\",\"width\":0.5},\"mode\":\"lines\",\"name\":\"Spread\",\"showlegend\":false,\"x\":[0,1,2,3,4,5,6,7,8,9,10,11,12,13,14,15,16,17,18,19,20,21,22,23,24,25,26,27,28,29,30,31,32,33,34,35,36,37,38,39,40,41,42,43,44,45,46,47,48,49,50,51,52,53,54,55,56,57,58,59,60,61,62,63,64,65,66,67,68,69,70,71,72,73,74,75,76,77,78,79,80,81,82,83,84,85,86,87,88,89,90,91,92,93,94,95,96,97,98,99],\"xaxis\":\"x2\",\"y\":[\"\",\"\",-0.09923712500785292,-0.38016237297631206,-2.059387949752353,-0.8026715696988778,\"\",-1.508509957686975,-1.1676161683869317,\"\",-2.7505717364176316,\"\",\"\",-0.6442008367569808,\"\",-1.5346243339845547,-0.6847040684020598,\"\",\"\",-1.3254746277646663,-0.5810308868111747,\"\",\"\",\"\",-0.25168952351387497,-0.3809019338095634,-1.4427219352305296,\"\",-1.2523404805256222,\"\",\"\",\"\",-2.6421857452835456,\"\",-0.623376319198426,\"\",-3.6825361147309814,\"\",\"\",\"\",\"\",\"\",-0.8911894585403822,\"\",-0.135596596124908,\"\",-1.2969973410450093,-2.249844153266954,\"\",\"\",-0.34701782003833725,-3.4696378316854597,-0.5048342649706268,\"\",-1.4500124079140306,\"\",-0.42384073571763475,-1.228507562559324,-0.584371061950181,\"\",\"\",\"\",-1.3533139590226557,\"\",-0.9016836206704144,\"\",-1.8946612721181133,\"\",\"\",-0.8953476951896697,-1.0623700267424947,\"\",-0.5374148870129871,\"\",\"\",\"\",\"\",\"\",\"\",\"\",\"\",\"\",-0.8840073273975048,\"\",\"\",\"\",-0.3172036984367648,\"\",\"\",\"\",-0.9436825866937427,-0.9082238564274945,-1.092461259580835,\"\",\"\",\"\",\"\",\"\",-2.445612562604625,\"\"],\"yaxis\":\"y2\",\"type\":\"scatter\"}],                        {\"hovermode\":\"x\",\"legend\":{\"bgcolor\":\"#F5F6F9\",\"font\":{\"color\":\"#4D5663\"}},\"paper_bgcolor\":\"#F5F6F9\",\"plot_bgcolor\":\"#F5F6F9\",\"template\":{\"data\":{\"barpolar\":[{\"marker\":{\"line\":{\"color\":\"#E5ECF6\",\"width\":0.5},\"pattern\":{\"fillmode\":\"overlay\",\"size\":10,\"solidity\":0.2}},\"type\":\"barpolar\"}],\"bar\":[{\"error_x\":{\"color\":\"#2a3f5f\"},\"error_y\":{\"color\":\"#2a3f5f\"},\"marker\":{\"line\":{\"color\":\"#E5ECF6\",\"width\":0.5},\"pattern\":{\"fillmode\":\"overlay\",\"size\":10,\"solidity\":0.2}},\"type\":\"bar\"}],\"carpet\":[{\"aaxis\":{\"endlinecolor\":\"#2a3f5f\",\"gridcolor\":\"white\",\"linecolor\":\"white\",\"minorgridcolor\":\"white\",\"startlinecolor\":\"#2a3f5f\"},\"baxis\":{\"endlinecolor\":\"#2a3f5f\",\"gridcolor\":\"white\",\"linecolor\":\"white\",\"minorgridcolor\":\"white\",\"startlinecolor\":\"#2a3f5f\"},\"type\":\"carpet\"}],\"choropleth\":[{\"colorbar\":{\"outlinewidth\":0,\"ticks\":\"\"},\"type\":\"choropleth\"}],\"contourcarpet\":[{\"colorbar\":{\"outlinewidth\":0,\"ticks\":\"\"},\"type\":\"contourcarpet\"}],\"contour\":[{\"colorbar\":{\"outlinewidth\":0,\"ticks\":\"\"},\"colorscale\":[[0.0,\"#0d0887\"],[0.1111111111111111,\"#46039f\"],[0.2222222222222222,\"#7201a8\"],[0.3333333333333333,\"#9c179e\"],[0.4444444444444444,\"#bd3786\"],[0.5555555555555556,\"#d8576b\"],[0.6666666666666666,\"#ed7953\"],[0.7777777777777778,\"#fb9f3a\"],[0.8888888888888888,\"#fdca26\"],[1.0,\"#f0f921\"]],\"type\":\"contour\"}],\"heatmapgl\":[{\"colorbar\":{\"outlinewidth\":0,\"ticks\":\"\"},\"colorscale\":[[0.0,\"#0d0887\"],[0.1111111111111111,\"#46039f\"],[0.2222222222222222,\"#7201a8\"],[0.3333333333333333,\"#9c179e\"],[0.4444444444444444,\"#bd3786\"],[0.5555555555555556,\"#d8576b\"],[0.6666666666666666,\"#ed7953\"],[0.7777777777777778,\"#fb9f3a\"],[0.8888888888888888,\"#fdca26\"],[1.0,\"#f0f921\"]],\"type\":\"heatmapgl\"}],\"heatmap\":[{\"colorbar\":{\"outlinewidth\":0,\"ticks\":\"\"},\"colorscale\":[[0.0,\"#0d0887\"],[0.1111111111111111,\"#46039f\"],[0.2222222222222222,\"#7201a8\"],[0.3333333333333333,\"#9c179e\"],[0.4444444444444444,\"#bd3786\"],[0.5555555555555556,\"#d8576b\"],[0.6666666666666666,\"#ed7953\"],[0.7777777777777778,\"#fb9f3a\"],[0.8888888888888888,\"#fdca26\"],[1.0,\"#f0f921\"]],\"type\":\"heatmap\"}],\"histogram2dcontour\":[{\"colorbar\":{\"outlinewidth\":0,\"ticks\":\"\"},\"colorscale\":[[0.0,\"#0d0887\"],[0.1111111111111111,\"#46039f\"],[0.2222222222222222,\"#7201a8\"],[0.3333333333333333,\"#9c179e\"],[0.4444444444444444,\"#bd3786\"],[0.5555555555555556,\"#d8576b\"],[0.6666666666666666,\"#ed7953\"],[0.7777777777777778,\"#fb9f3a\"],[0.8888888888888888,\"#fdca26\"],[1.0,\"#f0f921\"]],\"type\":\"histogram2dcontour\"}],\"histogram2d\":[{\"colorbar\":{\"outlinewidth\":0,\"ticks\":\"\"},\"colorscale\":[[0.0,\"#0d0887\"],[0.1111111111111111,\"#46039f\"],[0.2222222222222222,\"#7201a8\"],[0.3333333333333333,\"#9c179e\"],[0.4444444444444444,\"#bd3786\"],[0.5555555555555556,\"#d8576b\"],[0.6666666666666666,\"#ed7953\"],[0.7777777777777778,\"#fb9f3a\"],[0.8888888888888888,\"#fdca26\"],[1.0,\"#f0f921\"]],\"type\":\"histogram2d\"}],\"histogram\":[{\"marker\":{\"pattern\":{\"fillmode\":\"overlay\",\"size\":10,\"solidity\":0.2}},\"type\":\"histogram\"}],\"mesh3d\":[{\"colorbar\":{\"outlinewidth\":0,\"ticks\":\"\"},\"type\":\"mesh3d\"}],\"parcoords\":[{\"line\":{\"colorbar\":{\"outlinewidth\":0,\"ticks\":\"\"}},\"type\":\"parcoords\"}],\"pie\":[{\"automargin\":true,\"type\":\"pie\"}],\"scatter3d\":[{\"line\":{\"colorbar\":{\"outlinewidth\":0,\"ticks\":\"\"}},\"marker\":{\"colorbar\":{\"outlinewidth\":0,\"ticks\":\"\"}},\"type\":\"scatter3d\"}],\"scattercarpet\":[{\"marker\":{\"colorbar\":{\"outlinewidth\":0,\"ticks\":\"\"}},\"type\":\"scattercarpet\"}],\"scattergeo\":[{\"marker\":{\"colorbar\":{\"outlinewidth\":0,\"ticks\":\"\"}},\"type\":\"scattergeo\"}],\"scattergl\":[{\"marker\":{\"colorbar\":{\"outlinewidth\":0,\"ticks\":\"\"}},\"type\":\"scattergl\"}],\"scattermapbox\":[{\"marker\":{\"colorbar\":{\"outlinewidth\":0,\"ticks\":\"\"}},\"type\":\"scattermapbox\"}],\"scatterpolargl\":[{\"marker\":{\"colorbar\":{\"outlinewidth\":0,\"ticks\":\"\"}},\"type\":\"scatterpolargl\"}],\"scatterpolar\":[{\"marker\":{\"colorbar\":{\"outlinewidth\":0,\"ticks\":\"\"}},\"type\":\"scatterpolar\"}],\"scatter\":[{\"marker\":{\"colorbar\":{\"outlinewidth\":0,\"ticks\":\"\"}},\"type\":\"scatter\"}],\"scatterternary\":[{\"marker\":{\"colorbar\":{\"outlinewidth\":0,\"ticks\":\"\"}},\"type\":\"scatterternary\"}],\"surface\":[{\"colorbar\":{\"outlinewidth\":0,\"ticks\":\"\"},\"colorscale\":[[0.0,\"#0d0887\"],[0.1111111111111111,\"#46039f\"],[0.2222222222222222,\"#7201a8\"],[0.3333333333333333,\"#9c179e\"],[0.4444444444444444,\"#bd3786\"],[0.5555555555555556,\"#d8576b\"],[0.6666666666666666,\"#ed7953\"],[0.7777777777777778,\"#fb9f3a\"],[0.8888888888888888,\"#fdca26\"],[1.0,\"#f0f921\"]],\"type\":\"surface\"}],\"table\":[{\"cells\":{\"fill\":{\"color\":\"#EBF0F8\"},\"line\":{\"color\":\"white\"}},\"header\":{\"fill\":{\"color\":\"#C8D4E3\"},\"line\":{\"color\":\"white\"}},\"type\":\"table\"}]},\"layout\":{\"annotationdefaults\":{\"arrowcolor\":\"#2a3f5f\",\"arrowhead\":0,\"arrowwidth\":1},\"autotypenumbers\":\"strict\",\"coloraxis\":{\"colorbar\":{\"outlinewidth\":0,\"ticks\":\"\"}},\"colorscale\":{\"diverging\":[[0,\"#8e0152\"],[0.1,\"#c51b7d\"],[0.2,\"#de77ae\"],[0.3,\"#f1b6da\"],[0.4,\"#fde0ef\"],[0.5,\"#f7f7f7\"],[0.6,\"#e6f5d0\"],[0.7,\"#b8e186\"],[0.8,\"#7fbc41\"],[0.9,\"#4d9221\"],[1,\"#276419\"]],\"sequential\":[[0.0,\"#0d0887\"],[0.1111111111111111,\"#46039f\"],[0.2222222222222222,\"#7201a8\"],[0.3333333333333333,\"#9c179e\"],[0.4444444444444444,\"#bd3786\"],[0.5555555555555556,\"#d8576b\"],[0.6666666666666666,\"#ed7953\"],[0.7777777777777778,\"#fb9f3a\"],[0.8888888888888888,\"#fdca26\"],[1.0,\"#f0f921\"]],\"sequentialminus\":[[0.0,\"#0d0887\"],[0.1111111111111111,\"#46039f\"],[0.2222222222222222,\"#7201a8\"],[0.3333333333333333,\"#9c179e\"],[0.4444444444444444,\"#bd3786\"],[0.5555555555555556,\"#d8576b\"],[0.6666666666666666,\"#ed7953\"],[0.7777777777777778,\"#fb9f3a\"],[0.8888888888888888,\"#fdca26\"],[1.0,\"#f0f921\"]]},\"colorway\":[\"#636efa\",\"#EF553B\",\"#00cc96\",\"#ab63fa\",\"#FFA15A\",\"#19d3f3\",\"#FF6692\",\"#B6E880\",\"#FF97FF\",\"#FECB52\"],\"font\":{\"color\":\"#2a3f5f\"},\"geo\":{\"bgcolor\":\"white\",\"lakecolor\":\"white\",\"landcolor\":\"#E5ECF6\",\"showlakes\":true,\"showland\":true,\"subunitcolor\":\"white\"},\"hoverlabel\":{\"align\":\"left\"},\"hovermode\":\"closest\",\"mapbox\":{\"style\":\"light\"},\"paper_bgcolor\":\"white\",\"plot_bgcolor\":\"#E5ECF6\",\"polar\":{\"angularaxis\":{\"gridcolor\":\"white\",\"linecolor\":\"white\",\"ticks\":\"\"},\"bgcolor\":\"#E5ECF6\",\"radialaxis\":{\"gridcolor\":\"white\",\"linecolor\":\"white\",\"ticks\":\"\"}},\"scene\":{\"xaxis\":{\"backgroundcolor\":\"#E5ECF6\",\"gridcolor\":\"white\",\"gridwidth\":2,\"linecolor\":\"white\",\"showbackground\":true,\"ticks\":\"\",\"zerolinecolor\":\"white\"},\"yaxis\":{\"backgroundcolor\":\"#E5ECF6\",\"gridcolor\":\"white\",\"gridwidth\":2,\"linecolor\":\"white\",\"showbackground\":true,\"ticks\":\"\",\"zerolinecolor\":\"white\"},\"zaxis\":{\"backgroundcolor\":\"#E5ECF6\",\"gridcolor\":\"white\",\"gridwidth\":2,\"linecolor\":\"white\",\"showbackground\":true,\"ticks\":\"\",\"zerolinecolor\":\"white\"}},\"shapedefaults\":{\"line\":{\"color\":\"#2a3f5f\"}},\"ternary\":{\"aaxis\":{\"gridcolor\":\"white\",\"linecolor\":\"white\",\"ticks\":\"\"},\"baxis\":{\"gridcolor\":\"white\",\"linecolor\":\"white\",\"ticks\":\"\"},\"bgcolor\":\"#E5ECF6\",\"caxis\":{\"gridcolor\":\"white\",\"linecolor\":\"white\",\"ticks\":\"\"}},\"title\":{\"x\":0.05},\"xaxis\":{\"automargin\":true,\"gridcolor\":\"white\",\"linecolor\":\"white\",\"ticks\":\"\",\"title\":{\"standoff\":15},\"zerolinecolor\":\"white\",\"zerolinewidth\":2},\"yaxis\":{\"automargin\":true,\"gridcolor\":\"white\",\"linecolor\":\"white\",\"ticks\":\"\",\"title\":{\"standoff\":15},\"zerolinecolor\":\"white\",\"zerolinewidth\":2}}},\"title\":{\"font\":{\"color\":\"#4D5663\"}},\"xaxis\":{\"gridcolor\":\"#E1E5ED\",\"showgrid\":true,\"tickfont\":{\"color\":\"#4D5663\"},\"title\":{\"font\":{\"color\":\"#4D5663\"},\"text\":\"\"},\"zerolinecolor\":\"#E1E5ED\"},\"yaxis\":{\"domain\":[0.3,1],\"gridcolor\":\"#E1E5ED\",\"showgrid\":true,\"tickfont\":{\"color\":\"#4D5663\"},\"title\":{\"font\":{\"color\":\"#4D5663\"},\"text\":\"\"},\"zerolinecolor\":\"#E1E5ED\"},\"yaxis2\":{\"domain\":[0,0.25],\"gridcolor\":\"#E1E5ED\",\"showgrid\":true,\"tickfont\":{\"color\":\"#4D5663\"},\"title\":{\"font\":{\"color\":\"#4D5663\"},\"text\":\"Spread\"},\"zerolinecolor\":\"#E1E5ED\"},\"xaxis2\":{\"anchor\":\"y2\",\"gridcolor\":\"#E1E5ED\",\"showgrid\":true,\"showticklabels\":false,\"tickfont\":{\"color\":\"#4D5663\"},\"title\":{\"font\":{\"color\":\"#4D5663\"},\"text\":\"\"},\"zerolinecolor\":\"#E1E5ED\"}},                        {\"showLink\": true, \"linkText\": \"Export to plot.ly\", \"plotlyServerURL\": \"https://plot.ly\", \"responsive\": true}                    ).then(function(){\n",
       "                            \n",
       "var gd = document.getElementById('30697144-f8c1-473b-9848-730e7278f275');\n",
       "var x = new MutationObserver(function (mutations, observer) {{\n",
       "        var display = window.getComputedStyle(gd).display;\n",
       "        if (!display || display === 'none') {{\n",
       "            console.log([gd, 'removed!']);\n",
       "            Plotly.purge(gd);\n",
       "            observer.disconnect();\n",
       "        }}\n",
       "}});\n",
       "\n",
       "// Listen for the removal of the full notebook cells\n",
       "var notebookContainer = gd.closest('#notebook-container');\n",
       "if (notebookContainer) {{\n",
       "    x.observe(notebookContainer, {childList: true});\n",
       "}}\n",
       "\n",
       "// Listen for the clearing of the current output cell\n",
       "var outputEl = gd.closest('.output');\n",
       "if (outputEl) {{\n",
       "    x.observe(outputEl, {childList: true});\n",
       "}}\n",
       "\n",
       "                        })                };                });            </script>        </div>"
      ]
     },
     "metadata": {},
     "output_type": "display_data"
    }
   ],
   "source": [
    "df[['A','B']].iplot(kind='spread');"
   ]
  },
  {
   "cell_type": "markdown",
   "metadata": {},
   "source": [
    "## histogram"
   ]
  },
  {
   "cell_type": "code",
   "execution_count": 16,
   "metadata": {},
   "outputs": [
    {
     "data": {
      "application/vnd.plotly.v1+json": {
       "config": {
        "linkText": "Export to plot.ly",
        "plotlyServerURL": "https://plot.ly",
        "showLink": true
       },
       "data": [
        {
         "histfunc": "count",
         "histnorm": "",
         "marker": {
          "color": "rgba(255, 153, 51, 1.0)",
          "line": {
           "color": "#4D5663",
           "width": 1.3
          }
         },
         "name": "A",
         "nbinsx": 25,
         "opacity": 0.8,
         "orientation": "v",
         "type": "histogram",
         "x": [
          0.9736909845664095,
          0.7453931702353471,
          -0.584055336541668,
          -0.23334317308454516,
          -0.7000980818831816,
          1.2640163141919862,
          0.1949923139470877,
          -0.1139424012300454,
          -1.2154052780343019,
          0.9427148962218297,
          -1.2916405932264694,
          0.9578217204912421,
          -0.837880408525564,
          0.04477730952604257,
          0.0383397555239589,
          -0.920388783780331,
          -0.4586856113547915,
          0.7711816847785313,
          0.34059770984713117,
          -1.5809372479586077,
          -1.6190220344139687,
          0.3208625363690133,
          -0.49880220411246723,
          1.7723673511636662,
          -0.37465832280229444,
          0.7826818967840763,
          -0.9382489946574548,
          0.256628562558935,
          -1.6435417552082037,
          0.2687912226590109,
          1.668421072838317,
          0.446353712790004,
          -0.6072554223605655,
          0.5991032352457688,
          -0.3258627556643973,
          1.0260743695545573,
          -1.171157562633884,
          -0.44721741902651935,
          -0.18974526127380406,
          2.690862185966791,
          -0.21341778348335275,
          1.3729489381133875,
          -0.761964462794412,
          -0.23813834441552054,
          0.2423835554502911,
          -0.29077186439934116,
          -1.0641484336030078,
          -0.9732442423717599,
          1.8692008067241,
          0.5688039761828222,
          0.5279236226278071,
          -1.9290273692427853,
          1.2050717665153194,
          0.09187426815692153,
          -0.46421003832585644,
          0.6395964134920199,
          -0.9210542655891115,
          -0.560210249597593,
          -0.15267149948701025,
          -0.11142177214842656,
          0.34833270402904304,
          0.49643314031171515,
          -1.3313665867483626,
          -0.436011570352057,
          -1.78046187609948,
          -0.32036274436060913,
          -1.015612399766101,
          0.5202821890468927,
          0.29159316903345855,
          -1.9088228832243033,
          -0.24376450985073603,
          0.22652240535890608,
          -0.7841859784980002,
          -1.5267580055035477,
          0.5064174250880061,
          0.3367433054611338,
          1.2199465314945819,
          0.6193045429044992,
          -0.1405866691128178,
          1.320617620238819,
          -0.23845004768408265,
          0.8678499324373304,
          -0.6783635389878114,
          0.30629054690212754,
          0.6242536199934187,
          -0.6305479765356926,
          0.05971608490631798,
          0.8076378833495368,
          0.23280226611831248,
          1.8486962032262002,
          -1.0288160629884067,
          -1.0514112023277025,
          -2.0322145049930698,
          -0.08895985707025184,
          -0.17232298550624023,
          0.6276671416998708,
          0.834125433775937,
          0.24959890970492207,
          0.2627700269025718,
          0.002893684758850433
         ]
        }
       ],
       "layout": {
        "barmode": "overlay",
        "legend": {
         "bgcolor": "#F5F6F9",
         "font": {
          "color": "#4D5663"
         }
        },
        "paper_bgcolor": "#F5F6F9",
        "plot_bgcolor": "#F5F6F9",
        "template": {
         "data": {
          "bar": [
           {
            "error_x": {
             "color": "#2a3f5f"
            },
            "error_y": {
             "color": "#2a3f5f"
            },
            "marker": {
             "line": {
              "color": "#E5ECF6",
              "width": 0.5
             },
             "pattern": {
              "fillmode": "overlay",
              "size": 10,
              "solidity": 0.2
             }
            },
            "type": "bar"
           }
          ],
          "barpolar": [
           {
            "marker": {
             "line": {
              "color": "#E5ECF6",
              "width": 0.5
             },
             "pattern": {
              "fillmode": "overlay",
              "size": 10,
              "solidity": 0.2
             }
            },
            "type": "barpolar"
           }
          ],
          "carpet": [
           {
            "aaxis": {
             "endlinecolor": "#2a3f5f",
             "gridcolor": "white",
             "linecolor": "white",
             "minorgridcolor": "white",
             "startlinecolor": "#2a3f5f"
            },
            "baxis": {
             "endlinecolor": "#2a3f5f",
             "gridcolor": "white",
             "linecolor": "white",
             "minorgridcolor": "white",
             "startlinecolor": "#2a3f5f"
            },
            "type": "carpet"
           }
          ],
          "choropleth": [
           {
            "colorbar": {
             "outlinewidth": 0,
             "ticks": ""
            },
            "type": "choropleth"
           }
          ],
          "contour": [
           {
            "colorbar": {
             "outlinewidth": 0,
             "ticks": ""
            },
            "colorscale": [
             [
              0,
              "#0d0887"
             ],
             [
              0.1111111111111111,
              "#46039f"
             ],
             [
              0.2222222222222222,
              "#7201a8"
             ],
             [
              0.3333333333333333,
              "#9c179e"
             ],
             [
              0.4444444444444444,
              "#bd3786"
             ],
             [
              0.5555555555555556,
              "#d8576b"
             ],
             [
              0.6666666666666666,
              "#ed7953"
             ],
             [
              0.7777777777777778,
              "#fb9f3a"
             ],
             [
              0.8888888888888888,
              "#fdca26"
             ],
             [
              1,
              "#f0f921"
             ]
            ],
            "type": "contour"
           }
          ],
          "contourcarpet": [
           {
            "colorbar": {
             "outlinewidth": 0,
             "ticks": ""
            },
            "type": "contourcarpet"
           }
          ],
          "heatmap": [
           {
            "colorbar": {
             "outlinewidth": 0,
             "ticks": ""
            },
            "colorscale": [
             [
              0,
              "#0d0887"
             ],
             [
              0.1111111111111111,
              "#46039f"
             ],
             [
              0.2222222222222222,
              "#7201a8"
             ],
             [
              0.3333333333333333,
              "#9c179e"
             ],
             [
              0.4444444444444444,
              "#bd3786"
             ],
             [
              0.5555555555555556,
              "#d8576b"
             ],
             [
              0.6666666666666666,
              "#ed7953"
             ],
             [
              0.7777777777777778,
              "#fb9f3a"
             ],
             [
              0.8888888888888888,
              "#fdca26"
             ],
             [
              1,
              "#f0f921"
             ]
            ],
            "type": "heatmap"
           }
          ],
          "heatmapgl": [
           {
            "colorbar": {
             "outlinewidth": 0,
             "ticks": ""
            },
            "colorscale": [
             [
              0,
              "#0d0887"
             ],
             [
              0.1111111111111111,
              "#46039f"
             ],
             [
              0.2222222222222222,
              "#7201a8"
             ],
             [
              0.3333333333333333,
              "#9c179e"
             ],
             [
              0.4444444444444444,
              "#bd3786"
             ],
             [
              0.5555555555555556,
              "#d8576b"
             ],
             [
              0.6666666666666666,
              "#ed7953"
             ],
             [
              0.7777777777777778,
              "#fb9f3a"
             ],
             [
              0.8888888888888888,
              "#fdca26"
             ],
             [
              1,
              "#f0f921"
             ]
            ],
            "type": "heatmapgl"
           }
          ],
          "histogram": [
           {
            "marker": {
             "pattern": {
              "fillmode": "overlay",
              "size": 10,
              "solidity": 0.2
             }
            },
            "type": "histogram"
           }
          ],
          "histogram2d": [
           {
            "colorbar": {
             "outlinewidth": 0,
             "ticks": ""
            },
            "colorscale": [
             [
              0,
              "#0d0887"
             ],
             [
              0.1111111111111111,
              "#46039f"
             ],
             [
              0.2222222222222222,
              "#7201a8"
             ],
             [
              0.3333333333333333,
              "#9c179e"
             ],
             [
              0.4444444444444444,
              "#bd3786"
             ],
             [
              0.5555555555555556,
              "#d8576b"
             ],
             [
              0.6666666666666666,
              "#ed7953"
             ],
             [
              0.7777777777777778,
              "#fb9f3a"
             ],
             [
              0.8888888888888888,
              "#fdca26"
             ],
             [
              1,
              "#f0f921"
             ]
            ],
            "type": "histogram2d"
           }
          ],
          "histogram2dcontour": [
           {
            "colorbar": {
             "outlinewidth": 0,
             "ticks": ""
            },
            "colorscale": [
             [
              0,
              "#0d0887"
             ],
             [
              0.1111111111111111,
              "#46039f"
             ],
             [
              0.2222222222222222,
              "#7201a8"
             ],
             [
              0.3333333333333333,
              "#9c179e"
             ],
             [
              0.4444444444444444,
              "#bd3786"
             ],
             [
              0.5555555555555556,
              "#d8576b"
             ],
             [
              0.6666666666666666,
              "#ed7953"
             ],
             [
              0.7777777777777778,
              "#fb9f3a"
             ],
             [
              0.8888888888888888,
              "#fdca26"
             ],
             [
              1,
              "#f0f921"
             ]
            ],
            "type": "histogram2dcontour"
           }
          ],
          "mesh3d": [
           {
            "colorbar": {
             "outlinewidth": 0,
             "ticks": ""
            },
            "type": "mesh3d"
           }
          ],
          "parcoords": [
           {
            "line": {
             "colorbar": {
              "outlinewidth": 0,
              "ticks": ""
             }
            },
            "type": "parcoords"
           }
          ],
          "pie": [
           {
            "automargin": true,
            "type": "pie"
           }
          ],
          "scatter": [
           {
            "marker": {
             "colorbar": {
              "outlinewidth": 0,
              "ticks": ""
             }
            },
            "type": "scatter"
           }
          ],
          "scatter3d": [
           {
            "line": {
             "colorbar": {
              "outlinewidth": 0,
              "ticks": ""
             }
            },
            "marker": {
             "colorbar": {
              "outlinewidth": 0,
              "ticks": ""
             }
            },
            "type": "scatter3d"
           }
          ],
          "scattercarpet": [
           {
            "marker": {
             "colorbar": {
              "outlinewidth": 0,
              "ticks": ""
             }
            },
            "type": "scattercarpet"
           }
          ],
          "scattergeo": [
           {
            "marker": {
             "colorbar": {
              "outlinewidth": 0,
              "ticks": ""
             }
            },
            "type": "scattergeo"
           }
          ],
          "scattergl": [
           {
            "marker": {
             "colorbar": {
              "outlinewidth": 0,
              "ticks": ""
             }
            },
            "type": "scattergl"
           }
          ],
          "scattermapbox": [
           {
            "marker": {
             "colorbar": {
              "outlinewidth": 0,
              "ticks": ""
             }
            },
            "type": "scattermapbox"
           }
          ],
          "scatterpolar": [
           {
            "marker": {
             "colorbar": {
              "outlinewidth": 0,
              "ticks": ""
             }
            },
            "type": "scatterpolar"
           }
          ],
          "scatterpolargl": [
           {
            "marker": {
             "colorbar": {
              "outlinewidth": 0,
              "ticks": ""
             }
            },
            "type": "scatterpolargl"
           }
          ],
          "scatterternary": [
           {
            "marker": {
             "colorbar": {
              "outlinewidth": 0,
              "ticks": ""
             }
            },
            "type": "scatterternary"
           }
          ],
          "surface": [
           {
            "colorbar": {
             "outlinewidth": 0,
             "ticks": ""
            },
            "colorscale": [
             [
              0,
              "#0d0887"
             ],
             [
              0.1111111111111111,
              "#46039f"
             ],
             [
              0.2222222222222222,
              "#7201a8"
             ],
             [
              0.3333333333333333,
              "#9c179e"
             ],
             [
              0.4444444444444444,
              "#bd3786"
             ],
             [
              0.5555555555555556,
              "#d8576b"
             ],
             [
              0.6666666666666666,
              "#ed7953"
             ],
             [
              0.7777777777777778,
              "#fb9f3a"
             ],
             [
              0.8888888888888888,
              "#fdca26"
             ],
             [
              1,
              "#f0f921"
             ]
            ],
            "type": "surface"
           }
          ],
          "table": [
           {
            "cells": {
             "fill": {
              "color": "#EBF0F8"
             },
             "line": {
              "color": "white"
             }
            },
            "header": {
             "fill": {
              "color": "#C8D4E3"
             },
             "line": {
              "color": "white"
             }
            },
            "type": "table"
           }
          ]
         },
         "layout": {
          "annotationdefaults": {
           "arrowcolor": "#2a3f5f",
           "arrowhead": 0,
           "arrowwidth": 1
          },
          "autotypenumbers": "strict",
          "coloraxis": {
           "colorbar": {
            "outlinewidth": 0,
            "ticks": ""
           }
          },
          "colorscale": {
           "diverging": [
            [
             0,
             "#8e0152"
            ],
            [
             0.1,
             "#c51b7d"
            ],
            [
             0.2,
             "#de77ae"
            ],
            [
             0.3,
             "#f1b6da"
            ],
            [
             0.4,
             "#fde0ef"
            ],
            [
             0.5,
             "#f7f7f7"
            ],
            [
             0.6,
             "#e6f5d0"
            ],
            [
             0.7,
             "#b8e186"
            ],
            [
             0.8,
             "#7fbc41"
            ],
            [
             0.9,
             "#4d9221"
            ],
            [
             1,
             "#276419"
            ]
           ],
           "sequential": [
            [
             0,
             "#0d0887"
            ],
            [
             0.1111111111111111,
             "#46039f"
            ],
            [
             0.2222222222222222,
             "#7201a8"
            ],
            [
             0.3333333333333333,
             "#9c179e"
            ],
            [
             0.4444444444444444,
             "#bd3786"
            ],
            [
             0.5555555555555556,
             "#d8576b"
            ],
            [
             0.6666666666666666,
             "#ed7953"
            ],
            [
             0.7777777777777778,
             "#fb9f3a"
            ],
            [
             0.8888888888888888,
             "#fdca26"
            ],
            [
             1,
             "#f0f921"
            ]
           ],
           "sequentialminus": [
            [
             0,
             "#0d0887"
            ],
            [
             0.1111111111111111,
             "#46039f"
            ],
            [
             0.2222222222222222,
             "#7201a8"
            ],
            [
             0.3333333333333333,
             "#9c179e"
            ],
            [
             0.4444444444444444,
             "#bd3786"
            ],
            [
             0.5555555555555556,
             "#d8576b"
            ],
            [
             0.6666666666666666,
             "#ed7953"
            ],
            [
             0.7777777777777778,
             "#fb9f3a"
            ],
            [
             0.8888888888888888,
             "#fdca26"
            ],
            [
             1,
             "#f0f921"
            ]
           ]
          },
          "colorway": [
           "#636efa",
           "#EF553B",
           "#00cc96",
           "#ab63fa",
           "#FFA15A",
           "#19d3f3",
           "#FF6692",
           "#B6E880",
           "#FF97FF",
           "#FECB52"
          ],
          "font": {
           "color": "#2a3f5f"
          },
          "geo": {
           "bgcolor": "white",
           "lakecolor": "white",
           "landcolor": "#E5ECF6",
           "showlakes": true,
           "showland": true,
           "subunitcolor": "white"
          },
          "hoverlabel": {
           "align": "left"
          },
          "hovermode": "closest",
          "mapbox": {
           "style": "light"
          },
          "paper_bgcolor": "white",
          "plot_bgcolor": "#E5ECF6",
          "polar": {
           "angularaxis": {
            "gridcolor": "white",
            "linecolor": "white",
            "ticks": ""
           },
           "bgcolor": "#E5ECF6",
           "radialaxis": {
            "gridcolor": "white",
            "linecolor": "white",
            "ticks": ""
           }
          },
          "scene": {
           "xaxis": {
            "backgroundcolor": "#E5ECF6",
            "gridcolor": "white",
            "gridwidth": 2,
            "linecolor": "white",
            "showbackground": true,
            "ticks": "",
            "zerolinecolor": "white"
           },
           "yaxis": {
            "backgroundcolor": "#E5ECF6",
            "gridcolor": "white",
            "gridwidth": 2,
            "linecolor": "white",
            "showbackground": true,
            "ticks": "",
            "zerolinecolor": "white"
           },
           "zaxis": {
            "backgroundcolor": "#E5ECF6",
            "gridcolor": "white",
            "gridwidth": 2,
            "linecolor": "white",
            "showbackground": true,
            "ticks": "",
            "zerolinecolor": "white"
           }
          },
          "shapedefaults": {
           "line": {
            "color": "#2a3f5f"
           }
          },
          "ternary": {
           "aaxis": {
            "gridcolor": "white",
            "linecolor": "white",
            "ticks": ""
           },
           "baxis": {
            "gridcolor": "white",
            "linecolor": "white",
            "ticks": ""
           },
           "bgcolor": "#E5ECF6",
           "caxis": {
            "gridcolor": "white",
            "linecolor": "white",
            "ticks": ""
           }
          },
          "title": {
           "x": 0.05
          },
          "xaxis": {
           "automargin": true,
           "gridcolor": "white",
           "linecolor": "white",
           "ticks": "",
           "title": {
            "standoff": 15
           },
           "zerolinecolor": "white",
           "zerolinewidth": 2
          },
          "yaxis": {
           "automargin": true,
           "gridcolor": "white",
           "linecolor": "white",
           "ticks": "",
           "title": {
            "standoff": 15
           },
           "zerolinecolor": "white",
           "zerolinewidth": 2
          }
         }
        },
        "title": {
         "font": {
          "color": "#4D5663"
         }
        },
        "xaxis": {
         "gridcolor": "#E1E5ED",
         "showgrid": true,
         "tickfont": {
          "color": "#4D5663"
         },
         "title": {
          "font": {
           "color": "#4D5663"
          },
          "text": ""
         },
         "zerolinecolor": "#E1E5ED"
        },
        "yaxis": {
         "gridcolor": "#E1E5ED",
         "showgrid": true,
         "tickfont": {
          "color": "#4D5663"
         },
         "title": {
          "font": {
           "color": "#4D5663"
          },
          "text": ""
         },
         "zerolinecolor": "#E1E5ED"
        }
       }
      },
      "text/html": [
       "<div>                            <div id=\"de07a3b6-c470-432e-a899-8f466a0a32ec\" class=\"plotly-graph-div\" style=\"height:525px; width:100%;\"></div>            <script type=\"text/javascript\">                require([\"plotly\"], function(Plotly) {                    window.PLOTLYENV=window.PLOTLYENV || {};\n",
       "                    window.PLOTLYENV.BASE_URL='https://plot.ly';                                    if (document.getElementById(\"de07a3b6-c470-432e-a899-8f466a0a32ec\")) {                    Plotly.newPlot(                        \"de07a3b6-c470-432e-a899-8f466a0a32ec\",                        [{\"histfunc\":\"count\",\"histnorm\":\"\",\"marker\":{\"color\":\"rgba(255, 153, 51, 1.0)\",\"line\":{\"color\":\"#4D5663\",\"width\":1.3}},\"name\":\"A\",\"nbinsx\":25,\"opacity\":0.8,\"orientation\":\"v\",\"x\":[0.9736909845664095,0.7453931702353471,-0.584055336541668,-0.23334317308454516,-0.7000980818831816,1.2640163141919862,0.1949923139470877,-0.1139424012300454,-1.2154052780343019,0.9427148962218297,-1.2916405932264694,0.9578217204912421,-0.837880408525564,0.04477730952604257,0.0383397555239589,-0.920388783780331,-0.4586856113547915,0.7711816847785313,0.34059770984713117,-1.5809372479586077,-1.6190220344139687,0.3208625363690133,-0.49880220411246723,1.7723673511636662,-0.37465832280229444,0.7826818967840763,-0.9382489946574548,0.256628562558935,-1.6435417552082037,0.2687912226590109,1.668421072838317,0.446353712790004,-0.6072554223605655,0.5991032352457688,-0.3258627556643973,1.0260743695545573,-1.171157562633884,-0.44721741902651935,-0.18974526127380406,2.690862185966791,-0.21341778348335275,1.3729489381133875,-0.761964462794412,-0.23813834441552054,0.2423835554502911,-0.29077186439934116,-1.0641484336030078,-0.9732442423717599,1.8692008067241,0.5688039761828222,0.5279236226278071,-1.9290273692427853,1.2050717665153194,0.09187426815692153,-0.46421003832585644,0.6395964134920199,-0.9210542655891115,-0.560210249597593,-0.15267149948701025,-0.11142177214842656,0.34833270402904304,0.49643314031171515,-1.3313665867483626,-0.436011570352057,-1.78046187609948,-0.32036274436060913,-1.015612399766101,0.5202821890468927,0.29159316903345855,-1.9088228832243033,-0.24376450985073603,0.22652240535890608,-0.7841859784980002,-1.5267580055035477,0.5064174250880061,0.3367433054611338,1.2199465314945819,0.6193045429044992,-0.1405866691128178,1.320617620238819,-0.23845004768408265,0.8678499324373304,-0.6783635389878114,0.30629054690212754,0.6242536199934187,-0.6305479765356926,0.05971608490631798,0.8076378833495368,0.23280226611831248,1.8486962032262002,-1.0288160629884067,-1.0514112023277025,-2.0322145049930698,-0.08895985707025184,-0.17232298550624023,0.6276671416998708,0.834125433775937,0.24959890970492207,0.2627700269025718,0.002893684758850433],\"type\":\"histogram\"}],                        {\"barmode\":\"overlay\",\"legend\":{\"bgcolor\":\"#F5F6F9\",\"font\":{\"color\":\"#4D5663\"}},\"paper_bgcolor\":\"#F5F6F9\",\"plot_bgcolor\":\"#F5F6F9\",\"template\":{\"data\":{\"barpolar\":[{\"marker\":{\"line\":{\"color\":\"#E5ECF6\",\"width\":0.5},\"pattern\":{\"fillmode\":\"overlay\",\"size\":10,\"solidity\":0.2}},\"type\":\"barpolar\"}],\"bar\":[{\"error_x\":{\"color\":\"#2a3f5f\"},\"error_y\":{\"color\":\"#2a3f5f\"},\"marker\":{\"line\":{\"color\":\"#E5ECF6\",\"width\":0.5},\"pattern\":{\"fillmode\":\"overlay\",\"size\":10,\"solidity\":0.2}},\"type\":\"bar\"}],\"carpet\":[{\"aaxis\":{\"endlinecolor\":\"#2a3f5f\",\"gridcolor\":\"white\",\"linecolor\":\"white\",\"minorgridcolor\":\"white\",\"startlinecolor\":\"#2a3f5f\"},\"baxis\":{\"endlinecolor\":\"#2a3f5f\",\"gridcolor\":\"white\",\"linecolor\":\"white\",\"minorgridcolor\":\"white\",\"startlinecolor\":\"#2a3f5f\"},\"type\":\"carpet\"}],\"choropleth\":[{\"colorbar\":{\"outlinewidth\":0,\"ticks\":\"\"},\"type\":\"choropleth\"}],\"contourcarpet\":[{\"colorbar\":{\"outlinewidth\":0,\"ticks\":\"\"},\"type\":\"contourcarpet\"}],\"contour\":[{\"colorbar\":{\"outlinewidth\":0,\"ticks\":\"\"},\"colorscale\":[[0.0,\"#0d0887\"],[0.1111111111111111,\"#46039f\"],[0.2222222222222222,\"#7201a8\"],[0.3333333333333333,\"#9c179e\"],[0.4444444444444444,\"#bd3786\"],[0.5555555555555556,\"#d8576b\"],[0.6666666666666666,\"#ed7953\"],[0.7777777777777778,\"#fb9f3a\"],[0.8888888888888888,\"#fdca26\"],[1.0,\"#f0f921\"]],\"type\":\"contour\"}],\"heatmapgl\":[{\"colorbar\":{\"outlinewidth\":0,\"ticks\":\"\"},\"colorscale\":[[0.0,\"#0d0887\"],[0.1111111111111111,\"#46039f\"],[0.2222222222222222,\"#7201a8\"],[0.3333333333333333,\"#9c179e\"],[0.4444444444444444,\"#bd3786\"],[0.5555555555555556,\"#d8576b\"],[0.6666666666666666,\"#ed7953\"],[0.7777777777777778,\"#fb9f3a\"],[0.8888888888888888,\"#fdca26\"],[1.0,\"#f0f921\"]],\"type\":\"heatmapgl\"}],\"heatmap\":[{\"colorbar\":{\"outlinewidth\":0,\"ticks\":\"\"},\"colorscale\":[[0.0,\"#0d0887\"],[0.1111111111111111,\"#46039f\"],[0.2222222222222222,\"#7201a8\"],[0.3333333333333333,\"#9c179e\"],[0.4444444444444444,\"#bd3786\"],[0.5555555555555556,\"#d8576b\"],[0.6666666666666666,\"#ed7953\"],[0.7777777777777778,\"#fb9f3a\"],[0.8888888888888888,\"#fdca26\"],[1.0,\"#f0f921\"]],\"type\":\"heatmap\"}],\"histogram2dcontour\":[{\"colorbar\":{\"outlinewidth\":0,\"ticks\":\"\"},\"colorscale\":[[0.0,\"#0d0887\"],[0.1111111111111111,\"#46039f\"],[0.2222222222222222,\"#7201a8\"],[0.3333333333333333,\"#9c179e\"],[0.4444444444444444,\"#bd3786\"],[0.5555555555555556,\"#d8576b\"],[0.6666666666666666,\"#ed7953\"],[0.7777777777777778,\"#fb9f3a\"],[0.8888888888888888,\"#fdca26\"],[1.0,\"#f0f921\"]],\"type\":\"histogram2dcontour\"}],\"histogram2d\":[{\"colorbar\":{\"outlinewidth\":0,\"ticks\":\"\"},\"colorscale\":[[0.0,\"#0d0887\"],[0.1111111111111111,\"#46039f\"],[0.2222222222222222,\"#7201a8\"],[0.3333333333333333,\"#9c179e\"],[0.4444444444444444,\"#bd3786\"],[0.5555555555555556,\"#d8576b\"],[0.6666666666666666,\"#ed7953\"],[0.7777777777777778,\"#fb9f3a\"],[0.8888888888888888,\"#fdca26\"],[1.0,\"#f0f921\"]],\"type\":\"histogram2d\"}],\"histogram\":[{\"marker\":{\"pattern\":{\"fillmode\":\"overlay\",\"size\":10,\"solidity\":0.2}},\"type\":\"histogram\"}],\"mesh3d\":[{\"colorbar\":{\"outlinewidth\":0,\"ticks\":\"\"},\"type\":\"mesh3d\"}],\"parcoords\":[{\"line\":{\"colorbar\":{\"outlinewidth\":0,\"ticks\":\"\"}},\"type\":\"parcoords\"}],\"pie\":[{\"automargin\":true,\"type\":\"pie\"}],\"scatter3d\":[{\"line\":{\"colorbar\":{\"outlinewidth\":0,\"ticks\":\"\"}},\"marker\":{\"colorbar\":{\"outlinewidth\":0,\"ticks\":\"\"}},\"type\":\"scatter3d\"}],\"scattercarpet\":[{\"marker\":{\"colorbar\":{\"outlinewidth\":0,\"ticks\":\"\"}},\"type\":\"scattercarpet\"}],\"scattergeo\":[{\"marker\":{\"colorbar\":{\"outlinewidth\":0,\"ticks\":\"\"}},\"type\":\"scattergeo\"}],\"scattergl\":[{\"marker\":{\"colorbar\":{\"outlinewidth\":0,\"ticks\":\"\"}},\"type\":\"scattergl\"}],\"scattermapbox\":[{\"marker\":{\"colorbar\":{\"outlinewidth\":0,\"ticks\":\"\"}},\"type\":\"scattermapbox\"}],\"scatterpolargl\":[{\"marker\":{\"colorbar\":{\"outlinewidth\":0,\"ticks\":\"\"}},\"type\":\"scatterpolargl\"}],\"scatterpolar\":[{\"marker\":{\"colorbar\":{\"outlinewidth\":0,\"ticks\":\"\"}},\"type\":\"scatterpolar\"}],\"scatter\":[{\"marker\":{\"colorbar\":{\"outlinewidth\":0,\"ticks\":\"\"}},\"type\":\"scatter\"}],\"scatterternary\":[{\"marker\":{\"colorbar\":{\"outlinewidth\":0,\"ticks\":\"\"}},\"type\":\"scatterternary\"}],\"surface\":[{\"colorbar\":{\"outlinewidth\":0,\"ticks\":\"\"},\"colorscale\":[[0.0,\"#0d0887\"],[0.1111111111111111,\"#46039f\"],[0.2222222222222222,\"#7201a8\"],[0.3333333333333333,\"#9c179e\"],[0.4444444444444444,\"#bd3786\"],[0.5555555555555556,\"#d8576b\"],[0.6666666666666666,\"#ed7953\"],[0.7777777777777778,\"#fb9f3a\"],[0.8888888888888888,\"#fdca26\"],[1.0,\"#f0f921\"]],\"type\":\"surface\"}],\"table\":[{\"cells\":{\"fill\":{\"color\":\"#EBF0F8\"},\"line\":{\"color\":\"white\"}},\"header\":{\"fill\":{\"color\":\"#C8D4E3\"},\"line\":{\"color\":\"white\"}},\"type\":\"table\"}]},\"layout\":{\"annotationdefaults\":{\"arrowcolor\":\"#2a3f5f\",\"arrowhead\":0,\"arrowwidth\":1},\"autotypenumbers\":\"strict\",\"coloraxis\":{\"colorbar\":{\"outlinewidth\":0,\"ticks\":\"\"}},\"colorscale\":{\"diverging\":[[0,\"#8e0152\"],[0.1,\"#c51b7d\"],[0.2,\"#de77ae\"],[0.3,\"#f1b6da\"],[0.4,\"#fde0ef\"],[0.5,\"#f7f7f7\"],[0.6,\"#e6f5d0\"],[0.7,\"#b8e186\"],[0.8,\"#7fbc41\"],[0.9,\"#4d9221\"],[1,\"#276419\"]],\"sequential\":[[0.0,\"#0d0887\"],[0.1111111111111111,\"#46039f\"],[0.2222222222222222,\"#7201a8\"],[0.3333333333333333,\"#9c179e\"],[0.4444444444444444,\"#bd3786\"],[0.5555555555555556,\"#d8576b\"],[0.6666666666666666,\"#ed7953\"],[0.7777777777777778,\"#fb9f3a\"],[0.8888888888888888,\"#fdca26\"],[1.0,\"#f0f921\"]],\"sequentialminus\":[[0.0,\"#0d0887\"],[0.1111111111111111,\"#46039f\"],[0.2222222222222222,\"#7201a8\"],[0.3333333333333333,\"#9c179e\"],[0.4444444444444444,\"#bd3786\"],[0.5555555555555556,\"#d8576b\"],[0.6666666666666666,\"#ed7953\"],[0.7777777777777778,\"#fb9f3a\"],[0.8888888888888888,\"#fdca26\"],[1.0,\"#f0f921\"]]},\"colorway\":[\"#636efa\",\"#EF553B\",\"#00cc96\",\"#ab63fa\",\"#FFA15A\",\"#19d3f3\",\"#FF6692\",\"#B6E880\",\"#FF97FF\",\"#FECB52\"],\"font\":{\"color\":\"#2a3f5f\"},\"geo\":{\"bgcolor\":\"white\",\"lakecolor\":\"white\",\"landcolor\":\"#E5ECF6\",\"showlakes\":true,\"showland\":true,\"subunitcolor\":\"white\"},\"hoverlabel\":{\"align\":\"left\"},\"hovermode\":\"closest\",\"mapbox\":{\"style\":\"light\"},\"paper_bgcolor\":\"white\",\"plot_bgcolor\":\"#E5ECF6\",\"polar\":{\"angularaxis\":{\"gridcolor\":\"white\",\"linecolor\":\"white\",\"ticks\":\"\"},\"bgcolor\":\"#E5ECF6\",\"radialaxis\":{\"gridcolor\":\"white\",\"linecolor\":\"white\",\"ticks\":\"\"}},\"scene\":{\"xaxis\":{\"backgroundcolor\":\"#E5ECF6\",\"gridcolor\":\"white\",\"gridwidth\":2,\"linecolor\":\"white\",\"showbackground\":true,\"ticks\":\"\",\"zerolinecolor\":\"white\"},\"yaxis\":{\"backgroundcolor\":\"#E5ECF6\",\"gridcolor\":\"white\",\"gridwidth\":2,\"linecolor\":\"white\",\"showbackground\":true,\"ticks\":\"\",\"zerolinecolor\":\"white\"},\"zaxis\":{\"backgroundcolor\":\"#E5ECF6\",\"gridcolor\":\"white\",\"gridwidth\":2,\"linecolor\":\"white\",\"showbackground\":true,\"ticks\":\"\",\"zerolinecolor\":\"white\"}},\"shapedefaults\":{\"line\":{\"color\":\"#2a3f5f\"}},\"ternary\":{\"aaxis\":{\"gridcolor\":\"white\",\"linecolor\":\"white\",\"ticks\":\"\"},\"baxis\":{\"gridcolor\":\"white\",\"linecolor\":\"white\",\"ticks\":\"\"},\"bgcolor\":\"#E5ECF6\",\"caxis\":{\"gridcolor\":\"white\",\"linecolor\":\"white\",\"ticks\":\"\"}},\"title\":{\"x\":0.05},\"xaxis\":{\"automargin\":true,\"gridcolor\":\"white\",\"linecolor\":\"white\",\"ticks\":\"\",\"title\":{\"standoff\":15},\"zerolinecolor\":\"white\",\"zerolinewidth\":2},\"yaxis\":{\"automargin\":true,\"gridcolor\":\"white\",\"linecolor\":\"white\",\"ticks\":\"\",\"title\":{\"standoff\":15},\"zerolinecolor\":\"white\",\"zerolinewidth\":2}}},\"title\":{\"font\":{\"color\":\"#4D5663\"}},\"xaxis\":{\"gridcolor\":\"#E1E5ED\",\"showgrid\":true,\"tickfont\":{\"color\":\"#4D5663\"},\"title\":{\"font\":{\"color\":\"#4D5663\"},\"text\":\"\"},\"zerolinecolor\":\"#E1E5ED\"},\"yaxis\":{\"gridcolor\":\"#E1E5ED\",\"showgrid\":true,\"tickfont\":{\"color\":\"#4D5663\"},\"title\":{\"font\":{\"color\":\"#4D5663\"},\"text\":\"\"},\"zerolinecolor\":\"#E1E5ED\"}},                        {\"showLink\": true, \"linkText\": \"Export to plot.ly\", \"plotlyServerURL\": \"https://plot.ly\", \"responsive\": true}                    ).then(function(){\n",
       "                            \n",
       "var gd = document.getElementById('de07a3b6-c470-432e-a899-8f466a0a32ec');\n",
       "var x = new MutationObserver(function (mutations, observer) {{\n",
       "        var display = window.getComputedStyle(gd).display;\n",
       "        if (!display || display === 'none') {{\n",
       "            console.log([gd, 'removed!']);\n",
       "            Plotly.purge(gd);\n",
       "            observer.disconnect();\n",
       "        }}\n",
       "}});\n",
       "\n",
       "// Listen for the removal of the full notebook cells\n",
       "var notebookContainer = gd.closest('#notebook-container');\n",
       "if (notebookContainer) {{\n",
       "    x.observe(notebookContainer, {childList: true});\n",
       "}}\n",
       "\n",
       "// Listen for the clearing of the current output cell\n",
       "var outputEl = gd.closest('.output');\n",
       "if (outputEl) {{\n",
       "    x.observe(outputEl, {childList: true});\n",
       "}}\n",
       "\n",
       "                        })                };                });            </script>        </div>"
      ]
     },
     "metadata": {},
     "output_type": "display_data"
    }
   ],
   "source": [
    "df['A'].iplot(kind='hist',bins=25)"
   ]
  },
  {
   "cell_type": "code",
   "execution_count": 17,
   "metadata": {},
   "outputs": [
    {
     "data": {
      "application/vnd.plotly.v1+json": {
       "config": {
        "linkText": "Export to plot.ly",
        "plotlyServerURL": "https://plot.ly",
        "showLink": true
       },
       "data": [
        {
         "marker": {
          "color": [
           "rgb(255, 153, 51)",
           "rgb(55, 128, 191)",
           "rgb(50, 171, 96)",
           "rgb(128, 0, 128)",
           "rgb(219, 64, 82)",
           "rgb(0, 128, 128)",
           "rgb(255, 255, 51)",
           "rgb(128, 128, 0)",
           "rgb(251, 128, 114)",
           "rgb(128, 177, 211)"
          ],
          "line": {
           "width": 1.3
          },
          "size": [
           31,
           35,
           71,
           62,
           97,
           60,
           83,
           70,
           74,
           34,
           69,
           44,
           30,
           58,
           33,
           70,
           43,
           58,
           46,
           58,
           31,
           40,
           81,
           27,
           62,
           99,
           92,
           84,
           17,
           44,
           96,
           91,
           82,
           88,
           49,
           70,
           30,
           74,
           76,
           57,
           92,
           66,
           101,
           69,
           51,
           112,
           42,
           108,
           66,
           59,
           81,
           42,
           53,
           35,
           63,
           30,
           39,
           71,
           67,
           43,
           50,
           68,
           90,
           27,
           40,
           80,
           34,
           42,
           38,
           88,
           76,
           25,
           89,
           36,
           20,
           52,
           50,
           84,
           45,
           68,
           48,
           48,
           72,
           54,
           38,
           54,
           81,
           74,
           44,
           53,
           84,
           32,
           89,
           56,
           50,
           56,
           65,
           12,
           79,
           56
          ],
          "symbol": "circle"
         },
         "mode": "markers",
         "text": "",
         "type": "scatter",
         "x": [
          0.9736909845664095,
          0.7453931702353471,
          -0.584055336541668,
          -0.23334317308454516,
          -0.7000980818831816,
          1.2640163141919862,
          0.1949923139470877,
          -0.1139424012300454,
          -1.2154052780343019,
          0.9427148962218297,
          -1.2916405932264694,
          0.9578217204912421,
          -0.837880408525564,
          0.04477730952604257,
          0.0383397555239589,
          -0.920388783780331,
          -0.4586856113547915,
          0.7711816847785313,
          0.34059770984713117,
          -1.5809372479586077,
          -1.6190220344139687,
          0.3208625363690133,
          -0.49880220411246723,
          1.7723673511636662,
          -0.37465832280229444,
          0.7826818967840763,
          -0.9382489946574548,
          0.256628562558935,
          -1.6435417552082037,
          0.2687912226590109,
          1.668421072838317,
          0.446353712790004,
          -0.6072554223605655,
          0.5991032352457688,
          -0.3258627556643973,
          1.0260743695545573,
          -1.171157562633884,
          -0.44721741902651935,
          -0.18974526127380406,
          2.690862185966791,
          -0.21341778348335275,
          1.3729489381133875,
          -0.761964462794412,
          -0.23813834441552054,
          0.2423835554502911,
          -0.29077186439934116,
          -1.0641484336030078,
          -0.9732442423717599,
          1.8692008067241,
          0.5688039761828222,
          0.5279236226278071,
          -1.9290273692427853,
          1.2050717665153194,
          0.09187426815692153,
          -0.46421003832585644,
          0.6395964134920199,
          -0.9210542655891115,
          -0.560210249597593,
          -0.15267149948701025,
          -0.11142177214842656,
          0.34833270402904304,
          0.49643314031171515,
          -1.3313665867483626,
          -0.436011570352057,
          -1.78046187609948,
          -0.32036274436060913,
          -1.015612399766101,
          0.5202821890468927,
          0.29159316903345855,
          -1.9088228832243033,
          -0.24376450985073603,
          0.22652240535890608,
          -0.7841859784980002,
          -1.5267580055035477,
          0.5064174250880061,
          0.3367433054611338,
          1.2199465314945819,
          0.6193045429044992,
          -0.1405866691128178,
          1.320617620238819,
          -0.23845004768408265,
          0.8678499324373304,
          -0.6783635389878114,
          0.30629054690212754,
          0.6242536199934187,
          -0.6305479765356926,
          0.05971608490631798,
          0.8076378833495368,
          0.23280226611831248,
          1.8486962032262002,
          -1.0288160629884067,
          -1.0514112023277025,
          -2.0322145049930698,
          -0.08895985707025184,
          -0.17232298550624023,
          0.6276671416998708,
          0.834125433775937,
          0.24959890970492207,
          0.2627700269025718,
          0.002893684758850433
         ],
         "y": [
          0.860487843415082,
          -0.1976076039773233,
          -0.48481821153381505,
          0.14681919989176692,
          1.3592898678691712,
          2.066687883890864,
          -1.5032945817436838,
          1.3945675564569295,
          -0.04778910964737012,
          -1.2129972364699224,
          1.4589311431911625,
          -0.44069477393216305,
          -1.0435081413404528,
          0.6889781462830233,
          -2.213980890594844,
          0.6142355502042238,
          0.2260184570472683,
          -0.9165795796993379,
          -0.1667415626821347,
          -0.2554626201939413,
          -1.037991147602794,
          -0.8800628951247182,
          -0.7005643966674218,
          -0.3802764846634866,
          -0.12296879928841947,
          1.1635838305936397,
          0.5044729405730749,
          -0.3344445850503148,
          -0.3912012746825815,
          -0.25437660692898856,
          -0.8500678690004732,
          -0.41509806198294447,
          2.03493032292298,
          -1.3314385730253768,
          0.29751356353402864,
          -0.7175580186337933,
          2.5113785520970975,
          -0.6095147542383219,
          -0.5088955997912352,
          1.0220677584987925,
          -2.0438870657446477,
          -1.4908273980005247,
          0.12922499574597024,
          -0.4915401118468228,
          0.3779801515751991,
          -0.8226774144982794,
          0.23284890744200148,
          1.2765999108951942,
          -0.1702716710359278,
          -0.6189082703607539,
          0.8749414426661444,
          1.5406104624426746,
          1.7099060314859462,
          -0.07706149742235652,
          0.9858023695881741,
          0.22317834251016266,
          -0.49721352987147677,
          0.6682973129617311,
          0.43169956246317065,
          -1.0918939029648713,
          0.10018235296733681,
          -0.989913227534258,
          0.021947372274293164,
          -1.0024193179032603,
          -0.8787782554290655,
          -0.5720097332195477,
          0.8790488723520122,
          -0.2562276873444926,
          -0.10326826791614217,
          -1.0134751880346335,
          0.8186055168917588,
          -0.22477040395132783,
          -0.24677109148501306,
          -1.5863247065897887,
          0.040629157884486754,
          -0.6435318145872875,
          0.5096173013346691,
          -1.4134405583436804,
          -0.9856650606127185,
          -1.332899924654395,
          -0.835689521985187,
          0.3509325415930457,
          0.2056437884096933,
          -1.8424841475984346,
          0.5953401809010593,
          -1.7016661494206462,
          0.3769197833430828,
          -0.08986765037176148,
          -0.26464943856144885,
          0.2996702121775819,
          -0.08513347629466395,
          -0.14318734590020804,
          -0.9397532454122348,
          -0.5072370450741972,
          -1.4064823254410985,
          0.5674390471645528,
          -1.3449602849704938,
          -2.2250731965123873,
          2.7083825895071967,
          -0.45632096832043334
         ]
        }
       ],
       "layout": {
        "legend": {
         "bgcolor": "#F5F6F9",
         "font": {
          "color": "#4D5663"
         }
        },
        "paper_bgcolor": "#F5F6F9",
        "plot_bgcolor": "#F5F6F9",
        "template": {
         "data": {
          "bar": [
           {
            "error_x": {
             "color": "#2a3f5f"
            },
            "error_y": {
             "color": "#2a3f5f"
            },
            "marker": {
             "line": {
              "color": "#E5ECF6",
              "width": 0.5
             },
             "pattern": {
              "fillmode": "overlay",
              "size": 10,
              "solidity": 0.2
             }
            },
            "type": "bar"
           }
          ],
          "barpolar": [
           {
            "marker": {
             "line": {
              "color": "#E5ECF6",
              "width": 0.5
             },
             "pattern": {
              "fillmode": "overlay",
              "size": 10,
              "solidity": 0.2
             }
            },
            "type": "barpolar"
           }
          ],
          "carpet": [
           {
            "aaxis": {
             "endlinecolor": "#2a3f5f",
             "gridcolor": "white",
             "linecolor": "white",
             "minorgridcolor": "white",
             "startlinecolor": "#2a3f5f"
            },
            "baxis": {
             "endlinecolor": "#2a3f5f",
             "gridcolor": "white",
             "linecolor": "white",
             "minorgridcolor": "white",
             "startlinecolor": "#2a3f5f"
            },
            "type": "carpet"
           }
          ],
          "choropleth": [
           {
            "colorbar": {
             "outlinewidth": 0,
             "ticks": ""
            },
            "type": "choropleth"
           }
          ],
          "contour": [
           {
            "colorbar": {
             "outlinewidth": 0,
             "ticks": ""
            },
            "colorscale": [
             [
              0,
              "#0d0887"
             ],
             [
              0.1111111111111111,
              "#46039f"
             ],
             [
              0.2222222222222222,
              "#7201a8"
             ],
             [
              0.3333333333333333,
              "#9c179e"
             ],
             [
              0.4444444444444444,
              "#bd3786"
             ],
             [
              0.5555555555555556,
              "#d8576b"
             ],
             [
              0.6666666666666666,
              "#ed7953"
             ],
             [
              0.7777777777777778,
              "#fb9f3a"
             ],
             [
              0.8888888888888888,
              "#fdca26"
             ],
             [
              1,
              "#f0f921"
             ]
            ],
            "type": "contour"
           }
          ],
          "contourcarpet": [
           {
            "colorbar": {
             "outlinewidth": 0,
             "ticks": ""
            },
            "type": "contourcarpet"
           }
          ],
          "heatmap": [
           {
            "colorbar": {
             "outlinewidth": 0,
             "ticks": ""
            },
            "colorscale": [
             [
              0,
              "#0d0887"
             ],
             [
              0.1111111111111111,
              "#46039f"
             ],
             [
              0.2222222222222222,
              "#7201a8"
             ],
             [
              0.3333333333333333,
              "#9c179e"
             ],
             [
              0.4444444444444444,
              "#bd3786"
             ],
             [
              0.5555555555555556,
              "#d8576b"
             ],
             [
              0.6666666666666666,
              "#ed7953"
             ],
             [
              0.7777777777777778,
              "#fb9f3a"
             ],
             [
              0.8888888888888888,
              "#fdca26"
             ],
             [
              1,
              "#f0f921"
             ]
            ],
            "type": "heatmap"
           }
          ],
          "heatmapgl": [
           {
            "colorbar": {
             "outlinewidth": 0,
             "ticks": ""
            },
            "colorscale": [
             [
              0,
              "#0d0887"
             ],
             [
              0.1111111111111111,
              "#46039f"
             ],
             [
              0.2222222222222222,
              "#7201a8"
             ],
             [
              0.3333333333333333,
              "#9c179e"
             ],
             [
              0.4444444444444444,
              "#bd3786"
             ],
             [
              0.5555555555555556,
              "#d8576b"
             ],
             [
              0.6666666666666666,
              "#ed7953"
             ],
             [
              0.7777777777777778,
              "#fb9f3a"
             ],
             [
              0.8888888888888888,
              "#fdca26"
             ],
             [
              1,
              "#f0f921"
             ]
            ],
            "type": "heatmapgl"
           }
          ],
          "histogram": [
           {
            "marker": {
             "pattern": {
              "fillmode": "overlay",
              "size": 10,
              "solidity": 0.2
             }
            },
            "type": "histogram"
           }
          ],
          "histogram2d": [
           {
            "colorbar": {
             "outlinewidth": 0,
             "ticks": ""
            },
            "colorscale": [
             [
              0,
              "#0d0887"
             ],
             [
              0.1111111111111111,
              "#46039f"
             ],
             [
              0.2222222222222222,
              "#7201a8"
             ],
             [
              0.3333333333333333,
              "#9c179e"
             ],
             [
              0.4444444444444444,
              "#bd3786"
             ],
             [
              0.5555555555555556,
              "#d8576b"
             ],
             [
              0.6666666666666666,
              "#ed7953"
             ],
             [
              0.7777777777777778,
              "#fb9f3a"
             ],
             [
              0.8888888888888888,
              "#fdca26"
             ],
             [
              1,
              "#f0f921"
             ]
            ],
            "type": "histogram2d"
           }
          ],
          "histogram2dcontour": [
           {
            "colorbar": {
             "outlinewidth": 0,
             "ticks": ""
            },
            "colorscale": [
             [
              0,
              "#0d0887"
             ],
             [
              0.1111111111111111,
              "#46039f"
             ],
             [
              0.2222222222222222,
              "#7201a8"
             ],
             [
              0.3333333333333333,
              "#9c179e"
             ],
             [
              0.4444444444444444,
              "#bd3786"
             ],
             [
              0.5555555555555556,
              "#d8576b"
             ],
             [
              0.6666666666666666,
              "#ed7953"
             ],
             [
              0.7777777777777778,
              "#fb9f3a"
             ],
             [
              0.8888888888888888,
              "#fdca26"
             ],
             [
              1,
              "#f0f921"
             ]
            ],
            "type": "histogram2dcontour"
           }
          ],
          "mesh3d": [
           {
            "colorbar": {
             "outlinewidth": 0,
             "ticks": ""
            },
            "type": "mesh3d"
           }
          ],
          "parcoords": [
           {
            "line": {
             "colorbar": {
              "outlinewidth": 0,
              "ticks": ""
             }
            },
            "type": "parcoords"
           }
          ],
          "pie": [
           {
            "automargin": true,
            "type": "pie"
           }
          ],
          "scatter": [
           {
            "marker": {
             "colorbar": {
              "outlinewidth": 0,
              "ticks": ""
             }
            },
            "type": "scatter"
           }
          ],
          "scatter3d": [
           {
            "line": {
             "colorbar": {
              "outlinewidth": 0,
              "ticks": ""
             }
            },
            "marker": {
             "colorbar": {
              "outlinewidth": 0,
              "ticks": ""
             }
            },
            "type": "scatter3d"
           }
          ],
          "scattercarpet": [
           {
            "marker": {
             "colorbar": {
              "outlinewidth": 0,
              "ticks": ""
             }
            },
            "type": "scattercarpet"
           }
          ],
          "scattergeo": [
           {
            "marker": {
             "colorbar": {
              "outlinewidth": 0,
              "ticks": ""
             }
            },
            "type": "scattergeo"
           }
          ],
          "scattergl": [
           {
            "marker": {
             "colorbar": {
              "outlinewidth": 0,
              "ticks": ""
             }
            },
            "type": "scattergl"
           }
          ],
          "scattermapbox": [
           {
            "marker": {
             "colorbar": {
              "outlinewidth": 0,
              "ticks": ""
             }
            },
            "type": "scattermapbox"
           }
          ],
          "scatterpolar": [
           {
            "marker": {
             "colorbar": {
              "outlinewidth": 0,
              "ticks": ""
             }
            },
            "type": "scatterpolar"
           }
          ],
          "scatterpolargl": [
           {
            "marker": {
             "colorbar": {
              "outlinewidth": 0,
              "ticks": ""
             }
            },
            "type": "scatterpolargl"
           }
          ],
          "scatterternary": [
           {
            "marker": {
             "colorbar": {
              "outlinewidth": 0,
              "ticks": ""
             }
            },
            "type": "scatterternary"
           }
          ],
          "surface": [
           {
            "colorbar": {
             "outlinewidth": 0,
             "ticks": ""
            },
            "colorscale": [
             [
              0,
              "#0d0887"
             ],
             [
              0.1111111111111111,
              "#46039f"
             ],
             [
              0.2222222222222222,
              "#7201a8"
             ],
             [
              0.3333333333333333,
              "#9c179e"
             ],
             [
              0.4444444444444444,
              "#bd3786"
             ],
             [
              0.5555555555555556,
              "#d8576b"
             ],
             [
              0.6666666666666666,
              "#ed7953"
             ],
             [
              0.7777777777777778,
              "#fb9f3a"
             ],
             [
              0.8888888888888888,
              "#fdca26"
             ],
             [
              1,
              "#f0f921"
             ]
            ],
            "type": "surface"
           }
          ],
          "table": [
           {
            "cells": {
             "fill": {
              "color": "#EBF0F8"
             },
             "line": {
              "color": "white"
             }
            },
            "header": {
             "fill": {
              "color": "#C8D4E3"
             },
             "line": {
              "color": "white"
             }
            },
            "type": "table"
           }
          ]
         },
         "layout": {
          "annotationdefaults": {
           "arrowcolor": "#2a3f5f",
           "arrowhead": 0,
           "arrowwidth": 1
          },
          "autotypenumbers": "strict",
          "coloraxis": {
           "colorbar": {
            "outlinewidth": 0,
            "ticks": ""
           }
          },
          "colorscale": {
           "diverging": [
            [
             0,
             "#8e0152"
            ],
            [
             0.1,
             "#c51b7d"
            ],
            [
             0.2,
             "#de77ae"
            ],
            [
             0.3,
             "#f1b6da"
            ],
            [
             0.4,
             "#fde0ef"
            ],
            [
             0.5,
             "#f7f7f7"
            ],
            [
             0.6,
             "#e6f5d0"
            ],
            [
             0.7,
             "#b8e186"
            ],
            [
             0.8,
             "#7fbc41"
            ],
            [
             0.9,
             "#4d9221"
            ],
            [
             1,
             "#276419"
            ]
           ],
           "sequential": [
            [
             0,
             "#0d0887"
            ],
            [
             0.1111111111111111,
             "#46039f"
            ],
            [
             0.2222222222222222,
             "#7201a8"
            ],
            [
             0.3333333333333333,
             "#9c179e"
            ],
            [
             0.4444444444444444,
             "#bd3786"
            ],
            [
             0.5555555555555556,
             "#d8576b"
            ],
            [
             0.6666666666666666,
             "#ed7953"
            ],
            [
             0.7777777777777778,
             "#fb9f3a"
            ],
            [
             0.8888888888888888,
             "#fdca26"
            ],
            [
             1,
             "#f0f921"
            ]
           ],
           "sequentialminus": [
            [
             0,
             "#0d0887"
            ],
            [
             0.1111111111111111,
             "#46039f"
            ],
            [
             0.2222222222222222,
             "#7201a8"
            ],
            [
             0.3333333333333333,
             "#9c179e"
            ],
            [
             0.4444444444444444,
             "#bd3786"
            ],
            [
             0.5555555555555556,
             "#d8576b"
            ],
            [
             0.6666666666666666,
             "#ed7953"
            ],
            [
             0.7777777777777778,
             "#fb9f3a"
            ],
            [
             0.8888888888888888,
             "#fdca26"
            ],
            [
             1,
             "#f0f921"
            ]
           ]
          },
          "colorway": [
           "#636efa",
           "#EF553B",
           "#00cc96",
           "#ab63fa",
           "#FFA15A",
           "#19d3f3",
           "#FF6692",
           "#B6E880",
           "#FF97FF",
           "#FECB52"
          ],
          "font": {
           "color": "#2a3f5f"
          },
          "geo": {
           "bgcolor": "white",
           "lakecolor": "white",
           "landcolor": "#E5ECF6",
           "showlakes": true,
           "showland": true,
           "subunitcolor": "white"
          },
          "hoverlabel": {
           "align": "left"
          },
          "hovermode": "closest",
          "mapbox": {
           "style": "light"
          },
          "paper_bgcolor": "white",
          "plot_bgcolor": "#E5ECF6",
          "polar": {
           "angularaxis": {
            "gridcolor": "white",
            "linecolor": "white",
            "ticks": ""
           },
           "bgcolor": "#E5ECF6",
           "radialaxis": {
            "gridcolor": "white",
            "linecolor": "white",
            "ticks": ""
           }
          },
          "scene": {
           "xaxis": {
            "backgroundcolor": "#E5ECF6",
            "gridcolor": "white",
            "gridwidth": 2,
            "linecolor": "white",
            "showbackground": true,
            "ticks": "",
            "zerolinecolor": "white"
           },
           "yaxis": {
            "backgroundcolor": "#E5ECF6",
            "gridcolor": "white",
            "gridwidth": 2,
            "linecolor": "white",
            "showbackground": true,
            "ticks": "",
            "zerolinecolor": "white"
           },
           "zaxis": {
            "backgroundcolor": "#E5ECF6",
            "gridcolor": "white",
            "gridwidth": 2,
            "linecolor": "white",
            "showbackground": true,
            "ticks": "",
            "zerolinecolor": "white"
           }
          },
          "shapedefaults": {
           "line": {
            "color": "#2a3f5f"
           }
          },
          "ternary": {
           "aaxis": {
            "gridcolor": "white",
            "linecolor": "white",
            "ticks": ""
           },
           "baxis": {
            "gridcolor": "white",
            "linecolor": "white",
            "ticks": ""
           },
           "bgcolor": "#E5ECF6",
           "caxis": {
            "gridcolor": "white",
            "linecolor": "white",
            "ticks": ""
           }
          },
          "title": {
           "x": 0.05
          },
          "xaxis": {
           "automargin": true,
           "gridcolor": "white",
           "linecolor": "white",
           "ticks": "",
           "title": {
            "standoff": 15
           },
           "zerolinecolor": "white",
           "zerolinewidth": 2
          },
          "yaxis": {
           "automargin": true,
           "gridcolor": "white",
           "linecolor": "white",
           "ticks": "",
           "title": {
            "standoff": 15
           },
           "zerolinecolor": "white",
           "zerolinewidth": 2
          }
         }
        },
        "title": {
         "font": {
          "color": "#4D5663"
         }
        },
        "xaxis": {
         "gridcolor": "#E1E5ED",
         "showgrid": true,
         "tickfont": {
          "color": "#4D5663"
         },
         "title": {
          "font": {
           "color": "#4D5663"
          },
          "text": ""
         },
         "zerolinecolor": "#E1E5ED"
        },
        "yaxis": {
         "gridcolor": "#E1E5ED",
         "showgrid": true,
         "tickfont": {
          "color": "#4D5663"
         },
         "title": {
          "font": {
           "color": "#4D5663"
          },
          "text": ""
         },
         "zerolinecolor": "#E1E5ED"
        }
       }
      },
      "text/html": [
       "<div>                            <div id=\"c34171e2-df85-4a54-bf05-481ead17573f\" class=\"plotly-graph-div\" style=\"height:525px; width:100%;\"></div>            <script type=\"text/javascript\">                require([\"plotly\"], function(Plotly) {                    window.PLOTLYENV=window.PLOTLYENV || {};\n",
       "                    window.PLOTLYENV.BASE_URL='https://plot.ly';                                    if (document.getElementById(\"c34171e2-df85-4a54-bf05-481ead17573f\")) {                    Plotly.newPlot(                        \"c34171e2-df85-4a54-bf05-481ead17573f\",                        [{\"marker\":{\"color\":[\"rgb(255, 153, 51)\",\"rgb(55, 128, 191)\",\"rgb(50, 171, 96)\",\"rgb(128, 0, 128)\",\"rgb(219, 64, 82)\",\"rgb(0, 128, 128)\",\"rgb(255, 255, 51)\",\"rgb(128, 128, 0)\",\"rgb(251, 128, 114)\",\"rgb(128, 177, 211)\"],\"line\":{\"width\":1.3},\"size\":[31,35,71,62,97,60,83,70,74,34,69,44,30,58,33,70,43,58,46,58,31,40,81,27,62,99,92,84,17,44,96,91,82,88,49,70,30,74,76,57,92,66,101,69,51,112,42,108,66,59,81,42,53,35,63,30,39,71,67,43,50,68,90,27,40,80,34,42,38,88,76,25,89,36,20,52,50,84,45,68,48,48,72,54,38,54,81,74,44,53,84,32,89,56,50,56,65,12,79,56],\"symbol\":\"circle\"},\"mode\":\"markers\",\"text\":\"\",\"x\":[0.9736909845664095,0.7453931702353471,-0.584055336541668,-0.23334317308454516,-0.7000980818831816,1.2640163141919862,0.1949923139470877,-0.1139424012300454,-1.2154052780343019,0.9427148962218297,-1.2916405932264694,0.9578217204912421,-0.837880408525564,0.04477730952604257,0.0383397555239589,-0.920388783780331,-0.4586856113547915,0.7711816847785313,0.34059770984713117,-1.5809372479586077,-1.6190220344139687,0.3208625363690133,-0.49880220411246723,1.7723673511636662,-0.37465832280229444,0.7826818967840763,-0.9382489946574548,0.256628562558935,-1.6435417552082037,0.2687912226590109,1.668421072838317,0.446353712790004,-0.6072554223605655,0.5991032352457688,-0.3258627556643973,1.0260743695545573,-1.171157562633884,-0.44721741902651935,-0.18974526127380406,2.690862185966791,-0.21341778348335275,1.3729489381133875,-0.761964462794412,-0.23813834441552054,0.2423835554502911,-0.29077186439934116,-1.0641484336030078,-0.9732442423717599,1.8692008067241,0.5688039761828222,0.5279236226278071,-1.9290273692427853,1.2050717665153194,0.09187426815692153,-0.46421003832585644,0.6395964134920199,-0.9210542655891115,-0.560210249597593,-0.15267149948701025,-0.11142177214842656,0.34833270402904304,0.49643314031171515,-1.3313665867483626,-0.436011570352057,-1.78046187609948,-0.32036274436060913,-1.015612399766101,0.5202821890468927,0.29159316903345855,-1.9088228832243033,-0.24376450985073603,0.22652240535890608,-0.7841859784980002,-1.5267580055035477,0.5064174250880061,0.3367433054611338,1.2199465314945819,0.6193045429044992,-0.1405866691128178,1.320617620238819,-0.23845004768408265,0.8678499324373304,-0.6783635389878114,0.30629054690212754,0.6242536199934187,-0.6305479765356926,0.05971608490631798,0.8076378833495368,0.23280226611831248,1.8486962032262002,-1.0288160629884067,-1.0514112023277025,-2.0322145049930698,-0.08895985707025184,-0.17232298550624023,0.6276671416998708,0.834125433775937,0.24959890970492207,0.2627700269025718,0.002893684758850433],\"y\":[0.860487843415082,-0.1976076039773233,-0.48481821153381505,0.14681919989176692,1.3592898678691712,2.066687883890864,-1.5032945817436838,1.3945675564569295,-0.04778910964737012,-1.2129972364699224,1.4589311431911625,-0.44069477393216305,-1.0435081413404528,0.6889781462830233,-2.213980890594844,0.6142355502042238,0.2260184570472683,-0.9165795796993379,-0.1667415626821347,-0.2554626201939413,-1.037991147602794,-0.8800628951247182,-0.7005643966674218,-0.3802764846634866,-0.12296879928841947,1.1635838305936397,0.5044729405730749,-0.3344445850503148,-0.3912012746825815,-0.25437660692898856,-0.8500678690004732,-0.41509806198294447,2.03493032292298,-1.3314385730253768,0.29751356353402864,-0.7175580186337933,2.5113785520970975,-0.6095147542383219,-0.5088955997912352,1.0220677584987925,-2.0438870657446477,-1.4908273980005247,0.12922499574597024,-0.4915401118468228,0.3779801515751991,-0.8226774144982794,0.23284890744200148,1.2765999108951942,-0.1702716710359278,-0.6189082703607539,0.8749414426661444,1.5406104624426746,1.7099060314859462,-0.07706149742235652,0.9858023695881741,0.22317834251016266,-0.49721352987147677,0.6682973129617311,0.43169956246317065,-1.0918939029648713,0.10018235296733681,-0.989913227534258,0.021947372274293164,-1.0024193179032603,-0.8787782554290655,-0.5720097332195477,0.8790488723520122,-0.2562276873444926,-0.10326826791614217,-1.0134751880346335,0.8186055168917588,-0.22477040395132783,-0.24677109148501306,-1.5863247065897887,0.040629157884486754,-0.6435318145872875,0.5096173013346691,-1.4134405583436804,-0.9856650606127185,-1.332899924654395,-0.835689521985187,0.3509325415930457,0.2056437884096933,-1.8424841475984346,0.5953401809010593,-1.7016661494206462,0.3769197833430828,-0.08986765037176148,-0.26464943856144885,0.2996702121775819,-0.08513347629466395,-0.14318734590020804,-0.9397532454122348,-0.5072370450741972,-1.4064823254410985,0.5674390471645528,-1.3449602849704938,-2.2250731965123873,2.7083825895071967,-0.45632096832043334],\"type\":\"scatter\"}],                        {\"legend\":{\"bgcolor\":\"#F5F6F9\",\"font\":{\"color\":\"#4D5663\"}},\"paper_bgcolor\":\"#F5F6F9\",\"plot_bgcolor\":\"#F5F6F9\",\"template\":{\"data\":{\"barpolar\":[{\"marker\":{\"line\":{\"color\":\"#E5ECF6\",\"width\":0.5},\"pattern\":{\"fillmode\":\"overlay\",\"size\":10,\"solidity\":0.2}},\"type\":\"barpolar\"}],\"bar\":[{\"error_x\":{\"color\":\"#2a3f5f\"},\"error_y\":{\"color\":\"#2a3f5f\"},\"marker\":{\"line\":{\"color\":\"#E5ECF6\",\"width\":0.5},\"pattern\":{\"fillmode\":\"overlay\",\"size\":10,\"solidity\":0.2}},\"type\":\"bar\"}],\"carpet\":[{\"aaxis\":{\"endlinecolor\":\"#2a3f5f\",\"gridcolor\":\"white\",\"linecolor\":\"white\",\"minorgridcolor\":\"white\",\"startlinecolor\":\"#2a3f5f\"},\"baxis\":{\"endlinecolor\":\"#2a3f5f\",\"gridcolor\":\"white\",\"linecolor\":\"white\",\"minorgridcolor\":\"white\",\"startlinecolor\":\"#2a3f5f\"},\"type\":\"carpet\"}],\"choropleth\":[{\"colorbar\":{\"outlinewidth\":0,\"ticks\":\"\"},\"type\":\"choropleth\"}],\"contourcarpet\":[{\"colorbar\":{\"outlinewidth\":0,\"ticks\":\"\"},\"type\":\"contourcarpet\"}],\"contour\":[{\"colorbar\":{\"outlinewidth\":0,\"ticks\":\"\"},\"colorscale\":[[0.0,\"#0d0887\"],[0.1111111111111111,\"#46039f\"],[0.2222222222222222,\"#7201a8\"],[0.3333333333333333,\"#9c179e\"],[0.4444444444444444,\"#bd3786\"],[0.5555555555555556,\"#d8576b\"],[0.6666666666666666,\"#ed7953\"],[0.7777777777777778,\"#fb9f3a\"],[0.8888888888888888,\"#fdca26\"],[1.0,\"#f0f921\"]],\"type\":\"contour\"}],\"heatmapgl\":[{\"colorbar\":{\"outlinewidth\":0,\"ticks\":\"\"},\"colorscale\":[[0.0,\"#0d0887\"],[0.1111111111111111,\"#46039f\"],[0.2222222222222222,\"#7201a8\"],[0.3333333333333333,\"#9c179e\"],[0.4444444444444444,\"#bd3786\"],[0.5555555555555556,\"#d8576b\"],[0.6666666666666666,\"#ed7953\"],[0.7777777777777778,\"#fb9f3a\"],[0.8888888888888888,\"#fdca26\"],[1.0,\"#f0f921\"]],\"type\":\"heatmapgl\"}],\"heatmap\":[{\"colorbar\":{\"outlinewidth\":0,\"ticks\":\"\"},\"colorscale\":[[0.0,\"#0d0887\"],[0.1111111111111111,\"#46039f\"],[0.2222222222222222,\"#7201a8\"],[0.3333333333333333,\"#9c179e\"],[0.4444444444444444,\"#bd3786\"],[0.5555555555555556,\"#d8576b\"],[0.6666666666666666,\"#ed7953\"],[0.7777777777777778,\"#fb9f3a\"],[0.8888888888888888,\"#fdca26\"],[1.0,\"#f0f921\"]],\"type\":\"heatmap\"}],\"histogram2dcontour\":[{\"colorbar\":{\"outlinewidth\":0,\"ticks\":\"\"},\"colorscale\":[[0.0,\"#0d0887\"],[0.1111111111111111,\"#46039f\"],[0.2222222222222222,\"#7201a8\"],[0.3333333333333333,\"#9c179e\"],[0.4444444444444444,\"#bd3786\"],[0.5555555555555556,\"#d8576b\"],[0.6666666666666666,\"#ed7953\"],[0.7777777777777778,\"#fb9f3a\"],[0.8888888888888888,\"#fdca26\"],[1.0,\"#f0f921\"]],\"type\":\"histogram2dcontour\"}],\"histogram2d\":[{\"colorbar\":{\"outlinewidth\":0,\"ticks\":\"\"},\"colorscale\":[[0.0,\"#0d0887\"],[0.1111111111111111,\"#46039f\"],[0.2222222222222222,\"#7201a8\"],[0.3333333333333333,\"#9c179e\"],[0.4444444444444444,\"#bd3786\"],[0.5555555555555556,\"#d8576b\"],[0.6666666666666666,\"#ed7953\"],[0.7777777777777778,\"#fb9f3a\"],[0.8888888888888888,\"#fdca26\"],[1.0,\"#f0f921\"]],\"type\":\"histogram2d\"}],\"histogram\":[{\"marker\":{\"pattern\":{\"fillmode\":\"overlay\",\"size\":10,\"solidity\":0.2}},\"type\":\"histogram\"}],\"mesh3d\":[{\"colorbar\":{\"outlinewidth\":0,\"ticks\":\"\"},\"type\":\"mesh3d\"}],\"parcoords\":[{\"line\":{\"colorbar\":{\"outlinewidth\":0,\"ticks\":\"\"}},\"type\":\"parcoords\"}],\"pie\":[{\"automargin\":true,\"type\":\"pie\"}],\"scatter3d\":[{\"line\":{\"colorbar\":{\"outlinewidth\":0,\"ticks\":\"\"}},\"marker\":{\"colorbar\":{\"outlinewidth\":0,\"ticks\":\"\"}},\"type\":\"scatter3d\"}],\"scattercarpet\":[{\"marker\":{\"colorbar\":{\"outlinewidth\":0,\"ticks\":\"\"}},\"type\":\"scattercarpet\"}],\"scattergeo\":[{\"marker\":{\"colorbar\":{\"outlinewidth\":0,\"ticks\":\"\"}},\"type\":\"scattergeo\"}],\"scattergl\":[{\"marker\":{\"colorbar\":{\"outlinewidth\":0,\"ticks\":\"\"}},\"type\":\"scattergl\"}],\"scattermapbox\":[{\"marker\":{\"colorbar\":{\"outlinewidth\":0,\"ticks\":\"\"}},\"type\":\"scattermapbox\"}],\"scatterpolargl\":[{\"marker\":{\"colorbar\":{\"outlinewidth\":0,\"ticks\":\"\"}},\"type\":\"scatterpolargl\"}],\"scatterpolar\":[{\"marker\":{\"colorbar\":{\"outlinewidth\":0,\"ticks\":\"\"}},\"type\":\"scatterpolar\"}],\"scatter\":[{\"marker\":{\"colorbar\":{\"outlinewidth\":0,\"ticks\":\"\"}},\"type\":\"scatter\"}],\"scatterternary\":[{\"marker\":{\"colorbar\":{\"outlinewidth\":0,\"ticks\":\"\"}},\"type\":\"scatterternary\"}],\"surface\":[{\"colorbar\":{\"outlinewidth\":0,\"ticks\":\"\"},\"colorscale\":[[0.0,\"#0d0887\"],[0.1111111111111111,\"#46039f\"],[0.2222222222222222,\"#7201a8\"],[0.3333333333333333,\"#9c179e\"],[0.4444444444444444,\"#bd3786\"],[0.5555555555555556,\"#d8576b\"],[0.6666666666666666,\"#ed7953\"],[0.7777777777777778,\"#fb9f3a\"],[0.8888888888888888,\"#fdca26\"],[1.0,\"#f0f921\"]],\"type\":\"surface\"}],\"table\":[{\"cells\":{\"fill\":{\"color\":\"#EBF0F8\"},\"line\":{\"color\":\"white\"}},\"header\":{\"fill\":{\"color\":\"#C8D4E3\"},\"line\":{\"color\":\"white\"}},\"type\":\"table\"}]},\"layout\":{\"annotationdefaults\":{\"arrowcolor\":\"#2a3f5f\",\"arrowhead\":0,\"arrowwidth\":1},\"autotypenumbers\":\"strict\",\"coloraxis\":{\"colorbar\":{\"outlinewidth\":0,\"ticks\":\"\"}},\"colorscale\":{\"diverging\":[[0,\"#8e0152\"],[0.1,\"#c51b7d\"],[0.2,\"#de77ae\"],[0.3,\"#f1b6da\"],[0.4,\"#fde0ef\"],[0.5,\"#f7f7f7\"],[0.6,\"#e6f5d0\"],[0.7,\"#b8e186\"],[0.8,\"#7fbc41\"],[0.9,\"#4d9221\"],[1,\"#276419\"]],\"sequential\":[[0.0,\"#0d0887\"],[0.1111111111111111,\"#46039f\"],[0.2222222222222222,\"#7201a8\"],[0.3333333333333333,\"#9c179e\"],[0.4444444444444444,\"#bd3786\"],[0.5555555555555556,\"#d8576b\"],[0.6666666666666666,\"#ed7953\"],[0.7777777777777778,\"#fb9f3a\"],[0.8888888888888888,\"#fdca26\"],[1.0,\"#f0f921\"]],\"sequentialminus\":[[0.0,\"#0d0887\"],[0.1111111111111111,\"#46039f\"],[0.2222222222222222,\"#7201a8\"],[0.3333333333333333,\"#9c179e\"],[0.4444444444444444,\"#bd3786\"],[0.5555555555555556,\"#d8576b\"],[0.6666666666666666,\"#ed7953\"],[0.7777777777777778,\"#fb9f3a\"],[0.8888888888888888,\"#fdca26\"],[1.0,\"#f0f921\"]]},\"colorway\":[\"#636efa\",\"#EF553B\",\"#00cc96\",\"#ab63fa\",\"#FFA15A\",\"#19d3f3\",\"#FF6692\",\"#B6E880\",\"#FF97FF\",\"#FECB52\"],\"font\":{\"color\":\"#2a3f5f\"},\"geo\":{\"bgcolor\":\"white\",\"lakecolor\":\"white\",\"landcolor\":\"#E5ECF6\",\"showlakes\":true,\"showland\":true,\"subunitcolor\":\"white\"},\"hoverlabel\":{\"align\":\"left\"},\"hovermode\":\"closest\",\"mapbox\":{\"style\":\"light\"},\"paper_bgcolor\":\"white\",\"plot_bgcolor\":\"#E5ECF6\",\"polar\":{\"angularaxis\":{\"gridcolor\":\"white\",\"linecolor\":\"white\",\"ticks\":\"\"},\"bgcolor\":\"#E5ECF6\",\"radialaxis\":{\"gridcolor\":\"white\",\"linecolor\":\"white\",\"ticks\":\"\"}},\"scene\":{\"xaxis\":{\"backgroundcolor\":\"#E5ECF6\",\"gridcolor\":\"white\",\"gridwidth\":2,\"linecolor\":\"white\",\"showbackground\":true,\"ticks\":\"\",\"zerolinecolor\":\"white\"},\"yaxis\":{\"backgroundcolor\":\"#E5ECF6\",\"gridcolor\":\"white\",\"gridwidth\":2,\"linecolor\":\"white\",\"showbackground\":true,\"ticks\":\"\",\"zerolinecolor\":\"white\"},\"zaxis\":{\"backgroundcolor\":\"#E5ECF6\",\"gridcolor\":\"white\",\"gridwidth\":2,\"linecolor\":\"white\",\"showbackground\":true,\"ticks\":\"\",\"zerolinecolor\":\"white\"}},\"shapedefaults\":{\"line\":{\"color\":\"#2a3f5f\"}},\"ternary\":{\"aaxis\":{\"gridcolor\":\"white\",\"linecolor\":\"white\",\"ticks\":\"\"},\"baxis\":{\"gridcolor\":\"white\",\"linecolor\":\"white\",\"ticks\":\"\"},\"bgcolor\":\"#E5ECF6\",\"caxis\":{\"gridcolor\":\"white\",\"linecolor\":\"white\",\"ticks\":\"\"}},\"title\":{\"x\":0.05},\"xaxis\":{\"automargin\":true,\"gridcolor\":\"white\",\"linecolor\":\"white\",\"ticks\":\"\",\"title\":{\"standoff\":15},\"zerolinecolor\":\"white\",\"zerolinewidth\":2},\"yaxis\":{\"automargin\":true,\"gridcolor\":\"white\",\"linecolor\":\"white\",\"ticks\":\"\",\"title\":{\"standoff\":15},\"zerolinecolor\":\"white\",\"zerolinewidth\":2}}},\"title\":{\"font\":{\"color\":\"#4D5663\"}},\"xaxis\":{\"gridcolor\":\"#E1E5ED\",\"showgrid\":true,\"tickfont\":{\"color\":\"#4D5663\"},\"title\":{\"font\":{\"color\":\"#4D5663\"},\"text\":\"\"},\"zerolinecolor\":\"#E1E5ED\"},\"yaxis\":{\"gridcolor\":\"#E1E5ED\",\"showgrid\":true,\"tickfont\":{\"color\":\"#4D5663\"},\"title\":{\"font\":{\"color\":\"#4D5663\"},\"text\":\"\"},\"zerolinecolor\":\"#E1E5ED\"}},                        {\"showLink\": true, \"linkText\": \"Export to plot.ly\", \"plotlyServerURL\": \"https://plot.ly\", \"responsive\": true}                    ).then(function(){\n",
       "                            \n",
       "var gd = document.getElementById('c34171e2-df85-4a54-bf05-481ead17573f');\n",
       "var x = new MutationObserver(function (mutations, observer) {{\n",
       "        var display = window.getComputedStyle(gd).display;\n",
       "        if (!display || display === 'none') {{\n",
       "            console.log([gd, 'removed!']);\n",
       "            Plotly.purge(gd);\n",
       "            observer.disconnect();\n",
       "        }}\n",
       "}});\n",
       "\n",
       "// Listen for the removal of the full notebook cells\n",
       "var notebookContainer = gd.closest('#notebook-container');\n",
       "if (notebookContainer) {{\n",
       "    x.observe(notebookContainer, {childList: true});\n",
       "}}\n",
       "\n",
       "// Listen for the clearing of the current output cell\n",
       "var outputEl = gd.closest('.output');\n",
       "if (outputEl) {{\n",
       "    x.observe(outputEl, {childList: true});\n",
       "}}\n",
       "\n",
       "                        })                };                });            </script>        </div>"
      ]
     },
     "metadata": {},
     "output_type": "display_data"
    }
   ],
   "source": [
    "df.iplot(kind='bubble',x='A',y='B',size='C')"
   ]
  },
  {
   "cell_type": "markdown",
   "metadata": {},
   "source": [
    "## scatter_matrix()\n",
    "\n",
    "Similar to sns.pairplot()"
   ]
  },
  {
   "cell_type": "code",
   "execution_count": 18,
   "metadata": {},
   "outputs": [
    {
     "data": {
      "application/vnd.plotly.v1+json": {
       "config": {
        "linkText": "Export to plot.ly",
        "plotlyServerURL": "https://plot.ly",
        "showLink": true
       },
       "data": [
        {
         "histfunc": "count",
         "histnorm": "",
         "marker": {
          "color": "rgba(255, 153, 51, 1.0)",
          "line": {
           "color": "#4D5663",
           "width": 1.3
          }
         },
         "name": "A",
         "nbinsx": 10,
         "opacity": 0.8,
         "orientation": "v",
         "type": "histogram",
         "x": [
          0.9736909845664095,
          0.7453931702353471,
          -0.584055336541668,
          -0.23334317308454516,
          -0.7000980818831816,
          1.2640163141919862,
          0.1949923139470877,
          -0.1139424012300454,
          -1.2154052780343019,
          0.9427148962218297,
          -1.2916405932264694,
          0.9578217204912421,
          -0.837880408525564,
          0.04477730952604257,
          0.0383397555239589,
          -0.920388783780331,
          -0.4586856113547915,
          0.7711816847785313,
          0.34059770984713117,
          -1.5809372479586077,
          -1.6190220344139687,
          0.3208625363690133,
          -0.49880220411246723,
          1.7723673511636662,
          -0.37465832280229444,
          0.7826818967840763,
          -0.9382489946574548,
          0.256628562558935,
          -1.6435417552082037,
          0.2687912226590109,
          1.668421072838317,
          0.446353712790004,
          -0.6072554223605655,
          0.5991032352457688,
          -0.3258627556643973,
          1.0260743695545573,
          -1.171157562633884,
          -0.44721741902651935,
          -0.18974526127380406,
          2.690862185966791,
          -0.21341778348335275,
          1.3729489381133875,
          -0.761964462794412,
          -0.23813834441552054,
          0.2423835554502911,
          -0.29077186439934116,
          -1.0641484336030078,
          -0.9732442423717599,
          1.8692008067241,
          0.5688039761828222,
          0.5279236226278071,
          -1.9290273692427853,
          1.2050717665153194,
          0.09187426815692153,
          -0.46421003832585644,
          0.6395964134920199,
          -0.9210542655891115,
          -0.560210249597593,
          -0.15267149948701025,
          -0.11142177214842656,
          0.34833270402904304,
          0.49643314031171515,
          -1.3313665867483626,
          -0.436011570352057,
          -1.78046187609948,
          -0.32036274436060913,
          -1.015612399766101,
          0.5202821890468927,
          0.29159316903345855,
          -1.9088228832243033,
          -0.24376450985073603,
          0.22652240535890608,
          -0.7841859784980002,
          -1.5267580055035477,
          0.5064174250880061,
          0.3367433054611338,
          1.2199465314945819,
          0.6193045429044992,
          -0.1405866691128178,
          1.320617620238819,
          -0.23845004768408265,
          0.8678499324373304,
          -0.6783635389878114,
          0.30629054690212754,
          0.6242536199934187,
          -0.6305479765356926,
          0.05971608490631798,
          0.8076378833495368,
          0.23280226611831248,
          1.8486962032262002,
          -1.0288160629884067,
          -1.0514112023277025,
          -2.0322145049930698,
          -0.08895985707025184,
          -0.17232298550624023,
          0.6276671416998708,
          0.834125433775937,
          0.24959890970492207,
          0.2627700269025718,
          0.002893684758850433
         ],
         "xaxis": "x",
         "yaxis": "y"
        },
        {
         "line": {
          "color": "rgba(128, 128, 128, 1.0)",
          "dash": "solid",
          "shape": "linear",
          "width": 1.3
         },
         "marker": {
          "size": 2,
          "symbol": "circle"
         },
         "mode": "markers",
         "name": "A",
         "text": "",
         "type": "scatter",
         "x": [
          0.860487843415082,
          -0.1976076039773233,
          -0.48481821153381505,
          0.14681919989176692,
          1.3592898678691712,
          2.066687883890864,
          -1.5032945817436838,
          1.3945675564569295,
          -0.04778910964737012,
          -1.2129972364699224,
          1.4589311431911625,
          -0.44069477393216305,
          -1.0435081413404528,
          0.6889781462830233,
          -2.213980890594844,
          0.6142355502042238,
          0.2260184570472683,
          -0.9165795796993379,
          -0.1667415626821347,
          -0.2554626201939413,
          -1.037991147602794,
          -0.8800628951247182,
          -0.7005643966674218,
          -0.3802764846634866,
          -0.12296879928841947,
          1.1635838305936397,
          0.5044729405730749,
          -0.3344445850503148,
          -0.3912012746825815,
          -0.25437660692898856,
          -0.8500678690004732,
          -0.41509806198294447,
          2.03493032292298,
          -1.3314385730253768,
          0.29751356353402864,
          -0.7175580186337933,
          2.5113785520970975,
          -0.6095147542383219,
          -0.5088955997912352,
          1.0220677584987925,
          -2.0438870657446477,
          -1.4908273980005247,
          0.12922499574597024,
          -0.4915401118468228,
          0.3779801515751991,
          -0.8226774144982794,
          0.23284890744200148,
          1.2765999108951942,
          -0.1702716710359278,
          -0.6189082703607539,
          0.8749414426661444,
          1.5406104624426746,
          1.7099060314859462,
          -0.07706149742235652,
          0.9858023695881741,
          0.22317834251016266,
          -0.49721352987147677,
          0.6682973129617311,
          0.43169956246317065,
          -1.0918939029648713,
          0.10018235296733681,
          -0.989913227534258,
          0.021947372274293164,
          -1.0024193179032603,
          -0.8787782554290655,
          -0.5720097332195477,
          0.8790488723520122,
          -0.2562276873444926,
          -0.10326826791614217,
          -1.0134751880346335,
          0.8186055168917588,
          -0.22477040395132783,
          -0.24677109148501306,
          -1.5863247065897887,
          0.040629157884486754,
          -0.6435318145872875,
          0.5096173013346691,
          -1.4134405583436804,
          -0.9856650606127185,
          -1.332899924654395,
          -0.835689521985187,
          0.3509325415930457,
          0.2056437884096933,
          -1.8424841475984346,
          0.5953401809010593,
          -1.7016661494206462,
          0.3769197833430828,
          -0.08986765037176148,
          -0.26464943856144885,
          0.2996702121775819,
          -0.08513347629466395,
          -0.14318734590020804,
          -0.9397532454122348,
          -0.5072370450741972,
          -1.4064823254410985,
          0.5674390471645528,
          -1.3449602849704938,
          -2.2250731965123873,
          2.7083825895071967,
          -0.45632096832043334
         ],
         "xaxis": "x2",
         "y": [
          0.9736909845664095,
          0.7453931702353471,
          -0.584055336541668,
          -0.23334317308454516,
          -0.7000980818831816,
          1.2640163141919862,
          0.1949923139470877,
          -0.1139424012300454,
          -1.2154052780343019,
          0.9427148962218297,
          -1.2916405932264694,
          0.9578217204912421,
          -0.837880408525564,
          0.04477730952604257,
          0.0383397555239589,
          -0.920388783780331,
          -0.4586856113547915,
          0.7711816847785313,
          0.34059770984713117,
          -1.5809372479586077,
          -1.6190220344139687,
          0.3208625363690133,
          -0.49880220411246723,
          1.7723673511636662,
          -0.37465832280229444,
          0.7826818967840763,
          -0.9382489946574548,
          0.256628562558935,
          -1.6435417552082037,
          0.2687912226590109,
          1.668421072838317,
          0.446353712790004,
          -0.6072554223605655,
          0.5991032352457688,
          -0.3258627556643973,
          1.0260743695545573,
          -1.171157562633884,
          -0.44721741902651935,
          -0.18974526127380406,
          2.690862185966791,
          -0.21341778348335275,
          1.3729489381133875,
          -0.761964462794412,
          -0.23813834441552054,
          0.2423835554502911,
          -0.29077186439934116,
          -1.0641484336030078,
          -0.9732442423717599,
          1.8692008067241,
          0.5688039761828222,
          0.5279236226278071,
          -1.9290273692427853,
          1.2050717665153194,
          0.09187426815692153,
          -0.46421003832585644,
          0.6395964134920199,
          -0.9210542655891115,
          -0.560210249597593,
          -0.15267149948701025,
          -0.11142177214842656,
          0.34833270402904304,
          0.49643314031171515,
          -1.3313665867483626,
          -0.436011570352057,
          -1.78046187609948,
          -0.32036274436060913,
          -1.015612399766101,
          0.5202821890468927,
          0.29159316903345855,
          -1.9088228832243033,
          -0.24376450985073603,
          0.22652240535890608,
          -0.7841859784980002,
          -1.5267580055035477,
          0.5064174250880061,
          0.3367433054611338,
          1.2199465314945819,
          0.6193045429044992,
          -0.1405866691128178,
          1.320617620238819,
          -0.23845004768408265,
          0.8678499324373304,
          -0.6783635389878114,
          0.30629054690212754,
          0.6242536199934187,
          -0.6305479765356926,
          0.05971608490631798,
          0.8076378833495368,
          0.23280226611831248,
          1.8486962032262002,
          -1.0288160629884067,
          -1.0514112023277025,
          -2.0322145049930698,
          -0.08895985707025184,
          -0.17232298550624023,
          0.6276671416998708,
          0.834125433775937,
          0.24959890970492207,
          0.2627700269025718,
          0.002893684758850433
         ],
         "yaxis": "y2"
        },
        {
         "line": {
          "color": "rgba(128, 128, 128, 1.0)",
          "dash": "solid",
          "shape": "linear",
          "width": 1.3
         },
         "marker": {
          "size": 2,
          "symbol": "circle"
         },
         "mode": "markers",
         "name": "A",
         "text": "",
         "type": "scatter",
         "x": [
          -1.2129243066461926,
          -1.0382525619586047,
          0.5078729037486128,
          0.12938280012590278,
          1.6341558744990186,
          0.034930012561126954,
          1.0261894177771367,
          0.48561193015589027,
          0.6569701710035855,
          -1.0630086458831192,
          0.4142771846155979,
          -0.6556595684701798,
          -1.2324349279093698,
          -0.034881884818500714,
          -1.127311218191584,
          0.45529130807956325,
          -0.6843624789646388,
          -0.046359180704076026,
          -0.5854892488345255,
          -0.0409845837671332,
          -1.223982848402369,
          -0.8226884827636929,
          0.9384904117512551,
          -1.3750306046807677,
          0.1313334149963308,
          1.7048794060303314,
          1.4028775530543507,
          1.069301027364722,
          -1.8212129559016033,
          -0.6594633613721426,
          1.575005536398303,
          1.34808666633816,
          0.9834285751505591,
          1.2287692587781835,
          -0.4502702820223655,
          0.4456820296514806,
          -1.2348230631828667,
          0.6513935007474707,
          0.7217823183882504,
          -0.09686416078643863,
          1.4148480440052245,
          0.2964033944700848,
          1.7798621722114405,
          0.43881017351273405,
          -0.3608590905749697,
          2.2454327420000335,
          -0.7563312875676766,
          2.078310773128206,
          0.27645983228088156,
          -0.003495077411121001,
          0.9365313528116445,
          -0.7237369414815478,
          -0.2793753596275433,
          -1.0319498219187635,
          0.15331646592540693,
          -1.2358807644346608,
          -0.8730830970804379,
          0.5018243223627462,
          0.3277154911339316,
          -0.7001680856172838,
          -0.38062786970551593,
          0.37417986038524487,
          1.3359876312952497,
          -1.3946858064279308,
          -0.8240469768943165,
          0.8743429690518841,
          -1.0720216781766987,
          -0.7401129936227316,
          -0.8968854721484267,
          1.2491513029220178,
          0.7397186316244806,
          -1.487254527725665,
          1.2595678502989964,
          -0.9800162452253297,
          -1.688787406091313,
          -0.30864671171673497,
          -0.3989120773759106,
          1.0790874832643027,
          -0.6112958813779303,
          0.3771001514455043,
          -0.48577846390054724,
          -0.484680215995673,
          0.5411756268439647,
          -0.22380769329616534,
          -0.8933961523410535,
          -0.22423563658384077,
          0.9499070670923341,
          0.6160782169505912,
          -0.6581978552656172,
          -0.28633067383250554,
          1.0862691581589794,
          -1.1501168517633698,
          1.2793184154573662,
          -0.14364512188959166,
          -0.37372686635559066,
          -0.14504972441281114,
          0.24928956000707564,
          -2.0466412507953464,
          0.8318230917920868,
          -0.11766345027058192
         ],
         "xaxis": "x3",
         "y": [
          0.9736909845664095,
          0.7453931702353471,
          -0.584055336541668,
          -0.23334317308454516,
          -0.7000980818831816,
          1.2640163141919862,
          0.1949923139470877,
          -0.1139424012300454,
          -1.2154052780343019,
          0.9427148962218297,
          -1.2916405932264694,
          0.9578217204912421,
          -0.837880408525564,
          0.04477730952604257,
          0.0383397555239589,
          -0.920388783780331,
          -0.4586856113547915,
          0.7711816847785313,
          0.34059770984713117,
          -1.5809372479586077,
          -1.6190220344139687,
          0.3208625363690133,
          -0.49880220411246723,
          1.7723673511636662,
          -0.37465832280229444,
          0.7826818967840763,
          -0.9382489946574548,
          0.256628562558935,
          -1.6435417552082037,
          0.2687912226590109,
          1.668421072838317,
          0.446353712790004,
          -0.6072554223605655,
          0.5991032352457688,
          -0.3258627556643973,
          1.0260743695545573,
          -1.171157562633884,
          -0.44721741902651935,
          -0.18974526127380406,
          2.690862185966791,
          -0.21341778348335275,
          1.3729489381133875,
          -0.761964462794412,
          -0.23813834441552054,
          0.2423835554502911,
          -0.29077186439934116,
          -1.0641484336030078,
          -0.9732442423717599,
          1.8692008067241,
          0.5688039761828222,
          0.5279236226278071,
          -1.9290273692427853,
          1.2050717665153194,
          0.09187426815692153,
          -0.46421003832585644,
          0.6395964134920199,
          -0.9210542655891115,
          -0.560210249597593,
          -0.15267149948701025,
          -0.11142177214842656,
          0.34833270402904304,
          0.49643314031171515,
          -1.3313665867483626,
          -0.436011570352057,
          -1.78046187609948,
          -0.32036274436060913,
          -1.015612399766101,
          0.5202821890468927,
          0.29159316903345855,
          -1.9088228832243033,
          -0.24376450985073603,
          0.22652240535890608,
          -0.7841859784980002,
          -1.5267580055035477,
          0.5064174250880061,
          0.3367433054611338,
          1.2199465314945819,
          0.6193045429044992,
          -0.1405866691128178,
          1.320617620238819,
          -0.23845004768408265,
          0.8678499324373304,
          -0.6783635389878114,
          0.30629054690212754,
          0.6242536199934187,
          -0.6305479765356926,
          0.05971608490631798,
          0.8076378833495368,
          0.23280226611831248,
          1.8486962032262002,
          -1.0288160629884067,
          -1.0514112023277025,
          -2.0322145049930698,
          -0.08895985707025184,
          -0.17232298550624023,
          0.6276671416998708,
          0.834125433775937,
          0.24959890970492207,
          0.2627700269025718,
          0.002893684758850433
         ],
         "yaxis": "y3"
        },
        {
         "line": {
          "color": "rgba(128, 128, 128, 1.0)",
          "dash": "solid",
          "shape": "linear",
          "width": 1.3
         },
         "marker": {
          "size": 2,
          "symbol": "circle"
         },
         "mode": "markers",
         "name": "A",
         "text": "",
         "type": "scatter",
         "x": [
          1.8722585348532388,
          0.6002480468402726,
          1.6096154152185032,
          0.9265298336893815,
          0.4555575415025757,
          0.5289171832050981,
          -0.5983228383552023,
          1.2365871830946853,
          0.9517631530378322,
          0.570868240676847,
          -0.4556793485479554,
          -1.1333555613292898,
          -0.30292443048262374,
          -0.3056353662993651,
          -1.5175692055118397,
          1.3145283280893176,
          -0.05570837631306323,
          -1.6672156947224557,
          -0.18253225988568061,
          0.05511149500707958,
          0.29652944678050464,
          -0.9943797160192843,
          0.6156268206284266,
          -1.2075437829752398,
          -0.37179918002400814,
          -0.8229655422512129,
          -0.5166593432880014,
          -0.336846247094642,
          0.37487787800870676,
          -1.3529631715271817,
          -0.9321676199545975,
          -0.6688185052591087,
          -1.5575919005207202,
          -0.8421523930661949,
          -0.46189711876805095,
          -1.3841374100687416,
          -0.09056874091547108,
          1.5106652882289682,
          0.8119638369795266,
          -1.1384802895367663,
          -1.6209027494525534,
          -0.6315358645542397,
          -0.8511768762817592,
          0.03586724042659575,
          0.16410309502881068,
          0.429520008216888,
          0.4200845373397902,
          2.5762626896943157,
          -0.3218649735738696,
          0.4617162824060808,
          0.13449404442241317,
          -0.2826010297915294,
          0.34007594085606446,
          -2.12207436611629,
          0.6584656599689247,
          1.198737979306825,
          -0.38118023153890096,
          0.6134146441483715,
          1.6542094406369996,
          0.8629286116401483,
          -1.2080068415563003,
          -0.8446488381561417,
          -0.3013504908497219,
          0.7094948101748059,
          2.0034682245026394,
          -0.448025793463419,
          0.16448599174260323,
          1.0433542466727015,
          -2.1197172612812127,
          -0.46394930575369464,
          2.8089945300022463,
          0.12743653899500063,
          -0.8020211766680084,
          0.4233000698744811,
          -1.363898039468205,
          0.561670008690516,
          1.1090313942250214,
          0.364632673243882,
          0.10882749421227883,
          -0.13917195623887504,
          0.15642272556811335,
          -0.09513856184826817,
          -0.8223965566500696,
          2.856351025955582,
          0.05493509540780236,
          0.9995691681299053,
          -0.40171554335583887,
          0.11185999318285084,
          -0.3781309368274451,
          0.3330805287634981,
          0.18963718995166604,
          -0.233220389590355,
          -1.0223432110448787,
          -1.8700950680140607,
          0.0077898837938084895,
          0.9604776769652278,
          -0.6944640552433706,
          -0.08566401282169836,
          0.7603737677705592,
          -1.1685652543059402
         ],
         "xaxis": "x4",
         "y": [
          0.9736909845664095,
          0.7453931702353471,
          -0.584055336541668,
          -0.23334317308454516,
          -0.7000980818831816,
          1.2640163141919862,
          0.1949923139470877,
          -0.1139424012300454,
          -1.2154052780343019,
          0.9427148962218297,
          -1.2916405932264694,
          0.9578217204912421,
          -0.837880408525564,
          0.04477730952604257,
          0.0383397555239589,
          -0.920388783780331,
          -0.4586856113547915,
          0.7711816847785313,
          0.34059770984713117,
          -1.5809372479586077,
          -1.6190220344139687,
          0.3208625363690133,
          -0.49880220411246723,
          1.7723673511636662,
          -0.37465832280229444,
          0.7826818967840763,
          -0.9382489946574548,
          0.256628562558935,
          -1.6435417552082037,
          0.2687912226590109,
          1.668421072838317,
          0.446353712790004,
          -0.6072554223605655,
          0.5991032352457688,
          -0.3258627556643973,
          1.0260743695545573,
          -1.171157562633884,
          -0.44721741902651935,
          -0.18974526127380406,
          2.690862185966791,
          -0.21341778348335275,
          1.3729489381133875,
          -0.761964462794412,
          -0.23813834441552054,
          0.2423835554502911,
          -0.29077186439934116,
          -1.0641484336030078,
          -0.9732442423717599,
          1.8692008067241,
          0.5688039761828222,
          0.5279236226278071,
          -1.9290273692427853,
          1.2050717665153194,
          0.09187426815692153,
          -0.46421003832585644,
          0.6395964134920199,
          -0.9210542655891115,
          -0.560210249597593,
          -0.15267149948701025,
          -0.11142177214842656,
          0.34833270402904304,
          0.49643314031171515,
          -1.3313665867483626,
          -0.436011570352057,
          -1.78046187609948,
          -0.32036274436060913,
          -1.015612399766101,
          0.5202821890468927,
          0.29159316903345855,
          -1.9088228832243033,
          -0.24376450985073603,
          0.22652240535890608,
          -0.7841859784980002,
          -1.5267580055035477,
          0.5064174250880061,
          0.3367433054611338,
          1.2199465314945819,
          0.6193045429044992,
          -0.1405866691128178,
          1.320617620238819,
          -0.23845004768408265,
          0.8678499324373304,
          -0.6783635389878114,
          0.30629054690212754,
          0.6242536199934187,
          -0.6305479765356926,
          0.05971608490631798,
          0.8076378833495368,
          0.23280226611831248,
          1.8486962032262002,
          -1.0288160629884067,
          -1.0514112023277025,
          -2.0322145049930698,
          -0.08895985707025184,
          -0.17232298550624023,
          0.6276671416998708,
          0.834125433775937,
          0.24959890970492207,
          0.2627700269025718,
          0.002893684758850433
         ],
         "yaxis": "y4"
        },
        {
         "line": {
          "color": "rgba(128, 128, 128, 1.0)",
          "dash": "solid",
          "shape": "linear",
          "width": 1.3
         },
         "marker": {
          "size": 2,
          "symbol": "circle"
         },
         "mode": "markers",
         "name": "B",
         "text": "",
         "type": "scatter",
         "x": [
          0.9736909845664095,
          0.7453931702353471,
          -0.584055336541668,
          -0.23334317308454516,
          -0.7000980818831816,
          1.2640163141919862,
          0.1949923139470877,
          -0.1139424012300454,
          -1.2154052780343019,
          0.9427148962218297,
          -1.2916405932264694,
          0.9578217204912421,
          -0.837880408525564,
          0.04477730952604257,
          0.0383397555239589,
          -0.920388783780331,
          -0.4586856113547915,
          0.7711816847785313,
          0.34059770984713117,
          -1.5809372479586077,
          -1.6190220344139687,
          0.3208625363690133,
          -0.49880220411246723,
          1.7723673511636662,
          -0.37465832280229444,
          0.7826818967840763,
          -0.9382489946574548,
          0.256628562558935,
          -1.6435417552082037,
          0.2687912226590109,
          1.668421072838317,
          0.446353712790004,
          -0.6072554223605655,
          0.5991032352457688,
          -0.3258627556643973,
          1.0260743695545573,
          -1.171157562633884,
          -0.44721741902651935,
          -0.18974526127380406,
          2.690862185966791,
          -0.21341778348335275,
          1.3729489381133875,
          -0.761964462794412,
          -0.23813834441552054,
          0.2423835554502911,
          -0.29077186439934116,
          -1.0641484336030078,
          -0.9732442423717599,
          1.8692008067241,
          0.5688039761828222,
          0.5279236226278071,
          -1.9290273692427853,
          1.2050717665153194,
          0.09187426815692153,
          -0.46421003832585644,
          0.6395964134920199,
          -0.9210542655891115,
          -0.560210249597593,
          -0.15267149948701025,
          -0.11142177214842656,
          0.34833270402904304,
          0.49643314031171515,
          -1.3313665867483626,
          -0.436011570352057,
          -1.78046187609948,
          -0.32036274436060913,
          -1.015612399766101,
          0.5202821890468927,
          0.29159316903345855,
          -1.9088228832243033,
          -0.24376450985073603,
          0.22652240535890608,
          -0.7841859784980002,
          -1.5267580055035477,
          0.5064174250880061,
          0.3367433054611338,
          1.2199465314945819,
          0.6193045429044992,
          -0.1405866691128178,
          1.320617620238819,
          -0.23845004768408265,
          0.8678499324373304,
          -0.6783635389878114,
          0.30629054690212754,
          0.6242536199934187,
          -0.6305479765356926,
          0.05971608490631798,
          0.8076378833495368,
          0.23280226611831248,
          1.8486962032262002,
          -1.0288160629884067,
          -1.0514112023277025,
          -2.0322145049930698,
          -0.08895985707025184,
          -0.17232298550624023,
          0.6276671416998708,
          0.834125433775937,
          0.24959890970492207,
          0.2627700269025718,
          0.002893684758850433
         ],
         "xaxis": "x5",
         "y": [
          0.860487843415082,
          -0.1976076039773233,
          -0.48481821153381505,
          0.14681919989176692,
          1.3592898678691712,
          2.066687883890864,
          -1.5032945817436838,
          1.3945675564569295,
          -0.04778910964737012,
          -1.2129972364699224,
          1.4589311431911625,
          -0.44069477393216305,
          -1.0435081413404528,
          0.6889781462830233,
          -2.213980890594844,
          0.6142355502042238,
          0.2260184570472683,
          -0.9165795796993379,
          -0.1667415626821347,
          -0.2554626201939413,
          -1.037991147602794,
          -0.8800628951247182,
          -0.7005643966674218,
          -0.3802764846634866,
          -0.12296879928841947,
          1.1635838305936397,
          0.5044729405730749,
          -0.3344445850503148,
          -0.3912012746825815,
          -0.25437660692898856,
          -0.8500678690004732,
          -0.41509806198294447,
          2.03493032292298,
          -1.3314385730253768,
          0.29751356353402864,
          -0.7175580186337933,
          2.5113785520970975,
          -0.6095147542383219,
          -0.5088955997912352,
          1.0220677584987925,
          -2.0438870657446477,
          -1.4908273980005247,
          0.12922499574597024,
          -0.4915401118468228,
          0.3779801515751991,
          -0.8226774144982794,
          0.23284890744200148,
          1.2765999108951942,
          -0.1702716710359278,
          -0.6189082703607539,
          0.8749414426661444,
          1.5406104624426746,
          1.7099060314859462,
          -0.07706149742235652,
          0.9858023695881741,
          0.22317834251016266,
          -0.49721352987147677,
          0.6682973129617311,
          0.43169956246317065,
          -1.0918939029648713,
          0.10018235296733681,
          -0.989913227534258,
          0.021947372274293164,
          -1.0024193179032603,
          -0.8787782554290655,
          -0.5720097332195477,
          0.8790488723520122,
          -0.2562276873444926,
          -0.10326826791614217,
          -1.0134751880346335,
          0.8186055168917588,
          -0.22477040395132783,
          -0.24677109148501306,
          -1.5863247065897887,
          0.040629157884486754,
          -0.6435318145872875,
          0.5096173013346691,
          -1.4134405583436804,
          -0.9856650606127185,
          -1.332899924654395,
          -0.835689521985187,
          0.3509325415930457,
          0.2056437884096933,
          -1.8424841475984346,
          0.5953401809010593,
          -1.7016661494206462,
          0.3769197833430828,
          -0.08986765037176148,
          -0.26464943856144885,
          0.2996702121775819,
          -0.08513347629466395,
          -0.14318734590020804,
          -0.9397532454122348,
          -0.5072370450741972,
          -1.4064823254410985,
          0.5674390471645528,
          -1.3449602849704938,
          -2.2250731965123873,
          2.7083825895071967,
          -0.45632096832043334
         ],
         "yaxis": "y5"
        },
        {
         "histfunc": "count",
         "histnorm": "",
         "marker": {
          "color": "rgba(55, 128, 191, 1.0)",
          "line": {
           "color": "#4D5663",
           "width": 1.3
          }
         },
         "name": "B",
         "nbinsx": 10,
         "opacity": 0.8,
         "orientation": "v",
         "type": "histogram",
         "x": [
          0.860487843415082,
          -0.1976076039773233,
          -0.48481821153381505,
          0.14681919989176692,
          1.3592898678691712,
          2.066687883890864,
          -1.5032945817436838,
          1.3945675564569295,
          -0.04778910964737012,
          -1.2129972364699224,
          1.4589311431911625,
          -0.44069477393216305,
          -1.0435081413404528,
          0.6889781462830233,
          -2.213980890594844,
          0.6142355502042238,
          0.2260184570472683,
          -0.9165795796993379,
          -0.1667415626821347,
          -0.2554626201939413,
          -1.037991147602794,
          -0.8800628951247182,
          -0.7005643966674218,
          -0.3802764846634866,
          -0.12296879928841947,
          1.1635838305936397,
          0.5044729405730749,
          -0.3344445850503148,
          -0.3912012746825815,
          -0.25437660692898856,
          -0.8500678690004732,
          -0.41509806198294447,
          2.03493032292298,
          -1.3314385730253768,
          0.29751356353402864,
          -0.7175580186337933,
          2.5113785520970975,
          -0.6095147542383219,
          -0.5088955997912352,
          1.0220677584987925,
          -2.0438870657446477,
          -1.4908273980005247,
          0.12922499574597024,
          -0.4915401118468228,
          0.3779801515751991,
          -0.8226774144982794,
          0.23284890744200148,
          1.2765999108951942,
          -0.1702716710359278,
          -0.6189082703607539,
          0.8749414426661444,
          1.5406104624426746,
          1.7099060314859462,
          -0.07706149742235652,
          0.9858023695881741,
          0.22317834251016266,
          -0.49721352987147677,
          0.6682973129617311,
          0.43169956246317065,
          -1.0918939029648713,
          0.10018235296733681,
          -0.989913227534258,
          0.021947372274293164,
          -1.0024193179032603,
          -0.8787782554290655,
          -0.5720097332195477,
          0.8790488723520122,
          -0.2562276873444926,
          -0.10326826791614217,
          -1.0134751880346335,
          0.8186055168917588,
          -0.22477040395132783,
          -0.24677109148501306,
          -1.5863247065897887,
          0.040629157884486754,
          -0.6435318145872875,
          0.5096173013346691,
          -1.4134405583436804,
          -0.9856650606127185,
          -1.332899924654395,
          -0.835689521985187,
          0.3509325415930457,
          0.2056437884096933,
          -1.8424841475984346,
          0.5953401809010593,
          -1.7016661494206462,
          0.3769197833430828,
          -0.08986765037176148,
          -0.26464943856144885,
          0.2996702121775819,
          -0.08513347629466395,
          -0.14318734590020804,
          -0.9397532454122348,
          -0.5072370450741972,
          -1.4064823254410985,
          0.5674390471645528,
          -1.3449602849704938,
          -2.2250731965123873,
          2.7083825895071967,
          -0.45632096832043334
         ],
         "xaxis": "x6",
         "yaxis": "y6"
        },
        {
         "line": {
          "color": "rgba(128, 128, 128, 1.0)",
          "dash": "solid",
          "shape": "linear",
          "width": 1.3
         },
         "marker": {
          "size": 2,
          "symbol": "circle"
         },
         "mode": "markers",
         "name": "B",
         "text": "",
         "type": "scatter",
         "x": [
          -1.2129243066461926,
          -1.0382525619586047,
          0.5078729037486128,
          0.12938280012590278,
          1.6341558744990186,
          0.034930012561126954,
          1.0261894177771367,
          0.48561193015589027,
          0.6569701710035855,
          -1.0630086458831192,
          0.4142771846155979,
          -0.6556595684701798,
          -1.2324349279093698,
          -0.034881884818500714,
          -1.127311218191584,
          0.45529130807956325,
          -0.6843624789646388,
          -0.046359180704076026,
          -0.5854892488345255,
          -0.0409845837671332,
          -1.223982848402369,
          -0.8226884827636929,
          0.9384904117512551,
          -1.3750306046807677,
          0.1313334149963308,
          1.7048794060303314,
          1.4028775530543507,
          1.069301027364722,
          -1.8212129559016033,
          -0.6594633613721426,
          1.575005536398303,
          1.34808666633816,
          0.9834285751505591,
          1.2287692587781835,
          -0.4502702820223655,
          0.4456820296514806,
          -1.2348230631828667,
          0.6513935007474707,
          0.7217823183882504,
          -0.09686416078643863,
          1.4148480440052245,
          0.2964033944700848,
          1.7798621722114405,
          0.43881017351273405,
          -0.3608590905749697,
          2.2454327420000335,
          -0.7563312875676766,
          2.078310773128206,
          0.27645983228088156,
          -0.003495077411121001,
          0.9365313528116445,
          -0.7237369414815478,
          -0.2793753596275433,
          -1.0319498219187635,
          0.15331646592540693,
          -1.2358807644346608,
          -0.8730830970804379,
          0.5018243223627462,
          0.3277154911339316,
          -0.7001680856172838,
          -0.38062786970551593,
          0.37417986038524487,
          1.3359876312952497,
          -1.3946858064279308,
          -0.8240469768943165,
          0.8743429690518841,
          -1.0720216781766987,
          -0.7401129936227316,
          -0.8968854721484267,
          1.2491513029220178,
          0.7397186316244806,
          -1.487254527725665,
          1.2595678502989964,
          -0.9800162452253297,
          -1.688787406091313,
          -0.30864671171673497,
          -0.3989120773759106,
          1.0790874832643027,
          -0.6112958813779303,
          0.3771001514455043,
          -0.48577846390054724,
          -0.484680215995673,
          0.5411756268439647,
          -0.22380769329616534,
          -0.8933961523410535,
          -0.22423563658384077,
          0.9499070670923341,
          0.6160782169505912,
          -0.6581978552656172,
          -0.28633067383250554,
          1.0862691581589794,
          -1.1501168517633698,
          1.2793184154573662,
          -0.14364512188959166,
          -0.37372686635559066,
          -0.14504972441281114,
          0.24928956000707564,
          -2.0466412507953464,
          0.8318230917920868,
          -0.11766345027058192
         ],
         "xaxis": "x7",
         "y": [
          0.860487843415082,
          -0.1976076039773233,
          -0.48481821153381505,
          0.14681919989176692,
          1.3592898678691712,
          2.066687883890864,
          -1.5032945817436838,
          1.3945675564569295,
          -0.04778910964737012,
          -1.2129972364699224,
          1.4589311431911625,
          -0.44069477393216305,
          -1.0435081413404528,
          0.6889781462830233,
          -2.213980890594844,
          0.6142355502042238,
          0.2260184570472683,
          -0.9165795796993379,
          -0.1667415626821347,
          -0.2554626201939413,
          -1.037991147602794,
          -0.8800628951247182,
          -0.7005643966674218,
          -0.3802764846634866,
          -0.12296879928841947,
          1.1635838305936397,
          0.5044729405730749,
          -0.3344445850503148,
          -0.3912012746825815,
          -0.25437660692898856,
          -0.8500678690004732,
          -0.41509806198294447,
          2.03493032292298,
          -1.3314385730253768,
          0.29751356353402864,
          -0.7175580186337933,
          2.5113785520970975,
          -0.6095147542383219,
          -0.5088955997912352,
          1.0220677584987925,
          -2.0438870657446477,
          -1.4908273980005247,
          0.12922499574597024,
          -0.4915401118468228,
          0.3779801515751991,
          -0.8226774144982794,
          0.23284890744200148,
          1.2765999108951942,
          -0.1702716710359278,
          -0.6189082703607539,
          0.8749414426661444,
          1.5406104624426746,
          1.7099060314859462,
          -0.07706149742235652,
          0.9858023695881741,
          0.22317834251016266,
          -0.49721352987147677,
          0.6682973129617311,
          0.43169956246317065,
          -1.0918939029648713,
          0.10018235296733681,
          -0.989913227534258,
          0.021947372274293164,
          -1.0024193179032603,
          -0.8787782554290655,
          -0.5720097332195477,
          0.8790488723520122,
          -0.2562276873444926,
          -0.10326826791614217,
          -1.0134751880346335,
          0.8186055168917588,
          -0.22477040395132783,
          -0.24677109148501306,
          -1.5863247065897887,
          0.040629157884486754,
          -0.6435318145872875,
          0.5096173013346691,
          -1.4134405583436804,
          -0.9856650606127185,
          -1.332899924654395,
          -0.835689521985187,
          0.3509325415930457,
          0.2056437884096933,
          -1.8424841475984346,
          0.5953401809010593,
          -1.7016661494206462,
          0.3769197833430828,
          -0.08986765037176148,
          -0.26464943856144885,
          0.2996702121775819,
          -0.08513347629466395,
          -0.14318734590020804,
          -0.9397532454122348,
          -0.5072370450741972,
          -1.4064823254410985,
          0.5674390471645528,
          -1.3449602849704938,
          -2.2250731965123873,
          2.7083825895071967,
          -0.45632096832043334
         ],
         "yaxis": "y7"
        },
        {
         "line": {
          "color": "rgba(128, 128, 128, 1.0)",
          "dash": "solid",
          "shape": "linear",
          "width": 1.3
         },
         "marker": {
          "size": 2,
          "symbol": "circle"
         },
         "mode": "markers",
         "name": "B",
         "text": "",
         "type": "scatter",
         "x": [
          1.8722585348532388,
          0.6002480468402726,
          1.6096154152185032,
          0.9265298336893815,
          0.4555575415025757,
          0.5289171832050981,
          -0.5983228383552023,
          1.2365871830946853,
          0.9517631530378322,
          0.570868240676847,
          -0.4556793485479554,
          -1.1333555613292898,
          -0.30292443048262374,
          -0.3056353662993651,
          -1.5175692055118397,
          1.3145283280893176,
          -0.05570837631306323,
          -1.6672156947224557,
          -0.18253225988568061,
          0.05511149500707958,
          0.29652944678050464,
          -0.9943797160192843,
          0.6156268206284266,
          -1.2075437829752398,
          -0.37179918002400814,
          -0.8229655422512129,
          -0.5166593432880014,
          -0.336846247094642,
          0.37487787800870676,
          -1.3529631715271817,
          -0.9321676199545975,
          -0.6688185052591087,
          -1.5575919005207202,
          -0.8421523930661949,
          -0.46189711876805095,
          -1.3841374100687416,
          -0.09056874091547108,
          1.5106652882289682,
          0.8119638369795266,
          -1.1384802895367663,
          -1.6209027494525534,
          -0.6315358645542397,
          -0.8511768762817592,
          0.03586724042659575,
          0.16410309502881068,
          0.429520008216888,
          0.4200845373397902,
          2.5762626896943157,
          -0.3218649735738696,
          0.4617162824060808,
          0.13449404442241317,
          -0.2826010297915294,
          0.34007594085606446,
          -2.12207436611629,
          0.6584656599689247,
          1.198737979306825,
          -0.38118023153890096,
          0.6134146441483715,
          1.6542094406369996,
          0.8629286116401483,
          -1.2080068415563003,
          -0.8446488381561417,
          -0.3013504908497219,
          0.7094948101748059,
          2.0034682245026394,
          -0.448025793463419,
          0.16448599174260323,
          1.0433542466727015,
          -2.1197172612812127,
          -0.46394930575369464,
          2.8089945300022463,
          0.12743653899500063,
          -0.8020211766680084,
          0.4233000698744811,
          -1.363898039468205,
          0.561670008690516,
          1.1090313942250214,
          0.364632673243882,
          0.10882749421227883,
          -0.13917195623887504,
          0.15642272556811335,
          -0.09513856184826817,
          -0.8223965566500696,
          2.856351025955582,
          0.05493509540780236,
          0.9995691681299053,
          -0.40171554335583887,
          0.11185999318285084,
          -0.3781309368274451,
          0.3330805287634981,
          0.18963718995166604,
          -0.233220389590355,
          -1.0223432110448787,
          -1.8700950680140607,
          0.0077898837938084895,
          0.9604776769652278,
          -0.6944640552433706,
          -0.08566401282169836,
          0.7603737677705592,
          -1.1685652543059402
         ],
         "xaxis": "x8",
         "y": [
          0.860487843415082,
          -0.1976076039773233,
          -0.48481821153381505,
          0.14681919989176692,
          1.3592898678691712,
          2.066687883890864,
          -1.5032945817436838,
          1.3945675564569295,
          -0.04778910964737012,
          -1.2129972364699224,
          1.4589311431911625,
          -0.44069477393216305,
          -1.0435081413404528,
          0.6889781462830233,
          -2.213980890594844,
          0.6142355502042238,
          0.2260184570472683,
          -0.9165795796993379,
          -0.1667415626821347,
          -0.2554626201939413,
          -1.037991147602794,
          -0.8800628951247182,
          -0.7005643966674218,
          -0.3802764846634866,
          -0.12296879928841947,
          1.1635838305936397,
          0.5044729405730749,
          -0.3344445850503148,
          -0.3912012746825815,
          -0.25437660692898856,
          -0.8500678690004732,
          -0.41509806198294447,
          2.03493032292298,
          -1.3314385730253768,
          0.29751356353402864,
          -0.7175580186337933,
          2.5113785520970975,
          -0.6095147542383219,
          -0.5088955997912352,
          1.0220677584987925,
          -2.0438870657446477,
          -1.4908273980005247,
          0.12922499574597024,
          -0.4915401118468228,
          0.3779801515751991,
          -0.8226774144982794,
          0.23284890744200148,
          1.2765999108951942,
          -0.1702716710359278,
          -0.6189082703607539,
          0.8749414426661444,
          1.5406104624426746,
          1.7099060314859462,
          -0.07706149742235652,
          0.9858023695881741,
          0.22317834251016266,
          -0.49721352987147677,
          0.6682973129617311,
          0.43169956246317065,
          -1.0918939029648713,
          0.10018235296733681,
          -0.989913227534258,
          0.021947372274293164,
          -1.0024193179032603,
          -0.8787782554290655,
          -0.5720097332195477,
          0.8790488723520122,
          -0.2562276873444926,
          -0.10326826791614217,
          -1.0134751880346335,
          0.8186055168917588,
          -0.22477040395132783,
          -0.24677109148501306,
          -1.5863247065897887,
          0.040629157884486754,
          -0.6435318145872875,
          0.5096173013346691,
          -1.4134405583436804,
          -0.9856650606127185,
          -1.332899924654395,
          -0.835689521985187,
          0.3509325415930457,
          0.2056437884096933,
          -1.8424841475984346,
          0.5953401809010593,
          -1.7016661494206462,
          0.3769197833430828,
          -0.08986765037176148,
          -0.26464943856144885,
          0.2996702121775819,
          -0.08513347629466395,
          -0.14318734590020804,
          -0.9397532454122348,
          -0.5072370450741972,
          -1.4064823254410985,
          0.5674390471645528,
          -1.3449602849704938,
          -2.2250731965123873,
          2.7083825895071967,
          -0.45632096832043334
         ],
         "yaxis": "y8"
        },
        {
         "line": {
          "color": "rgba(128, 128, 128, 1.0)",
          "dash": "solid",
          "shape": "linear",
          "width": 1.3
         },
         "marker": {
          "size": 2,
          "symbol": "circle"
         },
         "mode": "markers",
         "name": "C",
         "text": "",
         "type": "scatter",
         "x": [
          0.9736909845664095,
          0.7453931702353471,
          -0.584055336541668,
          -0.23334317308454516,
          -0.7000980818831816,
          1.2640163141919862,
          0.1949923139470877,
          -0.1139424012300454,
          -1.2154052780343019,
          0.9427148962218297,
          -1.2916405932264694,
          0.9578217204912421,
          -0.837880408525564,
          0.04477730952604257,
          0.0383397555239589,
          -0.920388783780331,
          -0.4586856113547915,
          0.7711816847785313,
          0.34059770984713117,
          -1.5809372479586077,
          -1.6190220344139687,
          0.3208625363690133,
          -0.49880220411246723,
          1.7723673511636662,
          -0.37465832280229444,
          0.7826818967840763,
          -0.9382489946574548,
          0.256628562558935,
          -1.6435417552082037,
          0.2687912226590109,
          1.668421072838317,
          0.446353712790004,
          -0.6072554223605655,
          0.5991032352457688,
          -0.3258627556643973,
          1.0260743695545573,
          -1.171157562633884,
          -0.44721741902651935,
          -0.18974526127380406,
          2.690862185966791,
          -0.21341778348335275,
          1.3729489381133875,
          -0.761964462794412,
          -0.23813834441552054,
          0.2423835554502911,
          -0.29077186439934116,
          -1.0641484336030078,
          -0.9732442423717599,
          1.8692008067241,
          0.5688039761828222,
          0.5279236226278071,
          -1.9290273692427853,
          1.2050717665153194,
          0.09187426815692153,
          -0.46421003832585644,
          0.6395964134920199,
          -0.9210542655891115,
          -0.560210249597593,
          -0.15267149948701025,
          -0.11142177214842656,
          0.34833270402904304,
          0.49643314031171515,
          -1.3313665867483626,
          -0.436011570352057,
          -1.78046187609948,
          -0.32036274436060913,
          -1.015612399766101,
          0.5202821890468927,
          0.29159316903345855,
          -1.9088228832243033,
          -0.24376450985073603,
          0.22652240535890608,
          -0.7841859784980002,
          -1.5267580055035477,
          0.5064174250880061,
          0.3367433054611338,
          1.2199465314945819,
          0.6193045429044992,
          -0.1405866691128178,
          1.320617620238819,
          -0.23845004768408265,
          0.8678499324373304,
          -0.6783635389878114,
          0.30629054690212754,
          0.6242536199934187,
          -0.6305479765356926,
          0.05971608490631798,
          0.8076378833495368,
          0.23280226611831248,
          1.8486962032262002,
          -1.0288160629884067,
          -1.0514112023277025,
          -2.0322145049930698,
          -0.08895985707025184,
          -0.17232298550624023,
          0.6276671416998708,
          0.834125433775937,
          0.24959890970492207,
          0.2627700269025718,
          0.002893684758850433
         ],
         "xaxis": "x9",
         "y": [
          -1.2129243066461926,
          -1.0382525619586047,
          0.5078729037486128,
          0.12938280012590278,
          1.6341558744990186,
          0.034930012561126954,
          1.0261894177771367,
          0.48561193015589027,
          0.6569701710035855,
          -1.0630086458831192,
          0.4142771846155979,
          -0.6556595684701798,
          -1.2324349279093698,
          -0.034881884818500714,
          -1.127311218191584,
          0.45529130807956325,
          -0.6843624789646388,
          -0.046359180704076026,
          -0.5854892488345255,
          -0.0409845837671332,
          -1.223982848402369,
          -0.8226884827636929,
          0.9384904117512551,
          -1.3750306046807677,
          0.1313334149963308,
          1.7048794060303314,
          1.4028775530543507,
          1.069301027364722,
          -1.8212129559016033,
          -0.6594633613721426,
          1.575005536398303,
          1.34808666633816,
          0.9834285751505591,
          1.2287692587781835,
          -0.4502702820223655,
          0.4456820296514806,
          -1.2348230631828667,
          0.6513935007474707,
          0.7217823183882504,
          -0.09686416078643863,
          1.4148480440052245,
          0.2964033944700848,
          1.7798621722114405,
          0.43881017351273405,
          -0.3608590905749697,
          2.2454327420000335,
          -0.7563312875676766,
          2.078310773128206,
          0.27645983228088156,
          -0.003495077411121001,
          0.9365313528116445,
          -0.7237369414815478,
          -0.2793753596275433,
          -1.0319498219187635,
          0.15331646592540693,
          -1.2358807644346608,
          -0.8730830970804379,
          0.5018243223627462,
          0.3277154911339316,
          -0.7001680856172838,
          -0.38062786970551593,
          0.37417986038524487,
          1.3359876312952497,
          -1.3946858064279308,
          -0.8240469768943165,
          0.8743429690518841,
          -1.0720216781766987,
          -0.7401129936227316,
          -0.8968854721484267,
          1.2491513029220178,
          0.7397186316244806,
          -1.487254527725665,
          1.2595678502989964,
          -0.9800162452253297,
          -1.688787406091313,
          -0.30864671171673497,
          -0.3989120773759106,
          1.0790874832643027,
          -0.6112958813779303,
          0.3771001514455043,
          -0.48577846390054724,
          -0.484680215995673,
          0.5411756268439647,
          -0.22380769329616534,
          -0.8933961523410535,
          -0.22423563658384077,
          0.9499070670923341,
          0.6160782169505912,
          -0.6581978552656172,
          -0.28633067383250554,
          1.0862691581589794,
          -1.1501168517633698,
          1.2793184154573662,
          -0.14364512188959166,
          -0.37372686635559066,
          -0.14504972441281114,
          0.24928956000707564,
          -2.0466412507953464,
          0.8318230917920868,
          -0.11766345027058192
         ],
         "yaxis": "y9"
        },
        {
         "line": {
          "color": "rgba(128, 128, 128, 1.0)",
          "dash": "solid",
          "shape": "linear",
          "width": 1.3
         },
         "marker": {
          "size": 2,
          "symbol": "circle"
         },
         "mode": "markers",
         "name": "C",
         "text": "",
         "type": "scatter",
         "x": [
          0.860487843415082,
          -0.1976076039773233,
          -0.48481821153381505,
          0.14681919989176692,
          1.3592898678691712,
          2.066687883890864,
          -1.5032945817436838,
          1.3945675564569295,
          -0.04778910964737012,
          -1.2129972364699224,
          1.4589311431911625,
          -0.44069477393216305,
          -1.0435081413404528,
          0.6889781462830233,
          -2.213980890594844,
          0.6142355502042238,
          0.2260184570472683,
          -0.9165795796993379,
          -0.1667415626821347,
          -0.2554626201939413,
          -1.037991147602794,
          -0.8800628951247182,
          -0.7005643966674218,
          -0.3802764846634866,
          -0.12296879928841947,
          1.1635838305936397,
          0.5044729405730749,
          -0.3344445850503148,
          -0.3912012746825815,
          -0.25437660692898856,
          -0.8500678690004732,
          -0.41509806198294447,
          2.03493032292298,
          -1.3314385730253768,
          0.29751356353402864,
          -0.7175580186337933,
          2.5113785520970975,
          -0.6095147542383219,
          -0.5088955997912352,
          1.0220677584987925,
          -2.0438870657446477,
          -1.4908273980005247,
          0.12922499574597024,
          -0.4915401118468228,
          0.3779801515751991,
          -0.8226774144982794,
          0.23284890744200148,
          1.2765999108951942,
          -0.1702716710359278,
          -0.6189082703607539,
          0.8749414426661444,
          1.5406104624426746,
          1.7099060314859462,
          -0.07706149742235652,
          0.9858023695881741,
          0.22317834251016266,
          -0.49721352987147677,
          0.6682973129617311,
          0.43169956246317065,
          -1.0918939029648713,
          0.10018235296733681,
          -0.989913227534258,
          0.021947372274293164,
          -1.0024193179032603,
          -0.8787782554290655,
          -0.5720097332195477,
          0.8790488723520122,
          -0.2562276873444926,
          -0.10326826791614217,
          -1.0134751880346335,
          0.8186055168917588,
          -0.22477040395132783,
          -0.24677109148501306,
          -1.5863247065897887,
          0.040629157884486754,
          -0.6435318145872875,
          0.5096173013346691,
          -1.4134405583436804,
          -0.9856650606127185,
          -1.332899924654395,
          -0.835689521985187,
          0.3509325415930457,
          0.2056437884096933,
          -1.8424841475984346,
          0.5953401809010593,
          -1.7016661494206462,
          0.3769197833430828,
          -0.08986765037176148,
          -0.26464943856144885,
          0.2996702121775819,
          -0.08513347629466395,
          -0.14318734590020804,
          -0.9397532454122348,
          -0.5072370450741972,
          -1.4064823254410985,
          0.5674390471645528,
          -1.3449602849704938,
          -2.2250731965123873,
          2.7083825895071967,
          -0.45632096832043334
         ],
         "xaxis": "x10",
         "y": [
          -1.2129243066461926,
          -1.0382525619586047,
          0.5078729037486128,
          0.12938280012590278,
          1.6341558744990186,
          0.034930012561126954,
          1.0261894177771367,
          0.48561193015589027,
          0.6569701710035855,
          -1.0630086458831192,
          0.4142771846155979,
          -0.6556595684701798,
          -1.2324349279093698,
          -0.034881884818500714,
          -1.127311218191584,
          0.45529130807956325,
          -0.6843624789646388,
          -0.046359180704076026,
          -0.5854892488345255,
          -0.0409845837671332,
          -1.223982848402369,
          -0.8226884827636929,
          0.9384904117512551,
          -1.3750306046807677,
          0.1313334149963308,
          1.7048794060303314,
          1.4028775530543507,
          1.069301027364722,
          -1.8212129559016033,
          -0.6594633613721426,
          1.575005536398303,
          1.34808666633816,
          0.9834285751505591,
          1.2287692587781835,
          -0.4502702820223655,
          0.4456820296514806,
          -1.2348230631828667,
          0.6513935007474707,
          0.7217823183882504,
          -0.09686416078643863,
          1.4148480440052245,
          0.2964033944700848,
          1.7798621722114405,
          0.43881017351273405,
          -0.3608590905749697,
          2.2454327420000335,
          -0.7563312875676766,
          2.078310773128206,
          0.27645983228088156,
          -0.003495077411121001,
          0.9365313528116445,
          -0.7237369414815478,
          -0.2793753596275433,
          -1.0319498219187635,
          0.15331646592540693,
          -1.2358807644346608,
          -0.8730830970804379,
          0.5018243223627462,
          0.3277154911339316,
          -0.7001680856172838,
          -0.38062786970551593,
          0.37417986038524487,
          1.3359876312952497,
          -1.3946858064279308,
          -0.8240469768943165,
          0.8743429690518841,
          -1.0720216781766987,
          -0.7401129936227316,
          -0.8968854721484267,
          1.2491513029220178,
          0.7397186316244806,
          -1.487254527725665,
          1.2595678502989964,
          -0.9800162452253297,
          -1.688787406091313,
          -0.30864671171673497,
          -0.3989120773759106,
          1.0790874832643027,
          -0.6112958813779303,
          0.3771001514455043,
          -0.48577846390054724,
          -0.484680215995673,
          0.5411756268439647,
          -0.22380769329616534,
          -0.8933961523410535,
          -0.22423563658384077,
          0.9499070670923341,
          0.6160782169505912,
          -0.6581978552656172,
          -0.28633067383250554,
          1.0862691581589794,
          -1.1501168517633698,
          1.2793184154573662,
          -0.14364512188959166,
          -0.37372686635559066,
          -0.14504972441281114,
          0.24928956000707564,
          -2.0466412507953464,
          0.8318230917920868,
          -0.11766345027058192
         ],
         "yaxis": "y10"
        },
        {
         "histfunc": "count",
         "histnorm": "",
         "marker": {
          "color": "rgba(50, 171, 96, 1.0)",
          "line": {
           "color": "#4D5663",
           "width": 1.3
          }
         },
         "name": "C",
         "nbinsx": 10,
         "opacity": 0.8,
         "orientation": "v",
         "type": "histogram",
         "x": [
          -1.2129243066461926,
          -1.0382525619586047,
          0.5078729037486128,
          0.12938280012590278,
          1.6341558744990186,
          0.034930012561126954,
          1.0261894177771367,
          0.48561193015589027,
          0.6569701710035855,
          -1.0630086458831192,
          0.4142771846155979,
          -0.6556595684701798,
          -1.2324349279093698,
          -0.034881884818500714,
          -1.127311218191584,
          0.45529130807956325,
          -0.6843624789646388,
          -0.046359180704076026,
          -0.5854892488345255,
          -0.0409845837671332,
          -1.223982848402369,
          -0.8226884827636929,
          0.9384904117512551,
          -1.3750306046807677,
          0.1313334149963308,
          1.7048794060303314,
          1.4028775530543507,
          1.069301027364722,
          -1.8212129559016033,
          -0.6594633613721426,
          1.575005536398303,
          1.34808666633816,
          0.9834285751505591,
          1.2287692587781835,
          -0.4502702820223655,
          0.4456820296514806,
          -1.2348230631828667,
          0.6513935007474707,
          0.7217823183882504,
          -0.09686416078643863,
          1.4148480440052245,
          0.2964033944700848,
          1.7798621722114405,
          0.43881017351273405,
          -0.3608590905749697,
          2.2454327420000335,
          -0.7563312875676766,
          2.078310773128206,
          0.27645983228088156,
          -0.003495077411121001,
          0.9365313528116445,
          -0.7237369414815478,
          -0.2793753596275433,
          -1.0319498219187635,
          0.15331646592540693,
          -1.2358807644346608,
          -0.8730830970804379,
          0.5018243223627462,
          0.3277154911339316,
          -0.7001680856172838,
          -0.38062786970551593,
          0.37417986038524487,
          1.3359876312952497,
          -1.3946858064279308,
          -0.8240469768943165,
          0.8743429690518841,
          -1.0720216781766987,
          -0.7401129936227316,
          -0.8968854721484267,
          1.2491513029220178,
          0.7397186316244806,
          -1.487254527725665,
          1.2595678502989964,
          -0.9800162452253297,
          -1.688787406091313,
          -0.30864671171673497,
          -0.3989120773759106,
          1.0790874832643027,
          -0.6112958813779303,
          0.3771001514455043,
          -0.48577846390054724,
          -0.484680215995673,
          0.5411756268439647,
          -0.22380769329616534,
          -0.8933961523410535,
          -0.22423563658384077,
          0.9499070670923341,
          0.6160782169505912,
          -0.6581978552656172,
          -0.28633067383250554,
          1.0862691581589794,
          -1.1501168517633698,
          1.2793184154573662,
          -0.14364512188959166,
          -0.37372686635559066,
          -0.14504972441281114,
          0.24928956000707564,
          -2.0466412507953464,
          0.8318230917920868,
          -0.11766345027058192
         ],
         "xaxis": "x11",
         "yaxis": "y11"
        },
        {
         "line": {
          "color": "rgba(128, 128, 128, 1.0)",
          "dash": "solid",
          "shape": "linear",
          "width": 1.3
         },
         "marker": {
          "size": 2,
          "symbol": "circle"
         },
         "mode": "markers",
         "name": "C",
         "text": "",
         "type": "scatter",
         "x": [
          1.8722585348532388,
          0.6002480468402726,
          1.6096154152185032,
          0.9265298336893815,
          0.4555575415025757,
          0.5289171832050981,
          -0.5983228383552023,
          1.2365871830946853,
          0.9517631530378322,
          0.570868240676847,
          -0.4556793485479554,
          -1.1333555613292898,
          -0.30292443048262374,
          -0.3056353662993651,
          -1.5175692055118397,
          1.3145283280893176,
          -0.05570837631306323,
          -1.6672156947224557,
          -0.18253225988568061,
          0.05511149500707958,
          0.29652944678050464,
          -0.9943797160192843,
          0.6156268206284266,
          -1.2075437829752398,
          -0.37179918002400814,
          -0.8229655422512129,
          -0.5166593432880014,
          -0.336846247094642,
          0.37487787800870676,
          -1.3529631715271817,
          -0.9321676199545975,
          -0.6688185052591087,
          -1.5575919005207202,
          -0.8421523930661949,
          -0.46189711876805095,
          -1.3841374100687416,
          -0.09056874091547108,
          1.5106652882289682,
          0.8119638369795266,
          -1.1384802895367663,
          -1.6209027494525534,
          -0.6315358645542397,
          -0.8511768762817592,
          0.03586724042659575,
          0.16410309502881068,
          0.429520008216888,
          0.4200845373397902,
          2.5762626896943157,
          -0.3218649735738696,
          0.4617162824060808,
          0.13449404442241317,
          -0.2826010297915294,
          0.34007594085606446,
          -2.12207436611629,
          0.6584656599689247,
          1.198737979306825,
          -0.38118023153890096,
          0.6134146441483715,
          1.6542094406369996,
          0.8629286116401483,
          -1.2080068415563003,
          -0.8446488381561417,
          -0.3013504908497219,
          0.7094948101748059,
          2.0034682245026394,
          -0.448025793463419,
          0.16448599174260323,
          1.0433542466727015,
          -2.1197172612812127,
          -0.46394930575369464,
          2.8089945300022463,
          0.12743653899500063,
          -0.8020211766680084,
          0.4233000698744811,
          -1.363898039468205,
          0.561670008690516,
          1.1090313942250214,
          0.364632673243882,
          0.10882749421227883,
          -0.13917195623887504,
          0.15642272556811335,
          -0.09513856184826817,
          -0.8223965566500696,
          2.856351025955582,
          0.05493509540780236,
          0.9995691681299053,
          -0.40171554335583887,
          0.11185999318285084,
          -0.3781309368274451,
          0.3330805287634981,
          0.18963718995166604,
          -0.233220389590355,
          -1.0223432110448787,
          -1.8700950680140607,
          0.0077898837938084895,
          0.9604776769652278,
          -0.6944640552433706,
          -0.08566401282169836,
          0.7603737677705592,
          -1.1685652543059402
         ],
         "xaxis": "x12",
         "y": [
          -1.2129243066461926,
          -1.0382525619586047,
          0.5078729037486128,
          0.12938280012590278,
          1.6341558744990186,
          0.034930012561126954,
          1.0261894177771367,
          0.48561193015589027,
          0.6569701710035855,
          -1.0630086458831192,
          0.4142771846155979,
          -0.6556595684701798,
          -1.2324349279093698,
          -0.034881884818500714,
          -1.127311218191584,
          0.45529130807956325,
          -0.6843624789646388,
          -0.046359180704076026,
          -0.5854892488345255,
          -0.0409845837671332,
          -1.223982848402369,
          -0.8226884827636929,
          0.9384904117512551,
          -1.3750306046807677,
          0.1313334149963308,
          1.7048794060303314,
          1.4028775530543507,
          1.069301027364722,
          -1.8212129559016033,
          -0.6594633613721426,
          1.575005536398303,
          1.34808666633816,
          0.9834285751505591,
          1.2287692587781835,
          -0.4502702820223655,
          0.4456820296514806,
          -1.2348230631828667,
          0.6513935007474707,
          0.7217823183882504,
          -0.09686416078643863,
          1.4148480440052245,
          0.2964033944700848,
          1.7798621722114405,
          0.43881017351273405,
          -0.3608590905749697,
          2.2454327420000335,
          -0.7563312875676766,
          2.078310773128206,
          0.27645983228088156,
          -0.003495077411121001,
          0.9365313528116445,
          -0.7237369414815478,
          -0.2793753596275433,
          -1.0319498219187635,
          0.15331646592540693,
          -1.2358807644346608,
          -0.8730830970804379,
          0.5018243223627462,
          0.3277154911339316,
          -0.7001680856172838,
          -0.38062786970551593,
          0.37417986038524487,
          1.3359876312952497,
          -1.3946858064279308,
          -0.8240469768943165,
          0.8743429690518841,
          -1.0720216781766987,
          -0.7401129936227316,
          -0.8968854721484267,
          1.2491513029220178,
          0.7397186316244806,
          -1.487254527725665,
          1.2595678502989964,
          -0.9800162452253297,
          -1.688787406091313,
          -0.30864671171673497,
          -0.3989120773759106,
          1.0790874832643027,
          -0.6112958813779303,
          0.3771001514455043,
          -0.48577846390054724,
          -0.484680215995673,
          0.5411756268439647,
          -0.22380769329616534,
          -0.8933961523410535,
          -0.22423563658384077,
          0.9499070670923341,
          0.6160782169505912,
          -0.6581978552656172,
          -0.28633067383250554,
          1.0862691581589794,
          -1.1501168517633698,
          1.2793184154573662,
          -0.14364512188959166,
          -0.37372686635559066,
          -0.14504972441281114,
          0.24928956000707564,
          -2.0466412507953464,
          0.8318230917920868,
          -0.11766345027058192
         ],
         "yaxis": "y12"
        },
        {
         "line": {
          "color": "rgba(128, 128, 128, 1.0)",
          "dash": "solid",
          "shape": "linear",
          "width": 1.3
         },
         "marker": {
          "size": 2,
          "symbol": "circle"
         },
         "mode": "markers",
         "name": "D",
         "text": "",
         "type": "scatter",
         "x": [
          0.9736909845664095,
          0.7453931702353471,
          -0.584055336541668,
          -0.23334317308454516,
          -0.7000980818831816,
          1.2640163141919862,
          0.1949923139470877,
          -0.1139424012300454,
          -1.2154052780343019,
          0.9427148962218297,
          -1.2916405932264694,
          0.9578217204912421,
          -0.837880408525564,
          0.04477730952604257,
          0.0383397555239589,
          -0.920388783780331,
          -0.4586856113547915,
          0.7711816847785313,
          0.34059770984713117,
          -1.5809372479586077,
          -1.6190220344139687,
          0.3208625363690133,
          -0.49880220411246723,
          1.7723673511636662,
          -0.37465832280229444,
          0.7826818967840763,
          -0.9382489946574548,
          0.256628562558935,
          -1.6435417552082037,
          0.2687912226590109,
          1.668421072838317,
          0.446353712790004,
          -0.6072554223605655,
          0.5991032352457688,
          -0.3258627556643973,
          1.0260743695545573,
          -1.171157562633884,
          -0.44721741902651935,
          -0.18974526127380406,
          2.690862185966791,
          -0.21341778348335275,
          1.3729489381133875,
          -0.761964462794412,
          -0.23813834441552054,
          0.2423835554502911,
          -0.29077186439934116,
          -1.0641484336030078,
          -0.9732442423717599,
          1.8692008067241,
          0.5688039761828222,
          0.5279236226278071,
          -1.9290273692427853,
          1.2050717665153194,
          0.09187426815692153,
          -0.46421003832585644,
          0.6395964134920199,
          -0.9210542655891115,
          -0.560210249597593,
          -0.15267149948701025,
          -0.11142177214842656,
          0.34833270402904304,
          0.49643314031171515,
          -1.3313665867483626,
          -0.436011570352057,
          -1.78046187609948,
          -0.32036274436060913,
          -1.015612399766101,
          0.5202821890468927,
          0.29159316903345855,
          -1.9088228832243033,
          -0.24376450985073603,
          0.22652240535890608,
          -0.7841859784980002,
          -1.5267580055035477,
          0.5064174250880061,
          0.3367433054611338,
          1.2199465314945819,
          0.6193045429044992,
          -0.1405866691128178,
          1.320617620238819,
          -0.23845004768408265,
          0.8678499324373304,
          -0.6783635389878114,
          0.30629054690212754,
          0.6242536199934187,
          -0.6305479765356926,
          0.05971608490631798,
          0.8076378833495368,
          0.23280226611831248,
          1.8486962032262002,
          -1.0288160629884067,
          -1.0514112023277025,
          -2.0322145049930698,
          -0.08895985707025184,
          -0.17232298550624023,
          0.6276671416998708,
          0.834125433775937,
          0.24959890970492207,
          0.2627700269025718,
          0.002893684758850433
         ],
         "xaxis": "x13",
         "y": [
          1.8722585348532388,
          0.6002480468402726,
          1.6096154152185032,
          0.9265298336893815,
          0.4555575415025757,
          0.5289171832050981,
          -0.5983228383552023,
          1.2365871830946853,
          0.9517631530378322,
          0.570868240676847,
          -0.4556793485479554,
          -1.1333555613292898,
          -0.30292443048262374,
          -0.3056353662993651,
          -1.5175692055118397,
          1.3145283280893176,
          -0.05570837631306323,
          -1.6672156947224557,
          -0.18253225988568061,
          0.05511149500707958,
          0.29652944678050464,
          -0.9943797160192843,
          0.6156268206284266,
          -1.2075437829752398,
          -0.37179918002400814,
          -0.8229655422512129,
          -0.5166593432880014,
          -0.336846247094642,
          0.37487787800870676,
          -1.3529631715271817,
          -0.9321676199545975,
          -0.6688185052591087,
          -1.5575919005207202,
          -0.8421523930661949,
          -0.46189711876805095,
          -1.3841374100687416,
          -0.09056874091547108,
          1.5106652882289682,
          0.8119638369795266,
          -1.1384802895367663,
          -1.6209027494525534,
          -0.6315358645542397,
          -0.8511768762817592,
          0.03586724042659575,
          0.16410309502881068,
          0.429520008216888,
          0.4200845373397902,
          2.5762626896943157,
          -0.3218649735738696,
          0.4617162824060808,
          0.13449404442241317,
          -0.2826010297915294,
          0.34007594085606446,
          -2.12207436611629,
          0.6584656599689247,
          1.198737979306825,
          -0.38118023153890096,
          0.6134146441483715,
          1.6542094406369996,
          0.8629286116401483,
          -1.2080068415563003,
          -0.8446488381561417,
          -0.3013504908497219,
          0.7094948101748059,
          2.0034682245026394,
          -0.448025793463419,
          0.16448599174260323,
          1.0433542466727015,
          -2.1197172612812127,
          -0.46394930575369464,
          2.8089945300022463,
          0.12743653899500063,
          -0.8020211766680084,
          0.4233000698744811,
          -1.363898039468205,
          0.561670008690516,
          1.1090313942250214,
          0.364632673243882,
          0.10882749421227883,
          -0.13917195623887504,
          0.15642272556811335,
          -0.09513856184826817,
          -0.8223965566500696,
          2.856351025955582,
          0.05493509540780236,
          0.9995691681299053,
          -0.40171554335583887,
          0.11185999318285084,
          -0.3781309368274451,
          0.3330805287634981,
          0.18963718995166604,
          -0.233220389590355,
          -1.0223432110448787,
          -1.8700950680140607,
          0.0077898837938084895,
          0.9604776769652278,
          -0.6944640552433706,
          -0.08566401282169836,
          0.7603737677705592,
          -1.1685652543059402
         ],
         "yaxis": "y13"
        },
        {
         "line": {
          "color": "rgba(128, 128, 128, 1.0)",
          "dash": "solid",
          "shape": "linear",
          "width": 1.3
         },
         "marker": {
          "size": 2,
          "symbol": "circle"
         },
         "mode": "markers",
         "name": "D",
         "text": "",
         "type": "scatter",
         "x": [
          0.860487843415082,
          -0.1976076039773233,
          -0.48481821153381505,
          0.14681919989176692,
          1.3592898678691712,
          2.066687883890864,
          -1.5032945817436838,
          1.3945675564569295,
          -0.04778910964737012,
          -1.2129972364699224,
          1.4589311431911625,
          -0.44069477393216305,
          -1.0435081413404528,
          0.6889781462830233,
          -2.213980890594844,
          0.6142355502042238,
          0.2260184570472683,
          -0.9165795796993379,
          -0.1667415626821347,
          -0.2554626201939413,
          -1.037991147602794,
          -0.8800628951247182,
          -0.7005643966674218,
          -0.3802764846634866,
          -0.12296879928841947,
          1.1635838305936397,
          0.5044729405730749,
          -0.3344445850503148,
          -0.3912012746825815,
          -0.25437660692898856,
          -0.8500678690004732,
          -0.41509806198294447,
          2.03493032292298,
          -1.3314385730253768,
          0.29751356353402864,
          -0.7175580186337933,
          2.5113785520970975,
          -0.6095147542383219,
          -0.5088955997912352,
          1.0220677584987925,
          -2.0438870657446477,
          -1.4908273980005247,
          0.12922499574597024,
          -0.4915401118468228,
          0.3779801515751991,
          -0.8226774144982794,
          0.23284890744200148,
          1.2765999108951942,
          -0.1702716710359278,
          -0.6189082703607539,
          0.8749414426661444,
          1.5406104624426746,
          1.7099060314859462,
          -0.07706149742235652,
          0.9858023695881741,
          0.22317834251016266,
          -0.49721352987147677,
          0.6682973129617311,
          0.43169956246317065,
          -1.0918939029648713,
          0.10018235296733681,
          -0.989913227534258,
          0.021947372274293164,
          -1.0024193179032603,
          -0.8787782554290655,
          -0.5720097332195477,
          0.8790488723520122,
          -0.2562276873444926,
          -0.10326826791614217,
          -1.0134751880346335,
          0.8186055168917588,
          -0.22477040395132783,
          -0.24677109148501306,
          -1.5863247065897887,
          0.040629157884486754,
          -0.6435318145872875,
          0.5096173013346691,
          -1.4134405583436804,
          -0.9856650606127185,
          -1.332899924654395,
          -0.835689521985187,
          0.3509325415930457,
          0.2056437884096933,
          -1.8424841475984346,
          0.5953401809010593,
          -1.7016661494206462,
          0.3769197833430828,
          -0.08986765037176148,
          -0.26464943856144885,
          0.2996702121775819,
          -0.08513347629466395,
          -0.14318734590020804,
          -0.9397532454122348,
          -0.5072370450741972,
          -1.4064823254410985,
          0.5674390471645528,
          -1.3449602849704938,
          -2.2250731965123873,
          2.7083825895071967,
          -0.45632096832043334
         ],
         "xaxis": "x14",
         "y": [
          1.8722585348532388,
          0.6002480468402726,
          1.6096154152185032,
          0.9265298336893815,
          0.4555575415025757,
          0.5289171832050981,
          -0.5983228383552023,
          1.2365871830946853,
          0.9517631530378322,
          0.570868240676847,
          -0.4556793485479554,
          -1.1333555613292898,
          -0.30292443048262374,
          -0.3056353662993651,
          -1.5175692055118397,
          1.3145283280893176,
          -0.05570837631306323,
          -1.6672156947224557,
          -0.18253225988568061,
          0.05511149500707958,
          0.29652944678050464,
          -0.9943797160192843,
          0.6156268206284266,
          -1.2075437829752398,
          -0.37179918002400814,
          -0.8229655422512129,
          -0.5166593432880014,
          -0.336846247094642,
          0.37487787800870676,
          -1.3529631715271817,
          -0.9321676199545975,
          -0.6688185052591087,
          -1.5575919005207202,
          -0.8421523930661949,
          -0.46189711876805095,
          -1.3841374100687416,
          -0.09056874091547108,
          1.5106652882289682,
          0.8119638369795266,
          -1.1384802895367663,
          -1.6209027494525534,
          -0.6315358645542397,
          -0.8511768762817592,
          0.03586724042659575,
          0.16410309502881068,
          0.429520008216888,
          0.4200845373397902,
          2.5762626896943157,
          -0.3218649735738696,
          0.4617162824060808,
          0.13449404442241317,
          -0.2826010297915294,
          0.34007594085606446,
          -2.12207436611629,
          0.6584656599689247,
          1.198737979306825,
          -0.38118023153890096,
          0.6134146441483715,
          1.6542094406369996,
          0.8629286116401483,
          -1.2080068415563003,
          -0.8446488381561417,
          -0.3013504908497219,
          0.7094948101748059,
          2.0034682245026394,
          -0.448025793463419,
          0.16448599174260323,
          1.0433542466727015,
          -2.1197172612812127,
          -0.46394930575369464,
          2.8089945300022463,
          0.12743653899500063,
          -0.8020211766680084,
          0.4233000698744811,
          -1.363898039468205,
          0.561670008690516,
          1.1090313942250214,
          0.364632673243882,
          0.10882749421227883,
          -0.13917195623887504,
          0.15642272556811335,
          -0.09513856184826817,
          -0.8223965566500696,
          2.856351025955582,
          0.05493509540780236,
          0.9995691681299053,
          -0.40171554335583887,
          0.11185999318285084,
          -0.3781309368274451,
          0.3330805287634981,
          0.18963718995166604,
          -0.233220389590355,
          -1.0223432110448787,
          -1.8700950680140607,
          0.0077898837938084895,
          0.9604776769652278,
          -0.6944640552433706,
          -0.08566401282169836,
          0.7603737677705592,
          -1.1685652543059402
         ],
         "yaxis": "y14"
        },
        {
         "line": {
          "color": "rgba(128, 128, 128, 1.0)",
          "dash": "solid",
          "shape": "linear",
          "width": 1.3
         },
         "marker": {
          "size": 2,
          "symbol": "circle"
         },
         "mode": "markers",
         "name": "D",
         "text": "",
         "type": "scatter",
         "x": [
          -1.2129243066461926,
          -1.0382525619586047,
          0.5078729037486128,
          0.12938280012590278,
          1.6341558744990186,
          0.034930012561126954,
          1.0261894177771367,
          0.48561193015589027,
          0.6569701710035855,
          -1.0630086458831192,
          0.4142771846155979,
          -0.6556595684701798,
          -1.2324349279093698,
          -0.034881884818500714,
          -1.127311218191584,
          0.45529130807956325,
          -0.6843624789646388,
          -0.046359180704076026,
          -0.5854892488345255,
          -0.0409845837671332,
          -1.223982848402369,
          -0.8226884827636929,
          0.9384904117512551,
          -1.3750306046807677,
          0.1313334149963308,
          1.7048794060303314,
          1.4028775530543507,
          1.069301027364722,
          -1.8212129559016033,
          -0.6594633613721426,
          1.575005536398303,
          1.34808666633816,
          0.9834285751505591,
          1.2287692587781835,
          -0.4502702820223655,
          0.4456820296514806,
          -1.2348230631828667,
          0.6513935007474707,
          0.7217823183882504,
          -0.09686416078643863,
          1.4148480440052245,
          0.2964033944700848,
          1.7798621722114405,
          0.43881017351273405,
          -0.3608590905749697,
          2.2454327420000335,
          -0.7563312875676766,
          2.078310773128206,
          0.27645983228088156,
          -0.003495077411121001,
          0.9365313528116445,
          -0.7237369414815478,
          -0.2793753596275433,
          -1.0319498219187635,
          0.15331646592540693,
          -1.2358807644346608,
          -0.8730830970804379,
          0.5018243223627462,
          0.3277154911339316,
          -0.7001680856172838,
          -0.38062786970551593,
          0.37417986038524487,
          1.3359876312952497,
          -1.3946858064279308,
          -0.8240469768943165,
          0.8743429690518841,
          -1.0720216781766987,
          -0.7401129936227316,
          -0.8968854721484267,
          1.2491513029220178,
          0.7397186316244806,
          -1.487254527725665,
          1.2595678502989964,
          -0.9800162452253297,
          -1.688787406091313,
          -0.30864671171673497,
          -0.3989120773759106,
          1.0790874832643027,
          -0.6112958813779303,
          0.3771001514455043,
          -0.48577846390054724,
          -0.484680215995673,
          0.5411756268439647,
          -0.22380769329616534,
          -0.8933961523410535,
          -0.22423563658384077,
          0.9499070670923341,
          0.6160782169505912,
          -0.6581978552656172,
          -0.28633067383250554,
          1.0862691581589794,
          -1.1501168517633698,
          1.2793184154573662,
          -0.14364512188959166,
          -0.37372686635559066,
          -0.14504972441281114,
          0.24928956000707564,
          -2.0466412507953464,
          0.8318230917920868,
          -0.11766345027058192
         ],
         "xaxis": "x15",
         "y": [
          1.8722585348532388,
          0.6002480468402726,
          1.6096154152185032,
          0.9265298336893815,
          0.4555575415025757,
          0.5289171832050981,
          -0.5983228383552023,
          1.2365871830946853,
          0.9517631530378322,
          0.570868240676847,
          -0.4556793485479554,
          -1.1333555613292898,
          -0.30292443048262374,
          -0.3056353662993651,
          -1.5175692055118397,
          1.3145283280893176,
          -0.05570837631306323,
          -1.6672156947224557,
          -0.18253225988568061,
          0.05511149500707958,
          0.29652944678050464,
          -0.9943797160192843,
          0.6156268206284266,
          -1.2075437829752398,
          -0.37179918002400814,
          -0.8229655422512129,
          -0.5166593432880014,
          -0.336846247094642,
          0.37487787800870676,
          -1.3529631715271817,
          -0.9321676199545975,
          -0.6688185052591087,
          -1.5575919005207202,
          -0.8421523930661949,
          -0.46189711876805095,
          -1.3841374100687416,
          -0.09056874091547108,
          1.5106652882289682,
          0.8119638369795266,
          -1.1384802895367663,
          -1.6209027494525534,
          -0.6315358645542397,
          -0.8511768762817592,
          0.03586724042659575,
          0.16410309502881068,
          0.429520008216888,
          0.4200845373397902,
          2.5762626896943157,
          -0.3218649735738696,
          0.4617162824060808,
          0.13449404442241317,
          -0.2826010297915294,
          0.34007594085606446,
          -2.12207436611629,
          0.6584656599689247,
          1.198737979306825,
          -0.38118023153890096,
          0.6134146441483715,
          1.6542094406369996,
          0.8629286116401483,
          -1.2080068415563003,
          -0.8446488381561417,
          -0.3013504908497219,
          0.7094948101748059,
          2.0034682245026394,
          -0.448025793463419,
          0.16448599174260323,
          1.0433542466727015,
          -2.1197172612812127,
          -0.46394930575369464,
          2.8089945300022463,
          0.12743653899500063,
          -0.8020211766680084,
          0.4233000698744811,
          -1.363898039468205,
          0.561670008690516,
          1.1090313942250214,
          0.364632673243882,
          0.10882749421227883,
          -0.13917195623887504,
          0.15642272556811335,
          -0.09513856184826817,
          -0.8223965566500696,
          2.856351025955582,
          0.05493509540780236,
          0.9995691681299053,
          -0.40171554335583887,
          0.11185999318285084,
          -0.3781309368274451,
          0.3330805287634981,
          0.18963718995166604,
          -0.233220389590355,
          -1.0223432110448787,
          -1.8700950680140607,
          0.0077898837938084895,
          0.9604776769652278,
          -0.6944640552433706,
          -0.08566401282169836,
          0.7603737677705592,
          -1.1685652543059402
         ],
         "yaxis": "y15"
        },
        {
         "histfunc": "count",
         "histnorm": "",
         "marker": {
          "color": "rgba(128, 0, 128, 1.0)",
          "line": {
           "color": "#4D5663",
           "width": 1.3
          }
         },
         "name": "D",
         "nbinsx": 10,
         "opacity": 0.8,
         "orientation": "v",
         "type": "histogram",
         "x": [
          1.8722585348532388,
          0.6002480468402726,
          1.6096154152185032,
          0.9265298336893815,
          0.4555575415025757,
          0.5289171832050981,
          -0.5983228383552023,
          1.2365871830946853,
          0.9517631530378322,
          0.570868240676847,
          -0.4556793485479554,
          -1.1333555613292898,
          -0.30292443048262374,
          -0.3056353662993651,
          -1.5175692055118397,
          1.3145283280893176,
          -0.05570837631306323,
          -1.6672156947224557,
          -0.18253225988568061,
          0.05511149500707958,
          0.29652944678050464,
          -0.9943797160192843,
          0.6156268206284266,
          -1.2075437829752398,
          -0.37179918002400814,
          -0.8229655422512129,
          -0.5166593432880014,
          -0.336846247094642,
          0.37487787800870676,
          -1.3529631715271817,
          -0.9321676199545975,
          -0.6688185052591087,
          -1.5575919005207202,
          -0.8421523930661949,
          -0.46189711876805095,
          -1.3841374100687416,
          -0.09056874091547108,
          1.5106652882289682,
          0.8119638369795266,
          -1.1384802895367663,
          -1.6209027494525534,
          -0.6315358645542397,
          -0.8511768762817592,
          0.03586724042659575,
          0.16410309502881068,
          0.429520008216888,
          0.4200845373397902,
          2.5762626896943157,
          -0.3218649735738696,
          0.4617162824060808,
          0.13449404442241317,
          -0.2826010297915294,
          0.34007594085606446,
          -2.12207436611629,
          0.6584656599689247,
          1.198737979306825,
          -0.38118023153890096,
          0.6134146441483715,
          1.6542094406369996,
          0.8629286116401483,
          -1.2080068415563003,
          -0.8446488381561417,
          -0.3013504908497219,
          0.7094948101748059,
          2.0034682245026394,
          -0.448025793463419,
          0.16448599174260323,
          1.0433542466727015,
          -2.1197172612812127,
          -0.46394930575369464,
          2.8089945300022463,
          0.12743653899500063,
          -0.8020211766680084,
          0.4233000698744811,
          -1.363898039468205,
          0.561670008690516,
          1.1090313942250214,
          0.364632673243882,
          0.10882749421227883,
          -0.13917195623887504,
          0.15642272556811335,
          -0.09513856184826817,
          -0.8223965566500696,
          2.856351025955582,
          0.05493509540780236,
          0.9995691681299053,
          -0.40171554335583887,
          0.11185999318285084,
          -0.3781309368274451,
          0.3330805287634981,
          0.18963718995166604,
          -0.233220389590355,
          -1.0223432110448787,
          -1.8700950680140607,
          0.0077898837938084895,
          0.9604776769652278,
          -0.6944640552433706,
          -0.08566401282169836,
          0.7603737677705592,
          -1.1685652543059402
         ],
         "xaxis": "x16",
         "yaxis": "y16"
        }
       ],
       "layout": {
        "bargap": 0.02,
        "legend": {
         "bgcolor": "#F5F6F9",
         "font": {
          "color": "#4D5663"
         }
        },
        "paper_bgcolor": "#F5F6F9",
        "plot_bgcolor": "#F5F6F9",
        "showlegend": false,
        "template": {
         "data": {
          "bar": [
           {
            "error_x": {
             "color": "#2a3f5f"
            },
            "error_y": {
             "color": "#2a3f5f"
            },
            "marker": {
             "line": {
              "color": "#E5ECF6",
              "width": 0.5
             },
             "pattern": {
              "fillmode": "overlay",
              "size": 10,
              "solidity": 0.2
             }
            },
            "type": "bar"
           }
          ],
          "barpolar": [
           {
            "marker": {
             "line": {
              "color": "#E5ECF6",
              "width": 0.5
             },
             "pattern": {
              "fillmode": "overlay",
              "size": 10,
              "solidity": 0.2
             }
            },
            "type": "barpolar"
           }
          ],
          "carpet": [
           {
            "aaxis": {
             "endlinecolor": "#2a3f5f",
             "gridcolor": "white",
             "linecolor": "white",
             "minorgridcolor": "white",
             "startlinecolor": "#2a3f5f"
            },
            "baxis": {
             "endlinecolor": "#2a3f5f",
             "gridcolor": "white",
             "linecolor": "white",
             "minorgridcolor": "white",
             "startlinecolor": "#2a3f5f"
            },
            "type": "carpet"
           }
          ],
          "choropleth": [
           {
            "colorbar": {
             "outlinewidth": 0,
             "ticks": ""
            },
            "type": "choropleth"
           }
          ],
          "contour": [
           {
            "colorbar": {
             "outlinewidth": 0,
             "ticks": ""
            },
            "colorscale": [
             [
              0,
              "#0d0887"
             ],
             [
              0.1111111111111111,
              "#46039f"
             ],
             [
              0.2222222222222222,
              "#7201a8"
             ],
             [
              0.3333333333333333,
              "#9c179e"
             ],
             [
              0.4444444444444444,
              "#bd3786"
             ],
             [
              0.5555555555555556,
              "#d8576b"
             ],
             [
              0.6666666666666666,
              "#ed7953"
             ],
             [
              0.7777777777777778,
              "#fb9f3a"
             ],
             [
              0.8888888888888888,
              "#fdca26"
             ],
             [
              1,
              "#f0f921"
             ]
            ],
            "type": "contour"
           }
          ],
          "contourcarpet": [
           {
            "colorbar": {
             "outlinewidth": 0,
             "ticks": ""
            },
            "type": "contourcarpet"
           }
          ],
          "heatmap": [
           {
            "colorbar": {
             "outlinewidth": 0,
             "ticks": ""
            },
            "colorscale": [
             [
              0,
              "#0d0887"
             ],
             [
              0.1111111111111111,
              "#46039f"
             ],
             [
              0.2222222222222222,
              "#7201a8"
             ],
             [
              0.3333333333333333,
              "#9c179e"
             ],
             [
              0.4444444444444444,
              "#bd3786"
             ],
             [
              0.5555555555555556,
              "#d8576b"
             ],
             [
              0.6666666666666666,
              "#ed7953"
             ],
             [
              0.7777777777777778,
              "#fb9f3a"
             ],
             [
              0.8888888888888888,
              "#fdca26"
             ],
             [
              1,
              "#f0f921"
             ]
            ],
            "type": "heatmap"
           }
          ],
          "heatmapgl": [
           {
            "colorbar": {
             "outlinewidth": 0,
             "ticks": ""
            },
            "colorscale": [
             [
              0,
              "#0d0887"
             ],
             [
              0.1111111111111111,
              "#46039f"
             ],
             [
              0.2222222222222222,
              "#7201a8"
             ],
             [
              0.3333333333333333,
              "#9c179e"
             ],
             [
              0.4444444444444444,
              "#bd3786"
             ],
             [
              0.5555555555555556,
              "#d8576b"
             ],
             [
              0.6666666666666666,
              "#ed7953"
             ],
             [
              0.7777777777777778,
              "#fb9f3a"
             ],
             [
              0.8888888888888888,
              "#fdca26"
             ],
             [
              1,
              "#f0f921"
             ]
            ],
            "type": "heatmapgl"
           }
          ],
          "histogram": [
           {
            "marker": {
             "pattern": {
              "fillmode": "overlay",
              "size": 10,
              "solidity": 0.2
             }
            },
            "type": "histogram"
           }
          ],
          "histogram2d": [
           {
            "colorbar": {
             "outlinewidth": 0,
             "ticks": ""
            },
            "colorscale": [
             [
              0,
              "#0d0887"
             ],
             [
              0.1111111111111111,
              "#46039f"
             ],
             [
              0.2222222222222222,
              "#7201a8"
             ],
             [
              0.3333333333333333,
              "#9c179e"
             ],
             [
              0.4444444444444444,
              "#bd3786"
             ],
             [
              0.5555555555555556,
              "#d8576b"
             ],
             [
              0.6666666666666666,
              "#ed7953"
             ],
             [
              0.7777777777777778,
              "#fb9f3a"
             ],
             [
              0.8888888888888888,
              "#fdca26"
             ],
             [
              1,
              "#f0f921"
             ]
            ],
            "type": "histogram2d"
           }
          ],
          "histogram2dcontour": [
           {
            "colorbar": {
             "outlinewidth": 0,
             "ticks": ""
            },
            "colorscale": [
             [
              0,
              "#0d0887"
             ],
             [
              0.1111111111111111,
              "#46039f"
             ],
             [
              0.2222222222222222,
              "#7201a8"
             ],
             [
              0.3333333333333333,
              "#9c179e"
             ],
             [
              0.4444444444444444,
              "#bd3786"
             ],
             [
              0.5555555555555556,
              "#d8576b"
             ],
             [
              0.6666666666666666,
              "#ed7953"
             ],
             [
              0.7777777777777778,
              "#fb9f3a"
             ],
             [
              0.8888888888888888,
              "#fdca26"
             ],
             [
              1,
              "#f0f921"
             ]
            ],
            "type": "histogram2dcontour"
           }
          ],
          "mesh3d": [
           {
            "colorbar": {
             "outlinewidth": 0,
             "ticks": ""
            },
            "type": "mesh3d"
           }
          ],
          "parcoords": [
           {
            "line": {
             "colorbar": {
              "outlinewidth": 0,
              "ticks": ""
             }
            },
            "type": "parcoords"
           }
          ],
          "pie": [
           {
            "automargin": true,
            "type": "pie"
           }
          ],
          "scatter": [
           {
            "marker": {
             "colorbar": {
              "outlinewidth": 0,
              "ticks": ""
             }
            },
            "type": "scatter"
           }
          ],
          "scatter3d": [
           {
            "line": {
             "colorbar": {
              "outlinewidth": 0,
              "ticks": ""
             }
            },
            "marker": {
             "colorbar": {
              "outlinewidth": 0,
              "ticks": ""
             }
            },
            "type": "scatter3d"
           }
          ],
          "scattercarpet": [
           {
            "marker": {
             "colorbar": {
              "outlinewidth": 0,
              "ticks": ""
             }
            },
            "type": "scattercarpet"
           }
          ],
          "scattergeo": [
           {
            "marker": {
             "colorbar": {
              "outlinewidth": 0,
              "ticks": ""
             }
            },
            "type": "scattergeo"
           }
          ],
          "scattergl": [
           {
            "marker": {
             "colorbar": {
              "outlinewidth": 0,
              "ticks": ""
             }
            },
            "type": "scattergl"
           }
          ],
          "scattermapbox": [
           {
            "marker": {
             "colorbar": {
              "outlinewidth": 0,
              "ticks": ""
             }
            },
            "type": "scattermapbox"
           }
          ],
          "scatterpolar": [
           {
            "marker": {
             "colorbar": {
              "outlinewidth": 0,
              "ticks": ""
             }
            },
            "type": "scatterpolar"
           }
          ],
          "scatterpolargl": [
           {
            "marker": {
             "colorbar": {
              "outlinewidth": 0,
              "ticks": ""
             }
            },
            "type": "scatterpolargl"
           }
          ],
          "scatterternary": [
           {
            "marker": {
             "colorbar": {
              "outlinewidth": 0,
              "ticks": ""
             }
            },
            "type": "scatterternary"
           }
          ],
          "surface": [
           {
            "colorbar": {
             "outlinewidth": 0,
             "ticks": ""
            },
            "colorscale": [
             [
              0,
              "#0d0887"
             ],
             [
              0.1111111111111111,
              "#46039f"
             ],
             [
              0.2222222222222222,
              "#7201a8"
             ],
             [
              0.3333333333333333,
              "#9c179e"
             ],
             [
              0.4444444444444444,
              "#bd3786"
             ],
             [
              0.5555555555555556,
              "#d8576b"
             ],
             [
              0.6666666666666666,
              "#ed7953"
             ],
             [
              0.7777777777777778,
              "#fb9f3a"
             ],
             [
              0.8888888888888888,
              "#fdca26"
             ],
             [
              1,
              "#f0f921"
             ]
            ],
            "type": "surface"
           }
          ],
          "table": [
           {
            "cells": {
             "fill": {
              "color": "#EBF0F8"
             },
             "line": {
              "color": "white"
             }
            },
            "header": {
             "fill": {
              "color": "#C8D4E3"
             },
             "line": {
              "color": "white"
             }
            },
            "type": "table"
           }
          ]
         },
         "layout": {
          "annotationdefaults": {
           "arrowcolor": "#2a3f5f",
           "arrowhead": 0,
           "arrowwidth": 1
          },
          "autotypenumbers": "strict",
          "coloraxis": {
           "colorbar": {
            "outlinewidth": 0,
            "ticks": ""
           }
          },
          "colorscale": {
           "diverging": [
            [
             0,
             "#8e0152"
            ],
            [
             0.1,
             "#c51b7d"
            ],
            [
             0.2,
             "#de77ae"
            ],
            [
             0.3,
             "#f1b6da"
            ],
            [
             0.4,
             "#fde0ef"
            ],
            [
             0.5,
             "#f7f7f7"
            ],
            [
             0.6,
             "#e6f5d0"
            ],
            [
             0.7,
             "#b8e186"
            ],
            [
             0.8,
             "#7fbc41"
            ],
            [
             0.9,
             "#4d9221"
            ],
            [
             1,
             "#276419"
            ]
           ],
           "sequential": [
            [
             0,
             "#0d0887"
            ],
            [
             0.1111111111111111,
             "#46039f"
            ],
            [
             0.2222222222222222,
             "#7201a8"
            ],
            [
             0.3333333333333333,
             "#9c179e"
            ],
            [
             0.4444444444444444,
             "#bd3786"
            ],
            [
             0.5555555555555556,
             "#d8576b"
            ],
            [
             0.6666666666666666,
             "#ed7953"
            ],
            [
             0.7777777777777778,
             "#fb9f3a"
            ],
            [
             0.8888888888888888,
             "#fdca26"
            ],
            [
             1,
             "#f0f921"
            ]
           ],
           "sequentialminus": [
            [
             0,
             "#0d0887"
            ],
            [
             0.1111111111111111,
             "#46039f"
            ],
            [
             0.2222222222222222,
             "#7201a8"
            ],
            [
             0.3333333333333333,
             "#9c179e"
            ],
            [
             0.4444444444444444,
             "#bd3786"
            ],
            [
             0.5555555555555556,
             "#d8576b"
            ],
            [
             0.6666666666666666,
             "#ed7953"
            ],
            [
             0.7777777777777778,
             "#fb9f3a"
            ],
            [
             0.8888888888888888,
             "#fdca26"
            ],
            [
             1,
             "#f0f921"
            ]
           ]
          },
          "colorway": [
           "#636efa",
           "#EF553B",
           "#00cc96",
           "#ab63fa",
           "#FFA15A",
           "#19d3f3",
           "#FF6692",
           "#B6E880",
           "#FF97FF",
           "#FECB52"
          ],
          "font": {
           "color": "#2a3f5f"
          },
          "geo": {
           "bgcolor": "white",
           "lakecolor": "white",
           "landcolor": "#E5ECF6",
           "showlakes": true,
           "showland": true,
           "subunitcolor": "white"
          },
          "hoverlabel": {
           "align": "left"
          },
          "hovermode": "closest",
          "mapbox": {
           "style": "light"
          },
          "paper_bgcolor": "white",
          "plot_bgcolor": "#E5ECF6",
          "polar": {
           "angularaxis": {
            "gridcolor": "white",
            "linecolor": "white",
            "ticks": ""
           },
           "bgcolor": "#E5ECF6",
           "radialaxis": {
            "gridcolor": "white",
            "linecolor": "white",
            "ticks": ""
           }
          },
          "scene": {
           "xaxis": {
            "backgroundcolor": "#E5ECF6",
            "gridcolor": "white",
            "gridwidth": 2,
            "linecolor": "white",
            "showbackground": true,
            "ticks": "",
            "zerolinecolor": "white"
           },
           "yaxis": {
            "backgroundcolor": "#E5ECF6",
            "gridcolor": "white",
            "gridwidth": 2,
            "linecolor": "white",
            "showbackground": true,
            "ticks": "",
            "zerolinecolor": "white"
           },
           "zaxis": {
            "backgroundcolor": "#E5ECF6",
            "gridcolor": "white",
            "gridwidth": 2,
            "linecolor": "white",
            "showbackground": true,
            "ticks": "",
            "zerolinecolor": "white"
           }
          },
          "shapedefaults": {
           "line": {
            "color": "#2a3f5f"
           }
          },
          "ternary": {
           "aaxis": {
            "gridcolor": "white",
            "linecolor": "white",
            "ticks": ""
           },
           "baxis": {
            "gridcolor": "white",
            "linecolor": "white",
            "ticks": ""
           },
           "bgcolor": "#E5ECF6",
           "caxis": {
            "gridcolor": "white",
            "linecolor": "white",
            "ticks": ""
           }
          },
          "title": {
           "x": 0.05
          },
          "xaxis": {
           "automargin": true,
           "gridcolor": "white",
           "linecolor": "white",
           "ticks": "",
           "title": {
            "standoff": 15
           },
           "zerolinecolor": "white",
           "zerolinewidth": 2
          },
          "yaxis": {
           "automargin": true,
           "gridcolor": "white",
           "linecolor": "white",
           "ticks": "",
           "title": {
            "standoff": 15
           },
           "zerolinecolor": "white",
           "zerolinewidth": 2
          }
         }
        },
        "title": {
         "font": {
          "color": "#4D5663"
         }
        },
        "xaxis": {
         "anchor": "y",
         "domain": [
          0,
          0.2125
         ],
         "gridcolor": "#E1E5ED",
         "showgrid": false,
         "tickfont": {
          "color": "#4D5663"
         },
         "title": {
          "font": {
           "color": "#4D5663"
          },
          "text": ""
         },
         "zerolinecolor": "#E1E5ED"
        },
        "xaxis10": {
         "anchor": "y10",
         "domain": [
          0.2625,
          0.475
         ],
         "gridcolor": "#E1E5ED",
         "showgrid": false,
         "tickfont": {
          "color": "#4D5663"
         },
         "title": {
          "font": {
           "color": "#4D5663"
          },
          "text": ""
         },
         "zerolinecolor": "#E1E5ED"
        },
        "xaxis11": {
         "anchor": "y11",
         "domain": [
          0.525,
          0.7375
         ],
         "gridcolor": "#E1E5ED",
         "showgrid": false,
         "tickfont": {
          "color": "#4D5663"
         },
         "title": {
          "font": {
           "color": "#4D5663"
          },
          "text": ""
         },
         "zerolinecolor": "#E1E5ED"
        },
        "xaxis12": {
         "anchor": "y12",
         "domain": [
          0.7875,
          1
         ],
         "gridcolor": "#E1E5ED",
         "showgrid": false,
         "tickfont": {
          "color": "#4D5663"
         },
         "title": {
          "font": {
           "color": "#4D5663"
          },
          "text": ""
         },
         "zerolinecolor": "#E1E5ED"
        },
        "xaxis13": {
         "anchor": "y13",
         "domain": [
          0,
          0.2125
         ],
         "gridcolor": "#E1E5ED",
         "showgrid": false,
         "tickfont": {
          "color": "#4D5663"
         },
         "title": {
          "font": {
           "color": "#4D5663"
          },
          "text": ""
         },
         "zerolinecolor": "#E1E5ED"
        },
        "xaxis14": {
         "anchor": "y14",
         "domain": [
          0.2625,
          0.475
         ],
         "gridcolor": "#E1E5ED",
         "showgrid": false,
         "tickfont": {
          "color": "#4D5663"
         },
         "title": {
          "font": {
           "color": "#4D5663"
          },
          "text": ""
         },
         "zerolinecolor": "#E1E5ED"
        },
        "xaxis15": {
         "anchor": "y15",
         "domain": [
          0.525,
          0.7375
         ],
         "gridcolor": "#E1E5ED",
         "showgrid": false,
         "tickfont": {
          "color": "#4D5663"
         },
         "title": {
          "font": {
           "color": "#4D5663"
          },
          "text": ""
         },
         "zerolinecolor": "#E1E5ED"
        },
        "xaxis16": {
         "anchor": "y16",
         "domain": [
          0.7875,
          1
         ],
         "gridcolor": "#E1E5ED",
         "showgrid": false,
         "tickfont": {
          "color": "#4D5663"
         },
         "title": {
          "font": {
           "color": "#4D5663"
          },
          "text": ""
         },
         "zerolinecolor": "#E1E5ED"
        },
        "xaxis2": {
         "anchor": "y2",
         "domain": [
          0.2625,
          0.475
         ],
         "gridcolor": "#E1E5ED",
         "showgrid": false,
         "tickfont": {
          "color": "#4D5663"
         },
         "title": {
          "font": {
           "color": "#4D5663"
          },
          "text": ""
         },
         "zerolinecolor": "#E1E5ED"
        },
        "xaxis3": {
         "anchor": "y3",
         "domain": [
          0.525,
          0.7375
         ],
         "gridcolor": "#E1E5ED",
         "showgrid": false,
         "tickfont": {
          "color": "#4D5663"
         },
         "title": {
          "font": {
           "color": "#4D5663"
          },
          "text": ""
         },
         "zerolinecolor": "#E1E5ED"
        },
        "xaxis4": {
         "anchor": "y4",
         "domain": [
          0.7875,
          1
         ],
         "gridcolor": "#E1E5ED",
         "showgrid": false,
         "tickfont": {
          "color": "#4D5663"
         },
         "title": {
          "font": {
           "color": "#4D5663"
          },
          "text": ""
         },
         "zerolinecolor": "#E1E5ED"
        },
        "xaxis5": {
         "anchor": "y5",
         "domain": [
          0,
          0.2125
         ],
         "gridcolor": "#E1E5ED",
         "showgrid": false,
         "tickfont": {
          "color": "#4D5663"
         },
         "title": {
          "font": {
           "color": "#4D5663"
          },
          "text": ""
         },
         "zerolinecolor": "#E1E5ED"
        },
        "xaxis6": {
         "anchor": "y6",
         "domain": [
          0.2625,
          0.475
         ],
         "gridcolor": "#E1E5ED",
         "showgrid": false,
         "tickfont": {
          "color": "#4D5663"
         },
         "title": {
          "font": {
           "color": "#4D5663"
          },
          "text": ""
         },
         "zerolinecolor": "#E1E5ED"
        },
        "xaxis7": {
         "anchor": "y7",
         "domain": [
          0.525,
          0.7375
         ],
         "gridcolor": "#E1E5ED",
         "showgrid": false,
         "tickfont": {
          "color": "#4D5663"
         },
         "title": {
          "font": {
           "color": "#4D5663"
          },
          "text": ""
         },
         "zerolinecolor": "#E1E5ED"
        },
        "xaxis8": {
         "anchor": "y8",
         "domain": [
          0.7875,
          1
         ],
         "gridcolor": "#E1E5ED",
         "showgrid": false,
         "tickfont": {
          "color": "#4D5663"
         },
         "title": {
          "font": {
           "color": "#4D5663"
          },
          "text": ""
         },
         "zerolinecolor": "#E1E5ED"
        },
        "xaxis9": {
         "anchor": "y9",
         "domain": [
          0,
          0.2125
         ],
         "gridcolor": "#E1E5ED",
         "showgrid": false,
         "tickfont": {
          "color": "#4D5663"
         },
         "title": {
          "font": {
           "color": "#4D5663"
          },
          "text": ""
         },
         "zerolinecolor": "#E1E5ED"
        },
        "yaxis": {
         "anchor": "x",
         "domain": [
          0.8025,
          1
         ],
         "gridcolor": "#E1E5ED",
         "showgrid": false,
         "tickfont": {
          "color": "#4D5663"
         },
         "title": {
          "font": {
           "color": "#4D5663"
          },
          "text": ""
         },
         "zerolinecolor": "#E1E5ED"
        },
        "yaxis10": {
         "anchor": "x10",
         "domain": [
          0.2675,
          0.465
         ],
         "gridcolor": "#E1E5ED",
         "showgrid": false,
         "tickfont": {
          "color": "#4D5663"
         },
         "title": {
          "font": {
           "color": "#4D5663"
          },
          "text": ""
         },
         "zerolinecolor": "#E1E5ED"
        },
        "yaxis11": {
         "anchor": "x11",
         "domain": [
          0.2675,
          0.465
         ],
         "gridcolor": "#E1E5ED",
         "showgrid": false,
         "tickfont": {
          "color": "#4D5663"
         },
         "title": {
          "font": {
           "color": "#4D5663"
          },
          "text": ""
         },
         "zerolinecolor": "#E1E5ED"
        },
        "yaxis12": {
         "anchor": "x12",
         "domain": [
          0.2675,
          0.465
         ],
         "gridcolor": "#E1E5ED",
         "showgrid": false,
         "tickfont": {
          "color": "#4D5663"
         },
         "title": {
          "font": {
           "color": "#4D5663"
          },
          "text": ""
         },
         "zerolinecolor": "#E1E5ED"
        },
        "yaxis13": {
         "anchor": "x13",
         "domain": [
          0,
          0.1975
         ],
         "gridcolor": "#E1E5ED",
         "showgrid": false,
         "tickfont": {
          "color": "#4D5663"
         },
         "title": {
          "font": {
           "color": "#4D5663"
          },
          "text": ""
         },
         "zerolinecolor": "#E1E5ED"
        },
        "yaxis14": {
         "anchor": "x14",
         "domain": [
          0,
          0.1975
         ],
         "gridcolor": "#E1E5ED",
         "showgrid": false,
         "tickfont": {
          "color": "#4D5663"
         },
         "title": {
          "font": {
           "color": "#4D5663"
          },
          "text": ""
         },
         "zerolinecolor": "#E1E5ED"
        },
        "yaxis15": {
         "anchor": "x15",
         "domain": [
          0,
          0.1975
         ],
         "gridcolor": "#E1E5ED",
         "showgrid": false,
         "tickfont": {
          "color": "#4D5663"
         },
         "title": {
          "font": {
           "color": "#4D5663"
          },
          "text": ""
         },
         "zerolinecolor": "#E1E5ED"
        },
        "yaxis16": {
         "anchor": "x16",
         "domain": [
          0,
          0.1975
         ],
         "gridcolor": "#E1E5ED",
         "showgrid": false,
         "tickfont": {
          "color": "#4D5663"
         },
         "title": {
          "font": {
           "color": "#4D5663"
          },
          "text": ""
         },
         "zerolinecolor": "#E1E5ED"
        },
        "yaxis2": {
         "anchor": "x2",
         "domain": [
          0.8025,
          1
         ],
         "gridcolor": "#E1E5ED",
         "showgrid": false,
         "tickfont": {
          "color": "#4D5663"
         },
         "title": {
          "font": {
           "color": "#4D5663"
          },
          "text": ""
         },
         "zerolinecolor": "#E1E5ED"
        },
        "yaxis3": {
         "anchor": "x3",
         "domain": [
          0.8025,
          1
         ],
         "gridcolor": "#E1E5ED",
         "showgrid": false,
         "tickfont": {
          "color": "#4D5663"
         },
         "title": {
          "font": {
           "color": "#4D5663"
          },
          "text": ""
         },
         "zerolinecolor": "#E1E5ED"
        },
        "yaxis4": {
         "anchor": "x4",
         "domain": [
          0.8025,
          1
         ],
         "gridcolor": "#E1E5ED",
         "showgrid": false,
         "tickfont": {
          "color": "#4D5663"
         },
         "title": {
          "font": {
           "color": "#4D5663"
          },
          "text": ""
         },
         "zerolinecolor": "#E1E5ED"
        },
        "yaxis5": {
         "anchor": "x5",
         "domain": [
          0.535,
          0.7325
         ],
         "gridcolor": "#E1E5ED",
         "showgrid": false,
         "tickfont": {
          "color": "#4D5663"
         },
         "title": {
          "font": {
           "color": "#4D5663"
          },
          "text": ""
         },
         "zerolinecolor": "#E1E5ED"
        },
        "yaxis6": {
         "anchor": "x6",
         "domain": [
          0.535,
          0.7325
         ],
         "gridcolor": "#E1E5ED",
         "showgrid": false,
         "tickfont": {
          "color": "#4D5663"
         },
         "title": {
          "font": {
           "color": "#4D5663"
          },
          "text": ""
         },
         "zerolinecolor": "#E1E5ED"
        },
        "yaxis7": {
         "anchor": "x7",
         "domain": [
          0.535,
          0.7325
         ],
         "gridcolor": "#E1E5ED",
         "showgrid": false,
         "tickfont": {
          "color": "#4D5663"
         },
         "title": {
          "font": {
           "color": "#4D5663"
          },
          "text": ""
         },
         "zerolinecolor": "#E1E5ED"
        },
        "yaxis8": {
         "anchor": "x8",
         "domain": [
          0.535,
          0.7325
         ],
         "gridcolor": "#E1E5ED",
         "showgrid": false,
         "tickfont": {
          "color": "#4D5663"
         },
         "title": {
          "font": {
           "color": "#4D5663"
          },
          "text": ""
         },
         "zerolinecolor": "#E1E5ED"
        },
        "yaxis9": {
         "anchor": "x9",
         "domain": [
          0.2675,
          0.465
         ],
         "gridcolor": "#E1E5ED",
         "showgrid": false,
         "tickfont": {
          "color": "#4D5663"
         },
         "title": {
          "font": {
           "color": "#4D5663"
          },
          "text": ""
         },
         "zerolinecolor": "#E1E5ED"
        }
       }
      },
      "text/html": [
       "<div>                            <div id=\"ac26292c-459c-423c-b3b1-353d816fd4f8\" class=\"plotly-graph-div\" style=\"height:525px; width:100%;\"></div>            <script type=\"text/javascript\">                require([\"plotly\"], function(Plotly) {                    window.PLOTLYENV=window.PLOTLYENV || {};\n",
       "                    window.PLOTLYENV.BASE_URL='https://plot.ly';                                    if (document.getElementById(\"ac26292c-459c-423c-b3b1-353d816fd4f8\")) {                    Plotly.newPlot(                        \"ac26292c-459c-423c-b3b1-353d816fd4f8\",                        [{\"histfunc\":\"count\",\"histnorm\":\"\",\"marker\":{\"color\":\"rgba(255, 153, 51, 1.0)\",\"line\":{\"color\":\"#4D5663\",\"width\":1.3}},\"name\":\"A\",\"nbinsx\":10,\"opacity\":0.8,\"orientation\":\"v\",\"x\":[0.9736909845664095,0.7453931702353471,-0.584055336541668,-0.23334317308454516,-0.7000980818831816,1.2640163141919862,0.1949923139470877,-0.1139424012300454,-1.2154052780343019,0.9427148962218297,-1.2916405932264694,0.9578217204912421,-0.837880408525564,0.04477730952604257,0.0383397555239589,-0.920388783780331,-0.4586856113547915,0.7711816847785313,0.34059770984713117,-1.5809372479586077,-1.6190220344139687,0.3208625363690133,-0.49880220411246723,1.7723673511636662,-0.37465832280229444,0.7826818967840763,-0.9382489946574548,0.256628562558935,-1.6435417552082037,0.2687912226590109,1.668421072838317,0.446353712790004,-0.6072554223605655,0.5991032352457688,-0.3258627556643973,1.0260743695545573,-1.171157562633884,-0.44721741902651935,-0.18974526127380406,2.690862185966791,-0.21341778348335275,1.3729489381133875,-0.761964462794412,-0.23813834441552054,0.2423835554502911,-0.29077186439934116,-1.0641484336030078,-0.9732442423717599,1.8692008067241,0.5688039761828222,0.5279236226278071,-1.9290273692427853,1.2050717665153194,0.09187426815692153,-0.46421003832585644,0.6395964134920199,-0.9210542655891115,-0.560210249597593,-0.15267149948701025,-0.11142177214842656,0.34833270402904304,0.49643314031171515,-1.3313665867483626,-0.436011570352057,-1.78046187609948,-0.32036274436060913,-1.015612399766101,0.5202821890468927,0.29159316903345855,-1.9088228832243033,-0.24376450985073603,0.22652240535890608,-0.7841859784980002,-1.5267580055035477,0.5064174250880061,0.3367433054611338,1.2199465314945819,0.6193045429044992,-0.1405866691128178,1.320617620238819,-0.23845004768408265,0.8678499324373304,-0.6783635389878114,0.30629054690212754,0.6242536199934187,-0.6305479765356926,0.05971608490631798,0.8076378833495368,0.23280226611831248,1.8486962032262002,-1.0288160629884067,-1.0514112023277025,-2.0322145049930698,-0.08895985707025184,-0.17232298550624023,0.6276671416998708,0.834125433775937,0.24959890970492207,0.2627700269025718,0.002893684758850433],\"xaxis\":\"x\",\"yaxis\":\"y\",\"type\":\"histogram\"},{\"line\":{\"color\":\"rgba(128, 128, 128, 1.0)\",\"dash\":\"solid\",\"shape\":\"linear\",\"width\":1.3},\"marker\":{\"size\":2,\"symbol\":\"circle\"},\"mode\":\"markers\",\"name\":\"A\",\"text\":\"\",\"x\":[0.860487843415082,-0.1976076039773233,-0.48481821153381505,0.14681919989176692,1.3592898678691712,2.066687883890864,-1.5032945817436838,1.3945675564569295,-0.04778910964737012,-1.2129972364699224,1.4589311431911625,-0.44069477393216305,-1.0435081413404528,0.6889781462830233,-2.213980890594844,0.6142355502042238,0.2260184570472683,-0.9165795796993379,-0.1667415626821347,-0.2554626201939413,-1.037991147602794,-0.8800628951247182,-0.7005643966674218,-0.3802764846634866,-0.12296879928841947,1.1635838305936397,0.5044729405730749,-0.3344445850503148,-0.3912012746825815,-0.25437660692898856,-0.8500678690004732,-0.41509806198294447,2.03493032292298,-1.3314385730253768,0.29751356353402864,-0.7175580186337933,2.5113785520970975,-0.6095147542383219,-0.5088955997912352,1.0220677584987925,-2.0438870657446477,-1.4908273980005247,0.12922499574597024,-0.4915401118468228,0.3779801515751991,-0.8226774144982794,0.23284890744200148,1.2765999108951942,-0.1702716710359278,-0.6189082703607539,0.8749414426661444,1.5406104624426746,1.7099060314859462,-0.07706149742235652,0.9858023695881741,0.22317834251016266,-0.49721352987147677,0.6682973129617311,0.43169956246317065,-1.0918939029648713,0.10018235296733681,-0.989913227534258,0.021947372274293164,-1.0024193179032603,-0.8787782554290655,-0.5720097332195477,0.8790488723520122,-0.2562276873444926,-0.10326826791614217,-1.0134751880346335,0.8186055168917588,-0.22477040395132783,-0.24677109148501306,-1.5863247065897887,0.040629157884486754,-0.6435318145872875,0.5096173013346691,-1.4134405583436804,-0.9856650606127185,-1.332899924654395,-0.835689521985187,0.3509325415930457,0.2056437884096933,-1.8424841475984346,0.5953401809010593,-1.7016661494206462,0.3769197833430828,-0.08986765037176148,-0.26464943856144885,0.2996702121775819,-0.08513347629466395,-0.14318734590020804,-0.9397532454122348,-0.5072370450741972,-1.4064823254410985,0.5674390471645528,-1.3449602849704938,-2.2250731965123873,2.7083825895071967,-0.45632096832043334],\"xaxis\":\"x2\",\"y\":[0.9736909845664095,0.7453931702353471,-0.584055336541668,-0.23334317308454516,-0.7000980818831816,1.2640163141919862,0.1949923139470877,-0.1139424012300454,-1.2154052780343019,0.9427148962218297,-1.2916405932264694,0.9578217204912421,-0.837880408525564,0.04477730952604257,0.0383397555239589,-0.920388783780331,-0.4586856113547915,0.7711816847785313,0.34059770984713117,-1.5809372479586077,-1.6190220344139687,0.3208625363690133,-0.49880220411246723,1.7723673511636662,-0.37465832280229444,0.7826818967840763,-0.9382489946574548,0.256628562558935,-1.6435417552082037,0.2687912226590109,1.668421072838317,0.446353712790004,-0.6072554223605655,0.5991032352457688,-0.3258627556643973,1.0260743695545573,-1.171157562633884,-0.44721741902651935,-0.18974526127380406,2.690862185966791,-0.21341778348335275,1.3729489381133875,-0.761964462794412,-0.23813834441552054,0.2423835554502911,-0.29077186439934116,-1.0641484336030078,-0.9732442423717599,1.8692008067241,0.5688039761828222,0.5279236226278071,-1.9290273692427853,1.2050717665153194,0.09187426815692153,-0.46421003832585644,0.6395964134920199,-0.9210542655891115,-0.560210249597593,-0.15267149948701025,-0.11142177214842656,0.34833270402904304,0.49643314031171515,-1.3313665867483626,-0.436011570352057,-1.78046187609948,-0.32036274436060913,-1.015612399766101,0.5202821890468927,0.29159316903345855,-1.9088228832243033,-0.24376450985073603,0.22652240535890608,-0.7841859784980002,-1.5267580055035477,0.5064174250880061,0.3367433054611338,1.2199465314945819,0.6193045429044992,-0.1405866691128178,1.320617620238819,-0.23845004768408265,0.8678499324373304,-0.6783635389878114,0.30629054690212754,0.6242536199934187,-0.6305479765356926,0.05971608490631798,0.8076378833495368,0.23280226611831248,1.8486962032262002,-1.0288160629884067,-1.0514112023277025,-2.0322145049930698,-0.08895985707025184,-0.17232298550624023,0.6276671416998708,0.834125433775937,0.24959890970492207,0.2627700269025718,0.002893684758850433],\"yaxis\":\"y2\",\"type\":\"scatter\"},{\"line\":{\"color\":\"rgba(128, 128, 128, 1.0)\",\"dash\":\"solid\",\"shape\":\"linear\",\"width\":1.3},\"marker\":{\"size\":2,\"symbol\":\"circle\"},\"mode\":\"markers\",\"name\":\"A\",\"text\":\"\",\"x\":[-1.2129243066461926,-1.0382525619586047,0.5078729037486128,0.12938280012590278,1.6341558744990186,0.034930012561126954,1.0261894177771367,0.48561193015589027,0.6569701710035855,-1.0630086458831192,0.4142771846155979,-0.6556595684701798,-1.2324349279093698,-0.034881884818500714,-1.127311218191584,0.45529130807956325,-0.6843624789646388,-0.046359180704076026,-0.5854892488345255,-0.0409845837671332,-1.223982848402369,-0.8226884827636929,0.9384904117512551,-1.3750306046807677,0.1313334149963308,1.7048794060303314,1.4028775530543507,1.069301027364722,-1.8212129559016033,-0.6594633613721426,1.575005536398303,1.34808666633816,0.9834285751505591,1.2287692587781835,-0.4502702820223655,0.4456820296514806,-1.2348230631828667,0.6513935007474707,0.7217823183882504,-0.09686416078643863,1.4148480440052245,0.2964033944700848,1.7798621722114405,0.43881017351273405,-0.3608590905749697,2.2454327420000335,-0.7563312875676766,2.078310773128206,0.27645983228088156,-0.003495077411121001,0.9365313528116445,-0.7237369414815478,-0.2793753596275433,-1.0319498219187635,0.15331646592540693,-1.2358807644346608,-0.8730830970804379,0.5018243223627462,0.3277154911339316,-0.7001680856172838,-0.38062786970551593,0.37417986038524487,1.3359876312952497,-1.3946858064279308,-0.8240469768943165,0.8743429690518841,-1.0720216781766987,-0.7401129936227316,-0.8968854721484267,1.2491513029220178,0.7397186316244806,-1.487254527725665,1.2595678502989964,-0.9800162452253297,-1.688787406091313,-0.30864671171673497,-0.3989120773759106,1.0790874832643027,-0.6112958813779303,0.3771001514455043,-0.48577846390054724,-0.484680215995673,0.5411756268439647,-0.22380769329616534,-0.8933961523410535,-0.22423563658384077,0.9499070670923341,0.6160782169505912,-0.6581978552656172,-0.28633067383250554,1.0862691581589794,-1.1501168517633698,1.2793184154573662,-0.14364512188959166,-0.37372686635559066,-0.14504972441281114,0.24928956000707564,-2.0466412507953464,0.8318230917920868,-0.11766345027058192],\"xaxis\":\"x3\",\"y\":[0.9736909845664095,0.7453931702353471,-0.584055336541668,-0.23334317308454516,-0.7000980818831816,1.2640163141919862,0.1949923139470877,-0.1139424012300454,-1.2154052780343019,0.9427148962218297,-1.2916405932264694,0.9578217204912421,-0.837880408525564,0.04477730952604257,0.0383397555239589,-0.920388783780331,-0.4586856113547915,0.7711816847785313,0.34059770984713117,-1.5809372479586077,-1.6190220344139687,0.3208625363690133,-0.49880220411246723,1.7723673511636662,-0.37465832280229444,0.7826818967840763,-0.9382489946574548,0.256628562558935,-1.6435417552082037,0.2687912226590109,1.668421072838317,0.446353712790004,-0.6072554223605655,0.5991032352457688,-0.3258627556643973,1.0260743695545573,-1.171157562633884,-0.44721741902651935,-0.18974526127380406,2.690862185966791,-0.21341778348335275,1.3729489381133875,-0.761964462794412,-0.23813834441552054,0.2423835554502911,-0.29077186439934116,-1.0641484336030078,-0.9732442423717599,1.8692008067241,0.5688039761828222,0.5279236226278071,-1.9290273692427853,1.2050717665153194,0.09187426815692153,-0.46421003832585644,0.6395964134920199,-0.9210542655891115,-0.560210249597593,-0.15267149948701025,-0.11142177214842656,0.34833270402904304,0.49643314031171515,-1.3313665867483626,-0.436011570352057,-1.78046187609948,-0.32036274436060913,-1.015612399766101,0.5202821890468927,0.29159316903345855,-1.9088228832243033,-0.24376450985073603,0.22652240535890608,-0.7841859784980002,-1.5267580055035477,0.5064174250880061,0.3367433054611338,1.2199465314945819,0.6193045429044992,-0.1405866691128178,1.320617620238819,-0.23845004768408265,0.8678499324373304,-0.6783635389878114,0.30629054690212754,0.6242536199934187,-0.6305479765356926,0.05971608490631798,0.8076378833495368,0.23280226611831248,1.8486962032262002,-1.0288160629884067,-1.0514112023277025,-2.0322145049930698,-0.08895985707025184,-0.17232298550624023,0.6276671416998708,0.834125433775937,0.24959890970492207,0.2627700269025718,0.002893684758850433],\"yaxis\":\"y3\",\"type\":\"scatter\"},{\"line\":{\"color\":\"rgba(128, 128, 128, 1.0)\",\"dash\":\"solid\",\"shape\":\"linear\",\"width\":1.3},\"marker\":{\"size\":2,\"symbol\":\"circle\"},\"mode\":\"markers\",\"name\":\"A\",\"text\":\"\",\"x\":[1.8722585348532388,0.6002480468402726,1.6096154152185032,0.9265298336893815,0.4555575415025757,0.5289171832050981,-0.5983228383552023,1.2365871830946853,0.9517631530378322,0.570868240676847,-0.4556793485479554,-1.1333555613292898,-0.30292443048262374,-0.3056353662993651,-1.5175692055118397,1.3145283280893176,-0.05570837631306323,-1.6672156947224557,-0.18253225988568061,0.05511149500707958,0.29652944678050464,-0.9943797160192843,0.6156268206284266,-1.2075437829752398,-0.37179918002400814,-0.8229655422512129,-0.5166593432880014,-0.336846247094642,0.37487787800870676,-1.3529631715271817,-0.9321676199545975,-0.6688185052591087,-1.5575919005207202,-0.8421523930661949,-0.46189711876805095,-1.3841374100687416,-0.09056874091547108,1.5106652882289682,0.8119638369795266,-1.1384802895367663,-1.6209027494525534,-0.6315358645542397,-0.8511768762817592,0.03586724042659575,0.16410309502881068,0.429520008216888,0.4200845373397902,2.5762626896943157,-0.3218649735738696,0.4617162824060808,0.13449404442241317,-0.2826010297915294,0.34007594085606446,-2.12207436611629,0.6584656599689247,1.198737979306825,-0.38118023153890096,0.6134146441483715,1.6542094406369996,0.8629286116401483,-1.2080068415563003,-0.8446488381561417,-0.3013504908497219,0.7094948101748059,2.0034682245026394,-0.448025793463419,0.16448599174260323,1.0433542466727015,-2.1197172612812127,-0.46394930575369464,2.8089945300022463,0.12743653899500063,-0.8020211766680084,0.4233000698744811,-1.363898039468205,0.561670008690516,1.1090313942250214,0.364632673243882,0.10882749421227883,-0.13917195623887504,0.15642272556811335,-0.09513856184826817,-0.8223965566500696,2.856351025955582,0.05493509540780236,0.9995691681299053,-0.40171554335583887,0.11185999318285084,-0.3781309368274451,0.3330805287634981,0.18963718995166604,-0.233220389590355,-1.0223432110448787,-1.8700950680140607,0.0077898837938084895,0.9604776769652278,-0.6944640552433706,-0.08566401282169836,0.7603737677705592,-1.1685652543059402],\"xaxis\":\"x4\",\"y\":[0.9736909845664095,0.7453931702353471,-0.584055336541668,-0.23334317308454516,-0.7000980818831816,1.2640163141919862,0.1949923139470877,-0.1139424012300454,-1.2154052780343019,0.9427148962218297,-1.2916405932264694,0.9578217204912421,-0.837880408525564,0.04477730952604257,0.0383397555239589,-0.920388783780331,-0.4586856113547915,0.7711816847785313,0.34059770984713117,-1.5809372479586077,-1.6190220344139687,0.3208625363690133,-0.49880220411246723,1.7723673511636662,-0.37465832280229444,0.7826818967840763,-0.9382489946574548,0.256628562558935,-1.6435417552082037,0.2687912226590109,1.668421072838317,0.446353712790004,-0.6072554223605655,0.5991032352457688,-0.3258627556643973,1.0260743695545573,-1.171157562633884,-0.44721741902651935,-0.18974526127380406,2.690862185966791,-0.21341778348335275,1.3729489381133875,-0.761964462794412,-0.23813834441552054,0.2423835554502911,-0.29077186439934116,-1.0641484336030078,-0.9732442423717599,1.8692008067241,0.5688039761828222,0.5279236226278071,-1.9290273692427853,1.2050717665153194,0.09187426815692153,-0.46421003832585644,0.6395964134920199,-0.9210542655891115,-0.560210249597593,-0.15267149948701025,-0.11142177214842656,0.34833270402904304,0.49643314031171515,-1.3313665867483626,-0.436011570352057,-1.78046187609948,-0.32036274436060913,-1.015612399766101,0.5202821890468927,0.29159316903345855,-1.9088228832243033,-0.24376450985073603,0.22652240535890608,-0.7841859784980002,-1.5267580055035477,0.5064174250880061,0.3367433054611338,1.2199465314945819,0.6193045429044992,-0.1405866691128178,1.320617620238819,-0.23845004768408265,0.8678499324373304,-0.6783635389878114,0.30629054690212754,0.6242536199934187,-0.6305479765356926,0.05971608490631798,0.8076378833495368,0.23280226611831248,1.8486962032262002,-1.0288160629884067,-1.0514112023277025,-2.0322145049930698,-0.08895985707025184,-0.17232298550624023,0.6276671416998708,0.834125433775937,0.24959890970492207,0.2627700269025718,0.002893684758850433],\"yaxis\":\"y4\",\"type\":\"scatter\"},{\"line\":{\"color\":\"rgba(128, 128, 128, 1.0)\",\"dash\":\"solid\",\"shape\":\"linear\",\"width\":1.3},\"marker\":{\"size\":2,\"symbol\":\"circle\"},\"mode\":\"markers\",\"name\":\"B\",\"text\":\"\",\"x\":[0.9736909845664095,0.7453931702353471,-0.584055336541668,-0.23334317308454516,-0.7000980818831816,1.2640163141919862,0.1949923139470877,-0.1139424012300454,-1.2154052780343019,0.9427148962218297,-1.2916405932264694,0.9578217204912421,-0.837880408525564,0.04477730952604257,0.0383397555239589,-0.920388783780331,-0.4586856113547915,0.7711816847785313,0.34059770984713117,-1.5809372479586077,-1.6190220344139687,0.3208625363690133,-0.49880220411246723,1.7723673511636662,-0.37465832280229444,0.7826818967840763,-0.9382489946574548,0.256628562558935,-1.6435417552082037,0.2687912226590109,1.668421072838317,0.446353712790004,-0.6072554223605655,0.5991032352457688,-0.3258627556643973,1.0260743695545573,-1.171157562633884,-0.44721741902651935,-0.18974526127380406,2.690862185966791,-0.21341778348335275,1.3729489381133875,-0.761964462794412,-0.23813834441552054,0.2423835554502911,-0.29077186439934116,-1.0641484336030078,-0.9732442423717599,1.8692008067241,0.5688039761828222,0.5279236226278071,-1.9290273692427853,1.2050717665153194,0.09187426815692153,-0.46421003832585644,0.6395964134920199,-0.9210542655891115,-0.560210249597593,-0.15267149948701025,-0.11142177214842656,0.34833270402904304,0.49643314031171515,-1.3313665867483626,-0.436011570352057,-1.78046187609948,-0.32036274436060913,-1.015612399766101,0.5202821890468927,0.29159316903345855,-1.9088228832243033,-0.24376450985073603,0.22652240535890608,-0.7841859784980002,-1.5267580055035477,0.5064174250880061,0.3367433054611338,1.2199465314945819,0.6193045429044992,-0.1405866691128178,1.320617620238819,-0.23845004768408265,0.8678499324373304,-0.6783635389878114,0.30629054690212754,0.6242536199934187,-0.6305479765356926,0.05971608490631798,0.8076378833495368,0.23280226611831248,1.8486962032262002,-1.0288160629884067,-1.0514112023277025,-2.0322145049930698,-0.08895985707025184,-0.17232298550624023,0.6276671416998708,0.834125433775937,0.24959890970492207,0.2627700269025718,0.002893684758850433],\"xaxis\":\"x5\",\"y\":[0.860487843415082,-0.1976076039773233,-0.48481821153381505,0.14681919989176692,1.3592898678691712,2.066687883890864,-1.5032945817436838,1.3945675564569295,-0.04778910964737012,-1.2129972364699224,1.4589311431911625,-0.44069477393216305,-1.0435081413404528,0.6889781462830233,-2.213980890594844,0.6142355502042238,0.2260184570472683,-0.9165795796993379,-0.1667415626821347,-0.2554626201939413,-1.037991147602794,-0.8800628951247182,-0.7005643966674218,-0.3802764846634866,-0.12296879928841947,1.1635838305936397,0.5044729405730749,-0.3344445850503148,-0.3912012746825815,-0.25437660692898856,-0.8500678690004732,-0.41509806198294447,2.03493032292298,-1.3314385730253768,0.29751356353402864,-0.7175580186337933,2.5113785520970975,-0.6095147542383219,-0.5088955997912352,1.0220677584987925,-2.0438870657446477,-1.4908273980005247,0.12922499574597024,-0.4915401118468228,0.3779801515751991,-0.8226774144982794,0.23284890744200148,1.2765999108951942,-0.1702716710359278,-0.6189082703607539,0.8749414426661444,1.5406104624426746,1.7099060314859462,-0.07706149742235652,0.9858023695881741,0.22317834251016266,-0.49721352987147677,0.6682973129617311,0.43169956246317065,-1.0918939029648713,0.10018235296733681,-0.989913227534258,0.021947372274293164,-1.0024193179032603,-0.8787782554290655,-0.5720097332195477,0.8790488723520122,-0.2562276873444926,-0.10326826791614217,-1.0134751880346335,0.8186055168917588,-0.22477040395132783,-0.24677109148501306,-1.5863247065897887,0.040629157884486754,-0.6435318145872875,0.5096173013346691,-1.4134405583436804,-0.9856650606127185,-1.332899924654395,-0.835689521985187,0.3509325415930457,0.2056437884096933,-1.8424841475984346,0.5953401809010593,-1.7016661494206462,0.3769197833430828,-0.08986765037176148,-0.26464943856144885,0.2996702121775819,-0.08513347629466395,-0.14318734590020804,-0.9397532454122348,-0.5072370450741972,-1.4064823254410985,0.5674390471645528,-1.3449602849704938,-2.2250731965123873,2.7083825895071967,-0.45632096832043334],\"yaxis\":\"y5\",\"type\":\"scatter\"},{\"histfunc\":\"count\",\"histnorm\":\"\",\"marker\":{\"color\":\"rgba(55, 128, 191, 1.0)\",\"line\":{\"color\":\"#4D5663\",\"width\":1.3}},\"name\":\"B\",\"nbinsx\":10,\"opacity\":0.8,\"orientation\":\"v\",\"x\":[0.860487843415082,-0.1976076039773233,-0.48481821153381505,0.14681919989176692,1.3592898678691712,2.066687883890864,-1.5032945817436838,1.3945675564569295,-0.04778910964737012,-1.2129972364699224,1.4589311431911625,-0.44069477393216305,-1.0435081413404528,0.6889781462830233,-2.213980890594844,0.6142355502042238,0.2260184570472683,-0.9165795796993379,-0.1667415626821347,-0.2554626201939413,-1.037991147602794,-0.8800628951247182,-0.7005643966674218,-0.3802764846634866,-0.12296879928841947,1.1635838305936397,0.5044729405730749,-0.3344445850503148,-0.3912012746825815,-0.25437660692898856,-0.8500678690004732,-0.41509806198294447,2.03493032292298,-1.3314385730253768,0.29751356353402864,-0.7175580186337933,2.5113785520970975,-0.6095147542383219,-0.5088955997912352,1.0220677584987925,-2.0438870657446477,-1.4908273980005247,0.12922499574597024,-0.4915401118468228,0.3779801515751991,-0.8226774144982794,0.23284890744200148,1.2765999108951942,-0.1702716710359278,-0.6189082703607539,0.8749414426661444,1.5406104624426746,1.7099060314859462,-0.07706149742235652,0.9858023695881741,0.22317834251016266,-0.49721352987147677,0.6682973129617311,0.43169956246317065,-1.0918939029648713,0.10018235296733681,-0.989913227534258,0.021947372274293164,-1.0024193179032603,-0.8787782554290655,-0.5720097332195477,0.8790488723520122,-0.2562276873444926,-0.10326826791614217,-1.0134751880346335,0.8186055168917588,-0.22477040395132783,-0.24677109148501306,-1.5863247065897887,0.040629157884486754,-0.6435318145872875,0.5096173013346691,-1.4134405583436804,-0.9856650606127185,-1.332899924654395,-0.835689521985187,0.3509325415930457,0.2056437884096933,-1.8424841475984346,0.5953401809010593,-1.7016661494206462,0.3769197833430828,-0.08986765037176148,-0.26464943856144885,0.2996702121775819,-0.08513347629466395,-0.14318734590020804,-0.9397532454122348,-0.5072370450741972,-1.4064823254410985,0.5674390471645528,-1.3449602849704938,-2.2250731965123873,2.7083825895071967,-0.45632096832043334],\"xaxis\":\"x6\",\"yaxis\":\"y6\",\"type\":\"histogram\"},{\"line\":{\"color\":\"rgba(128, 128, 128, 1.0)\",\"dash\":\"solid\",\"shape\":\"linear\",\"width\":1.3},\"marker\":{\"size\":2,\"symbol\":\"circle\"},\"mode\":\"markers\",\"name\":\"B\",\"text\":\"\",\"x\":[-1.2129243066461926,-1.0382525619586047,0.5078729037486128,0.12938280012590278,1.6341558744990186,0.034930012561126954,1.0261894177771367,0.48561193015589027,0.6569701710035855,-1.0630086458831192,0.4142771846155979,-0.6556595684701798,-1.2324349279093698,-0.034881884818500714,-1.127311218191584,0.45529130807956325,-0.6843624789646388,-0.046359180704076026,-0.5854892488345255,-0.0409845837671332,-1.223982848402369,-0.8226884827636929,0.9384904117512551,-1.3750306046807677,0.1313334149963308,1.7048794060303314,1.4028775530543507,1.069301027364722,-1.8212129559016033,-0.6594633613721426,1.575005536398303,1.34808666633816,0.9834285751505591,1.2287692587781835,-0.4502702820223655,0.4456820296514806,-1.2348230631828667,0.6513935007474707,0.7217823183882504,-0.09686416078643863,1.4148480440052245,0.2964033944700848,1.7798621722114405,0.43881017351273405,-0.3608590905749697,2.2454327420000335,-0.7563312875676766,2.078310773128206,0.27645983228088156,-0.003495077411121001,0.9365313528116445,-0.7237369414815478,-0.2793753596275433,-1.0319498219187635,0.15331646592540693,-1.2358807644346608,-0.8730830970804379,0.5018243223627462,0.3277154911339316,-0.7001680856172838,-0.38062786970551593,0.37417986038524487,1.3359876312952497,-1.3946858064279308,-0.8240469768943165,0.8743429690518841,-1.0720216781766987,-0.7401129936227316,-0.8968854721484267,1.2491513029220178,0.7397186316244806,-1.487254527725665,1.2595678502989964,-0.9800162452253297,-1.688787406091313,-0.30864671171673497,-0.3989120773759106,1.0790874832643027,-0.6112958813779303,0.3771001514455043,-0.48577846390054724,-0.484680215995673,0.5411756268439647,-0.22380769329616534,-0.8933961523410535,-0.22423563658384077,0.9499070670923341,0.6160782169505912,-0.6581978552656172,-0.28633067383250554,1.0862691581589794,-1.1501168517633698,1.2793184154573662,-0.14364512188959166,-0.37372686635559066,-0.14504972441281114,0.24928956000707564,-2.0466412507953464,0.8318230917920868,-0.11766345027058192],\"xaxis\":\"x7\",\"y\":[0.860487843415082,-0.1976076039773233,-0.48481821153381505,0.14681919989176692,1.3592898678691712,2.066687883890864,-1.5032945817436838,1.3945675564569295,-0.04778910964737012,-1.2129972364699224,1.4589311431911625,-0.44069477393216305,-1.0435081413404528,0.6889781462830233,-2.213980890594844,0.6142355502042238,0.2260184570472683,-0.9165795796993379,-0.1667415626821347,-0.2554626201939413,-1.037991147602794,-0.8800628951247182,-0.7005643966674218,-0.3802764846634866,-0.12296879928841947,1.1635838305936397,0.5044729405730749,-0.3344445850503148,-0.3912012746825815,-0.25437660692898856,-0.8500678690004732,-0.41509806198294447,2.03493032292298,-1.3314385730253768,0.29751356353402864,-0.7175580186337933,2.5113785520970975,-0.6095147542383219,-0.5088955997912352,1.0220677584987925,-2.0438870657446477,-1.4908273980005247,0.12922499574597024,-0.4915401118468228,0.3779801515751991,-0.8226774144982794,0.23284890744200148,1.2765999108951942,-0.1702716710359278,-0.6189082703607539,0.8749414426661444,1.5406104624426746,1.7099060314859462,-0.07706149742235652,0.9858023695881741,0.22317834251016266,-0.49721352987147677,0.6682973129617311,0.43169956246317065,-1.0918939029648713,0.10018235296733681,-0.989913227534258,0.021947372274293164,-1.0024193179032603,-0.8787782554290655,-0.5720097332195477,0.8790488723520122,-0.2562276873444926,-0.10326826791614217,-1.0134751880346335,0.8186055168917588,-0.22477040395132783,-0.24677109148501306,-1.5863247065897887,0.040629157884486754,-0.6435318145872875,0.5096173013346691,-1.4134405583436804,-0.9856650606127185,-1.332899924654395,-0.835689521985187,0.3509325415930457,0.2056437884096933,-1.8424841475984346,0.5953401809010593,-1.7016661494206462,0.3769197833430828,-0.08986765037176148,-0.26464943856144885,0.2996702121775819,-0.08513347629466395,-0.14318734590020804,-0.9397532454122348,-0.5072370450741972,-1.4064823254410985,0.5674390471645528,-1.3449602849704938,-2.2250731965123873,2.7083825895071967,-0.45632096832043334],\"yaxis\":\"y7\",\"type\":\"scatter\"},{\"line\":{\"color\":\"rgba(128, 128, 128, 1.0)\",\"dash\":\"solid\",\"shape\":\"linear\",\"width\":1.3},\"marker\":{\"size\":2,\"symbol\":\"circle\"},\"mode\":\"markers\",\"name\":\"B\",\"text\":\"\",\"x\":[1.8722585348532388,0.6002480468402726,1.6096154152185032,0.9265298336893815,0.4555575415025757,0.5289171832050981,-0.5983228383552023,1.2365871830946853,0.9517631530378322,0.570868240676847,-0.4556793485479554,-1.1333555613292898,-0.30292443048262374,-0.3056353662993651,-1.5175692055118397,1.3145283280893176,-0.05570837631306323,-1.6672156947224557,-0.18253225988568061,0.05511149500707958,0.29652944678050464,-0.9943797160192843,0.6156268206284266,-1.2075437829752398,-0.37179918002400814,-0.8229655422512129,-0.5166593432880014,-0.336846247094642,0.37487787800870676,-1.3529631715271817,-0.9321676199545975,-0.6688185052591087,-1.5575919005207202,-0.8421523930661949,-0.46189711876805095,-1.3841374100687416,-0.09056874091547108,1.5106652882289682,0.8119638369795266,-1.1384802895367663,-1.6209027494525534,-0.6315358645542397,-0.8511768762817592,0.03586724042659575,0.16410309502881068,0.429520008216888,0.4200845373397902,2.5762626896943157,-0.3218649735738696,0.4617162824060808,0.13449404442241317,-0.2826010297915294,0.34007594085606446,-2.12207436611629,0.6584656599689247,1.198737979306825,-0.38118023153890096,0.6134146441483715,1.6542094406369996,0.8629286116401483,-1.2080068415563003,-0.8446488381561417,-0.3013504908497219,0.7094948101748059,2.0034682245026394,-0.448025793463419,0.16448599174260323,1.0433542466727015,-2.1197172612812127,-0.46394930575369464,2.8089945300022463,0.12743653899500063,-0.8020211766680084,0.4233000698744811,-1.363898039468205,0.561670008690516,1.1090313942250214,0.364632673243882,0.10882749421227883,-0.13917195623887504,0.15642272556811335,-0.09513856184826817,-0.8223965566500696,2.856351025955582,0.05493509540780236,0.9995691681299053,-0.40171554335583887,0.11185999318285084,-0.3781309368274451,0.3330805287634981,0.18963718995166604,-0.233220389590355,-1.0223432110448787,-1.8700950680140607,0.0077898837938084895,0.9604776769652278,-0.6944640552433706,-0.08566401282169836,0.7603737677705592,-1.1685652543059402],\"xaxis\":\"x8\",\"y\":[0.860487843415082,-0.1976076039773233,-0.48481821153381505,0.14681919989176692,1.3592898678691712,2.066687883890864,-1.5032945817436838,1.3945675564569295,-0.04778910964737012,-1.2129972364699224,1.4589311431911625,-0.44069477393216305,-1.0435081413404528,0.6889781462830233,-2.213980890594844,0.6142355502042238,0.2260184570472683,-0.9165795796993379,-0.1667415626821347,-0.2554626201939413,-1.037991147602794,-0.8800628951247182,-0.7005643966674218,-0.3802764846634866,-0.12296879928841947,1.1635838305936397,0.5044729405730749,-0.3344445850503148,-0.3912012746825815,-0.25437660692898856,-0.8500678690004732,-0.41509806198294447,2.03493032292298,-1.3314385730253768,0.29751356353402864,-0.7175580186337933,2.5113785520970975,-0.6095147542383219,-0.5088955997912352,1.0220677584987925,-2.0438870657446477,-1.4908273980005247,0.12922499574597024,-0.4915401118468228,0.3779801515751991,-0.8226774144982794,0.23284890744200148,1.2765999108951942,-0.1702716710359278,-0.6189082703607539,0.8749414426661444,1.5406104624426746,1.7099060314859462,-0.07706149742235652,0.9858023695881741,0.22317834251016266,-0.49721352987147677,0.6682973129617311,0.43169956246317065,-1.0918939029648713,0.10018235296733681,-0.989913227534258,0.021947372274293164,-1.0024193179032603,-0.8787782554290655,-0.5720097332195477,0.8790488723520122,-0.2562276873444926,-0.10326826791614217,-1.0134751880346335,0.8186055168917588,-0.22477040395132783,-0.24677109148501306,-1.5863247065897887,0.040629157884486754,-0.6435318145872875,0.5096173013346691,-1.4134405583436804,-0.9856650606127185,-1.332899924654395,-0.835689521985187,0.3509325415930457,0.2056437884096933,-1.8424841475984346,0.5953401809010593,-1.7016661494206462,0.3769197833430828,-0.08986765037176148,-0.26464943856144885,0.2996702121775819,-0.08513347629466395,-0.14318734590020804,-0.9397532454122348,-0.5072370450741972,-1.4064823254410985,0.5674390471645528,-1.3449602849704938,-2.2250731965123873,2.7083825895071967,-0.45632096832043334],\"yaxis\":\"y8\",\"type\":\"scatter\"},{\"line\":{\"color\":\"rgba(128, 128, 128, 1.0)\",\"dash\":\"solid\",\"shape\":\"linear\",\"width\":1.3},\"marker\":{\"size\":2,\"symbol\":\"circle\"},\"mode\":\"markers\",\"name\":\"C\",\"text\":\"\",\"x\":[0.9736909845664095,0.7453931702353471,-0.584055336541668,-0.23334317308454516,-0.7000980818831816,1.2640163141919862,0.1949923139470877,-0.1139424012300454,-1.2154052780343019,0.9427148962218297,-1.2916405932264694,0.9578217204912421,-0.837880408525564,0.04477730952604257,0.0383397555239589,-0.920388783780331,-0.4586856113547915,0.7711816847785313,0.34059770984713117,-1.5809372479586077,-1.6190220344139687,0.3208625363690133,-0.49880220411246723,1.7723673511636662,-0.37465832280229444,0.7826818967840763,-0.9382489946574548,0.256628562558935,-1.6435417552082037,0.2687912226590109,1.668421072838317,0.446353712790004,-0.6072554223605655,0.5991032352457688,-0.3258627556643973,1.0260743695545573,-1.171157562633884,-0.44721741902651935,-0.18974526127380406,2.690862185966791,-0.21341778348335275,1.3729489381133875,-0.761964462794412,-0.23813834441552054,0.2423835554502911,-0.29077186439934116,-1.0641484336030078,-0.9732442423717599,1.8692008067241,0.5688039761828222,0.5279236226278071,-1.9290273692427853,1.2050717665153194,0.09187426815692153,-0.46421003832585644,0.6395964134920199,-0.9210542655891115,-0.560210249597593,-0.15267149948701025,-0.11142177214842656,0.34833270402904304,0.49643314031171515,-1.3313665867483626,-0.436011570352057,-1.78046187609948,-0.32036274436060913,-1.015612399766101,0.5202821890468927,0.29159316903345855,-1.9088228832243033,-0.24376450985073603,0.22652240535890608,-0.7841859784980002,-1.5267580055035477,0.5064174250880061,0.3367433054611338,1.2199465314945819,0.6193045429044992,-0.1405866691128178,1.320617620238819,-0.23845004768408265,0.8678499324373304,-0.6783635389878114,0.30629054690212754,0.6242536199934187,-0.6305479765356926,0.05971608490631798,0.8076378833495368,0.23280226611831248,1.8486962032262002,-1.0288160629884067,-1.0514112023277025,-2.0322145049930698,-0.08895985707025184,-0.17232298550624023,0.6276671416998708,0.834125433775937,0.24959890970492207,0.2627700269025718,0.002893684758850433],\"xaxis\":\"x9\",\"y\":[-1.2129243066461926,-1.0382525619586047,0.5078729037486128,0.12938280012590278,1.6341558744990186,0.034930012561126954,1.0261894177771367,0.48561193015589027,0.6569701710035855,-1.0630086458831192,0.4142771846155979,-0.6556595684701798,-1.2324349279093698,-0.034881884818500714,-1.127311218191584,0.45529130807956325,-0.6843624789646388,-0.046359180704076026,-0.5854892488345255,-0.0409845837671332,-1.223982848402369,-0.8226884827636929,0.9384904117512551,-1.3750306046807677,0.1313334149963308,1.7048794060303314,1.4028775530543507,1.069301027364722,-1.8212129559016033,-0.6594633613721426,1.575005536398303,1.34808666633816,0.9834285751505591,1.2287692587781835,-0.4502702820223655,0.4456820296514806,-1.2348230631828667,0.6513935007474707,0.7217823183882504,-0.09686416078643863,1.4148480440052245,0.2964033944700848,1.7798621722114405,0.43881017351273405,-0.3608590905749697,2.2454327420000335,-0.7563312875676766,2.078310773128206,0.27645983228088156,-0.003495077411121001,0.9365313528116445,-0.7237369414815478,-0.2793753596275433,-1.0319498219187635,0.15331646592540693,-1.2358807644346608,-0.8730830970804379,0.5018243223627462,0.3277154911339316,-0.7001680856172838,-0.38062786970551593,0.37417986038524487,1.3359876312952497,-1.3946858064279308,-0.8240469768943165,0.8743429690518841,-1.0720216781766987,-0.7401129936227316,-0.8968854721484267,1.2491513029220178,0.7397186316244806,-1.487254527725665,1.2595678502989964,-0.9800162452253297,-1.688787406091313,-0.30864671171673497,-0.3989120773759106,1.0790874832643027,-0.6112958813779303,0.3771001514455043,-0.48577846390054724,-0.484680215995673,0.5411756268439647,-0.22380769329616534,-0.8933961523410535,-0.22423563658384077,0.9499070670923341,0.6160782169505912,-0.6581978552656172,-0.28633067383250554,1.0862691581589794,-1.1501168517633698,1.2793184154573662,-0.14364512188959166,-0.37372686635559066,-0.14504972441281114,0.24928956000707564,-2.0466412507953464,0.8318230917920868,-0.11766345027058192],\"yaxis\":\"y9\",\"type\":\"scatter\"},{\"line\":{\"color\":\"rgba(128, 128, 128, 1.0)\",\"dash\":\"solid\",\"shape\":\"linear\",\"width\":1.3},\"marker\":{\"size\":2,\"symbol\":\"circle\"},\"mode\":\"markers\",\"name\":\"C\",\"text\":\"\",\"x\":[0.860487843415082,-0.1976076039773233,-0.48481821153381505,0.14681919989176692,1.3592898678691712,2.066687883890864,-1.5032945817436838,1.3945675564569295,-0.04778910964737012,-1.2129972364699224,1.4589311431911625,-0.44069477393216305,-1.0435081413404528,0.6889781462830233,-2.213980890594844,0.6142355502042238,0.2260184570472683,-0.9165795796993379,-0.1667415626821347,-0.2554626201939413,-1.037991147602794,-0.8800628951247182,-0.7005643966674218,-0.3802764846634866,-0.12296879928841947,1.1635838305936397,0.5044729405730749,-0.3344445850503148,-0.3912012746825815,-0.25437660692898856,-0.8500678690004732,-0.41509806198294447,2.03493032292298,-1.3314385730253768,0.29751356353402864,-0.7175580186337933,2.5113785520970975,-0.6095147542383219,-0.5088955997912352,1.0220677584987925,-2.0438870657446477,-1.4908273980005247,0.12922499574597024,-0.4915401118468228,0.3779801515751991,-0.8226774144982794,0.23284890744200148,1.2765999108951942,-0.1702716710359278,-0.6189082703607539,0.8749414426661444,1.5406104624426746,1.7099060314859462,-0.07706149742235652,0.9858023695881741,0.22317834251016266,-0.49721352987147677,0.6682973129617311,0.43169956246317065,-1.0918939029648713,0.10018235296733681,-0.989913227534258,0.021947372274293164,-1.0024193179032603,-0.8787782554290655,-0.5720097332195477,0.8790488723520122,-0.2562276873444926,-0.10326826791614217,-1.0134751880346335,0.8186055168917588,-0.22477040395132783,-0.24677109148501306,-1.5863247065897887,0.040629157884486754,-0.6435318145872875,0.5096173013346691,-1.4134405583436804,-0.9856650606127185,-1.332899924654395,-0.835689521985187,0.3509325415930457,0.2056437884096933,-1.8424841475984346,0.5953401809010593,-1.7016661494206462,0.3769197833430828,-0.08986765037176148,-0.26464943856144885,0.2996702121775819,-0.08513347629466395,-0.14318734590020804,-0.9397532454122348,-0.5072370450741972,-1.4064823254410985,0.5674390471645528,-1.3449602849704938,-2.2250731965123873,2.7083825895071967,-0.45632096832043334],\"xaxis\":\"x10\",\"y\":[-1.2129243066461926,-1.0382525619586047,0.5078729037486128,0.12938280012590278,1.6341558744990186,0.034930012561126954,1.0261894177771367,0.48561193015589027,0.6569701710035855,-1.0630086458831192,0.4142771846155979,-0.6556595684701798,-1.2324349279093698,-0.034881884818500714,-1.127311218191584,0.45529130807956325,-0.6843624789646388,-0.046359180704076026,-0.5854892488345255,-0.0409845837671332,-1.223982848402369,-0.8226884827636929,0.9384904117512551,-1.3750306046807677,0.1313334149963308,1.7048794060303314,1.4028775530543507,1.069301027364722,-1.8212129559016033,-0.6594633613721426,1.575005536398303,1.34808666633816,0.9834285751505591,1.2287692587781835,-0.4502702820223655,0.4456820296514806,-1.2348230631828667,0.6513935007474707,0.7217823183882504,-0.09686416078643863,1.4148480440052245,0.2964033944700848,1.7798621722114405,0.43881017351273405,-0.3608590905749697,2.2454327420000335,-0.7563312875676766,2.078310773128206,0.27645983228088156,-0.003495077411121001,0.9365313528116445,-0.7237369414815478,-0.2793753596275433,-1.0319498219187635,0.15331646592540693,-1.2358807644346608,-0.8730830970804379,0.5018243223627462,0.3277154911339316,-0.7001680856172838,-0.38062786970551593,0.37417986038524487,1.3359876312952497,-1.3946858064279308,-0.8240469768943165,0.8743429690518841,-1.0720216781766987,-0.7401129936227316,-0.8968854721484267,1.2491513029220178,0.7397186316244806,-1.487254527725665,1.2595678502989964,-0.9800162452253297,-1.688787406091313,-0.30864671171673497,-0.3989120773759106,1.0790874832643027,-0.6112958813779303,0.3771001514455043,-0.48577846390054724,-0.484680215995673,0.5411756268439647,-0.22380769329616534,-0.8933961523410535,-0.22423563658384077,0.9499070670923341,0.6160782169505912,-0.6581978552656172,-0.28633067383250554,1.0862691581589794,-1.1501168517633698,1.2793184154573662,-0.14364512188959166,-0.37372686635559066,-0.14504972441281114,0.24928956000707564,-2.0466412507953464,0.8318230917920868,-0.11766345027058192],\"yaxis\":\"y10\",\"type\":\"scatter\"},{\"histfunc\":\"count\",\"histnorm\":\"\",\"marker\":{\"color\":\"rgba(50, 171, 96, 1.0)\",\"line\":{\"color\":\"#4D5663\",\"width\":1.3}},\"name\":\"C\",\"nbinsx\":10,\"opacity\":0.8,\"orientation\":\"v\",\"x\":[-1.2129243066461926,-1.0382525619586047,0.5078729037486128,0.12938280012590278,1.6341558744990186,0.034930012561126954,1.0261894177771367,0.48561193015589027,0.6569701710035855,-1.0630086458831192,0.4142771846155979,-0.6556595684701798,-1.2324349279093698,-0.034881884818500714,-1.127311218191584,0.45529130807956325,-0.6843624789646388,-0.046359180704076026,-0.5854892488345255,-0.0409845837671332,-1.223982848402369,-0.8226884827636929,0.9384904117512551,-1.3750306046807677,0.1313334149963308,1.7048794060303314,1.4028775530543507,1.069301027364722,-1.8212129559016033,-0.6594633613721426,1.575005536398303,1.34808666633816,0.9834285751505591,1.2287692587781835,-0.4502702820223655,0.4456820296514806,-1.2348230631828667,0.6513935007474707,0.7217823183882504,-0.09686416078643863,1.4148480440052245,0.2964033944700848,1.7798621722114405,0.43881017351273405,-0.3608590905749697,2.2454327420000335,-0.7563312875676766,2.078310773128206,0.27645983228088156,-0.003495077411121001,0.9365313528116445,-0.7237369414815478,-0.2793753596275433,-1.0319498219187635,0.15331646592540693,-1.2358807644346608,-0.8730830970804379,0.5018243223627462,0.3277154911339316,-0.7001680856172838,-0.38062786970551593,0.37417986038524487,1.3359876312952497,-1.3946858064279308,-0.8240469768943165,0.8743429690518841,-1.0720216781766987,-0.7401129936227316,-0.8968854721484267,1.2491513029220178,0.7397186316244806,-1.487254527725665,1.2595678502989964,-0.9800162452253297,-1.688787406091313,-0.30864671171673497,-0.3989120773759106,1.0790874832643027,-0.6112958813779303,0.3771001514455043,-0.48577846390054724,-0.484680215995673,0.5411756268439647,-0.22380769329616534,-0.8933961523410535,-0.22423563658384077,0.9499070670923341,0.6160782169505912,-0.6581978552656172,-0.28633067383250554,1.0862691581589794,-1.1501168517633698,1.2793184154573662,-0.14364512188959166,-0.37372686635559066,-0.14504972441281114,0.24928956000707564,-2.0466412507953464,0.8318230917920868,-0.11766345027058192],\"xaxis\":\"x11\",\"yaxis\":\"y11\",\"type\":\"histogram\"},{\"line\":{\"color\":\"rgba(128, 128, 128, 1.0)\",\"dash\":\"solid\",\"shape\":\"linear\",\"width\":1.3},\"marker\":{\"size\":2,\"symbol\":\"circle\"},\"mode\":\"markers\",\"name\":\"C\",\"text\":\"\",\"x\":[1.8722585348532388,0.6002480468402726,1.6096154152185032,0.9265298336893815,0.4555575415025757,0.5289171832050981,-0.5983228383552023,1.2365871830946853,0.9517631530378322,0.570868240676847,-0.4556793485479554,-1.1333555613292898,-0.30292443048262374,-0.3056353662993651,-1.5175692055118397,1.3145283280893176,-0.05570837631306323,-1.6672156947224557,-0.18253225988568061,0.05511149500707958,0.29652944678050464,-0.9943797160192843,0.6156268206284266,-1.2075437829752398,-0.37179918002400814,-0.8229655422512129,-0.5166593432880014,-0.336846247094642,0.37487787800870676,-1.3529631715271817,-0.9321676199545975,-0.6688185052591087,-1.5575919005207202,-0.8421523930661949,-0.46189711876805095,-1.3841374100687416,-0.09056874091547108,1.5106652882289682,0.8119638369795266,-1.1384802895367663,-1.6209027494525534,-0.6315358645542397,-0.8511768762817592,0.03586724042659575,0.16410309502881068,0.429520008216888,0.4200845373397902,2.5762626896943157,-0.3218649735738696,0.4617162824060808,0.13449404442241317,-0.2826010297915294,0.34007594085606446,-2.12207436611629,0.6584656599689247,1.198737979306825,-0.38118023153890096,0.6134146441483715,1.6542094406369996,0.8629286116401483,-1.2080068415563003,-0.8446488381561417,-0.3013504908497219,0.7094948101748059,2.0034682245026394,-0.448025793463419,0.16448599174260323,1.0433542466727015,-2.1197172612812127,-0.46394930575369464,2.8089945300022463,0.12743653899500063,-0.8020211766680084,0.4233000698744811,-1.363898039468205,0.561670008690516,1.1090313942250214,0.364632673243882,0.10882749421227883,-0.13917195623887504,0.15642272556811335,-0.09513856184826817,-0.8223965566500696,2.856351025955582,0.05493509540780236,0.9995691681299053,-0.40171554335583887,0.11185999318285084,-0.3781309368274451,0.3330805287634981,0.18963718995166604,-0.233220389590355,-1.0223432110448787,-1.8700950680140607,0.0077898837938084895,0.9604776769652278,-0.6944640552433706,-0.08566401282169836,0.7603737677705592,-1.1685652543059402],\"xaxis\":\"x12\",\"y\":[-1.2129243066461926,-1.0382525619586047,0.5078729037486128,0.12938280012590278,1.6341558744990186,0.034930012561126954,1.0261894177771367,0.48561193015589027,0.6569701710035855,-1.0630086458831192,0.4142771846155979,-0.6556595684701798,-1.2324349279093698,-0.034881884818500714,-1.127311218191584,0.45529130807956325,-0.6843624789646388,-0.046359180704076026,-0.5854892488345255,-0.0409845837671332,-1.223982848402369,-0.8226884827636929,0.9384904117512551,-1.3750306046807677,0.1313334149963308,1.7048794060303314,1.4028775530543507,1.069301027364722,-1.8212129559016033,-0.6594633613721426,1.575005536398303,1.34808666633816,0.9834285751505591,1.2287692587781835,-0.4502702820223655,0.4456820296514806,-1.2348230631828667,0.6513935007474707,0.7217823183882504,-0.09686416078643863,1.4148480440052245,0.2964033944700848,1.7798621722114405,0.43881017351273405,-0.3608590905749697,2.2454327420000335,-0.7563312875676766,2.078310773128206,0.27645983228088156,-0.003495077411121001,0.9365313528116445,-0.7237369414815478,-0.2793753596275433,-1.0319498219187635,0.15331646592540693,-1.2358807644346608,-0.8730830970804379,0.5018243223627462,0.3277154911339316,-0.7001680856172838,-0.38062786970551593,0.37417986038524487,1.3359876312952497,-1.3946858064279308,-0.8240469768943165,0.8743429690518841,-1.0720216781766987,-0.7401129936227316,-0.8968854721484267,1.2491513029220178,0.7397186316244806,-1.487254527725665,1.2595678502989964,-0.9800162452253297,-1.688787406091313,-0.30864671171673497,-0.3989120773759106,1.0790874832643027,-0.6112958813779303,0.3771001514455043,-0.48577846390054724,-0.484680215995673,0.5411756268439647,-0.22380769329616534,-0.8933961523410535,-0.22423563658384077,0.9499070670923341,0.6160782169505912,-0.6581978552656172,-0.28633067383250554,1.0862691581589794,-1.1501168517633698,1.2793184154573662,-0.14364512188959166,-0.37372686635559066,-0.14504972441281114,0.24928956000707564,-2.0466412507953464,0.8318230917920868,-0.11766345027058192],\"yaxis\":\"y12\",\"type\":\"scatter\"},{\"line\":{\"color\":\"rgba(128, 128, 128, 1.0)\",\"dash\":\"solid\",\"shape\":\"linear\",\"width\":1.3},\"marker\":{\"size\":2,\"symbol\":\"circle\"},\"mode\":\"markers\",\"name\":\"D\",\"text\":\"\",\"x\":[0.9736909845664095,0.7453931702353471,-0.584055336541668,-0.23334317308454516,-0.7000980818831816,1.2640163141919862,0.1949923139470877,-0.1139424012300454,-1.2154052780343019,0.9427148962218297,-1.2916405932264694,0.9578217204912421,-0.837880408525564,0.04477730952604257,0.0383397555239589,-0.920388783780331,-0.4586856113547915,0.7711816847785313,0.34059770984713117,-1.5809372479586077,-1.6190220344139687,0.3208625363690133,-0.49880220411246723,1.7723673511636662,-0.37465832280229444,0.7826818967840763,-0.9382489946574548,0.256628562558935,-1.6435417552082037,0.2687912226590109,1.668421072838317,0.446353712790004,-0.6072554223605655,0.5991032352457688,-0.3258627556643973,1.0260743695545573,-1.171157562633884,-0.44721741902651935,-0.18974526127380406,2.690862185966791,-0.21341778348335275,1.3729489381133875,-0.761964462794412,-0.23813834441552054,0.2423835554502911,-0.29077186439934116,-1.0641484336030078,-0.9732442423717599,1.8692008067241,0.5688039761828222,0.5279236226278071,-1.9290273692427853,1.2050717665153194,0.09187426815692153,-0.46421003832585644,0.6395964134920199,-0.9210542655891115,-0.560210249597593,-0.15267149948701025,-0.11142177214842656,0.34833270402904304,0.49643314031171515,-1.3313665867483626,-0.436011570352057,-1.78046187609948,-0.32036274436060913,-1.015612399766101,0.5202821890468927,0.29159316903345855,-1.9088228832243033,-0.24376450985073603,0.22652240535890608,-0.7841859784980002,-1.5267580055035477,0.5064174250880061,0.3367433054611338,1.2199465314945819,0.6193045429044992,-0.1405866691128178,1.320617620238819,-0.23845004768408265,0.8678499324373304,-0.6783635389878114,0.30629054690212754,0.6242536199934187,-0.6305479765356926,0.05971608490631798,0.8076378833495368,0.23280226611831248,1.8486962032262002,-1.0288160629884067,-1.0514112023277025,-2.0322145049930698,-0.08895985707025184,-0.17232298550624023,0.6276671416998708,0.834125433775937,0.24959890970492207,0.2627700269025718,0.002893684758850433],\"xaxis\":\"x13\",\"y\":[1.8722585348532388,0.6002480468402726,1.6096154152185032,0.9265298336893815,0.4555575415025757,0.5289171832050981,-0.5983228383552023,1.2365871830946853,0.9517631530378322,0.570868240676847,-0.4556793485479554,-1.1333555613292898,-0.30292443048262374,-0.3056353662993651,-1.5175692055118397,1.3145283280893176,-0.05570837631306323,-1.6672156947224557,-0.18253225988568061,0.05511149500707958,0.29652944678050464,-0.9943797160192843,0.6156268206284266,-1.2075437829752398,-0.37179918002400814,-0.8229655422512129,-0.5166593432880014,-0.336846247094642,0.37487787800870676,-1.3529631715271817,-0.9321676199545975,-0.6688185052591087,-1.5575919005207202,-0.8421523930661949,-0.46189711876805095,-1.3841374100687416,-0.09056874091547108,1.5106652882289682,0.8119638369795266,-1.1384802895367663,-1.6209027494525534,-0.6315358645542397,-0.8511768762817592,0.03586724042659575,0.16410309502881068,0.429520008216888,0.4200845373397902,2.5762626896943157,-0.3218649735738696,0.4617162824060808,0.13449404442241317,-0.2826010297915294,0.34007594085606446,-2.12207436611629,0.6584656599689247,1.198737979306825,-0.38118023153890096,0.6134146441483715,1.6542094406369996,0.8629286116401483,-1.2080068415563003,-0.8446488381561417,-0.3013504908497219,0.7094948101748059,2.0034682245026394,-0.448025793463419,0.16448599174260323,1.0433542466727015,-2.1197172612812127,-0.46394930575369464,2.8089945300022463,0.12743653899500063,-0.8020211766680084,0.4233000698744811,-1.363898039468205,0.561670008690516,1.1090313942250214,0.364632673243882,0.10882749421227883,-0.13917195623887504,0.15642272556811335,-0.09513856184826817,-0.8223965566500696,2.856351025955582,0.05493509540780236,0.9995691681299053,-0.40171554335583887,0.11185999318285084,-0.3781309368274451,0.3330805287634981,0.18963718995166604,-0.233220389590355,-1.0223432110448787,-1.8700950680140607,0.0077898837938084895,0.9604776769652278,-0.6944640552433706,-0.08566401282169836,0.7603737677705592,-1.1685652543059402],\"yaxis\":\"y13\",\"type\":\"scatter\"},{\"line\":{\"color\":\"rgba(128, 128, 128, 1.0)\",\"dash\":\"solid\",\"shape\":\"linear\",\"width\":1.3},\"marker\":{\"size\":2,\"symbol\":\"circle\"},\"mode\":\"markers\",\"name\":\"D\",\"text\":\"\",\"x\":[0.860487843415082,-0.1976076039773233,-0.48481821153381505,0.14681919989176692,1.3592898678691712,2.066687883890864,-1.5032945817436838,1.3945675564569295,-0.04778910964737012,-1.2129972364699224,1.4589311431911625,-0.44069477393216305,-1.0435081413404528,0.6889781462830233,-2.213980890594844,0.6142355502042238,0.2260184570472683,-0.9165795796993379,-0.1667415626821347,-0.2554626201939413,-1.037991147602794,-0.8800628951247182,-0.7005643966674218,-0.3802764846634866,-0.12296879928841947,1.1635838305936397,0.5044729405730749,-0.3344445850503148,-0.3912012746825815,-0.25437660692898856,-0.8500678690004732,-0.41509806198294447,2.03493032292298,-1.3314385730253768,0.29751356353402864,-0.7175580186337933,2.5113785520970975,-0.6095147542383219,-0.5088955997912352,1.0220677584987925,-2.0438870657446477,-1.4908273980005247,0.12922499574597024,-0.4915401118468228,0.3779801515751991,-0.8226774144982794,0.23284890744200148,1.2765999108951942,-0.1702716710359278,-0.6189082703607539,0.8749414426661444,1.5406104624426746,1.7099060314859462,-0.07706149742235652,0.9858023695881741,0.22317834251016266,-0.49721352987147677,0.6682973129617311,0.43169956246317065,-1.0918939029648713,0.10018235296733681,-0.989913227534258,0.021947372274293164,-1.0024193179032603,-0.8787782554290655,-0.5720097332195477,0.8790488723520122,-0.2562276873444926,-0.10326826791614217,-1.0134751880346335,0.8186055168917588,-0.22477040395132783,-0.24677109148501306,-1.5863247065897887,0.040629157884486754,-0.6435318145872875,0.5096173013346691,-1.4134405583436804,-0.9856650606127185,-1.332899924654395,-0.835689521985187,0.3509325415930457,0.2056437884096933,-1.8424841475984346,0.5953401809010593,-1.7016661494206462,0.3769197833430828,-0.08986765037176148,-0.26464943856144885,0.2996702121775819,-0.08513347629466395,-0.14318734590020804,-0.9397532454122348,-0.5072370450741972,-1.4064823254410985,0.5674390471645528,-1.3449602849704938,-2.2250731965123873,2.7083825895071967,-0.45632096832043334],\"xaxis\":\"x14\",\"y\":[1.8722585348532388,0.6002480468402726,1.6096154152185032,0.9265298336893815,0.4555575415025757,0.5289171832050981,-0.5983228383552023,1.2365871830946853,0.9517631530378322,0.570868240676847,-0.4556793485479554,-1.1333555613292898,-0.30292443048262374,-0.3056353662993651,-1.5175692055118397,1.3145283280893176,-0.05570837631306323,-1.6672156947224557,-0.18253225988568061,0.05511149500707958,0.29652944678050464,-0.9943797160192843,0.6156268206284266,-1.2075437829752398,-0.37179918002400814,-0.8229655422512129,-0.5166593432880014,-0.336846247094642,0.37487787800870676,-1.3529631715271817,-0.9321676199545975,-0.6688185052591087,-1.5575919005207202,-0.8421523930661949,-0.46189711876805095,-1.3841374100687416,-0.09056874091547108,1.5106652882289682,0.8119638369795266,-1.1384802895367663,-1.6209027494525534,-0.6315358645542397,-0.8511768762817592,0.03586724042659575,0.16410309502881068,0.429520008216888,0.4200845373397902,2.5762626896943157,-0.3218649735738696,0.4617162824060808,0.13449404442241317,-0.2826010297915294,0.34007594085606446,-2.12207436611629,0.6584656599689247,1.198737979306825,-0.38118023153890096,0.6134146441483715,1.6542094406369996,0.8629286116401483,-1.2080068415563003,-0.8446488381561417,-0.3013504908497219,0.7094948101748059,2.0034682245026394,-0.448025793463419,0.16448599174260323,1.0433542466727015,-2.1197172612812127,-0.46394930575369464,2.8089945300022463,0.12743653899500063,-0.8020211766680084,0.4233000698744811,-1.363898039468205,0.561670008690516,1.1090313942250214,0.364632673243882,0.10882749421227883,-0.13917195623887504,0.15642272556811335,-0.09513856184826817,-0.8223965566500696,2.856351025955582,0.05493509540780236,0.9995691681299053,-0.40171554335583887,0.11185999318285084,-0.3781309368274451,0.3330805287634981,0.18963718995166604,-0.233220389590355,-1.0223432110448787,-1.8700950680140607,0.0077898837938084895,0.9604776769652278,-0.6944640552433706,-0.08566401282169836,0.7603737677705592,-1.1685652543059402],\"yaxis\":\"y14\",\"type\":\"scatter\"},{\"line\":{\"color\":\"rgba(128, 128, 128, 1.0)\",\"dash\":\"solid\",\"shape\":\"linear\",\"width\":1.3},\"marker\":{\"size\":2,\"symbol\":\"circle\"},\"mode\":\"markers\",\"name\":\"D\",\"text\":\"\",\"x\":[-1.2129243066461926,-1.0382525619586047,0.5078729037486128,0.12938280012590278,1.6341558744990186,0.034930012561126954,1.0261894177771367,0.48561193015589027,0.6569701710035855,-1.0630086458831192,0.4142771846155979,-0.6556595684701798,-1.2324349279093698,-0.034881884818500714,-1.127311218191584,0.45529130807956325,-0.6843624789646388,-0.046359180704076026,-0.5854892488345255,-0.0409845837671332,-1.223982848402369,-0.8226884827636929,0.9384904117512551,-1.3750306046807677,0.1313334149963308,1.7048794060303314,1.4028775530543507,1.069301027364722,-1.8212129559016033,-0.6594633613721426,1.575005536398303,1.34808666633816,0.9834285751505591,1.2287692587781835,-0.4502702820223655,0.4456820296514806,-1.2348230631828667,0.6513935007474707,0.7217823183882504,-0.09686416078643863,1.4148480440052245,0.2964033944700848,1.7798621722114405,0.43881017351273405,-0.3608590905749697,2.2454327420000335,-0.7563312875676766,2.078310773128206,0.27645983228088156,-0.003495077411121001,0.9365313528116445,-0.7237369414815478,-0.2793753596275433,-1.0319498219187635,0.15331646592540693,-1.2358807644346608,-0.8730830970804379,0.5018243223627462,0.3277154911339316,-0.7001680856172838,-0.38062786970551593,0.37417986038524487,1.3359876312952497,-1.3946858064279308,-0.8240469768943165,0.8743429690518841,-1.0720216781766987,-0.7401129936227316,-0.8968854721484267,1.2491513029220178,0.7397186316244806,-1.487254527725665,1.2595678502989964,-0.9800162452253297,-1.688787406091313,-0.30864671171673497,-0.3989120773759106,1.0790874832643027,-0.6112958813779303,0.3771001514455043,-0.48577846390054724,-0.484680215995673,0.5411756268439647,-0.22380769329616534,-0.8933961523410535,-0.22423563658384077,0.9499070670923341,0.6160782169505912,-0.6581978552656172,-0.28633067383250554,1.0862691581589794,-1.1501168517633698,1.2793184154573662,-0.14364512188959166,-0.37372686635559066,-0.14504972441281114,0.24928956000707564,-2.0466412507953464,0.8318230917920868,-0.11766345027058192],\"xaxis\":\"x15\",\"y\":[1.8722585348532388,0.6002480468402726,1.6096154152185032,0.9265298336893815,0.4555575415025757,0.5289171832050981,-0.5983228383552023,1.2365871830946853,0.9517631530378322,0.570868240676847,-0.4556793485479554,-1.1333555613292898,-0.30292443048262374,-0.3056353662993651,-1.5175692055118397,1.3145283280893176,-0.05570837631306323,-1.6672156947224557,-0.18253225988568061,0.05511149500707958,0.29652944678050464,-0.9943797160192843,0.6156268206284266,-1.2075437829752398,-0.37179918002400814,-0.8229655422512129,-0.5166593432880014,-0.336846247094642,0.37487787800870676,-1.3529631715271817,-0.9321676199545975,-0.6688185052591087,-1.5575919005207202,-0.8421523930661949,-0.46189711876805095,-1.3841374100687416,-0.09056874091547108,1.5106652882289682,0.8119638369795266,-1.1384802895367663,-1.6209027494525534,-0.6315358645542397,-0.8511768762817592,0.03586724042659575,0.16410309502881068,0.429520008216888,0.4200845373397902,2.5762626896943157,-0.3218649735738696,0.4617162824060808,0.13449404442241317,-0.2826010297915294,0.34007594085606446,-2.12207436611629,0.6584656599689247,1.198737979306825,-0.38118023153890096,0.6134146441483715,1.6542094406369996,0.8629286116401483,-1.2080068415563003,-0.8446488381561417,-0.3013504908497219,0.7094948101748059,2.0034682245026394,-0.448025793463419,0.16448599174260323,1.0433542466727015,-2.1197172612812127,-0.46394930575369464,2.8089945300022463,0.12743653899500063,-0.8020211766680084,0.4233000698744811,-1.363898039468205,0.561670008690516,1.1090313942250214,0.364632673243882,0.10882749421227883,-0.13917195623887504,0.15642272556811335,-0.09513856184826817,-0.8223965566500696,2.856351025955582,0.05493509540780236,0.9995691681299053,-0.40171554335583887,0.11185999318285084,-0.3781309368274451,0.3330805287634981,0.18963718995166604,-0.233220389590355,-1.0223432110448787,-1.8700950680140607,0.0077898837938084895,0.9604776769652278,-0.6944640552433706,-0.08566401282169836,0.7603737677705592,-1.1685652543059402],\"yaxis\":\"y15\",\"type\":\"scatter\"},{\"histfunc\":\"count\",\"histnorm\":\"\",\"marker\":{\"color\":\"rgba(128, 0, 128, 1.0)\",\"line\":{\"color\":\"#4D5663\",\"width\":1.3}},\"name\":\"D\",\"nbinsx\":10,\"opacity\":0.8,\"orientation\":\"v\",\"x\":[1.8722585348532388,0.6002480468402726,1.6096154152185032,0.9265298336893815,0.4555575415025757,0.5289171832050981,-0.5983228383552023,1.2365871830946853,0.9517631530378322,0.570868240676847,-0.4556793485479554,-1.1333555613292898,-0.30292443048262374,-0.3056353662993651,-1.5175692055118397,1.3145283280893176,-0.05570837631306323,-1.6672156947224557,-0.18253225988568061,0.05511149500707958,0.29652944678050464,-0.9943797160192843,0.6156268206284266,-1.2075437829752398,-0.37179918002400814,-0.8229655422512129,-0.5166593432880014,-0.336846247094642,0.37487787800870676,-1.3529631715271817,-0.9321676199545975,-0.6688185052591087,-1.5575919005207202,-0.8421523930661949,-0.46189711876805095,-1.3841374100687416,-0.09056874091547108,1.5106652882289682,0.8119638369795266,-1.1384802895367663,-1.6209027494525534,-0.6315358645542397,-0.8511768762817592,0.03586724042659575,0.16410309502881068,0.429520008216888,0.4200845373397902,2.5762626896943157,-0.3218649735738696,0.4617162824060808,0.13449404442241317,-0.2826010297915294,0.34007594085606446,-2.12207436611629,0.6584656599689247,1.198737979306825,-0.38118023153890096,0.6134146441483715,1.6542094406369996,0.8629286116401483,-1.2080068415563003,-0.8446488381561417,-0.3013504908497219,0.7094948101748059,2.0034682245026394,-0.448025793463419,0.16448599174260323,1.0433542466727015,-2.1197172612812127,-0.46394930575369464,2.8089945300022463,0.12743653899500063,-0.8020211766680084,0.4233000698744811,-1.363898039468205,0.561670008690516,1.1090313942250214,0.364632673243882,0.10882749421227883,-0.13917195623887504,0.15642272556811335,-0.09513856184826817,-0.8223965566500696,2.856351025955582,0.05493509540780236,0.9995691681299053,-0.40171554335583887,0.11185999318285084,-0.3781309368274451,0.3330805287634981,0.18963718995166604,-0.233220389590355,-1.0223432110448787,-1.8700950680140607,0.0077898837938084895,0.9604776769652278,-0.6944640552433706,-0.08566401282169836,0.7603737677705592,-1.1685652543059402],\"xaxis\":\"x16\",\"yaxis\":\"y16\",\"type\":\"histogram\"}],                        {\"bargap\":0.02,\"legend\":{\"bgcolor\":\"#F5F6F9\",\"font\":{\"color\":\"#4D5663\"}},\"paper_bgcolor\":\"#F5F6F9\",\"plot_bgcolor\":\"#F5F6F9\",\"showlegend\":false,\"template\":{\"data\":{\"barpolar\":[{\"marker\":{\"line\":{\"color\":\"#E5ECF6\",\"width\":0.5},\"pattern\":{\"fillmode\":\"overlay\",\"size\":10,\"solidity\":0.2}},\"type\":\"barpolar\"}],\"bar\":[{\"error_x\":{\"color\":\"#2a3f5f\"},\"error_y\":{\"color\":\"#2a3f5f\"},\"marker\":{\"line\":{\"color\":\"#E5ECF6\",\"width\":0.5},\"pattern\":{\"fillmode\":\"overlay\",\"size\":10,\"solidity\":0.2}},\"type\":\"bar\"}],\"carpet\":[{\"aaxis\":{\"endlinecolor\":\"#2a3f5f\",\"gridcolor\":\"white\",\"linecolor\":\"white\",\"minorgridcolor\":\"white\",\"startlinecolor\":\"#2a3f5f\"},\"baxis\":{\"endlinecolor\":\"#2a3f5f\",\"gridcolor\":\"white\",\"linecolor\":\"white\",\"minorgridcolor\":\"white\",\"startlinecolor\":\"#2a3f5f\"},\"type\":\"carpet\"}],\"choropleth\":[{\"colorbar\":{\"outlinewidth\":0,\"ticks\":\"\"},\"type\":\"choropleth\"}],\"contourcarpet\":[{\"colorbar\":{\"outlinewidth\":0,\"ticks\":\"\"},\"type\":\"contourcarpet\"}],\"contour\":[{\"colorbar\":{\"outlinewidth\":0,\"ticks\":\"\"},\"colorscale\":[[0.0,\"#0d0887\"],[0.1111111111111111,\"#46039f\"],[0.2222222222222222,\"#7201a8\"],[0.3333333333333333,\"#9c179e\"],[0.4444444444444444,\"#bd3786\"],[0.5555555555555556,\"#d8576b\"],[0.6666666666666666,\"#ed7953\"],[0.7777777777777778,\"#fb9f3a\"],[0.8888888888888888,\"#fdca26\"],[1.0,\"#f0f921\"]],\"type\":\"contour\"}],\"heatmapgl\":[{\"colorbar\":{\"outlinewidth\":0,\"ticks\":\"\"},\"colorscale\":[[0.0,\"#0d0887\"],[0.1111111111111111,\"#46039f\"],[0.2222222222222222,\"#7201a8\"],[0.3333333333333333,\"#9c179e\"],[0.4444444444444444,\"#bd3786\"],[0.5555555555555556,\"#d8576b\"],[0.6666666666666666,\"#ed7953\"],[0.7777777777777778,\"#fb9f3a\"],[0.8888888888888888,\"#fdca26\"],[1.0,\"#f0f921\"]],\"type\":\"heatmapgl\"}],\"heatmap\":[{\"colorbar\":{\"outlinewidth\":0,\"ticks\":\"\"},\"colorscale\":[[0.0,\"#0d0887\"],[0.1111111111111111,\"#46039f\"],[0.2222222222222222,\"#7201a8\"],[0.3333333333333333,\"#9c179e\"],[0.4444444444444444,\"#bd3786\"],[0.5555555555555556,\"#d8576b\"],[0.6666666666666666,\"#ed7953\"],[0.7777777777777778,\"#fb9f3a\"],[0.8888888888888888,\"#fdca26\"],[1.0,\"#f0f921\"]],\"type\":\"heatmap\"}],\"histogram2dcontour\":[{\"colorbar\":{\"outlinewidth\":0,\"ticks\":\"\"},\"colorscale\":[[0.0,\"#0d0887\"],[0.1111111111111111,\"#46039f\"],[0.2222222222222222,\"#7201a8\"],[0.3333333333333333,\"#9c179e\"],[0.4444444444444444,\"#bd3786\"],[0.5555555555555556,\"#d8576b\"],[0.6666666666666666,\"#ed7953\"],[0.7777777777777778,\"#fb9f3a\"],[0.8888888888888888,\"#fdca26\"],[1.0,\"#f0f921\"]],\"type\":\"histogram2dcontour\"}],\"histogram2d\":[{\"colorbar\":{\"outlinewidth\":0,\"ticks\":\"\"},\"colorscale\":[[0.0,\"#0d0887\"],[0.1111111111111111,\"#46039f\"],[0.2222222222222222,\"#7201a8\"],[0.3333333333333333,\"#9c179e\"],[0.4444444444444444,\"#bd3786\"],[0.5555555555555556,\"#d8576b\"],[0.6666666666666666,\"#ed7953\"],[0.7777777777777778,\"#fb9f3a\"],[0.8888888888888888,\"#fdca26\"],[1.0,\"#f0f921\"]],\"type\":\"histogram2d\"}],\"histogram\":[{\"marker\":{\"pattern\":{\"fillmode\":\"overlay\",\"size\":10,\"solidity\":0.2}},\"type\":\"histogram\"}],\"mesh3d\":[{\"colorbar\":{\"outlinewidth\":0,\"ticks\":\"\"},\"type\":\"mesh3d\"}],\"parcoords\":[{\"line\":{\"colorbar\":{\"outlinewidth\":0,\"ticks\":\"\"}},\"type\":\"parcoords\"}],\"pie\":[{\"automargin\":true,\"type\":\"pie\"}],\"scatter3d\":[{\"line\":{\"colorbar\":{\"outlinewidth\":0,\"ticks\":\"\"}},\"marker\":{\"colorbar\":{\"outlinewidth\":0,\"ticks\":\"\"}},\"type\":\"scatter3d\"}],\"scattercarpet\":[{\"marker\":{\"colorbar\":{\"outlinewidth\":0,\"ticks\":\"\"}},\"type\":\"scattercarpet\"}],\"scattergeo\":[{\"marker\":{\"colorbar\":{\"outlinewidth\":0,\"ticks\":\"\"}},\"type\":\"scattergeo\"}],\"scattergl\":[{\"marker\":{\"colorbar\":{\"outlinewidth\":0,\"ticks\":\"\"}},\"type\":\"scattergl\"}],\"scattermapbox\":[{\"marker\":{\"colorbar\":{\"outlinewidth\":0,\"ticks\":\"\"}},\"type\":\"scattermapbox\"}],\"scatterpolargl\":[{\"marker\":{\"colorbar\":{\"outlinewidth\":0,\"ticks\":\"\"}},\"type\":\"scatterpolargl\"}],\"scatterpolar\":[{\"marker\":{\"colorbar\":{\"outlinewidth\":0,\"ticks\":\"\"}},\"type\":\"scatterpolar\"}],\"scatter\":[{\"marker\":{\"colorbar\":{\"outlinewidth\":0,\"ticks\":\"\"}},\"type\":\"scatter\"}],\"scatterternary\":[{\"marker\":{\"colorbar\":{\"outlinewidth\":0,\"ticks\":\"\"}},\"type\":\"scatterternary\"}],\"surface\":[{\"colorbar\":{\"outlinewidth\":0,\"ticks\":\"\"},\"colorscale\":[[0.0,\"#0d0887\"],[0.1111111111111111,\"#46039f\"],[0.2222222222222222,\"#7201a8\"],[0.3333333333333333,\"#9c179e\"],[0.4444444444444444,\"#bd3786\"],[0.5555555555555556,\"#d8576b\"],[0.6666666666666666,\"#ed7953\"],[0.7777777777777778,\"#fb9f3a\"],[0.8888888888888888,\"#fdca26\"],[1.0,\"#f0f921\"]],\"type\":\"surface\"}],\"table\":[{\"cells\":{\"fill\":{\"color\":\"#EBF0F8\"},\"line\":{\"color\":\"white\"}},\"header\":{\"fill\":{\"color\":\"#C8D4E3\"},\"line\":{\"color\":\"white\"}},\"type\":\"table\"}]},\"layout\":{\"annotationdefaults\":{\"arrowcolor\":\"#2a3f5f\",\"arrowhead\":0,\"arrowwidth\":1},\"autotypenumbers\":\"strict\",\"coloraxis\":{\"colorbar\":{\"outlinewidth\":0,\"ticks\":\"\"}},\"colorscale\":{\"diverging\":[[0,\"#8e0152\"],[0.1,\"#c51b7d\"],[0.2,\"#de77ae\"],[0.3,\"#f1b6da\"],[0.4,\"#fde0ef\"],[0.5,\"#f7f7f7\"],[0.6,\"#e6f5d0\"],[0.7,\"#b8e186\"],[0.8,\"#7fbc41\"],[0.9,\"#4d9221\"],[1,\"#276419\"]],\"sequential\":[[0.0,\"#0d0887\"],[0.1111111111111111,\"#46039f\"],[0.2222222222222222,\"#7201a8\"],[0.3333333333333333,\"#9c179e\"],[0.4444444444444444,\"#bd3786\"],[0.5555555555555556,\"#d8576b\"],[0.6666666666666666,\"#ed7953\"],[0.7777777777777778,\"#fb9f3a\"],[0.8888888888888888,\"#fdca26\"],[1.0,\"#f0f921\"]],\"sequentialminus\":[[0.0,\"#0d0887\"],[0.1111111111111111,\"#46039f\"],[0.2222222222222222,\"#7201a8\"],[0.3333333333333333,\"#9c179e\"],[0.4444444444444444,\"#bd3786\"],[0.5555555555555556,\"#d8576b\"],[0.6666666666666666,\"#ed7953\"],[0.7777777777777778,\"#fb9f3a\"],[0.8888888888888888,\"#fdca26\"],[1.0,\"#f0f921\"]]},\"colorway\":[\"#636efa\",\"#EF553B\",\"#00cc96\",\"#ab63fa\",\"#FFA15A\",\"#19d3f3\",\"#FF6692\",\"#B6E880\",\"#FF97FF\",\"#FECB52\"],\"font\":{\"color\":\"#2a3f5f\"},\"geo\":{\"bgcolor\":\"white\",\"lakecolor\":\"white\",\"landcolor\":\"#E5ECF6\",\"showlakes\":true,\"showland\":true,\"subunitcolor\":\"white\"},\"hoverlabel\":{\"align\":\"left\"},\"hovermode\":\"closest\",\"mapbox\":{\"style\":\"light\"},\"paper_bgcolor\":\"white\",\"plot_bgcolor\":\"#E5ECF6\",\"polar\":{\"angularaxis\":{\"gridcolor\":\"white\",\"linecolor\":\"white\",\"ticks\":\"\"},\"bgcolor\":\"#E5ECF6\",\"radialaxis\":{\"gridcolor\":\"white\",\"linecolor\":\"white\",\"ticks\":\"\"}},\"scene\":{\"xaxis\":{\"backgroundcolor\":\"#E5ECF6\",\"gridcolor\":\"white\",\"gridwidth\":2,\"linecolor\":\"white\",\"showbackground\":true,\"ticks\":\"\",\"zerolinecolor\":\"white\"},\"yaxis\":{\"backgroundcolor\":\"#E5ECF6\",\"gridcolor\":\"white\",\"gridwidth\":2,\"linecolor\":\"white\",\"showbackground\":true,\"ticks\":\"\",\"zerolinecolor\":\"white\"},\"zaxis\":{\"backgroundcolor\":\"#E5ECF6\",\"gridcolor\":\"white\",\"gridwidth\":2,\"linecolor\":\"white\",\"showbackground\":true,\"ticks\":\"\",\"zerolinecolor\":\"white\"}},\"shapedefaults\":{\"line\":{\"color\":\"#2a3f5f\"}},\"ternary\":{\"aaxis\":{\"gridcolor\":\"white\",\"linecolor\":\"white\",\"ticks\":\"\"},\"baxis\":{\"gridcolor\":\"white\",\"linecolor\":\"white\",\"ticks\":\"\"},\"bgcolor\":\"#E5ECF6\",\"caxis\":{\"gridcolor\":\"white\",\"linecolor\":\"white\",\"ticks\":\"\"}},\"title\":{\"x\":0.05},\"xaxis\":{\"automargin\":true,\"gridcolor\":\"white\",\"linecolor\":\"white\",\"ticks\":\"\",\"title\":{\"standoff\":15},\"zerolinecolor\":\"white\",\"zerolinewidth\":2},\"yaxis\":{\"automargin\":true,\"gridcolor\":\"white\",\"linecolor\":\"white\",\"ticks\":\"\",\"title\":{\"standoff\":15},\"zerolinecolor\":\"white\",\"zerolinewidth\":2}}},\"title\":{\"font\":{\"color\":\"#4D5663\"}},\"xaxis\":{\"anchor\":\"y\",\"domain\":[0.0,0.2125],\"gridcolor\":\"#E1E5ED\",\"showgrid\":false,\"tickfont\":{\"color\":\"#4D5663\"},\"title\":{\"font\":{\"color\":\"#4D5663\"},\"text\":\"\"},\"zerolinecolor\":\"#E1E5ED\"},\"yaxis\":{\"anchor\":\"x\",\"domain\":[0.8025,1.0],\"gridcolor\":\"#E1E5ED\",\"showgrid\":false,\"tickfont\":{\"color\":\"#4D5663\"},\"title\":{\"font\":{\"color\":\"#4D5663\"},\"text\":\"\"},\"zerolinecolor\":\"#E1E5ED\"},\"xaxis2\":{\"anchor\":\"y2\",\"domain\":[0.2625,0.475],\"gridcolor\":\"#E1E5ED\",\"showgrid\":false,\"tickfont\":{\"color\":\"#4D5663\"},\"title\":{\"font\":{\"color\":\"#4D5663\"},\"text\":\"\"},\"zerolinecolor\":\"#E1E5ED\"},\"yaxis2\":{\"anchor\":\"x2\",\"domain\":[0.8025,1.0],\"gridcolor\":\"#E1E5ED\",\"showgrid\":false,\"tickfont\":{\"color\":\"#4D5663\"},\"title\":{\"font\":{\"color\":\"#4D5663\"},\"text\":\"\"},\"zerolinecolor\":\"#E1E5ED\"},\"xaxis3\":{\"anchor\":\"y3\",\"domain\":[0.525,0.7375],\"gridcolor\":\"#E1E5ED\",\"showgrid\":false,\"tickfont\":{\"color\":\"#4D5663\"},\"title\":{\"font\":{\"color\":\"#4D5663\"},\"text\":\"\"},\"zerolinecolor\":\"#E1E5ED\"},\"yaxis3\":{\"anchor\":\"x3\",\"domain\":[0.8025,1.0],\"gridcolor\":\"#E1E5ED\",\"showgrid\":false,\"tickfont\":{\"color\":\"#4D5663\"},\"title\":{\"font\":{\"color\":\"#4D5663\"},\"text\":\"\"},\"zerolinecolor\":\"#E1E5ED\"},\"xaxis4\":{\"anchor\":\"y4\",\"domain\":[0.7875,1.0],\"gridcolor\":\"#E1E5ED\",\"showgrid\":false,\"tickfont\":{\"color\":\"#4D5663\"},\"title\":{\"font\":{\"color\":\"#4D5663\"},\"text\":\"\"},\"zerolinecolor\":\"#E1E5ED\"},\"yaxis4\":{\"anchor\":\"x4\",\"domain\":[0.8025,1.0],\"gridcolor\":\"#E1E5ED\",\"showgrid\":false,\"tickfont\":{\"color\":\"#4D5663\"},\"title\":{\"font\":{\"color\":\"#4D5663\"},\"text\":\"\"},\"zerolinecolor\":\"#E1E5ED\"},\"xaxis5\":{\"anchor\":\"y5\",\"domain\":[0.0,0.2125],\"gridcolor\":\"#E1E5ED\",\"showgrid\":false,\"tickfont\":{\"color\":\"#4D5663\"},\"title\":{\"font\":{\"color\":\"#4D5663\"},\"text\":\"\"},\"zerolinecolor\":\"#E1E5ED\"},\"yaxis5\":{\"anchor\":\"x5\",\"domain\":[0.535,0.7325],\"gridcolor\":\"#E1E5ED\",\"showgrid\":false,\"tickfont\":{\"color\":\"#4D5663\"},\"title\":{\"font\":{\"color\":\"#4D5663\"},\"text\":\"\"},\"zerolinecolor\":\"#E1E5ED\"},\"xaxis6\":{\"anchor\":\"y6\",\"domain\":[0.2625,0.475],\"gridcolor\":\"#E1E5ED\",\"showgrid\":false,\"tickfont\":{\"color\":\"#4D5663\"},\"title\":{\"font\":{\"color\":\"#4D5663\"},\"text\":\"\"},\"zerolinecolor\":\"#E1E5ED\"},\"yaxis6\":{\"anchor\":\"x6\",\"domain\":[0.535,0.7325],\"gridcolor\":\"#E1E5ED\",\"showgrid\":false,\"tickfont\":{\"color\":\"#4D5663\"},\"title\":{\"font\":{\"color\":\"#4D5663\"},\"text\":\"\"},\"zerolinecolor\":\"#E1E5ED\"},\"xaxis7\":{\"anchor\":\"y7\",\"domain\":[0.525,0.7375],\"gridcolor\":\"#E1E5ED\",\"showgrid\":false,\"tickfont\":{\"color\":\"#4D5663\"},\"title\":{\"font\":{\"color\":\"#4D5663\"},\"text\":\"\"},\"zerolinecolor\":\"#E1E5ED\"},\"yaxis7\":{\"anchor\":\"x7\",\"domain\":[0.535,0.7325],\"gridcolor\":\"#E1E5ED\",\"showgrid\":false,\"tickfont\":{\"color\":\"#4D5663\"},\"title\":{\"font\":{\"color\":\"#4D5663\"},\"text\":\"\"},\"zerolinecolor\":\"#E1E5ED\"},\"xaxis8\":{\"anchor\":\"y8\",\"domain\":[0.7875,1.0],\"gridcolor\":\"#E1E5ED\",\"showgrid\":false,\"tickfont\":{\"color\":\"#4D5663\"},\"title\":{\"font\":{\"color\":\"#4D5663\"},\"text\":\"\"},\"zerolinecolor\":\"#E1E5ED\"},\"yaxis8\":{\"anchor\":\"x8\",\"domain\":[0.535,0.7325],\"gridcolor\":\"#E1E5ED\",\"showgrid\":false,\"tickfont\":{\"color\":\"#4D5663\"},\"title\":{\"font\":{\"color\":\"#4D5663\"},\"text\":\"\"},\"zerolinecolor\":\"#E1E5ED\"},\"xaxis9\":{\"anchor\":\"y9\",\"domain\":[0.0,0.2125],\"gridcolor\":\"#E1E5ED\",\"showgrid\":false,\"tickfont\":{\"color\":\"#4D5663\"},\"title\":{\"font\":{\"color\":\"#4D5663\"},\"text\":\"\"},\"zerolinecolor\":\"#E1E5ED\"},\"yaxis9\":{\"anchor\":\"x9\",\"domain\":[0.2675,0.465],\"gridcolor\":\"#E1E5ED\",\"showgrid\":false,\"tickfont\":{\"color\":\"#4D5663\"},\"title\":{\"font\":{\"color\":\"#4D5663\"},\"text\":\"\"},\"zerolinecolor\":\"#E1E5ED\"},\"xaxis10\":{\"anchor\":\"y10\",\"domain\":[0.2625,0.475],\"gridcolor\":\"#E1E5ED\",\"showgrid\":false,\"tickfont\":{\"color\":\"#4D5663\"},\"title\":{\"font\":{\"color\":\"#4D5663\"},\"text\":\"\"},\"zerolinecolor\":\"#E1E5ED\"},\"yaxis10\":{\"anchor\":\"x10\",\"domain\":[0.2675,0.465],\"gridcolor\":\"#E1E5ED\",\"showgrid\":false,\"tickfont\":{\"color\":\"#4D5663\"},\"title\":{\"font\":{\"color\":\"#4D5663\"},\"text\":\"\"},\"zerolinecolor\":\"#E1E5ED\"},\"xaxis11\":{\"anchor\":\"y11\",\"domain\":[0.525,0.7375],\"gridcolor\":\"#E1E5ED\",\"showgrid\":false,\"tickfont\":{\"color\":\"#4D5663\"},\"title\":{\"font\":{\"color\":\"#4D5663\"},\"text\":\"\"},\"zerolinecolor\":\"#E1E5ED\"},\"yaxis11\":{\"anchor\":\"x11\",\"domain\":[0.2675,0.465],\"gridcolor\":\"#E1E5ED\",\"showgrid\":false,\"tickfont\":{\"color\":\"#4D5663\"},\"title\":{\"font\":{\"color\":\"#4D5663\"},\"text\":\"\"},\"zerolinecolor\":\"#E1E5ED\"},\"xaxis12\":{\"anchor\":\"y12\",\"domain\":[0.7875,1.0],\"gridcolor\":\"#E1E5ED\",\"showgrid\":false,\"tickfont\":{\"color\":\"#4D5663\"},\"title\":{\"font\":{\"color\":\"#4D5663\"},\"text\":\"\"},\"zerolinecolor\":\"#E1E5ED\"},\"yaxis12\":{\"anchor\":\"x12\",\"domain\":[0.2675,0.465],\"gridcolor\":\"#E1E5ED\",\"showgrid\":false,\"tickfont\":{\"color\":\"#4D5663\"},\"title\":{\"font\":{\"color\":\"#4D5663\"},\"text\":\"\"},\"zerolinecolor\":\"#E1E5ED\"},\"xaxis13\":{\"anchor\":\"y13\",\"domain\":[0.0,0.2125],\"gridcolor\":\"#E1E5ED\",\"showgrid\":false,\"tickfont\":{\"color\":\"#4D5663\"},\"title\":{\"font\":{\"color\":\"#4D5663\"},\"text\":\"\"},\"zerolinecolor\":\"#E1E5ED\"},\"yaxis13\":{\"anchor\":\"x13\",\"domain\":[0.0,0.1975],\"gridcolor\":\"#E1E5ED\",\"showgrid\":false,\"tickfont\":{\"color\":\"#4D5663\"},\"title\":{\"font\":{\"color\":\"#4D5663\"},\"text\":\"\"},\"zerolinecolor\":\"#E1E5ED\"},\"xaxis14\":{\"anchor\":\"y14\",\"domain\":[0.2625,0.475],\"gridcolor\":\"#E1E5ED\",\"showgrid\":false,\"tickfont\":{\"color\":\"#4D5663\"},\"title\":{\"font\":{\"color\":\"#4D5663\"},\"text\":\"\"},\"zerolinecolor\":\"#E1E5ED\"},\"yaxis14\":{\"anchor\":\"x14\",\"domain\":[0.0,0.1975],\"gridcolor\":\"#E1E5ED\",\"showgrid\":false,\"tickfont\":{\"color\":\"#4D5663\"},\"title\":{\"font\":{\"color\":\"#4D5663\"},\"text\":\"\"},\"zerolinecolor\":\"#E1E5ED\"},\"xaxis15\":{\"anchor\":\"y15\",\"domain\":[0.525,0.7375],\"gridcolor\":\"#E1E5ED\",\"showgrid\":false,\"tickfont\":{\"color\":\"#4D5663\"},\"title\":{\"font\":{\"color\":\"#4D5663\"},\"text\":\"\"},\"zerolinecolor\":\"#E1E5ED\"},\"yaxis15\":{\"anchor\":\"x15\",\"domain\":[0.0,0.1975],\"gridcolor\":\"#E1E5ED\",\"showgrid\":false,\"tickfont\":{\"color\":\"#4D5663\"},\"title\":{\"font\":{\"color\":\"#4D5663\"},\"text\":\"\"},\"zerolinecolor\":\"#E1E5ED\"},\"xaxis16\":{\"anchor\":\"y16\",\"domain\":[0.7875,1.0],\"gridcolor\":\"#E1E5ED\",\"showgrid\":false,\"tickfont\":{\"color\":\"#4D5663\"},\"title\":{\"font\":{\"color\":\"#4D5663\"},\"text\":\"\"},\"zerolinecolor\":\"#E1E5ED\"},\"yaxis16\":{\"anchor\":\"x16\",\"domain\":[0.0,0.1975],\"gridcolor\":\"#E1E5ED\",\"showgrid\":false,\"tickfont\":{\"color\":\"#4D5663\"},\"title\":{\"font\":{\"color\":\"#4D5663\"},\"text\":\"\"},\"zerolinecolor\":\"#E1E5ED\"}},                        {\"showLink\": true, \"linkText\": \"Export to plot.ly\", \"plotlyServerURL\": \"https://plot.ly\", \"responsive\": true}                    ).then(function(){\n",
       "                            \n",
       "var gd = document.getElementById('ac26292c-459c-423c-b3b1-353d816fd4f8');\n",
       "var x = new MutationObserver(function (mutations, observer) {{\n",
       "        var display = window.getComputedStyle(gd).display;\n",
       "        if (!display || display === 'none') {{\n",
       "            console.log([gd, 'removed!']);\n",
       "            Plotly.purge(gd);\n",
       "            observer.disconnect();\n",
       "        }}\n",
       "}});\n",
       "\n",
       "// Listen for the removal of the full notebook cells\n",
       "var notebookContainer = gd.closest('#notebook-container');\n",
       "if (notebookContainer) {{\n",
       "    x.observe(notebookContainer, {childList: true});\n",
       "}}\n",
       "\n",
       "// Listen for the clearing of the current output cell\n",
       "var outputEl = gd.closest('.output');\n",
       "if (outputEl) {{\n",
       "    x.observe(outputEl, {childList: true});\n",
       "}}\n",
       "\n",
       "                        })                };                });            </script>        </div>"
      ]
     },
     "metadata": {},
     "output_type": "display_data"
    }
   ],
   "source": [
    "df.scatter_matrix()"
   ]
  },
  {
   "cell_type": "markdown",
   "metadata": {
    "collapsed": true
   },
   "source": [
    "# Great Job!"
   ]
  }
 ],
 "metadata": {
  "kernelspec": {
   "display_name": "Python 3",
   "language": "python",
   "name": "python3"
  },
  "language_info": {
   "codemirror_mode": {
    "name": "ipython",
    "version": 3
   },
   "file_extension": ".py",
   "mimetype": "text/x-python",
   "name": "python",
   "nbconvert_exporter": "python",
   "pygments_lexer": "ipython3",
   "version": "3.9.12"
  }
 },
 "nbformat": 4,
 "nbformat_minor": 1
}
